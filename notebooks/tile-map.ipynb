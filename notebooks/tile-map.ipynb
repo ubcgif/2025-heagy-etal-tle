{
 "cells": [
  {
   "cell_type": "code",
   "execution_count": 1,
   "id": "64b9eb20-6cda-4905-a6c8-95b3ae0f260e",
   "metadata": {},
   "outputs": [],
   "source": [
    "import numpy as np\n",
    "import matplotlib.pyplot as plt\n",
    "from matplotlib.colors import LogNorm, Normalize\n",
    "\n",
    "import discretize \n",
    "from simpeg import maps\n",
    "from simpeg.electromagnetics import time_domain as tdem\n",
    "\n",
    "from simpeg.utils.solver_utils import get_default_solver\n",
    "\n",
    "from simpeg.meta import MultiprocessingMetaSimulation #DaskMetaSimulation"
   ]
  },
  {
   "cell_type": "code",
   "execution_count": 2,
   "id": "aabf8349-b2ea-41ef-a974-3537317c7cfe",
   "metadata": {},
   "outputs": [
    {
     "data": {
      "text/plain": [
       "pymatsolver.direct.mumps.Mumps"
      ]
     },
     "execution_count": 2,
     "metadata": {},
     "output_type": "execute_result"
    }
   ],
   "source": [
    "Solver = get_default_solver()\n",
    "Solver"
   ]
  },
  {
   "cell_type": "markdown",
   "id": "570037d2-aeab-487d-ba4a-30e1bb25c2ee",
   "metadata": {},
   "source": [
    "# set up models and mesh"
   ]
  },
  {
   "cell_type": "code",
   "execution_count": 3,
   "id": "24698367-f198-4d55-9007-f8fb22906420",
   "metadata": {},
   "outputs": [],
   "source": [
    "rho_back = 150\n",
    "sigma_back = 1./rho_back \n",
    "\n",
    "rho_target = 20\n",
    "sigma_target = 1./rho_target\n",
    "\n",
    "sigma_air = 1e-8\n",
    "\n",
    "target_dips = np.r_[0, 15, 30, 45]\n",
    "target_z = np.r_[-70, -40]"
   ]
  },
  {
   "cell_type": "code",
   "execution_count": 4,
   "id": "2f4b1720-d691-4250-90f5-9d3c289b98dd",
   "metadata": {},
   "outputs": [
    {
     "data": {
      "text/plain": [
       "array([-495., -295.,  -95.,  105.,  305.,  505.])"
      ]
     },
     "execution_count": 4,
     "metadata": {},
     "output_type": "execute_result"
    }
   ],
   "source": [
    "tx_height = np.r_[30]\n",
    "\n",
    "rx_x = (np.linspace(-500, 500, 51) + 5)[::10]\n",
    "rx_y = np.r_[0]\n",
    "rx_z = tx_height\n",
    "\n",
    "rx_locs = discretize.utils.ndgrid([rx_x, rx_y, rx_z])\n",
    "rx_x"
   ]
  },
  {
   "cell_type": "code",
   "execution_count": 5,
   "id": "fdced28d-6966-4a09-a529-9733ec6e746a",
   "metadata": {},
   "outputs": [],
   "source": [
    "base_cell_width = 20\n",
    "domain_extent = 8000\n",
    "\n",
    "n_base_cells = 2 ** int(\n",
    "    np.ceil(np.log(domain_extent / base_cell_width) / np.log(2.0))\n",
    ")  # needs to be powers of 2 for the tree mesh\n",
    "\n",
    "h = [(base_cell_width, n_base_cells)]\n",
    "mesh = discretize.TreeMesh([h, h, h], origin=\"CCC\", diagonal_balance=True)\n",
    "\n",
    "# refine near transmitters and receivers\n",
    "mesh.refine_points(\n",
    "    rx_locs, level=-1, padding_cells_by_level=[2, 2, 4], \n",
    "    finalize=False, diagonal_balance=True\n",
    ")\n",
    "\n",
    "# Refine core region of the mesh \n",
    "\n",
    "bounding_points = np.array([\n",
    "    [rx_x.min(), rx_y.min(), target_z.min()*3 - base_cell_width * 4], \n",
    "    [rx_x.max(), rx_y.max(), 0],\n",
    "])\n",
    "mesh.refine_bounding_box(\n",
    "    bounding_points, level=-1, \n",
    "    diagonal_balance=True, finalize=False, padding_cells_by_level=[2, 4, 8]\n",
    ")\n",
    "\n",
    "mesh.finalize()"
   ]
  },
  {
   "cell_type": "code",
   "execution_count": 6,
   "id": "525e327f-9aa3-4121-8eb1-812b8a3b240e",
   "metadata": {},
   "outputs": [
    {
     "data": {
      "text/html": [
       "<table>\n",
       "<tr>\n",
       "<td style='font-weight: bold; font-size: 1.2em; text-align: center;'>OcTreeMesh</td>\n",
       "<td style='font-size: 1.2em; text-align: center;' colspan='2'>0.03% filled</td>\n",
       "</tr>\n",
       "<tr>\n",
       "<td>\n",
       "<table>\n",
       "<tr>\n",
       "<th style='padding: 5px 20px 5px 20px;'>Level</th>\n",
       "<th style='padding: 5px 20px 5px 20px;'>Number of cells</th>\n",
       "</tr>\n",
       "<tr>\n",
       "<td style='padding: 5px 20px 5px 20px;'>3</td>\n",
       "<td style='padding: 5px 20px 5px 20px;'>448</td>\n",
       "</tr>\n",
       "<tr>\n",
       "<td style='padding: 5px 20px 5px 20px;'>4</td>\n",
       "<td style='padding: 5px 20px 5px 20px;'>296</td>\n",
       "</tr>\n",
       "<tr>\n",
       "<td style='padding: 5px 20px 5px 20px;'>5</td>\n",
       "<td style='padding: 5px 20px 5px 20px;'>1008</td>\n",
       "</tr>\n",
       "<tr>\n",
       "<td style='padding: 5px 20px 5px 20px;'>6</td>\n",
       "<td style='padding: 5px 20px 5px 20px;'>2736</td>\n",
       "</tr>\n",
       "<tr>\n",
       "<td style='padding: 5px 20px 5px 20px;'>7</td>\n",
       "<td style='padding: 5px 20px 5px 20px;'>23112</td>\n",
       "</tr>\n",
       "<tr>\n",
       "<td style='padding: 5px 20px 5px 20px;'>8</td>\n",
       "<td style='padding: 5px 20px 5px 20px;'>7408</td>\n",
       "</tr>\n",
       "<tr>\n",
       "<td style='padding: 5px 20px 5px 20px;'>9</td>\n",
       "<td style='padding: 5px 20px 5px 20px;'>9856</td>\n",
       "</tr>\n",
       "<tr>\n",
       "<td style='font-weight: bold; padding: 5px 20px 5px 20px;'> Total </td>\n",
       "<td style='padding: 5px 20px 5px 20px;'> 44864 </td>\n",
       "</tr>\n",
       "</table>\n",
       "</td>\n",
       "<td>\n",
       "<table>\n",
       "<tr>\n",
       "<th></th>\n",
       "<th style='padding: 5px 20px 5px 20px;' colspan='2'>Mesh extent</th>\n",
       "<th style='padding: 5px 20px 5px 20px;' colspan='2'>Cell widths</th>\n",
       "</tr>\n",
       "<tr>\n",
       "<th></th>\n",
       "<th style='padding: 5px 20px 5px 20px;'>min</th>\n",
       "<th style='padding: 5px 20px 5px 20px;'>max</th>\n",
       "<th style='padding: 5px 20px 5px 20px;'>min</th>\n",
       "<th style='padding: 5px 20px 5px 20px;'>max</th>\n",
       "</tr>\n",
       "<tr>\n",
       "<td style='padding: 5px 20px 5px 20px;'>x</td>\n",
       "<td style='padding: 5px 20px 5px 20px;'>-5120.0</td>\n",
       "<td style='padding: 5px 20px 5px 20px;'>5120.0</td>\n",
       "<td style='padding: 5px 20px 5px 20px;'>20.0</td>\n",
       "<td style='padding: 5px 20px 5px 20px;'>1280.0</td>\n",
       "</tr>\n",
       "<tr>\n",
       "<td style='padding: 5px 20px 5px 20px;'>y</td>\n",
       "<td style='padding: 5px 20px 5px 20px;'>-5120.0</td>\n",
       "<td style='padding: 5px 20px 5px 20px;'>5120.0</td>\n",
       "<td style='padding: 5px 20px 5px 20px;'>20.0</td>\n",
       "<td style='padding: 5px 20px 5px 20px;'>1280.0</td>\n",
       "</tr>\n",
       "<tr>\n",
       "<td style='padding: 5px 20px 5px 20px;'>z</td>\n",
       "<td style='padding: 5px 20px 5px 20px;'>-5120.0</td>\n",
       "<td style='padding: 5px 20px 5px 20px;'>5120.0</td>\n",
       "<td style='padding: 5px 20px 5px 20px;'>20.0</td>\n",
       "<td style='padding: 5px 20px 5px 20px;'>1280.0</td>\n",
       "</tr>\n",
       "</table>\n",
       "</td>\n",
       "</tr>\n",
       "</table>\n"
      ],
      "text/plain": [
       "\n",
       "OcTreeMesh: 0.03% filled\n",
       "\n",
       "Level : Number of cells               Mesh Extent               Cell Widths    \n",
       "-----------------------           min     ,     max            min   ,   max   \n",
       "  3   :       448            ---------------------------   --------------------\n",
       "  4   :       296         x:    -5120.0   ,   5120.0          20.0   ,   1280.0  \n",
       "  5   :      1008         y:    -5120.0   ,   5120.0          20.0   ,   1280.0  \n",
       "  6   :      2736         z:    -5120.0   ,   5120.0          20.0   ,   1280.0  \n",
       "  7   :      23112     \n",
       "  8   :      7408      \n",
       "  9   :      9856      \n",
       "-----------------------\n",
       "Total :      44864     "
      ]
     },
     "execution_count": 6,
     "metadata": {},
     "output_type": "execute_result"
    }
   ],
   "source": [
    "mesh"
   ]
  },
  {
   "cell_type": "code",
   "execution_count": 7,
   "id": "6e176c97-3127-4721-94b9-0f219b296d76",
   "metadata": {},
   "outputs": [],
   "source": [
    "def dipping_target_indices(\n",
    "    mesh, target_x_center, target_z_center, dip, target_thickness, target_xlim=None, target_ylim=None, target_zlim=None\n",
    "): \n",
    "    \"\"\"\n",
    "    add a dipping target to the model. For now assumes the target dips in the x-direction\n",
    "    \"\"\"\n",
    "    x_center = np.mean(target_x)\n",
    "    slope = np.tan(-dip*np.pi/180)\n",
    "    target_z = target_z_center + target_thickness / 2 * np.r_[-1, 1]\n",
    "    \n",
    "    z_bottom = (mesh.cell_centers[:, 0] - target_x_center) * slope + target_z.min()\n",
    "    z_top = (mesh.cell_centers[:, 0] - target_x_center) * slope + target_z.max()\n",
    "\n",
    "    indices = (\n",
    "        (mesh.cell_centers[:, 2] >= z_bottom) &\n",
    "        (mesh.cell_centers[:, 2] <= z_top) \n",
    "    )\n",
    "\n",
    "    if target_xlim is not None: \n",
    "        indices = indices & (\n",
    "            (mesh.cell_centers[:, 0] >= target_xlim.min()) &\n",
    "            (mesh.cell_centers[:, 0] <= target_xlim.max())\n",
    "        )\n",
    "    if target_ylim is not None: \n",
    "        indices = indices & (\n",
    "            (mesh.cell_centers[:, 1] >= target_ylim.min()) &\n",
    "            (mesh.cell_centers[:, 1] <= target_ylim.max())\n",
    "        )\n",
    "    if target_zlim is not None: \n",
    "        indices = indices & (\n",
    "            (mesh.cell_centers[:, 2] >= target_zlim.min()) &\n",
    "            (mesh.cell_centers[:, 2] <= target_zlim.max())\n",
    "        )\n",
    "    return indices"
   ]
  },
  {
   "cell_type": "code",
   "execution_count": 8,
   "id": "ee81bced-772e-40ce-8614-5b3190bf980e",
   "metadata": {},
   "outputs": [],
   "source": [
    "models = {}\n",
    "\n",
    "target_x = np.r_[-400, 500]\n",
    "target_y = np.r_[-400, 500]\n",
    "target_thickness = 45\n",
    "\n",
    "# background model\n",
    "background = np.ones(mesh.n_cells) * sigma_air\n",
    "background[mesh.cell_centers[:, 2] < 0] = sigma_back\n",
    "models[\"background\"] = background\n",
    "\n",
    "for dip in target_dips:\n",
    "    model = background.copy()\n",
    "    indices = dipping_target_indices(\n",
    "        mesh, target_x_center=-100, target_z_center=-60, \n",
    "        target_thickness=target_thickness, dip=dip, \n",
    "        target_xlim=np.r_[-400, 400], \n",
    "        target_ylim=np.r_[-400, 400],\n",
    "        target_zlim=np.r_[-200, -20]\n",
    "    )\n",
    "    model[indices] = sigma_target\n",
    "    models[f\"target_{dip}\"] = model\n",
    "\n"
   ]
  },
  {
   "cell_type": "code",
   "execution_count": 9,
   "id": "96e02ebf-af3e-4ab0-9434-c1f494560b7e",
   "metadata": {},
   "outputs": [
    {
     "data": {
      "text/plain": [
       "array([False, False, False, ..., False, False, False], shape=(44864,))"
      ]
     },
     "execution_count": 9,
     "metadata": {},
     "output_type": "execute_result"
    }
   ],
   "source": [
    "indices"
   ]
  },
  {
   "cell_type": "code",
   "execution_count": 10,
   "id": "56658cb3-6e4e-4366-9126-2344916a2d39",
   "metadata": {},
   "outputs": [
    {
     "data": {
      "text/plain": [
       "['background', 'target_0', 'target_15', 'target_30', 'target_45']"
      ]
     },
     "execution_count": 10,
     "metadata": {},
     "output_type": "execute_result"
    }
   ],
   "source": [
    "model_keys = list(models.keys())\n",
    "model_keys"
   ]
  },
  {
   "cell_type": "code",
   "execution_count": 11,
   "id": "0c1cb401-3b46-4d30-a40e-3a2193ca3faf",
   "metadata": {},
   "outputs": [
    {
     "data": {
      "image/png": "[encoded data removed]",
      "text/plain": [
       "<Figure size 800x200 with 2 Axes>"
      ]
     },
     "metadata": {},
     "output_type": "display_data"
    }
   ],
   "source": [
    "fig, ax = plt.subplots(1, 1, figsize=(8, 2)) \n",
    "\n",
    "plt.colorbar(\n",
    "    mesh.plot_slice(\n",
    "        models[\"target_15\"], \n",
    "        grid=True, \n",
    "        normal=\"y\",\n",
    "        pcolor_opts={\"norm\":LogNorm(1e-3, 1e-1)},\n",
    "        ax=ax)[0], \n",
    "    ax=ax\n",
    ")\n",
    "\n",
    "ax.set_xlim(800*np.r_[-1, 1])\n",
    "ax.set_ylim(np.r_[-300, 50])\n",
    "\n",
    "ax.plot(rx_locs[:, 0], rx_locs[:, 2], \"ro\")\n",
    "ax.set_aspect(1)"
   ]
  },
  {
   "cell_type": "code",
   "execution_count": 12,
   "id": "e06689c6-3f6c-4aa4-ac9c-ca3a6d23c919",
   "metadata": {},
   "outputs": [],
   "source": [
    "active_cells_map = maps.InjectActiveCells(mesh, mesh.cell_centers[:, 2]<0, value_inactive=np.log(1e-8))"
   ]
  },
  {
   "cell_type": "code",
   "execution_count": 13,
   "id": "13aa6f6a-0b1d-4f99-9c9a-1dc129614417",
   "metadata": {},
   "outputs": [],
   "source": [
    "rx_times = np.logspace(np.log10(2e-5), np.log10(8e-3), 20)"
   ]
  },
  {
   "cell_type": "code",
   "execution_count": 28,
   "id": "1c5499de-4110-4b98-808d-8b2b8bc375cd",
   "metadata": {},
   "outputs": [],
   "source": [
    "source_list = []\n",
    "\n",
    "for i in range(rx_locs.shape[0]): \n",
    "    rx = tdem.receivers.PointMagneticFluxTimeDerivative(rx_locs[i, :], rx_times, orientation=\"z\")\n",
    "    src = tdem.sources.CircularLoop(\n",
    "        receiver_list=[rx], location=rx_locs[i, :], orientation=\"z\", radius=10, \n",
    "        waveform=tdem.sources.StepOffWaveform()\n",
    "    )\n",
    "    source_list.append(src)\n",
    "\n",
    "survey = tdem.Survey(source_list)"
   ]
  },
  {
   "cell_type": "code",
   "execution_count": 30,
   "id": "633de28b-8ee1-4658-af39-bd4ae14e7662",
   "metadata": {},
   "outputs": [],
   "source": [
    "# set up the survey\n",
    "\n",
    "time_steps = [\n",
    "    (1e-5, 40), (3e-5, 20), (1e-4, 20), (3e-4, 20)\n",
    "]"
   ]
  },
  {
   "cell_type": "code",
   "execution_count": 31,
   "id": "513b4b5c-19cc-4f9a-b01a-6512ec7a1c76",
   "metadata": {},
   "outputs": [],
   "source": [
    "global_sim = tdem.simulation.Simulation3DElectricField(\n",
    "    mesh=mesh,\n",
    "    survey=survey,\n",
    "    time_steps=time_steps,\n",
    "    solver=Solver,\n",
    "    sigmaMap=maps.ExpMap() * active_cells_map\n",
    ")"
   ]
  },
  {
   "cell_type": "code",
   "execution_count": 32,
   "id": "82a3e0a7-f09a-485f-a551-efd1b7fb1095",
   "metadata": {},
   "outputs": [],
   "source": [
    "refine_depth = 180 # refine our local mesh to 200m \n",
    "mesh_list = []\n",
    "\n",
    "for src in source_list: \n",
    "    mesh_local = discretize.TreeMesh(mesh.h, origin=mesh.origin, diagonal_balance=True)\n",
    "    \n",
    "    # refine near transmitters and receivers\n",
    "    refine_points = discretize.utils.ndgrid(\n",
    "        np.r_[src.location[0]], np.r_[src.location[1]], np.linspace(-refine_depth, src.location[2], 40)\n",
    "    )\n",
    "    mesh_local.refine_points(\n",
    "        refine_points, level=-1, padding_cells_by_level=[2, 4, 4], \n",
    "        finalize=True, diagonal_balance=True\n",
    "    )\n",
    "    mesh_list.append(mesh_local)"
   ]
  },
  {
   "cell_type": "code",
   "execution_count": 33,
   "id": "92bc5ea5-dd13-4f06-83fc-e77d1b230ec8",
   "metadata": {},
   "outputs": [
    {
     "data": {
      "text/html": [
       "<table>\n",
       "<tr>\n",
       "<td style='font-weight: bold; font-size: 1.2em; text-align: center;'>OcTreeMesh</td>\n",
       "<td style='font-size: 1.2em; text-align: center;' colspan='2'>0.00% filled</td>\n",
       "</tr>\n",
       "<tr>\n",
       "<td>\n",
       "<table>\n",
       "<tr>\n",
       "<th style='padding: 5px 20px 5px 20px;'>Level</th>\n",
       "<th style='padding: 5px 20px 5px 20px;'>Number of cells</th>\n",
       "</tr>\n",
       "<tr>\n",
       "<td style='padding: 5px 20px 5px 20px;'>3</td>\n",
       "<td style='padding: 5px 20px 5px 20px;'>448</td>\n",
       "</tr>\n",
       "<tr>\n",
       "<td style='padding: 5px 20px 5px 20px;'>4</td>\n",
       "<td style='padding: 5px 20px 5px 20px;'>442</td>\n",
       "</tr>\n",
       "<tr>\n",
       "<td style='padding: 5px 20px 5px 20px;'>5</td>\n",
       "<td style='padding: 5px 20px 5px 20px;'>412</td>\n",
       "</tr>\n",
       "<tr>\n",
       "<td style='padding: 5px 20px 5px 20px;'>6</td>\n",
       "<td style='padding: 5px 20px 5px 20px;'>848</td>\n",
       "</tr>\n",
       "<tr>\n",
       "<td style='padding: 5px 20px 5px 20px;'>7</td>\n",
       "<td style='padding: 5px 20px 5px 20px;'>2474</td>\n",
       "</tr>\n",
       "<tr>\n",
       "<td style='padding: 5px 20px 5px 20px;'>8</td>\n",
       "<td style='padding: 5px 20px 5px 20px;'>1664</td>\n",
       "</tr>\n",
       "<tr>\n",
       "<td style='padding: 5px 20px 5px 20px;'>9</td>\n",
       "<td style='padding: 5px 20px 5px 20px;'>384</td>\n",
       "</tr>\n",
       "<tr>\n",
       "<td style='font-weight: bold; padding: 5px 20px 5px 20px;'> Total </td>\n",
       "<td style='padding: 5px 20px 5px 20px;'> 6672 </td>\n",
       "</tr>\n",
       "</table>\n",
       "</td>\n",
       "<td>\n",
       "<table>\n",
       "<tr>\n",
       "<th></th>\n",
       "<th style='padding: 5px 20px 5px 20px;' colspan='2'>Mesh extent</th>\n",
       "<th style='padding: 5px 20px 5px 20px;' colspan='2'>Cell widths</th>\n",
       "</tr>\n",
       "<tr>\n",
       "<th></th>\n",
       "<th style='padding: 5px 20px 5px 20px;'>min</th>\n",
       "<th style='padding: 5px 20px 5px 20px;'>max</th>\n",
       "<th style='padding: 5px 20px 5px 20px;'>min</th>\n",
       "<th style='padding: 5px 20px 5px 20px;'>max</th>\n",
       "</tr>\n",
       "<tr>\n",
       "<td style='padding: 5px 20px 5px 20px;'>x</td>\n",
       "<td style='padding: 5px 20px 5px 20px;'>-5120.0</td>\n",
       "<td style='padding: 5px 20px 5px 20px;'>5120.0</td>\n",
       "<td style='padding: 5px 20px 5px 20px;'>20.0</td>\n",
       "<td style='padding: 5px 20px 5px 20px;'>1280.0</td>\n",
       "</tr>\n",
       "<tr>\n",
       "<td style='padding: 5px 20px 5px 20px;'>y</td>\n",
       "<td style='padding: 5px 20px 5px 20px;'>-5120.0</td>\n",
       "<td style='padding: 5px 20px 5px 20px;'>5120.0</td>\n",
       "<td style='padding: 5px 20px 5px 20px;'>20.0</td>\n",
       "<td style='padding: 5px 20px 5px 20px;'>1280.0</td>\n",
       "</tr>\n",
       "<tr>\n",
       "<td style='padding: 5px 20px 5px 20px;'>z</td>\n",
       "<td style='padding: 5px 20px 5px 20px;'>-5120.0</td>\n",
       "<td style='padding: 5px 20px 5px 20px;'>5120.0</td>\n",
       "<td style='padding: 5px 20px 5px 20px;'>20.0</td>\n",
       "<td style='padding: 5px 20px 5px 20px;'>1280.0</td>\n",
       "</tr>\n",
       "</table>\n",
       "</td>\n",
       "</tr>\n",
       "</table>\n"
      ],
      "text/plain": [
       "\n",
       "OcTreeMesh: 0.00% filled\n",
       "\n",
       "Level : Number of cells               Mesh Extent               Cell Widths    \n",
       "-----------------------           min     ,     max            min   ,   max   \n",
       "  3   :       448            ---------------------------   --------------------\n",
       "  4   :       442         x:    -5120.0   ,   5120.0          20.0   ,   1280.0  \n",
       "  5   :       412         y:    -5120.0   ,   5120.0          20.0   ,   1280.0  \n",
       "  6   :       848         z:    -5120.0   ,   5120.0          20.0   ,   1280.0  \n",
       "  7   :      2474      \n",
       "  8   :      1664      \n",
       "  9   :       384      \n",
       "-----------------------\n",
       "Total :      6672      "
      ]
     },
     "execution_count": 33,
     "metadata": {},
     "output_type": "execute_result"
    }
   ],
   "source": [
    "mesh_list[1]"
   ]
  },
  {
   "cell_type": "code",
   "execution_count": 34,
   "id": "0188d8fe-10c0-4904-babc-330682559bce",
   "metadata": {},
   "outputs": [
    {
     "data": {
      "image/png": "[encoded data removed]",
      "text/plain": [
       "<Figure size 800x200 with 2 Axes>"
      ]
     },
     "metadata": {},
     "output_type": "display_data"
    }
   ],
   "source": [
    "fig, ax = plt.subplots(1, 1, figsize=(8, 2)) \n",
    "\n",
    "mesh_local = mesh_list[-1]\n",
    "\n",
    "plt.colorbar(\n",
    "    mesh.plot_slice(\n",
    "        models[\"target_15\"], \n",
    "        # grid=True, \n",
    "        normal=\"y\",\n",
    "        pcolor_opts={\"norm\":LogNorm(1e-3, 1e-1)},\n",
    "        ax=ax)[0], \n",
    "    ax=ax\n",
    ")\n",
    "mesh_local.plot_slice(\n",
    "    np.ones(mesh_local.n_cells), \n",
    "    # grid=True, \n",
    "    normal=\"y\",\n",
    "    grid_opts={\"color\":\"k\", \"lw\":1},\n",
    "    pcolor_opts={\"alpha\":0.1},\n",
    "    ax=ax\n",
    ")\n",
    "ax.set_xlim(600*np.r_[-1, 1])\n",
    "ax.set_ylim(np.r_[-300, 50])\n",
    "\n",
    "ax.plot(rx_locs[:, 0], rx_locs[:, 2], \"ro\")\n",
    "ax.set_aspect(1)\n"
   ]
  },
  {
   "cell_type": "code",
   "execution_count": 35,
   "id": "83e54f2c-ca11-4bba-91bd-36f367bd2cb1",
   "metadata": {},
   "outputs": [
    {
     "name": "stderr",
     "output_type": "stream",
     "text": [
      "/Users/lindseyjh/git/simpeg/simpeg/simpeg/meta/multiprocessing.py:229: UserWarning: The MetaSimulation class is a work in progress and might change in the future\n",
      "  super().__init__(simulations, mappings)\n",
      "/Users/lindseyjh/git/simpeg/simpeg/simpeg/meta/multiprocessing.py:248: UserWarning: The MetaSimulation class is a work in progress and might change in the future\n",
      "  sim_chunk = MetaSimulation(\n"
     ]
    }
   ],
   "source": [
    "mappings = []\n",
    "sims = []\n",
    "\n",
    "for ii, local_mesh in enumerate(mesh_list):\n",
    "\n",
    "    tile_map = maps.TileMap(mesh, active_cells_map.active_cells, local_mesh)\n",
    "    mappings.append(tile_map)\n",
    "    \n",
    "    local_actmap = maps.InjectActiveCells(\n",
    "        local_mesh, \n",
    "        active_cells=tile_map.local_active, \n",
    "        value_inactive=np.log(1e-8)\n",
    "    )\n",
    "    \n",
    "    local_survey = tdem.Survey([survey.source_list[ii]])\n",
    "    sims.append(tdem.simulation.Simulation3DElectricField(\n",
    "            mesh=local_mesh,\n",
    "            survey=local_survey,\n",
    "            time_steps=time_steps,\n",
    "            solver=Solver,\n",
    "            sigmaMap=maps.ExpMap() * local_actmap\n",
    "        )\n",
    "    )\n",
    "\n",
    "# client = Client()\n",
    "\n",
    "sim = MultiprocessingMetaSimulation(sims, mappings, n_processes=4)\n",
    "# sim = DaskMetaSimulation(sims, mappings)\n"
   ]
  },
  {
   "cell_type": "code",
   "execution_count": 36,
   "id": "22fabbe6-1628-45b7-8e5e-1eda3fe8d5c5",
   "metadata": {},
   "outputs": [],
   "source": [
    "log_conductivity_models = {}\n",
    "\n",
    "for key, val in models.items():\n",
    "    log_conductivity_models[key] = np.log(val[active_cells_map.active_cells])"
   ]
  },
  {
   "cell_type": "code",
   "execution_count": 37,
   "id": "2e350843-6831-4c4f-8f4f-64981ca84557",
   "metadata": {},
   "outputs": [
    {
     "data": {
      "image/png": "[encoded data removed]",
      "text/plain": [
       "<Figure size 800x500 with 4 Axes>"
      ]
     },
     "metadata": {},
     "output_type": "display_data"
    }
   ],
   "source": [
    "ind = 2\n",
    "key = model_keys[3]\n",
    "m_plot = sims[ind].sigmaMap * sim.mappings[ind] * log_conductivity_models[key]\n",
    "\n",
    "fig, ax = plt.subplots(2, 1, figsize=(8, 5)) \n",
    "\n",
    "mesh_local = mesh_list[ind]\n",
    "\n",
    "plt.colorbar(\n",
    "    mesh.plot_slice(\n",
    "        models[key], \n",
    "        # grid=True, \n",
    "        normal=\"y\",\n",
    "        pcolor_opts={\"norm\":LogNorm(1e-3, 1e-1)},\n",
    "        ax=ax[0])[0], \n",
    "    ax=ax[0]\n",
    ")\n",
    "\n",
    "plt.colorbar(\n",
    "    mesh_local.plot_slice(\n",
    "        m_plot, \n",
    "        grid=True, \n",
    "        normal=\"y\",\n",
    "        pcolor_opts={\"norm\":LogNorm(1e-3, 1e-1)},\n",
    "        ax=ax[1])[0], \n",
    "    ax=ax[1]\n",
    ")\n",
    "\n",
    "for a in ax:\n",
    "    a.set_xlim(600*np.r_[-1, 1])\n",
    "    a.set_ylim(np.r_[-300, 50])\n",
    "    \n",
    "    a.plot(rx_locs[:, 0], rx_locs[:, 2], \"ro\")\n",
    "    a.set_aspect(1)\n",
    "\n"
   ]
  },
  {
   "cell_type": "code",
   "execution_count": 38,
   "id": "ea573045-1641-48ec-bee2-4ecdbc9aeecc",
   "metadata": {
    "scrolled": true
   },
   "outputs": [
    {
     "name": "stderr",
     "output_type": "stream",
     "text": [
      "/Users/lindseyjh/miniforge3/envs/py311/lib/python3.11/site-packages/pymatsolver/solvers.py:415: FutureWarning: In Future pymatsolver v0.4.0, passing a vector of shape (n, 1) to the solve method will return an array with shape (n, 1), instead of always returning a flattened array. This is to be consistent with numpy.linalg.solve broadcasting.\n",
      "  return self.solve(val)\n",
      "/Users/lindseyjh/miniforge3/envs/py311/lib/python3.11/site-packages/pymatsolver/solvers.py:415: FutureWarning: In Future pymatsolver v0.4.0, passing a vector of shape (n, 1) to the solve method will return an array with shape (n, 1), instead of always returning a flattened array. This is to be consistent with numpy.linalg.solve broadcasting.\n",
      "  return self.solve(val)\n",
      "/Users/lindseyjh/miniforge3/envs/py311/lib/python3.11/site-packages/pymatsolver/solvers.py:415: FutureWarning: In Future pymatsolver v0.4.0, passing a vector of shape (n, 1) to the solve method will return an array with shape (n, 1), instead of always returning a flattened array. This is to be consistent with numpy.linalg.solve broadcasting.\n",
      "  return self.solve(val)\n",
      "/Users/lindseyjh/miniforge3/envs/py311/lib/python3.11/site-packages/pymatsolver/solvers.py:415: FutureWarning: In Future pymatsolver v0.4.0, passing a vector of shape (n, 1) to the solve method will return an array with shape (n, 1), instead of always returning a flattened array. This is to be consistent with numpy.linalg.solve broadcasting.\n",
      "  return self.solve(val)\n"
     ]
    },
    {
     "name": "stdout",
     "output_type": "stream",
     "text": [
      "[-3.37422103e-06 -1.48242887e-06 -4.34382348e-07 -1.43893260e-07\n",
      " -5.71170249e-08 -2.47035661e-08 -1.08837515e-08 -4.91537779e-09\n",
      " -2.24632848e-09 -1.03132075e-09 -4.86655218e-10 -2.29072795e-10\n",
      " -1.06388119e-10 -5.10137932e-11 -2.42789535e-11 -1.11963606e-11\n",
      " -5.15450384e-12 -2.43491387e-12 -1.12343101e-12 -5.09853125e-13\n",
      " -3.37410328e-06 -1.48240520e-06 -4.34424884e-07 -1.43948378e-07\n",
      " -5.71535368e-08 -2.47250565e-08 -1.08965316e-08 -4.92108825e-09\n",
      " -2.24775112e-09 -1.03128452e-09 -4.86430660e-10 -2.28931580e-10\n",
      " -1.06268376e-10 -5.08691766e-11 -2.41693200e-11 -1.11476409e-11\n",
      " -5.13381917e-12 -2.41920420e-12 -1.11264235e-12 -5.04652890e-13\n",
      " -3.37421680e-06 -1.48242491e-06 -4.34378831e-07 -1.43890444e-07\n",
      " -5.71152003e-08 -2.47028313e-08 -1.08838507e-08 -4.91580578e-09\n",
      " -2.24675623e-09 -1.03177796e-09 -4.87153610e-10 -2.29433352e-10\n",
      " -1.06552440e-10 -5.10794920e-11 -2.43119112e-11 -1.12128448e-11\n",
      " -5.15625473e-12 -2.42917560e-12 -1.11787053e-12 -5.06622822e-13\n",
      " -3.37409793e-06 -1.48239996e-06 -4.34419971e-07 -1.43944133e-07\n",
      " -5.71503334e-08 -2.47230700e-08 -1.08955719e-08 -4.92071784e-09\n",
      " -2.24770650e-09 -1.03157027e-09 -4.86900033e-10 -2.29304823e-10\n",
      " -1.06507617e-10 -5.10638482e-11 -2.43058218e-11 -1.12107836e-11\n",
      " -5.15574673e-12 -2.42902233e-12 -1.11776341e-12 -5.06550855e-13\n",
      " -3.37422203e-06 -1.48242998e-06 -4.34383564e-07 -1.43894566e-07\n",
      " -5.71183872e-08 -2.47049105e-08 -1.08849565e-08 -4.91628844e-09\n",
      " -2.24683705e-09 -1.03146880e-09 -4.86633013e-10 -2.29019203e-10\n",
      " -1.06297481e-10 -5.08808689e-11 -2.41743327e-11 -1.11496850e-11\n",
      " -5.13480953e-12 -2.41970934e-12 -1.11282842e-12 -5.04690890e-13\n",
      " -3.37410217e-06 -1.48240402e-06 -4.34423624e-07 -1.43947050e-07\n",
      " -5.71521679e-08 -2.47237155e-08 -1.08953390e-08 -4.92019880e-09\n",
      " -2.24726936e-09 -1.03116078e-09 -4.86467091e-10 -2.28991285e-10\n",
      " -1.06363964e-10 -5.10066611e-11 -2.42763467e-11 -1.11949714e-11\n",
      " -5.15353883e-12 -2.43439318e-12 -1.12327699e-12 -5.09841626e-13]\n"
     ]
    }
   ],
   "source": [
    "# fields = {}\n",
    "# dpred = {}\n",
    "\n",
    "key = model_keys[0]\n",
    "model = log_conductivity_models[key]\n",
    "# fields = sim.fields(model)\n",
    "dpred = sim.dpred(model)\n",
    "print(dpred)\n",
    "# sim.join()"
   ]
  },
  {
   "cell_type": "code",
   "execution_count": 41,
   "id": "468e60a0-739e-4e27-814e-722a670df171",
   "metadata": {},
   "outputs": [
    {
     "data": {
      "text/plain": [
       "[<matplotlib.lines.Line2D at 0x3277f4dd0>]"
      ]
     },
     "execution_count": 41,
     "metadata": {},
     "output_type": "execute_result"
    },
    {
     "data": {
      "image/png": "[encoded data removed]",
      "text/plain": [
       "<Figure size 640x480 with 1 Axes>"
      ]
     },
     "metadata": {},
     "output_type": "display_data"
    }
   ],
   "source": [
    "plt.loglog(rx_times, -dpred[:len(rx_times)])"
   ]
  },
  {
   "cell_type": "code",
   "execution_count": null,
   "id": "38bba3b8-e35f-42b2-ad6d-6aa42d23df5f",
   "metadata": {},
   "outputs": [],
   "source": []
  }
 ],
 "metadata": {
  "kernelspec": {
   "display_name": "Python 3 (ipykernel)",
   "language": "python",
   "name": "python3"
  },
  "language_info": {
   "codemirror_mode": {
    "name": "ipython",
    "version": 3
   },
   "file_extension": ".py",
   "mimetype": "text/x-python",
   "name": "python",
   "nbconvert_exporter": "python",
   "pygments_lexer": "ipython3",
   "version": "3.11.10"
  }
 },
 "nbformat": 4,
 "nbformat_minor": 5
}
