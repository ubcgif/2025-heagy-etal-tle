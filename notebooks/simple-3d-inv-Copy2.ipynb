{
 "cells": [
  {
   "cell_type": "code",
   "execution_count": 1,
   "id": "64b9eb20-6cda-4905-a6c8-95b3ae0f260e",
   "metadata": {},
   "outputs": [],
   "source": [
    "import numpy as np\n",
    "import matplotlib.pyplot as plt\n",
    "from matplotlib.colors import LogNorm, Normalize\n",
    "import time\n",
    "import json\n",
    "import pickle\n",
    "# import dask\n",
    "\n",
    "from concurrent.futures import ProcessPoolExecutor, as_completed\n",
    "\n",
    "\n",
    "import discretize \n",
    "from simpeg import maps\n",
    "from simpeg.electromagnetics import time_domain as tdem\n",
    "from simpeg import (\n",
    "    maps,\n",
    "    Data,\n",
    "    data_misfit,\n",
    "    inverse_problem,\n",
    "    regularization,\n",
    "    optimization,\n",
    "    directives,\n",
    "    inversion,\n",
    "    utils,\n",
    ")\n",
    "\n",
    "from simpeg.utils.solver_utils import get_default_solver\n",
    "\n",
    "from simpeg.meta import MultiprocessingMetaSimulation#, DaskMetaSimulation"
   ]
  },
  {
   "cell_type": "code",
   "execution_count": 2,
   "id": "aabf8349-b2ea-41ef-a974-3537317c7cfe",
   "metadata": {},
   "outputs": [
    {
     "data": {
      "text/plain": [
       "pymatsolver.direct.pardiso.Pardiso"
      ]
     },
     "execution_count": 2,
     "metadata": {},
     "output_type": "execute_result"
    }
   ],
   "source": [
    "Solver = get_default_solver()\n",
    "Solver"
   ]
  },
  {
   "cell_type": "code",
   "execution_count": 3,
   "id": "d52f1cb1-3c59-42ab-90dc-fe9f2fc89774",
   "metadata": {},
   "outputs": [],
   "source": [
    "# directory = \"./synthetic-data-10m\""
   ]
  },
  {
   "cell_type": "markdown",
   "id": "570037d2-aeab-487d-ba4a-30e1bb25c2ee",
   "metadata": {},
   "source": [
    "# set up models and mesh"
   ]
  },
  {
   "cell_type": "code",
   "execution_count": 4,
   "id": "24698367-f198-4d55-9007-f8fb22906420",
   "metadata": {},
   "outputs": [],
   "source": [
    "rho_back = 500\n",
    "sigma_back = 1./rho_back \n",
    "\n",
    "rho_target = 20\n",
    "sigma_target = 1./rho_target\n",
    "\n",
    "sigma_air = 1e-8\n",
    "\n",
    "target_dips = np.r_[0] #, 15, 30, 45]\n",
    "target_z = np.r_[-200, -20]"
   ]
  },
  {
   "cell_type": "code",
   "execution_count": 5,
   "id": "2f4b1720-d691-4250-90f5-9d3c289b98dd",
   "metadata": {},
   "outputs": [
    {
     "data": {
      "text/plain": [
       "array([-105.,  -95.,  -85.,  -75.,  -65.,  -55.,  -45.,  -35.,  -25.,\n",
       "        -15.,   -5.,    5.,   15.,   25.,   35.,   45.,   55.,   65.,\n",
       "         75.,   85.,   95.,  105.])"
      ]
     },
     "execution_count": 5,
     "metadata": {},
     "output_type": "execute_result"
    }
   ],
   "source": [
    "tx_height = np.r_[30]\n",
    "\n",
    "# rx_x = (np.linspace(-500, 500, 51) + 5)\n",
    "# rx_x = (np.linspace(-510, 500, 102) + 5)\n",
    "rx_x = np.linspace(-110, 100, 22) + 5\n",
    "rx_x = rx_x\n",
    "# rx_x = np.linspace(-70, 60, 12) + 5\n",
    "\n",
    "rx_y = np.r_[0]\n",
    "rx_z = tx_height\n",
    "\n",
    "rx_locs = discretize.utils.ndgrid([rx_x, rx_y, rx_z])\n",
    "rx_x"
   ]
  },
  {
   "cell_type": "code",
   "execution_count": 6,
   "id": "fdced28d-6966-4a09-a529-9733ec6e746a",
   "metadata": {},
   "outputs": [],
   "source": [
    "base_cell_width = 10\n",
    "domain_extent = 8000\n",
    "\n",
    "n_base_cells = 2 ** int(\n",
    "    np.ceil(np.log(domain_extent / base_cell_width) / np.log(2.0))\n",
    ")  # needs to be powers of 2 for the tree mesh\n",
    "\n",
    "h = [(base_cell_width, n_base_cells)]\n",
    "mesh = discretize.TreeMesh([h, h, h], origin=\"CCC\", diagonal_balance=True)\n",
    "\n",
    "# refine near transmitters and receivers\n",
    "mesh.refine_points(\n",
    "    rx_locs, level=-2, padding_cells_by_level=[2, 2, 4], \n",
    "    finalize=False, diagonal_balance=True\n",
    ")\n",
    "\n",
    "# Refine core region of the mesh \n",
    "\n",
    "bounding_points = np.array([\n",
    "    [-105, rx_y.min(), target_z.min() - base_cell_width * 4], \n",
    "    [105, rx_y.max(), 0],\n",
    "])\n",
    "mesh.refine_bounding_box(\n",
    "    bounding_points, level=-1, \n",
    "    diagonal_balance=True, finalize=False, padding_cells_by_level=[2, 8, 8]\n",
    ")\n",
    "\n",
    "mesh.finalize()"
   ]
  },
  {
   "cell_type": "code",
   "execution_count": 7,
   "id": "525e327f-9aa3-4121-8eb1-812b8a3b240e",
   "metadata": {},
   "outputs": [
    {
     "data": {
      "text/html": [
       "<table>\n",
       "<tr>\n",
       "<td style='font-weight: bold; font-size: 1.2em; text-align: center;'>OcTreeMesh</td>\n",
       "<td style='font-size: 1.2em; text-align: center;' colspan='2'>0.01% filled</td>\n",
       "</tr>\n",
       "<tr>\n",
       "<td>\n",
       "<table>\n",
       "<tr>\n",
       "<th style='padding: 5px 20px 5px 20px;'>Level</th>\n",
       "<th style='padding: 5px 20px 5px 20px;'>Number of cells</th>\n",
       "</tr>\n",
       "<tr>\n",
       "<td style='padding: 5px 20px 5px 20px;'>3</td>\n",
       "<td style='padding: 5px 20px 5px 20px;'>448</td>\n",
       "</tr>\n",
       "<tr>\n",
       "<td style='padding: 5px 20px 5px 20px;'>4</td>\n",
       "<td style='padding: 5px 20px 5px 20px;'>432</td>\n",
       "</tr>\n",
       "<tr>\n",
       "<td style='padding: 5px 20px 5px 20px;'>5</td>\n",
       "<td style='padding: 5px 20px 5px 20px;'>388</td>\n",
       "</tr>\n",
       "<tr>\n",
       "<td style='padding: 5px 20px 5px 20px;'>6</td>\n",
       "<td style='padding: 5px 20px 5px 20px;'>1216</td>\n",
       "</tr>\n",
       "<tr>\n",
       "<td style='padding: 5px 20px 5px 20px;'>7</td>\n",
       "<td style='padding: 5px 20px 5px 20px;'>2592</td>\n",
       "</tr>\n",
       "<tr>\n",
       "<td style='padding: 5px 20px 5px 20px;'>8</td>\n",
       "<td style='padding: 5px 20px 5px 20px;'>27904</td>\n",
       "</tr>\n",
       "<tr>\n",
       "<td style='padding: 5px 20px 5px 20px;'>9</td>\n",
       "<td style='padding: 5px 20px 5px 20px;'>19584</td>\n",
       "</tr>\n",
       "<tr>\n",
       "<td style='padding: 5px 20px 5px 20px;'>10</td>\n",
       "<td style='padding: 5px 20px 5px 20px;'>7168</td>\n",
       "</tr>\n",
       "<tr>\n",
       "<td style='font-weight: bold; padding: 5px 20px 5px 20px;'> Total </td>\n",
       "<td style='padding: 5px 20px 5px 20px;'> 59732 </td>\n",
       "</tr>\n",
       "</table>\n",
       "</td>\n",
       "<td>\n",
       "<table>\n",
       "<tr>\n",
       "<th></th>\n",
       "<th style='padding: 5px 20px 5px 20px;' colspan='2'>Mesh extent</th>\n",
       "<th style='padding: 5px 20px 5px 20px;' colspan='2'>Cell widths</th>\n",
       "</tr>\n",
       "<tr>\n",
       "<th></th>\n",
       "<th style='padding: 5px 20px 5px 20px;'>min</th>\n",
       "<th style='padding: 5px 20px 5px 20px;'>max</th>\n",
       "<th style='padding: 5px 20px 5px 20px;'>min</th>\n",
       "<th style='padding: 5px 20px 5px 20px;'>max</th>\n",
       "</tr>\n",
       "<tr>\n",
       "<td style='padding: 5px 20px 5px 20px;'>x</td>\n",
       "<td style='padding: 5px 20px 5px 20px;'>-5120.0</td>\n",
       "<td style='padding: 5px 20px 5px 20px;'>5120.0</td>\n",
       "<td style='padding: 5px 20px 5px 20px;'>10.0</td>\n",
       "<td style='padding: 5px 20px 5px 20px;'>1280.0</td>\n",
       "</tr>\n",
       "<tr>\n",
       "<td style='padding: 5px 20px 5px 20px;'>y</td>\n",
       "<td style='padding: 5px 20px 5px 20px;'>-5120.0</td>\n",
       "<td style='padding: 5px 20px 5px 20px;'>5120.0</td>\n",
       "<td style='padding: 5px 20px 5px 20px;'>10.0</td>\n",
       "<td style='padding: 5px 20px 5px 20px;'>1280.0</td>\n",
       "</tr>\n",
       "<tr>\n",
       "<td style='padding: 5px 20px 5px 20px;'>z</td>\n",
       "<td style='padding: 5px 20px 5px 20px;'>-5120.0</td>\n",
       "<td style='padding: 5px 20px 5px 20px;'>5120.0</td>\n",
       "<td style='padding: 5px 20px 5px 20px;'>10.0</td>\n",
       "<td style='padding: 5px 20px 5px 20px;'>1280.0</td>\n",
       "</tr>\n",
       "</table>\n",
       "</td>\n",
       "</tr>\n",
       "</table>\n"
      ],
      "text/plain": [
       "\n",
       "OcTreeMesh: 0.01% filled\n",
       "\n",
       "Level : Number of cells               Mesh Extent               Cell Widths    \n",
       "-----------------------           min     ,     max            min   ,   max   \n",
       "  3   :       448            ---------------------------   --------------------\n",
       "  4   :       432         x:    -5120.0   ,   5120.0          10.0   ,   1280.0  \n",
       "  5   :       388         y:    -5120.0   ,   5120.0          10.0   ,   1280.0  \n",
       "  6   :      1216         z:    -5120.0   ,   5120.0          10.0   ,   1280.0  \n",
       "  7   :      2592      \n",
       "  8   :      27904     \n",
       "  9   :      19584     \n",
       " 10   :      7168      \n",
       "-----------------------\n",
       "Total :      59732     "
      ]
     },
     "execution_count": 7,
     "metadata": {},
     "output_type": "execute_result"
    }
   ],
   "source": [
    "mesh"
   ]
  },
  {
   "cell_type": "code",
   "execution_count": 8,
   "id": "64e1bc0e-b432-455b-af0c-41ce006704ce",
   "metadata": {},
   "outputs": [],
   "source": [
    "# mesh.save(f\"{directory}/treemesh.json\")"
   ]
  },
  {
   "cell_type": "code",
   "execution_count": 9,
   "id": "6e176c97-3127-4721-94b9-0f219b296d76",
   "metadata": {},
   "outputs": [],
   "source": [
    "def dipping_target_indices(\n",
    "    mesh, target_x_center, target_z_center, dip, target_thickness, target_xlim=None, target_ylim=None, target_zlim=None\n",
    "): \n",
    "    \"\"\"\n",
    "    add a dipping target to the model. For now assumes the target dips in the x-direction\n",
    "    \"\"\"\n",
    "    x_center = np.mean(target_x)\n",
    "    slope = np.tan(-dip*np.pi/180)\n",
    "    target_z = target_z_center + target_thickness / 2 * np.r_[-1, 1]\n",
    "    \n",
    "    z_bottom = (mesh.cell_centers[:, 0] - target_x_center) * slope + target_z.min()\n",
    "    z_top = (mesh.cell_centers[:, 0] - target_x_center) * slope + target_z.max()\n",
    "\n",
    "    indices = (\n",
    "        (mesh.cell_centers[:, 2] >= z_bottom) &\n",
    "        (mesh.cell_centers[:, 2] <= z_top) \n",
    "    )\n",
    "\n",
    "    if target_xlim is not None: \n",
    "        indices = indices & (\n",
    "            (mesh.cell_centers[:, 0] >= target_xlim.min()) &\n",
    "            (mesh.cell_centers[:, 0] <= target_xlim.max())\n",
    "        )\n",
    "    if target_ylim is not None: \n",
    "        indices = indices & (\n",
    "            (mesh.cell_centers[:, 1] >= target_ylim.min()) &\n",
    "            (mesh.cell_centers[:, 1] <= target_ylim.max())\n",
    "        )\n",
    "    if target_zlim is not None: \n",
    "        indices = indices & (\n",
    "            (mesh.cell_centers[:, 2] >= target_zlim.min()) &\n",
    "            (mesh.cell_centers[:, 2] <= target_zlim.max())\n",
    "        )\n",
    "    return indices"
   ]
  },
  {
   "cell_type": "code",
   "execution_count": 10,
   "id": "ee81bced-772e-40ce-8614-5b3190bf980e",
   "metadata": {},
   "outputs": [],
   "source": [
    "models = {}\n",
    "\n",
    "target_x = np.r_[-30, 30]\n",
    "target_y = np.r_[-500, 500]\n",
    "target_z_center = -30\n",
    "target_thickness = 40\n",
    "\n",
    "# background model\n",
    "background = np.ones(mesh.n_cells) * sigma_air\n",
    "background[mesh.cell_centers[:, 2] < 0] = sigma_back\n",
    "models[\"background\"] = background\n",
    "\n",
    "for dip in target_dips:\n",
    "    model = background.copy()\n",
    "    indices = dipping_target_indices(\n",
    "        mesh, target_x_center=-100, target_z_center=target_z_center, \n",
    "        target_thickness=target_thickness, dip=dip, \n",
    "        target_xlim=target_x, \n",
    "        target_ylim=target_y,\n",
    "        target_zlim=target_z\n",
    "    )\n",
    "    model[indices] = sigma_target\n",
    "    models[f\"target_{dip}\"] = model\n",
    "\n"
   ]
  },
  {
   "cell_type": "code",
   "execution_count": 11,
   "id": "37e92d72-aa70-4b13-ba8a-6d0448688376",
   "metadata": {},
   "outputs": [
    {
     "data": {
      "text/plain": [
       "{'background': array([2.e-03, 2.e-03, 2.e-03, ..., 1.e-08, 1.e-08, 1.e-08]),\n",
       " 'target_0': array([2.e-03, 2.e-03, 2.e-03, ..., 1.e-08, 1.e-08, 1.e-08])}"
      ]
     },
     "execution_count": 11,
     "metadata": {},
     "output_type": "execute_result"
    }
   ],
   "source": [
    "models"
   ]
  },
  {
   "cell_type": "code",
   "execution_count": 12,
   "id": "96e02ebf-af3e-4ab0-9434-c1f494560b7e",
   "metadata": {},
   "outputs": [],
   "source": [
    "# with open(f\"{directory}/true-models.pkl\", \"wb\") as f:\n",
    "#     pickle.dump(models, f)\n"
   ]
  },
  {
   "cell_type": "code",
   "execution_count": 13,
   "id": "56658cb3-6e4e-4366-9126-2344916a2d39",
   "metadata": {},
   "outputs": [
    {
     "data": {
      "text/plain": [
       "['background', 'target_0']"
      ]
     },
     "execution_count": 13,
     "metadata": {},
     "output_type": "execute_result"
    }
   ],
   "source": [
    "model_keys = list(models.keys())\n",
    "model_keys"
   ]
  },
  {
   "cell_type": "code",
   "execution_count": 14,
   "id": "0c1cb401-3b46-4d30-a40e-3a2193ca3faf",
   "metadata": {},
   "outputs": [
    {
     "data": {
      "image/png": "[encoded data removed]",
      "text/plain": [
       "<Figure size 800x200 with 2 Axes>"
      ]
     },
     "metadata": {},
     "output_type": "display_data"
    }
   ],
   "source": [
    "fig, ax = plt.subplots(1, 1, figsize=(8, 2)) \n",
    "\n",
    "plt.colorbar(\n",
    "    mesh.plot_slice(\n",
    "        models[\"target_0\"], \n",
    "        # grid=True, \n",
    "        normal=\"y\",\n",
    "        pcolor_opts={\"norm\":LogNorm(1e-3, 1e-1)},\n",
    "        ax=ax)[0], \n",
    "    ax=ax\n",
    ")\n",
    "\n",
    "ax.set_xlim(100*np.r_[-1, 1])\n",
    "ax.set_ylim(np.r_[-300, 50])\n",
    "\n",
    "ax.plot(rx_locs[:, 0], rx_locs[:, 2], \"ro\")\n",
    "ax.set_aspect(1)"
   ]
  },
  {
   "cell_type": "code",
   "execution_count": 15,
   "id": "0188d8fe-10c0-4904-babc-330682559bce",
   "metadata": {},
   "outputs": [
    {
     "data": {
      "image/png": "[encoded data removed]",
      "text/plain": [
       "<Figure size 800x200 with 2 Axes>"
      ]
     },
     "metadata": {},
     "output_type": "display_data"
    }
   ],
   "source": [
    "fig, ax = plt.subplots(1, 1, figsize=(8, 2)) \n",
    "\n",
    "# mesh_local = mesh_list[-1]\n",
    "\n",
    "plt.colorbar(\n",
    "    mesh.plot_slice(\n",
    "        models[\"target_0\"], \n",
    "        grid=True, \n",
    "        normal=\"y\",\n",
    "        pcolor_opts={\"norm\":LogNorm(1e-3, 1e-1)},\n",
    "        ax=ax)[0], \n",
    "    ax=ax\n",
    ")\n",
    "\n",
    "ax.set_xlim(600*np.r_[-1, 1])\n",
    "ax.set_ylim(np.r_[-300, 50])\n",
    "\n",
    "ax.plot(rx_locs[:, 0], rx_locs[:, 2], \"ro\")\n",
    "ax.set_aspect(1)\n"
   ]
  },
  {
   "cell_type": "code",
   "execution_count": 16,
   "id": "22fabbe6-1628-45b7-8e5e-1eda3fe8d5c5",
   "metadata": {},
   "outputs": [],
   "source": [
    "log_conductivity_models = {}\n",
    "\n",
    "active_cells = mesh.cell_centers[:, 2] < 0\n",
    "\n",
    "for key, val in models.items():\n",
    "    log_conductivity_models[key] = np.log(val[active_cells])"
   ]
  },
  {
   "cell_type": "code",
   "execution_count": 17,
   "id": "2a3c2b1e-a803-44fa-8153-70681acc4bd5",
   "metadata": {},
   "outputs": [
    {
     "data": {
      "text/plain": [
       "20"
      ]
     },
     "execution_count": 17,
     "metadata": {},
     "output_type": "execute_result"
    }
   ],
   "source": [
    "rx_times = np.logspace(np.log10(1e-4), np.log10(8e-3), 27)[:20]\n",
    "# np.savetxt(f\"{directory}/rx_times.txt\", rx_times)\n",
    "# np.savetxt(f\"{directory}/rx_locs.txt\", rx_locs)\n",
    "len(rx_times)"
   ]
  },
  {
   "cell_type": "code",
   "execution_count": 18,
   "id": "2e350843-6831-4c4f-8f4f-64981ca84557",
   "metadata": {},
   "outputs": [],
   "source": [
    "def get_sim():\n",
    "    # set up survey\n",
    "    source_list = []\n",
    "\n",
    "    for i in range(rx_locs.shape[0]): \n",
    "        rx = tdem.receivers.PointMagneticFluxTimeDerivative(rx_locs[i, :], rx_times, orientation=\"z\")\n",
    "        src = tdem.sources.CircularLoop(\n",
    "            receiver_list=[rx], location=rx_locs[i, :], orientation=\"z\", radius=10, \n",
    "            waveform=tdem.sources.StepOffWaveform()\n",
    "        )\n",
    "        source_list.append(src)\n",
    "    \n",
    "    survey = tdem.Survey(source_list)\n",
    "\n",
    "    # create simulation \n",
    "    time_steps = [\n",
    "        (1e-6, 30), (3e-6, 30), (1e-5, 30), (3e-5, 20), (1e-4, 20), #(3e-4, 20)\n",
    "    ]      \n",
    "    msh = mesh.copy()\n",
    "    active_cells_map = maps.InjectActiveCells(msh, msh.cell_centers[:, 2]<0, value_inactive=np.log(1e-8))\n",
    "\n",
    "    global_sim = tdem.simulation.Simulation3DElectricField(\n",
    "        mesh=msh,\n",
    "        survey=survey,\n",
    "        time_steps=time_steps,\n",
    "        solver=Solver,\n",
    "        sigmaMap=maps.ExpMap() * active_cells_map\n",
    "    )\n",
    "    return global_sim"
   ]
  },
  {
   "cell_type": "code",
   "execution_count": 19,
   "id": "0cfbd375-497d-4ea9-984e-2c22b1b8d084",
   "metadata": {},
   "outputs": [],
   "source": [
    "def run_simulation(key):\n",
    "    print(f\"Starting {key}\")\n",
    "    # filename = f\"{directory}/{key}.txt\"\n",
    "    t = time.time()\n",
    "    model = log_conductivity_models[key]\n",
    "    sim = get_sim()\n",
    "    dpred = sim.dpred(model)\n",
    "    # np.savetxt(filename, dpred)\n",
    "    elapsed = time.time() - t\n",
    "    print(f\".... done. {key}. Elapsed time = {elapsed:1.2e}s \\n\")\n",
    "    return sim, dpred"
   ]
  },
  {
   "cell_type": "code",
   "execution_count": 20,
   "id": "29980bf6-2122-48cc-98e9-7c3e157551d7",
   "metadata": {},
   "outputs": [
    {
     "name": "stdout",
     "output_type": "stream",
     "text": [
      "Starting target_0\n"
     ]
    },
    {
     "name": "stderr",
     "output_type": "stream",
     "text": [
      "/home/lheagy/miniforge3/envs/py311/lib/python3.11/site-packages/discretize/base/base_mesh.py:197: FutureWarning: In discretize v1.0 the TreeMesh will change the default value of diagonal_balance to True, which will likely slightly change meshes you have previously created. If you need to keep the current behavior, explicitly set diagonal_balance=False.\n",
      "  return cls(**items)\n",
      "/home/lheagy/miniforge3/envs/py311/lib/python3.11/site-packages/geoana/spatial.py:104: RuntimeWarning: invalid value encountered in multiply\n",
      "  vec[..., 0] * np.cos(grid[..., 1]) - vec[..., 1] * np.sin(grid[..., 1]),\n"
     ]
    },
    {
     "name": "stdout",
     "output_type": "stream",
     "text": [
      ".... done. target_0. Elapsed time = 3.82e+02s \n",
      "\n",
      "CPU times: user 36min 50s, sys: 42 s, total: 37min 32s\n",
      "Wall time: 6min 22s\n"
     ]
    }
   ],
   "source": [
    "%%time\n",
    "global_sim, dpred = run_simulation(\"target_0\")"
   ]
  },
  {
   "cell_type": "code",
   "execution_count": 21,
   "id": "afcb39e7-e2d9-4628-9e79-5e2150c8185a",
   "metadata": {},
   "outputs": [
    {
     "data": {
      "image/png": "[encoded data removed]",
      "text/plain": [
       "<Figure size 640x480 with 1 Axes>"
      ]
     },
     "metadata": {},
     "output_type": "display_data"
    }
   ],
   "source": [
    "fig, ax = plt.subplots(1, 1)\n",
    "ax.semilogy(rx_x, -dpred.reshape(len(rx_x), len(rx_times)));"
   ]
  },
  {
   "cell_type": "code",
   "execution_count": 22,
   "id": "bfbe0381-f18d-484d-935d-64d8a7e99eac",
   "metadata": {},
   "outputs": [],
   "source": [
    "# if __name__ == \"__main__\":\n",
    "#     dpred_dict = {}\n",
    "    \n",
    "#     with ProcessPoolExecutor(max_workers=3) as executor:\n",
    "#         futures = [executor.submit(run_simulation, key) for key in model_keys]\n",
    "#         for future in as_completed(futures):\n",
    "#             key, dpred = future.result()\n",
    "#             dpred_dict[key] = dpred"
   ]
  },
  {
   "cell_type": "code",
   "execution_count": 23,
   "id": "ea573045-1641-48ec-bee2-4ecdbc9aeecc",
   "metadata": {},
   "outputs": [],
   "source": [
    "# %%time \n",
    "\n",
    "# dpred_dict = {}\n",
    "\n",
    "# for key in model_keys:\n",
    "#     print(f\"Starting {key}\")\n",
    "#     filename = f\"./synthetic-data/{key}.txt\"\n",
    "#     t = time.time()\n",
    "#     model = log_conductivity_models[key]\n",
    "#     sim = get_sim()\n",
    "#     dpred = sim.dpred(model)\n",
    "#     np.savetxt(filename, dpred)\n",
    "#     dpred_dict[key] = dpred\n",
    "#     print(f\".... done. {filename}. Elapsed time = {time.time()-t:1.2e}s\")\n",
    "    \n",
    "# # sim.join()"
   ]
  },
  {
   "cell_type": "code",
   "execution_count": 24,
   "id": "f4bedb55-d896-4ac2-91e7-4636e61d6316",
   "metadata": {},
   "outputs": [],
   "source": [
    "# dpred_dict"
   ]
  },
  {
   "cell_type": "code",
   "execution_count": 25,
   "id": "ec1ea585-d744-49c5-8937-078abad9e98f",
   "metadata": {},
   "outputs": [
    {
     "data": {
      "text/plain": [
       "(22, 3)"
      ]
     },
     "execution_count": 25,
     "metadata": {},
     "output_type": "execute_result"
    }
   ],
   "source": [
    "rx_locs.shape"
   ]
  },
  {
   "cell_type": "code",
   "execution_count": 26,
   "id": "38bba3b8-e35f-42b2-ad6d-6aa42d23df5f",
   "metadata": {},
   "outputs": [],
   "source": [
    "# key = model_keys[1]\n",
    "# # rx_times = np.logspace(np.log10(1e-4), np.log10(8e-3), 27)\n",
    "\n",
    "# n_sources = rx_locs.shape[0]\n",
    "# n_rxtimes = len(rx_times)\n",
    "\n",
    "# fig, ax = plt.subplots(1, 1, figsize = (12, 4)) \n",
    "\n",
    "# ax.semilogy(rx_x, -dpred_dict[model_keys[0]].reshape(n_sources, n_rxtimes), \"-k\", marker=\".\", lw=0.5, alpha=0.5);\n",
    "# ax.semilogy(rx_x, -dpred_dict[key].reshape(n_sources, n_rxtimes), \"-C0\", marker=\".\", lw=1);\n"
   ]
  },
  {
   "cell_type": "code",
   "execution_count": 27,
   "id": "f45e2741-bfef-4732-9688-84c87f97db87",
   "metadata": {},
   "outputs": [],
   "source": [
    "# global_sim = sim\n",
    "survey=global_sim.survey"
   ]
  },
  {
   "cell_type": "code",
   "execution_count": 28,
   "id": "a705f848-07d0-4938-88f1-91cbea655c10",
   "metadata": {},
   "outputs": [],
   "source": [
    "key = \"target_0\"\n",
    "data_invert = Data(survey=survey, dobs=dpred, relative_error=0.1, noise_floor=1e-11)"
   ]
  },
  {
   "cell_type": "code",
   "execution_count": 29,
   "id": "332cd0cc-b148-4547-890b-b6bf77ef89d1",
   "metadata": {},
   "outputs": [],
   "source": [
    "refine_depth = 120 # refine our local mesh to 200m \n",
    "\n",
    "def get_local_mesh(src):\n",
    "    mesh_local = discretize.TreeMesh(mesh.h, origin=mesh.origin, diagonal_balance=True)\n",
    "    refine_points = discretize.utils.ndgrid(\n",
    "        np.r_[src.location[0]],\n",
    "        np.r_[src.location[1]],\n",
    "        np.linspace(-refine_depth, src.location[2], 40)\n",
    "    )\n",
    "    mesh_local.refine_points(\n",
    "        refine_points,\n",
    "        level=-2,\n",
    "        padding_cells_by_level=[2, 4, 4],\n",
    "        finalize=True,\n",
    "        diagonal_balance=True\n",
    "    )\n",
    "    return mesh_local\n",
    "\n",
    "# with ProcessPoolExecutor() as executor:\n",
    "mesh_list = []\n",
    "for src in survey.source_list:\n",
    "    mesh_list.append(get_local_mesh(src))"
   ]
  },
  {
   "cell_type": "code",
   "execution_count": 30,
   "id": "878952aa-920b-4a3a-9a05-c98054f1e22a",
   "metadata": {},
   "outputs": [
    {
     "data": {
      "text/html": [
       "<table>\n",
       "<tr>\n",
       "<td style='font-weight: bold; font-size: 1.2em; text-align: center;'>OcTreeMesh</td>\n",
       "<td style='font-size: 1.2em; text-align: center;' colspan='2'>0.00% filled</td>\n",
       "</tr>\n",
       "<tr>\n",
       "<td>\n",
       "<table>\n",
       "<tr>\n",
       "<th style='padding: 5px 20px 5px 20px;'>Level</th>\n",
       "<th style='padding: 5px 20px 5px 20px;'>Number of cells</th>\n",
       "</tr>\n",
       "<tr>\n",
       "<td style='padding: 5px 20px 5px 20px;'>3</td>\n",
       "<td style='padding: 5px 20px 5px 20px;'>448</td>\n",
       "</tr>\n",
       "<tr>\n",
       "<td style='padding: 5px 20px 5px 20px;'>4</td>\n",
       "<td style='padding: 5px 20px 5px 20px;'>448</td>\n",
       "</tr>\n",
       "<tr>\n",
       "<td style='padding: 5px 20px 5px 20px;'>5</td>\n",
       "<td style='padding: 5px 20px 5px 20px;'>378</td>\n",
       "</tr>\n",
       "<tr>\n",
       "<td style='padding: 5px 20px 5px 20px;'>6</td>\n",
       "<td style='padding: 5px 20px 5px 20px;'>772</td>\n",
       "</tr>\n",
       "<tr>\n",
       "<td style='padding: 5px 20px 5px 20px;'>7</td>\n",
       "<td style='padding: 5px 20px 5px 20px;'>2212</td>\n",
       "</tr>\n",
       "<tr>\n",
       "<td style='padding: 5px 20px 5px 20px;'>8</td>\n",
       "<td style='padding: 5px 20px 5px 20px;'>1468</td>\n",
       "</tr>\n",
       "<tr>\n",
       "<td style='padding: 5px 20px 5px 20px;'>9</td>\n",
       "<td style='padding: 5px 20px 5px 20px;'>288</td>\n",
       "</tr>\n",
       "<tr>\n",
       "<td style='font-weight: bold; padding: 5px 20px 5px 20px;'> Total </td>\n",
       "<td style='padding: 5px 20px 5px 20px;'> 6014 </td>\n",
       "</tr>\n",
       "</table>\n",
       "</td>\n",
       "<td>\n",
       "<table>\n",
       "<tr>\n",
       "<th></th>\n",
       "<th style='padding: 5px 20px 5px 20px;' colspan='2'>Mesh extent</th>\n",
       "<th style='padding: 5px 20px 5px 20px;' colspan='2'>Cell widths</th>\n",
       "</tr>\n",
       "<tr>\n",
       "<th></th>\n",
       "<th style='padding: 5px 20px 5px 20px;'>min</th>\n",
       "<th style='padding: 5px 20px 5px 20px;'>max</th>\n",
       "<th style='padding: 5px 20px 5px 20px;'>min</th>\n",
       "<th style='padding: 5px 20px 5px 20px;'>max</th>\n",
       "</tr>\n",
       "<tr>\n",
       "<td style='padding: 5px 20px 5px 20px;'>x</td>\n",
       "<td style='padding: 5px 20px 5px 20px;'>-5120.0</td>\n",
       "<td style='padding: 5px 20px 5px 20px;'>5120.0</td>\n",
       "<td style='padding: 5px 20px 5px 20px;'>20.0</td>\n",
       "<td style='padding: 5px 20px 5px 20px;'>1280.0</td>\n",
       "</tr>\n",
       "<tr>\n",
       "<td style='padding: 5px 20px 5px 20px;'>y</td>\n",
       "<td style='padding: 5px 20px 5px 20px;'>-5120.0</td>\n",
       "<td style='padding: 5px 20px 5px 20px;'>5120.0</td>\n",
       "<td style='padding: 5px 20px 5px 20px;'>20.0</td>\n",
       "<td style='padding: 5px 20px 5px 20px;'>1280.0</td>\n",
       "</tr>\n",
       "<tr>\n",
       "<td style='padding: 5px 20px 5px 20px;'>z</td>\n",
       "<td style='padding: 5px 20px 5px 20px;'>-5120.0</td>\n",
       "<td style='padding: 5px 20px 5px 20px;'>5120.0</td>\n",
       "<td style='padding: 5px 20px 5px 20px;'>20.0</td>\n",
       "<td style='padding: 5px 20px 5px 20px;'>1280.0</td>\n",
       "</tr>\n",
       "</table>\n",
       "</td>\n",
       "</tr>\n",
       "</table>\n"
      ],
      "text/plain": [
       "\n",
       "OcTreeMesh: 0.00% filled\n",
       "\n",
       "Level : Number of cells               Mesh Extent               Cell Widths    \n",
       "-----------------------           min     ,     max            min   ,   max   \n",
       "  3   :       448            ---------------------------   --------------------\n",
       "  4   :       448         x:    -5120.0   ,   5120.0          20.0   ,   1280.0  \n",
       "  5   :       378         y:    -5120.0   ,   5120.0          20.0   ,   1280.0  \n",
       "  6   :       772         z:    -5120.0   ,   5120.0          20.0   ,   1280.0  \n",
       "  7   :      2212      \n",
       "  8   :      1468      \n",
       "  9   :       288      \n",
       "-----------------------\n",
       "Total :      6014      "
      ]
     },
     "execution_count": 30,
     "metadata": {},
     "output_type": "execute_result"
    }
   ],
   "source": [
    "mesh_list[0]"
   ]
  },
  {
   "cell_type": "code",
   "execution_count": 31,
   "id": "e007da08-30cb-40ec-afff-877d97084eed",
   "metadata": {},
   "outputs": [],
   "source": [
    "mappings = []\n",
    "sims = []\n",
    "\n",
    "active_cells_map = maps.InjectActiveCells(mesh, mesh.cell_centers[:, 2]<0, value_inactive=np.log(1e-8))\n",
    "time_steps = [\n",
    "    (1e-6, 30), (3e-6, 30), (1e-5, 30), (3e-5, 20), (1e-4, 20), #(3e-4, 20)\n",
    "] \n",
    "\n",
    "for ii, local_mesh in enumerate(mesh_list):\n",
    "    \n",
    "    tile_map = maps.TileMap(mesh, active_cells_map.active_cells, local_mesh)\n",
    "    mappings.append(tile_map)\n",
    "    \n",
    "    local_actmap = maps.InjectActiveCells(\n",
    "        local_mesh, \n",
    "        active_cells=tile_map.local_active, \n",
    "        value_inactive=np.log(1e-8)\n",
    "    )\n",
    "    \n",
    "    local_survey = tdem.Survey([survey.source_list[ii]])\n",
    "    sims.append(tdem.simulation.Simulation3DElectricField(\n",
    "            mesh=local_mesh,\n",
    "            survey=local_survey,\n",
    "            time_steps=time_steps,\n",
    "            solver=Solver,\n",
    "            sigmaMap=maps.ExpMap() * local_actmap\n",
    "        )\n",
    "    )\n",
    "\n"
   ]
  },
  {
   "cell_type": "code",
   "execution_count": 32,
   "id": "8efb40a0-d146-4f56-ae3c-c6b1ba563183",
   "metadata": {},
   "outputs": [
    {
     "name": "stderr",
     "output_type": "stream",
     "text": [
      "/home/lheagy/miniforge3/envs/py311/lib/python3.11/site-packages/simpeg/meta/multiprocessing.py:229: UserWarning: The MetaSimulation class is a work in progress and might change in the future\n",
      "  super().__init__(simulations, mappings)\n",
      "/home/lheagy/miniforge3/envs/py311/lib/python3.11/site-packages/simpeg/meta/multiprocessing.py:248: UserWarning: The MetaSimulation class is a work in progress and might change in the future\n",
      "  sim_chunk = MetaSimulation(\n",
      "Process _SimulationProcess-10:\n",
      "Process _SimulationProcess-13:\n",
      "Process _SimulationProcess-17:\n",
      "Process _SimulationProcess-1:\n",
      "Process _SimulationProcess-3:\n",
      "Process _SimulationProcess-19:\n",
      "Process _SimulationProcess-2:\n",
      "Process _SimulationProcess-8:\n",
      "Process _SimulationProcess-21:\n",
      "Process _SimulationProcess-7:\n",
      "Process _SimulationProcess-12:\n",
      "Process _SimulationProcess-14:\n",
      "Process _SimulationProcess-15:\n",
      "Process _SimulationProcess-20:\n",
      "Process _SimulationProcess-18:\n",
      "Process _SimulationProcess-9:\n",
      "Process _SimulationProcess-6:\n",
      "Process _SimulationProcess-4:\n",
      "Process _SimulationProcess-16:\n",
      "Process _SimulationProcess-5:\n",
      "Process _SimulationProcess-22:\n",
      "Traceback (most recent call last):\n",
      "Traceback (most recent call last):\n",
      "Traceback (most recent call last):\n",
      "Traceback (most recent call last):\n",
      "Traceback (most recent call last):\n",
      "Traceback (most recent call last):\n",
      "Traceback (most recent call last):\n",
      "Traceback (most recent call last):\n",
      "Traceback (most recent call last):\n",
      "Traceback (most recent call last):\n",
      "Traceback (most recent call last):\n",
      "Traceback (most recent call last):\n",
      "Traceback (most recent call last):\n",
      "Traceback (most recent call last):\n",
      "Traceback (most recent call last):\n",
      "Traceback (most recent call last):\n",
      "Traceback (most recent call last):\n",
      "Traceback (most recent call last):\n",
      "  File \"/home/lheagy/miniforge3/envs/py311/lib/python3.11/multiprocessing/process.py\", line 314, in _bootstrap\n",
      "    self.run()\n",
      "  File \"/home/lheagy/miniforge3/envs/py311/lib/python3.11/multiprocessing/process.py\", line 314, in _bootstrap\n",
      "    self.run()\n",
      "  File \"/home/lheagy/miniforge3/envs/py311/lib/python3.11/multiprocessing/process.py\", line 314, in _bootstrap\n",
      "    self.run()\n",
      "  File \"/home/lheagy/miniforge3/envs/py311/lib/python3.11/multiprocessing/process.py\", line 314, in _bootstrap\n",
      "    self.run()\n",
      "Traceback (most recent call last):\n",
      "  File \"/home/lheagy/miniforge3/envs/py311/lib/python3.11/multiprocessing/process.py\", line 314, in _bootstrap\n",
      "    self.run()\n",
      "  File \"/home/lheagy/miniforge3/envs/py311/lib/python3.11/multiprocessing/process.py\", line 314, in _bootstrap\n",
      "    self.run()\n",
      "  File \"/home/lheagy/miniforge3/envs/py311/lib/python3.11/multiprocessing/process.py\", line 314, in _bootstrap\n",
      "    self.run()\n",
      "Traceback (most recent call last):\n",
      "  File \"/home/lheagy/miniforge3/envs/py311/lib/python3.11/multiprocessing/process.py\", line 314, in _bootstrap\n",
      "    self.run()\n",
      "Traceback (most recent call last):\n",
      "  File \"/home/lheagy/miniforge3/envs/py311/lib/python3.11/multiprocessing/process.py\", line 314, in _bootstrap\n",
      "    self.run()\n",
      "  File \"/home/lheagy/miniforge3/envs/py311/lib/python3.11/multiprocessing/process.py\", line 314, in _bootstrap\n",
      "    self.run()\n",
      "  File \"/home/lheagy/miniforge3/envs/py311/lib/python3.11/multiprocessing/process.py\", line 314, in _bootstrap\n",
      "    self.run()\n",
      "  File \"/home/lheagy/miniforge3/envs/py311/lib/python3.11/multiprocessing/process.py\", line 314, in _bootstrap\n",
      "    self.run()\n",
      "  File \"/home/lheagy/miniforge3/envs/py311/lib/python3.11/multiprocessing/process.py\", line 314, in _bootstrap\n",
      "    self.run()\n",
      "  File \"/home/lheagy/miniforge3/envs/py311/lib/python3.11/multiprocessing/process.py\", line 314, in _bootstrap\n",
      "    self.run()\n",
      "  File \"/home/lheagy/miniforge3/envs/py311/lib/python3.11/site-packages/simpeg/meta/multiprocessing.py\", line 56, in run\n",
      "    task = t_queue.get()\n",
      "           ^^^^^^^^^^^^^\n",
      "  File \"/home/lheagy/miniforge3/envs/py311/lib/python3.11/multiprocessing/process.py\", line 314, in _bootstrap\n",
      "    self.run()\n",
      "  File \"/home/lheagy/miniforge3/envs/py311/lib/python3.11/site-packages/simpeg/meta/multiprocessing.py\", line 56, in run\n",
      "    task = t_queue.get()\n",
      "           ^^^^^^^^^^^^^\n",
      "  File \"/home/lheagy/miniforge3/envs/py311/lib/python3.11/multiprocessing/process.py\", line 314, in _bootstrap\n",
      "    self.run()\n",
      "  File \"/home/lheagy/miniforge3/envs/py311/lib/python3.11/site-packages/simpeg/meta/multiprocessing.py\", line 56, in run\n",
      "    task = t_queue.get()\n",
      "           ^^^^^^^^^^^^^\n",
      "  File \"/home/lheagy/miniforge3/envs/py311/lib/python3.11/site-packages/simpeg/meta/multiprocessing.py\", line 56, in run\n",
      "    task = t_queue.get()\n",
      "           ^^^^^^^^^^^^^\n",
      "  File \"/home/lheagy/miniforge3/envs/py311/lib/python3.11/multiprocessing/process.py\", line 314, in _bootstrap\n",
      "    self.run()\n",
      "  File \"/home/lheagy/miniforge3/envs/py311/lib/python3.11/multiprocessing/process.py\", line 314, in _bootstrap\n",
      "    self.run()\n",
      "  File \"/home/lheagy/miniforge3/envs/py311/lib/python3.11/site-packages/simpeg/meta/multiprocessing.py\", line 56, in run\n",
      "    task = t_queue.get()\n",
      "           ^^^^^^^^^^^^^\n",
      "  File \"/home/lheagy/miniforge3/envs/py311/lib/python3.11/site-packages/simpeg/meta/multiprocessing.py\", line 56, in run\n",
      "    task = t_queue.get()\n",
      "           ^^^^^^^^^^^^^\n",
      "  File \"/home/lheagy/miniforge3/envs/py311/lib/python3.11/site-packages/simpeg/meta/multiprocessing.py\", line 56, in run\n",
      "    task = t_queue.get()\n",
      "           ^^^^^^^^^^^^^\n",
      "  File \"/home/lheagy/miniforge3/envs/py311/lib/python3.11/multiprocessing/process.py\", line 314, in _bootstrap\n",
      "    self.run()\n",
      "  File \"/home/lheagy/miniforge3/envs/py311/lib/python3.11/site-packages/simpeg/meta/multiprocessing.py\", line 56, in run\n",
      "    task = t_queue.get()\n",
      "           ^^^^^^^^^^^^^\n",
      "  File \"/home/lheagy/miniforge3/envs/py311/lib/python3.11/site-packages/simpeg/meta/multiprocessing.py\", line 56, in run\n",
      "    task = t_queue.get()\n",
      "           ^^^^^^^^^^^^^\n",
      "  File \"/home/lheagy/miniforge3/envs/py311/lib/python3.11/site-packages/simpeg/meta/multiprocessing.py\", line 56, in run\n",
      "    task = t_queue.get()\n",
      "           ^^^^^^^^^^^^^\n",
      "  File \"/home/lheagy/miniforge3/envs/py311/lib/python3.11/site-packages/simpeg/meta/multiprocessing.py\", line 56, in run\n",
      "    task = t_queue.get()\n",
      "           ^^^^^^^^^^^^^\n",
      "  File \"/home/lheagy/miniforge3/envs/py311/lib/python3.11/multiprocessing/process.py\", line 314, in _bootstrap\n",
      "    self.run()\n",
      "  File \"/home/lheagy/miniforge3/envs/py311/lib/python3.11/multiprocessing/process.py\", line 314, in _bootstrap\n",
      "    self.run()\n",
      "  File \"/home/lheagy/miniforge3/envs/py311/lib/python3.11/site-packages/simpeg/meta/multiprocessing.py\", line 56, in run\n",
      "    task = t_queue.get()\n",
      "           ^^^^^^^^^^^^^\n",
      "  File \"/home/lheagy/miniforge3/envs/py311/lib/python3.11/multiprocessing/queues.py\", line 103, in get\n",
      "    res = self._recv_bytes()\n",
      "          ^^^^^^^^^^^^^^^^^^\n",
      "  File \"/home/lheagy/miniforge3/envs/py311/lib/python3.11/site-packages/simpeg/meta/multiprocessing.py\", line 56, in run\n",
      "    task = t_queue.get()\n",
      "           ^^^^^^^^^^^^^\n",
      "  File \"/home/lheagy/miniforge3/envs/py311/lib/python3.11/multiprocessing/queues.py\", line 103, in get\n",
      "    res = self._recv_bytes()\n",
      "          ^^^^^^^^^^^^^^^^^^\n",
      "  File \"/home/lheagy/miniforge3/envs/py311/lib/python3.11/site-packages/simpeg/meta/multiprocessing.py\", line 56, in run\n",
      "    task = t_queue.get()\n",
      "           ^^^^^^^^^^^^^\n",
      "  File \"/home/lheagy/miniforge3/envs/py311/lib/python3.11/site-packages/simpeg/meta/multiprocessing.py\", line 56, in run\n",
      "    task = t_queue.get()\n",
      "           ^^^^^^^^^^^^^\n",
      "  File \"/home/lheagy/miniforge3/envs/py311/lib/python3.11/site-packages/simpeg/meta/multiprocessing.py\", line 56, in run\n",
      "    task = t_queue.get()\n",
      "           ^^^^^^^^^^^^^\n",
      "  File \"/home/lheagy/miniforge3/envs/py311/lib/python3.11/multiprocessing/queues.py\", line 103, in get\n",
      "    res = self._recv_bytes()\n",
      "          ^^^^^^^^^^^^^^^^^^\n",
      "  File \"/home/lheagy/miniforge3/envs/py311/lib/python3.11/multiprocessing/queues.py\", line 103, in get\n",
      "    res = self._recv_bytes()\n",
      "          ^^^^^^^^^^^^^^^^^^\n",
      "  File \"/home/lheagy/miniforge3/envs/py311/lib/python3.11/site-packages/simpeg/meta/multiprocessing.py\", line 56, in run\n",
      "    task = t_queue.get()\n",
      "           ^^^^^^^^^^^^^\n",
      "  File \"/home/lheagy/miniforge3/envs/py311/lib/python3.11/multiprocessing/queues.py\", line 103, in get\n",
      "    res = self._recv_bytes()\n",
      "          ^^^^^^^^^^^^^^^^^^\n",
      "  File \"/home/lheagy/miniforge3/envs/py311/lib/python3.11/multiprocessing/queues.py\", line 103, in get\n",
      "    res = self._recv_bytes()\n",
      "          ^^^^^^^^^^^^^^^^^^\n",
      "  File \"/home/lheagy/miniforge3/envs/py311/lib/python3.11/site-packages/simpeg/meta/multiprocessing.py\", line 56, in run\n",
      "    task = t_queue.get()\n",
      "           ^^^^^^^^^^^^^\n",
      "  File \"/home/lheagy/miniforge3/envs/py311/lib/python3.11/multiprocessing/queues.py\", line 103, in get\n",
      "    res = self._recv_bytes()\n",
      "          ^^^^^^^^^^^^^^^^^^\n",
      "  File \"/home/lheagy/miniforge3/envs/py311/lib/python3.11/site-packages/simpeg/meta/multiprocessing.py\", line 56, in run\n",
      "    task = t_queue.get()\n",
      "           ^^^^^^^^^^^^^\n",
      "  File \"/home/lheagy/miniforge3/envs/py311/lib/python3.11/multiprocessing/queues.py\", line 103, in get\n",
      "    res = self._recv_bytes()\n",
      "          ^^^^^^^^^^^^^^^^^^\n",
      "  File \"/home/lheagy/miniforge3/envs/py311/lib/python3.11/multiprocessing/queues.py\", line 103, in get\n",
      "    res = self._recv_bytes()\n",
      "          ^^^^^^^^^^^^^^^^^^\n",
      "  File \"/home/lheagy/miniforge3/envs/py311/lib/python3.11/multiprocessing/queues.py\", line 103, in get\n",
      "    res = self._recv_bytes()\n",
      "          ^^^^^^^^^^^^^^^^^^\n",
      "  File \"/home/lheagy/miniforge3/envs/py311/lib/python3.11/multiprocessing/queues.py\", line 103, in get\n",
      "    res = self._recv_bytes()\n",
      "          ^^^^^^^^^^^^^^^^^^\n",
      "  File \"/home/lheagy/miniforge3/envs/py311/lib/python3.11/site-packages/simpeg/meta/multiprocessing.py\", line 56, in run\n",
      "    task = t_queue.get()\n",
      "           ^^^^^^^^^^^^^\n",
      "  File \"/home/lheagy/miniforge3/envs/py311/lib/python3.11/site-packages/simpeg/meta/multiprocessing.py\", line 56, in run\n",
      "    task = t_queue.get()\n",
      "           ^^^^^^^^^^^^^\n",
      "  File \"/home/lheagy/miniforge3/envs/py311/lib/python3.11/multiprocessing/connection.py\", line 216, in recv_bytes\n",
      "    buf = self._recv_bytes(maxlength)\n",
      "          ^^^^^^^^^^^^^^^^^^^^^^^^^^^\n",
      "  File \"/home/lheagy/miniforge3/envs/py311/lib/python3.11/multiprocessing/queues.py\", line 103, in get\n",
      "    res = self._recv_bytes()\n",
      "          ^^^^^^^^^^^^^^^^^^\n",
      "  File \"/home/lheagy/miniforge3/envs/py311/lib/python3.11/multiprocessing/queues.py\", line 103, in get\n",
      "    res = self._recv_bytes()\n",
      "          ^^^^^^^^^^^^^^^^^^\n",
      "  File \"/home/lheagy/miniforge3/envs/py311/lib/python3.11/multiprocessing/connection.py\", line 216, in recv_bytes\n",
      "    buf = self._recv_bytes(maxlength)\n",
      "          ^^^^^^^^^^^^^^^^^^^^^^^^^^^\n",
      "  File \"/home/lheagy/miniforge3/envs/py311/lib/python3.11/multiprocessing/queues.py\", line 103, in get\n",
      "    res = self._recv_bytes()\n",
      "          ^^^^^^^^^^^^^^^^^^\n",
      "  File \"/home/lheagy/miniforge3/envs/py311/lib/python3.11/multiprocessing/queues.py\", line 103, in get\n",
      "    res = self._recv_bytes()\n",
      "          ^^^^^^^^^^^^^^^^^^\n",
      "  File \"/home/lheagy/miniforge3/envs/py311/lib/python3.11/multiprocessing/connection.py\", line 216, in recv_bytes\n",
      "    buf = self._recv_bytes(maxlength)\n",
      "          ^^^^^^^^^^^^^^^^^^^^^^^^^^^\n",
      "  File \"/home/lheagy/miniforge3/envs/py311/lib/python3.11/multiprocessing/queues.py\", line 103, in get\n",
      "    res = self._recv_bytes()\n",
      "          ^^^^^^^^^^^^^^^^^^\n",
      "  File \"/home/lheagy/miniforge3/envs/py311/lib/python3.11/multiprocessing/connection.py\", line 216, in recv_bytes\n",
      "    buf = self._recv_bytes(maxlength)\n",
      "          ^^^^^^^^^^^^^^^^^^^^^^^^^^^\n",
      "  File \"/home/lheagy/miniforge3/envs/py311/lib/python3.11/multiprocessing/queues.py\", line 103, in get\n",
      "    res = self._recv_bytes()\n",
      "          ^^^^^^^^^^^^^^^^^^\n",
      "  File \"/home/lheagy/miniforge3/envs/py311/lib/python3.11/multiprocessing/connection.py\", line 216, in recv_bytes\n",
      "    buf = self._recv_bytes(maxlength)\n",
      "          ^^^^^^^^^^^^^^^^^^^^^^^^^^^\n",
      "  File \"/home/lheagy/miniforge3/envs/py311/lib/python3.11/multiprocessing/connection.py\", line 216, in recv_bytes\n",
      "    buf = self._recv_bytes(maxlength)\n",
      "          ^^^^^^^^^^^^^^^^^^^^^^^^^^^\n",
      "  File \"/home/lheagy/miniforge3/envs/py311/lib/python3.11/multiprocessing/connection.py\", line 216, in recv_bytes\n",
      "    buf = self._recv_bytes(maxlength)\n",
      "          ^^^^^^^^^^^^^^^^^^^^^^^^^^^\n",
      "  File \"/home/lheagy/miniforge3/envs/py311/lib/python3.11/multiprocessing/queues.py\", line 103, in get\n",
      "    res = self._recv_bytes()\n",
      "          ^^^^^^^^^^^^^^^^^^\n",
      "  File \"/home/lheagy/miniforge3/envs/py311/lib/python3.11/multiprocessing/connection.py\", line 216, in recv_bytes\n",
      "    buf = self._recv_bytes(maxlength)\n",
      "          ^^^^^^^^^^^^^^^^^^^^^^^^^^^\n",
      "  File \"/home/lheagy/miniforge3/envs/py311/lib/python3.11/multiprocessing/queues.py\", line 103, in get\n",
      "    res = self._recv_bytes()\n",
      "          ^^^^^^^^^^^^^^^^^^\n",
      "  File \"/home/lheagy/miniforge3/envs/py311/lib/python3.11/multiprocessing/connection.py\", line 216, in recv_bytes\n",
      "    buf = self._recv_bytes(maxlength)\n",
      "          ^^^^^^^^^^^^^^^^^^^^^^^^^^^\n",
      "  File \"/home/lheagy/miniforge3/envs/py311/lib/python3.11/multiprocessing/connection.py\", line 216, in recv_bytes\n",
      "    buf = self._recv_bytes(maxlength)\n",
      "          ^^^^^^^^^^^^^^^^^^^^^^^^^^^\n",
      "  File \"/home/lheagy/miniforge3/envs/py311/lib/python3.11/multiprocessing/connection.py\", line 216, in recv_bytes\n",
      "    buf = self._recv_bytes(maxlength)\n",
      "          ^^^^^^^^^^^^^^^^^^^^^^^^^^^\n",
      "  File \"/home/lheagy/miniforge3/envs/py311/lib/python3.11/multiprocessing/connection.py\", line 430, in _recv_bytes\n",
      "    buf = self._recv(4)\n",
      "          ^^^^^^^^^^^^^\n",
      "  File \"/home/lheagy/miniforge3/envs/py311/lib/python3.11/multiprocessing/queues.py\", line 103, in get\n",
      "    res = self._recv_bytes()\n",
      "          ^^^^^^^^^^^^^^^^^^\n",
      "  File \"/home/lheagy/miniforge3/envs/py311/lib/python3.11/multiprocessing/queues.py\", line 103, in get\n",
      "    res = self._recv_bytes()\n",
      "          ^^^^^^^^^^^^^^^^^^\n",
      "Process _SimulationProcess-11:\n",
      "  File \"/home/lheagy/miniforge3/envs/py311/lib/python3.11/multiprocessing/connection.py\", line 216, in recv_bytes\n",
      "    buf = self._recv_bytes(maxlength)\n",
      "          ^^^^^^^^^^^^^^^^^^^^^^^^^^^\n",
      "  File \"/home/lheagy/miniforge3/envs/py311/lib/python3.11/multiprocessing/connection.py\", line 430, in _recv_bytes\n",
      "    buf = self._recv(4)\n",
      "          ^^^^^^^^^^^^^\n",
      "  File \"/home/lheagy/miniforge3/envs/py311/lib/python3.11/multiprocessing/connection.py\", line 216, in recv_bytes\n",
      "    buf = self._recv_bytes(maxlength)\n",
      "          ^^^^^^^^^^^^^^^^^^^^^^^^^^^\n",
      "  File \"/home/lheagy/miniforge3/envs/py311/lib/python3.11/multiprocessing/connection.py\", line 216, in recv_bytes\n",
      "    buf = self._recv_bytes(maxlength)\n",
      "          ^^^^^^^^^^^^^^^^^^^^^^^^^^^\n",
      "  File \"/home/lheagy/miniforge3/envs/py311/lib/python3.11/multiprocessing/connection.py\", line 430, in _recv_bytes\n",
      "    buf = self._recv(4)\n",
      "          ^^^^^^^^^^^^^\n",
      "  File \"/home/lheagy/miniforge3/envs/py311/lib/python3.11/multiprocessing/connection.py\", line 430, in _recv_bytes\n",
      "    buf = self._recv(4)\n",
      "          ^^^^^^^^^^^^^\n",
      "  File \"/home/lheagy/miniforge3/envs/py311/lib/python3.11/multiprocessing/connection.py\", line 216, in recv_bytes\n",
      "    buf = self._recv_bytes(maxlength)\n",
      "          ^^^^^^^^^^^^^^^^^^^^^^^^^^^\n",
      "  File \"/home/lheagy/miniforge3/envs/py311/lib/python3.11/multiprocessing/connection.py\", line 430, in _recv_bytes\n",
      "    buf = self._recv(4)\n",
      "          ^^^^^^^^^^^^^\n",
      "  File \"/home/lheagy/miniforge3/envs/py311/lib/python3.11/multiprocessing/connection.py\", line 216, in recv_bytes\n",
      "    buf = self._recv_bytes(maxlength)\n",
      "          ^^^^^^^^^^^^^^^^^^^^^^^^^^^\n",
      "  File \"/home/lheagy/miniforge3/envs/py311/lib/python3.11/multiprocessing/connection.py\", line 430, in _recv_bytes\n",
      "    buf = self._recv(4)\n",
      "          ^^^^^^^^^^^^^\n",
      "  File \"/home/lheagy/miniforge3/envs/py311/lib/python3.11/multiprocessing/connection.py\", line 216, in recv_bytes\n",
      "    buf = self._recv_bytes(maxlength)\n",
      "          ^^^^^^^^^^^^^^^^^^^^^^^^^^^\n",
      "  File \"/home/lheagy/miniforge3/envs/py311/lib/python3.11/multiprocessing/connection.py\", line 430, in _recv_bytes\n",
      "    buf = self._recv(4)\n",
      "          ^^^^^^^^^^^^^\n",
      "  File \"/home/lheagy/miniforge3/envs/py311/lib/python3.11/multiprocessing/connection.py\", line 430, in _recv_bytes\n",
      "    buf = self._recv(4)\n",
      "          ^^^^^^^^^^^^^\n",
      "  File \"/home/lheagy/miniforge3/envs/py311/lib/python3.11/multiprocessing/connection.py\", line 216, in recv_bytes\n",
      "    buf = self._recv_bytes(maxlength)\n",
      "          ^^^^^^^^^^^^^^^^^^^^^^^^^^^\n",
      "  File \"/home/lheagy/miniforge3/envs/py311/lib/python3.11/multiprocessing/connection.py\", line 430, in _recv_bytes\n",
      "    buf = self._recv(4)\n",
      "          ^^^^^^^^^^^^^\n",
      "  File \"/home/lheagy/miniforge3/envs/py311/lib/python3.11/multiprocessing/connection.py\", line 430, in _recv_bytes\n",
      "    buf = self._recv(4)\n",
      "          ^^^^^^^^^^^^^\n",
      "  File \"/home/lheagy/miniforge3/envs/py311/lib/python3.11/multiprocessing/connection.py\", line 216, in recv_bytes\n",
      "    buf = self._recv_bytes(maxlength)\n",
      "          ^^^^^^^^^^^^^^^^^^^^^^^^^^^\n",
      "  File \"/home/lheagy/miniforge3/envs/py311/lib/python3.11/multiprocessing/connection.py\", line 430, in _recv_bytes\n",
      "    buf = self._recv(4)\n",
      "          ^^^^^^^^^^^^^\n",
      "  File \"/home/lheagy/miniforge3/envs/py311/lib/python3.11/multiprocessing/connection.py\", line 395, in _recv\n",
      "    chunk = read(handle, remaining)\n",
      "            ^^^^^^^^^^^^^^^^^^^^^^^\n",
      "  File \"/home/lheagy/miniforge3/envs/py311/lib/python3.11/multiprocessing/connection.py\", line 216, in recv_bytes\n",
      "    buf = self._recv_bytes(maxlength)\n",
      "          ^^^^^^^^^^^^^^^^^^^^^^^^^^^\n",
      "  File \"/home/lheagy/miniforge3/envs/py311/lib/python3.11/multiprocessing/connection.py\", line 216, in recv_bytes\n",
      "    buf = self._recv_bytes(maxlength)\n",
      "          ^^^^^^^^^^^^^^^^^^^^^^^^^^^\n",
      "  File \"/home/lheagy/miniforge3/envs/py311/lib/python3.11/multiprocessing/connection.py\", line 395, in _recv\n",
      "    chunk = read(handle, remaining)\n",
      "            ^^^^^^^^^^^^^^^^^^^^^^^\n",
      "  File \"/home/lheagy/miniforge3/envs/py311/lib/python3.11/multiprocessing/connection.py\", line 430, in _recv_bytes\n",
      "    buf = self._recv(4)\n",
      "          ^^^^^^^^^^^^^\n",
      "  File \"/home/lheagy/miniforge3/envs/py311/lib/python3.11/multiprocessing/connection.py\", line 430, in _recv_bytes\n",
      "    buf = self._recv(4)\n",
      "          ^^^^^^^^^^^^^\n",
      "  File \"/home/lheagy/miniforge3/envs/py311/lib/python3.11/multiprocessing/connection.py\", line 430, in _recv_bytes\n",
      "    buf = self._recv(4)\n",
      "          ^^^^^^^^^^^^^\n",
      "  File \"/home/lheagy/miniforge3/envs/py311/lib/python3.11/multiprocessing/connection.py\", line 395, in _recv\n",
      "    chunk = read(handle, remaining)\n",
      "            ^^^^^^^^^^^^^^^^^^^^^^^\n",
      "  File \"/home/lheagy/miniforge3/envs/py311/lib/python3.11/multiprocessing/connection.py\", line 395, in _recv\n",
      "    chunk = read(handle, remaining)\n",
      "            ^^^^^^^^^^^^^^^^^^^^^^^\n",
      "  File \"/home/lheagy/miniforge3/envs/py311/lib/python3.11/multiprocessing/connection.py\", line 395, in _recv\n",
      "    chunk = read(handle, remaining)\n",
      "            ^^^^^^^^^^^^^^^^^^^^^^^\n",
      "  File \"/home/lheagy/miniforge3/envs/py311/lib/python3.11/multiprocessing/connection.py\", line 430, in _recv_bytes\n",
      "    buf = self._recv(4)\n",
      "          ^^^^^^^^^^^^^\n",
      "  File \"/home/lheagy/miniforge3/envs/py311/lib/python3.11/multiprocessing/connection.py\", line 395, in _recv\n",
      "    chunk = read(handle, remaining)\n",
      "            ^^^^^^^^^^^^^^^^^^^^^^^\n",
      "  File \"/home/lheagy/miniforge3/envs/py311/lib/python3.11/multiprocessing/connection.py\", line 430, in _recv_bytes\n",
      "    buf = self._recv(4)\n",
      "          ^^^^^^^^^^^^^\n",
      "  File \"/home/lheagy/miniforge3/envs/py311/lib/python3.11/multiprocessing/connection.py\", line 395, in _recv\n",
      "    chunk = read(handle, remaining)\n",
      "            ^^^^^^^^^^^^^^^^^^^^^^^\n",
      "  File \"/home/lheagy/miniforge3/envs/py311/lib/python3.11/multiprocessing/connection.py\", line 430, in _recv_bytes\n",
      "    buf = self._recv(4)\n",
      "          ^^^^^^^^^^^^^\n",
      "  File \"/home/lheagy/miniforge3/envs/py311/lib/python3.11/multiprocessing/connection.py\", line 395, in _recv\n",
      "    chunk = read(handle, remaining)\n",
      "            ^^^^^^^^^^^^^^^^^^^^^^^\n",
      "  File \"/home/lheagy/miniforge3/envs/py311/lib/python3.11/multiprocessing/connection.py\", line 395, in _recv\n",
      "    chunk = read(handle, remaining)\n",
      "            ^^^^^^^^^^^^^^^^^^^^^^^\n",
      "  File \"/home/lheagy/miniforge3/envs/py311/lib/python3.11/multiprocessing/connection.py\", line 395, in _recv\n",
      "    chunk = read(handle, remaining)\n",
      "            ^^^^^^^^^^^^^^^^^^^^^^^\n",
      "  File \"/home/lheagy/miniforge3/envs/py311/lib/python3.11/multiprocessing/connection.py\", line 430, in _recv_bytes\n",
      "    buf = self._recv(4)\n",
      "          ^^^^^^^^^^^^^\n",
      "  File \"/home/lheagy/miniforge3/envs/py311/lib/python3.11/multiprocessing/connection.py\", line 430, in _recv_bytes\n",
      "    buf = self._recv(4)\n",
      "          ^^^^^^^^^^^^^\n",
      "KeyboardInterrupt\n",
      "  File \"/home/lheagy/miniforge3/envs/py311/lib/python3.11/multiprocessing/connection.py\", line 395, in _recv\n",
      "    chunk = read(handle, remaining)\n",
      "            ^^^^^^^^^^^^^^^^^^^^^^^\n",
      "  File \"/home/lheagy/miniforge3/envs/py311/lib/python3.11/multiprocessing/connection.py\", line 430, in _recv_bytes\n",
      "    buf = self._recv(4)\n",
      "          ^^^^^^^^^^^^^\n",
      "KeyboardInterrupt\n",
      "  File \"/home/lheagy/miniforge3/envs/py311/lib/python3.11/multiprocessing/connection.py\", line 395, in _recv\n",
      "    chunk = read(handle, remaining)\n",
      "            ^^^^^^^^^^^^^^^^^^^^^^^\n",
      "  File \"/home/lheagy/miniforge3/envs/py311/lib/python3.11/multiprocessing/connection.py\", line 430, in _recv_bytes\n",
      "    buf = self._recv(4)\n",
      "          ^^^^^^^^^^^^^\n",
      "  File \"/home/lheagy/miniforge3/envs/py311/lib/python3.11/multiprocessing/connection.py\", line 395, in _recv\n",
      "    chunk = read(handle, remaining)\n",
      "            ^^^^^^^^^^^^^^^^^^^^^^^\n",
      "Traceback (most recent call last):\n",
      "KeyboardInterrupt\n",
      "  File \"/home/lheagy/miniforge3/envs/py311/lib/python3.11/multiprocessing/connection.py\", line 395, in _recv\n",
      "    chunk = read(handle, remaining)\n",
      "            ^^^^^^^^^^^^^^^^^^^^^^^\n",
      "KeyboardInterrupt\n",
      "KeyboardInterrupt\n",
      "KeyboardInterrupt\n",
      "  File \"/home/lheagy/miniforge3/envs/py311/lib/python3.11/multiprocessing/connection.py\", line 395, in _recv\n",
      "    chunk = read(handle, remaining)\n",
      "            ^^^^^^^^^^^^^^^^^^^^^^^\n",
      "  File \"/home/lheagy/miniforge3/envs/py311/lib/python3.11/multiprocessing/connection.py\", line 395, in _recv\n",
      "    chunk = read(handle, remaining)\n",
      "            ^^^^^^^^^^^^^^^^^^^^^^^\n",
      "KeyboardInterrupt\n",
      "  File \"/home/lheagy/miniforge3/envs/py311/lib/python3.11/multiprocessing/connection.py\", line 395, in _recv\n",
      "    chunk = read(handle, remaining)\n",
      "            ^^^^^^^^^^^^^^^^^^^^^^^\n",
      "KeyboardInterrupt\n",
      "KeyboardInterrupt\n",
      "KeyboardInterrupt\n",
      "  File \"/home/lheagy/miniforge3/envs/py311/lib/python3.11/multiprocessing/connection.py\", line 395, in _recv\n",
      "    chunk = read(handle, remaining)\n",
      "            ^^^^^^^^^^^^^^^^^^^^^^^\n",
      "  File \"/home/lheagy/miniforge3/envs/py311/lib/python3.11/multiprocessing/connection.py\", line 395, in _recv\n",
      "    chunk = read(handle, remaining)\n",
      "            ^^^^^^^^^^^^^^^^^^^^^^^\n",
      "KeyboardInterrupt\n",
      "  File \"/home/lheagy/miniforge3/envs/py311/lib/python3.11/multiprocessing/connection.py\", line 395, in _recv\n",
      "    chunk = read(handle, remaining)\n",
      "            ^^^^^^^^^^^^^^^^^^^^^^^\n",
      "KeyboardInterrupt\n",
      "KeyboardInterrupt\n",
      "  File \"/home/lheagy/miniforge3/envs/py311/lib/python3.11/multiprocessing/connection.py\", line 395, in _recv\n",
      "    chunk = read(handle, remaining)\n",
      "            ^^^^^^^^^^^^^^^^^^^^^^^\n",
      "KeyboardInterrupt\n",
      "  File \"/home/lheagy/miniforge3/envs/py311/lib/python3.11/multiprocessing/process.py\", line 314, in _bootstrap\n",
      "    self.run()\n",
      "KeyboardInterrupt\n",
      "KeyboardInterrupt\n",
      "KeyboardInterrupt\n",
      "KeyboardInterrupt\n",
      "KeyboardInterrupt\n",
      "  File \"/home/lheagy/miniforge3/envs/py311/lib/python3.11/site-packages/simpeg/meta/multiprocessing.py\", line 56, in run\n",
      "    task = t_queue.get()\n",
      "           ^^^^^^^^^^^^^\n",
      "KeyboardInterrupt\n",
      "KeyboardInterrupt\n",
      "  File \"/home/lheagy/miniforge3/envs/py311/lib/python3.11/multiprocessing/queues.py\", line 103, in get\n",
      "    res = self._recv_bytes()\n",
      "          ^^^^^^^^^^^^^^^^^^\n",
      "  File \"/home/lheagy/miniforge3/envs/py311/lib/python3.11/multiprocessing/connection.py\", line 216, in recv_bytes\n",
      "    buf = self._recv_bytes(maxlength)\n",
      "          ^^^^^^^^^^^^^^^^^^^^^^^^^^^\n",
      "  File \"/home/lheagy/miniforge3/envs/py311/lib/python3.11/multiprocessing/connection.py\", line 430, in _recv_bytes\n",
      "    buf = self._recv(4)\n",
      "          ^^^^^^^^^^^^^\n",
      "  File \"/home/lheagy/miniforge3/envs/py311/lib/python3.11/multiprocessing/connection.py\", line 395, in _recv\n",
      "    chunk = read(handle, remaining)\n",
      "            ^^^^^^^^^^^^^^^^^^^^^^^\n",
      "KeyboardInterrupt\n"
     ]
    }
   ],
   "source": [
    "sim = MultiprocessingMetaSimulation(sims, mappings)\n",
    "\n",
    "# client = Client()\n",
    "# sim = DaskMetaSimulation(sims, mappings, client=client)"
   ]
  },
  {
   "cell_type": "code",
   "execution_count": 33,
   "id": "cecb2272-73c6-4228-a241-1b22fd5ce1c7",
   "metadata": {},
   "outputs": [
    {
     "data": {
      "text/plain": [
       "array([1.e-08, 2.e-03, 5.e-02])"
      ]
     },
     "execution_count": 33,
     "metadata": {},
     "output_type": "execute_result"
    }
   ],
   "source": [
    "np.unique(model)"
   ]
  },
  {
   "cell_type": "code",
   "execution_count": 34,
   "id": "5f6fa513-dbc3-4784-a1fd-012a72cf780a",
   "metadata": {},
   "outputs": [],
   "source": [
    "# %%time\n",
    "# if __name__ == \"__main__\": \n",
    "#     dpred_multi = sim.dpred(np.log(model)[active_cells_map.active_cells])"
   ]
  },
  {
   "cell_type": "code",
   "execution_count": 35,
   "id": "c740b534-eaa6-4b8e-822e-d7b8b819d75f",
   "metadata": {},
   "outputs": [],
   "source": [
    "# relative_error=0.1\n",
    "# noise_floor=1e-11\n",
    "# alpha_s = 1e-1\n",
    "# alpha_x = 1\n",
    "rho_back = 500\n",
    "# beta0 = 10\n",
    "\n",
    "\n",
    "dmis = data_misfit.L2DataMisfit(simulation=global_sim, data=data_invert)\n",
    "reg = regularization.WeightedLeastSquares(\n",
    "    mesh, \n",
    "    active_cells=active_cells_map.active_cells,\n",
    ")\n",
    "\n",
    "opt = optimization.InexactGaussNewton(maxIter=20, maxIterCG=30, tolCG=1e-3)\n",
    "inv_prob = inverse_problem.BaseInvProblem(dmis, reg, opt)\n",
    "\n",
    "# Defining a starting value for the trade-off parameter (beta) between the data\n",
    "# misfit and the regularization.\n",
    "starting_beta = directives.BetaEstimate_ByEig(beta0_ratio=2)\n",
    "\n",
    "cool_beta = directives.BetaSchedule(coolingFactor=1.5, coolingRate=1)\n",
    "\n",
    "# Options for outputting recovered models and predicted data for each beta.\n",
    "save_iteration = directives.SaveOutputDictEveryIteration(\n",
    "    saveOnDisk=False,\n",
    ")\n",
    "\n",
    "target_misfit = directives.TargetMisfit()\n",
    "\n",
    "# The directives are defined as a list.\n",
    "directives_list = [\n",
    "    starting_beta,\n",
    "    cool_beta,\n",
    "    save_iteration,\n",
    "    target_misfit,\n",
    "]\n",
    "\n",
    "# Here we combine the inverse problem and the set of directives\n",
    "inv = inversion.BaseInversion(inv_prob, directives_list)"
   ]
  },
  {
   "cell_type": "code",
   "execution_count": 36,
   "id": "70cc4471-c82f-411d-b786-9eccd680c6b2",
   "metadata": {},
   "outputs": [],
   "source": [
    "m0 = np.log(1/rho_back) * np.ones(np.sum(active_cells_map.active_cells))"
   ]
  },
  {
   "cell_type": "code",
   "execution_count": 37,
   "id": "2c66adb6-675c-495e-9989-3a68e6fbb76f",
   "metadata": {},
   "outputs": [
    {
     "name": "stdout",
     "output_type": "stream",
     "text": [
      "\n",
      "Running inversion with SimPEG v0.24.0\n",
      "simpeg.InvProblem will set Regularization.reference_model to m0.\n",
      "simpeg.InvProblem will set Regularization.reference_model to m0.\n",
      "simpeg.InvProblem will set Regularization.reference_model to m0.\n",
      "simpeg.InvProblem will set Regularization.reference_model to m0.\n",
      "simpeg.InvProblem will set Regularization.reference_model to m0.\n",
      "simpeg.InvProblem will set Regularization.reference_model to m0.\n",
      "simpeg.InvProblem will set Regularization.reference_model to m0.\n",
      "\n",
      "                        simpeg.InvProblem is setting bfgsH0 to the inverse of the eval2Deriv.\n",
      "                        ***Done using same Solver, and solver_opts as the Simulation3DElectricField problem***\n",
      "                        \n"
     ]
    },
    {
     "name": "stderr",
     "output_type": "stream",
     "text": [
      "/home/lheagy/miniforge3/envs/py311/lib/python3.11/site-packages/pymatsolver/solvers.py:415: FutureWarning: In Future pymatsolver v0.4.0, passing a vector of shape (n, 1) to the solve method will return an array with shape (n, 1), instead of always returning a flattened array. This is to be consistent with numpy.linalg.solve broadcasting.\n",
      "  return self.solve(val)\n"
     ]
    },
    {
     "name": "stdout",
     "output_type": "stream",
     "text": [
      "model has any nan: 0\n",
      "============================ Inexact Gauss Newton ============================\n",
      "  #     beta     phi_d     phi_m       f      |proj(x-g)-x|  LS    Comment   \n",
      "-----------------------------------------------------------------------------\n",
      "x0 has any nan: 0\n",
      "   0  1.74e-09  5.28e+03  0.00e+00  5.28e+03    1.68e+02      0              \n",
      "   1  1.16e-09  4.92e+03  5.34e+06  4.92e+03    1.70e+02      6              \n"
     ]
    },
    {
     "ename": "KeyboardInterrupt",
     "evalue": "",
     "output_type": "error",
     "traceback": [
      "\u001b[0;31m---------------------------------------------------------------------------\u001b[0m",
      "\u001b[0;31mKeyboardInterrupt\u001b[0m                         Traceback (most recent call last)",
      "File \u001b[0;32m<timed exec>:2\u001b[0m\n",
      "File \u001b[0;32m~/miniforge3/envs/py311/lib/python3.11/site-packages/simpeg/utils/counter_utils.py:136\u001b[0m, in \u001b[0;36mtimeIt.<locals>.wrapper\u001b[0;34m(self, *args, **kwargs)\u001b[0m\n\u001b[1;32m    134\u001b[0m \u001b[38;5;28;01mif\u001b[39;00m \u001b[38;5;28misinstance\u001b[39m(counter, Counter):\n\u001b[1;32m    135\u001b[0m     counter\u001b[38;5;241m.\u001b[39mcountTic(\u001b[38;5;28mself\u001b[39m\u001b[38;5;241m.\u001b[39m\u001b[38;5;18m__class__\u001b[39m\u001b[38;5;241m.\u001b[39m\u001b[38;5;18m__name__\u001b[39m \u001b[38;5;241m+\u001b[39m \u001b[38;5;124m\"\u001b[39m\u001b[38;5;124m.\u001b[39m\u001b[38;5;124m\"\u001b[39m \u001b[38;5;241m+\u001b[39m f\u001b[38;5;241m.\u001b[39m\u001b[38;5;18m__name__\u001b[39m)\n\u001b[0;32m--> 136\u001b[0m out \u001b[38;5;241m=\u001b[39m \u001b[43mf\u001b[49m\u001b[43m(\u001b[49m\u001b[38;5;28;43mself\u001b[39;49m\u001b[43m,\u001b[49m\u001b[43m \u001b[49m\u001b[38;5;241;43m*\u001b[39;49m\u001b[43margs\u001b[49m\u001b[43m,\u001b[49m\u001b[43m \u001b[49m\u001b[38;5;241;43m*\u001b[39;49m\u001b[38;5;241;43m*\u001b[39;49m\u001b[43mkwargs\u001b[49m\u001b[43m)\u001b[49m\n\u001b[1;32m    137\u001b[0m \u001b[38;5;28;01mif\u001b[39;00m \u001b[38;5;28misinstance\u001b[39m(counter, Counter):\n\u001b[1;32m    138\u001b[0m     counter\u001b[38;5;241m.\u001b[39mcountToc(\u001b[38;5;28mself\u001b[39m\u001b[38;5;241m.\u001b[39m\u001b[38;5;18m__class__\u001b[39m\u001b[38;5;241m.\u001b[39m\u001b[38;5;18m__name__\u001b[39m \u001b[38;5;241m+\u001b[39m \u001b[38;5;124m\"\u001b[39m\u001b[38;5;124m.\u001b[39m\u001b[38;5;124m\"\u001b[39m \u001b[38;5;241m+\u001b[39m f\u001b[38;5;241m.\u001b[39m\u001b[38;5;18m__name__\u001b[39m)\n",
      "File \u001b[0;32m~/miniforge3/envs/py311/lib/python3.11/site-packages/simpeg/inversion.py:113\u001b[0m, in \u001b[0;36mBaseInversion.run\u001b[0;34m(self, m0)\u001b[0m\n\u001b[1;32m    111\u001b[0m \u001b[38;5;28mself\u001b[39m\u001b[38;5;241m.\u001b[39mdirectiveList\u001b[38;5;241m.\u001b[39mcall(\u001b[38;5;124m\"\u001b[39m\u001b[38;5;124minitialize\u001b[39m\u001b[38;5;124m\"\u001b[39m)\n\u001b[1;32m    112\u001b[0m \u001b[38;5;28mprint\u001b[39m(\u001b[38;5;124m\"\u001b[39m\u001b[38;5;124mmodel has any nan: \u001b[39m\u001b[38;5;132;01m{:b}\u001b[39;00m\u001b[38;5;124m\"\u001b[39m\u001b[38;5;241m.\u001b[39mformat(np\u001b[38;5;241m.\u001b[39many(np\u001b[38;5;241m.\u001b[39misnan(\u001b[38;5;28mself\u001b[39m\u001b[38;5;241m.\u001b[39minvProb\u001b[38;5;241m.\u001b[39mmodel))))\n\u001b[0;32m--> 113\u001b[0m \u001b[38;5;28mself\u001b[39m\u001b[38;5;241m.\u001b[39mm \u001b[38;5;241m=\u001b[39m \u001b[38;5;28;43mself\u001b[39;49m\u001b[38;5;241;43m.\u001b[39;49m\u001b[43mopt\u001b[49m\u001b[38;5;241;43m.\u001b[39;49m\u001b[43mminimize\u001b[49m\u001b[43m(\u001b[49m\u001b[38;5;28;43mself\u001b[39;49m\u001b[38;5;241;43m.\u001b[39;49m\u001b[43minvProb\u001b[49m\u001b[38;5;241;43m.\u001b[39;49m\u001b[43mevalFunction\u001b[49m\u001b[43m,\u001b[49m\u001b[43m \u001b[49m\u001b[38;5;28;43mself\u001b[39;49m\u001b[38;5;241;43m.\u001b[39;49m\u001b[43minvProb\u001b[49m\u001b[38;5;241;43m.\u001b[39;49m\u001b[43mmodel\u001b[49m\u001b[43m)\u001b[49m\n\u001b[1;32m    114\u001b[0m \u001b[38;5;28mself\u001b[39m\u001b[38;5;241m.\u001b[39mdirectiveList\u001b[38;5;241m.\u001b[39mcall(\u001b[38;5;124m\"\u001b[39m\u001b[38;5;124mfinish\u001b[39m\u001b[38;5;124m\"\u001b[39m)\n\u001b[1;32m    116\u001b[0m \u001b[38;5;28;01mreturn\u001b[39;00m \u001b[38;5;28mself\u001b[39m\u001b[38;5;241m.\u001b[39mm\n",
      "File \u001b[0;32m~/miniforge3/envs/py311/lib/python3.11/site-packages/simpeg/utils/counter_utils.py:136\u001b[0m, in \u001b[0;36mtimeIt.<locals>.wrapper\u001b[0;34m(self, *args, **kwargs)\u001b[0m\n\u001b[1;32m    134\u001b[0m \u001b[38;5;28;01mif\u001b[39;00m \u001b[38;5;28misinstance\u001b[39m(counter, Counter):\n\u001b[1;32m    135\u001b[0m     counter\u001b[38;5;241m.\u001b[39mcountTic(\u001b[38;5;28mself\u001b[39m\u001b[38;5;241m.\u001b[39m\u001b[38;5;18m__class__\u001b[39m\u001b[38;5;241m.\u001b[39m\u001b[38;5;18m__name__\u001b[39m \u001b[38;5;241m+\u001b[39m \u001b[38;5;124m\"\u001b[39m\u001b[38;5;124m.\u001b[39m\u001b[38;5;124m\"\u001b[39m \u001b[38;5;241m+\u001b[39m f\u001b[38;5;241m.\u001b[39m\u001b[38;5;18m__name__\u001b[39m)\n\u001b[0;32m--> 136\u001b[0m out \u001b[38;5;241m=\u001b[39m \u001b[43mf\u001b[49m\u001b[43m(\u001b[49m\u001b[38;5;28;43mself\u001b[39;49m\u001b[43m,\u001b[49m\u001b[43m \u001b[49m\u001b[38;5;241;43m*\u001b[39;49m\u001b[43margs\u001b[49m\u001b[43m,\u001b[49m\u001b[43m \u001b[49m\u001b[38;5;241;43m*\u001b[39;49m\u001b[38;5;241;43m*\u001b[39;49m\u001b[43mkwargs\u001b[49m\u001b[43m)\u001b[49m\n\u001b[1;32m    137\u001b[0m \u001b[38;5;28;01mif\u001b[39;00m \u001b[38;5;28misinstance\u001b[39m(counter, Counter):\n\u001b[1;32m    138\u001b[0m     counter\u001b[38;5;241m.\u001b[39mcountToc(\u001b[38;5;28mself\u001b[39m\u001b[38;5;241m.\u001b[39m\u001b[38;5;18m__class__\u001b[39m\u001b[38;5;241m.\u001b[39m\u001b[38;5;18m__name__\u001b[39m \u001b[38;5;241m+\u001b[39m \u001b[38;5;124m\"\u001b[39m\u001b[38;5;124m.\u001b[39m\u001b[38;5;124m\"\u001b[39m \u001b[38;5;241m+\u001b[39m f\u001b[38;5;241m.\u001b[39m\u001b[38;5;18m__name__\u001b[39m)\n",
      "File \u001b[0;32m~/miniforge3/envs/py311/lib/python3.11/site-packages/simpeg/optimization.py:400\u001b[0m, in \u001b[0;36mMinimize.minimize\u001b[0;34m(self, evalFunction, x0)\u001b[0m\n\u001b[1;32m    398\u001b[0m \u001b[38;5;28;01mif\u001b[39;00m \u001b[38;5;28mself\u001b[39m\u001b[38;5;241m.\u001b[39mstoppingCriteria():\n\u001b[1;32m    399\u001b[0m     \u001b[38;5;28;01mbreak\u001b[39;00m\n\u001b[0;32m--> 400\u001b[0m \u001b[38;5;28mself\u001b[39m\u001b[38;5;241m.\u001b[39msearchDirection \u001b[38;5;241m=\u001b[39m \u001b[38;5;28;43mself\u001b[39;49m\u001b[38;5;241;43m.\u001b[39;49m\u001b[43mfindSearchDirection\u001b[49m\u001b[43m(\u001b[49m\u001b[43m)\u001b[49m\n\u001b[1;32m    401\u001b[0m \u001b[38;5;28;01mdel\u001b[39;00m (\n\u001b[1;32m    402\u001b[0m     \u001b[38;5;28mself\u001b[39m\u001b[38;5;241m.\u001b[39mH\n\u001b[1;32m    403\u001b[0m )  \u001b[38;5;66;03m#: Doing this saves memory, as it is not needed in the rest of the computations.\u001b[39;00m\n\u001b[1;32m    404\u001b[0m p \u001b[38;5;241m=\u001b[39m \u001b[38;5;28mself\u001b[39m\u001b[38;5;241m.\u001b[39mscaleSearchDirection(\u001b[38;5;28mself\u001b[39m\u001b[38;5;241m.\u001b[39msearchDirection)\n",
      "File \u001b[0;32m~/miniforge3/envs/py311/lib/python3.11/site-packages/simpeg/utils/counter_utils.py:136\u001b[0m, in \u001b[0;36mtimeIt.<locals>.wrapper\u001b[0;34m(self, *args, **kwargs)\u001b[0m\n\u001b[1;32m    134\u001b[0m \u001b[38;5;28;01mif\u001b[39;00m \u001b[38;5;28misinstance\u001b[39m(counter, Counter):\n\u001b[1;32m    135\u001b[0m     counter\u001b[38;5;241m.\u001b[39mcountTic(\u001b[38;5;28mself\u001b[39m\u001b[38;5;241m.\u001b[39m\u001b[38;5;18m__class__\u001b[39m\u001b[38;5;241m.\u001b[39m\u001b[38;5;18m__name__\u001b[39m \u001b[38;5;241m+\u001b[39m \u001b[38;5;124m\"\u001b[39m\u001b[38;5;124m.\u001b[39m\u001b[38;5;124m\"\u001b[39m \u001b[38;5;241m+\u001b[39m f\u001b[38;5;241m.\u001b[39m\u001b[38;5;18m__name__\u001b[39m)\n\u001b[0;32m--> 136\u001b[0m out \u001b[38;5;241m=\u001b[39m \u001b[43mf\u001b[49m\u001b[43m(\u001b[49m\u001b[38;5;28;43mself\u001b[39;49m\u001b[43m,\u001b[49m\u001b[43m \u001b[49m\u001b[38;5;241;43m*\u001b[39;49m\u001b[43margs\u001b[49m\u001b[43m,\u001b[49m\u001b[43m \u001b[49m\u001b[38;5;241;43m*\u001b[39;49m\u001b[38;5;241;43m*\u001b[39;49m\u001b[43mkwargs\u001b[49m\u001b[43m)\u001b[49m\n\u001b[1;32m    137\u001b[0m \u001b[38;5;28;01mif\u001b[39;00m \u001b[38;5;28misinstance\u001b[39m(counter, Counter):\n\u001b[1;32m    138\u001b[0m     counter\u001b[38;5;241m.\u001b[39mcountToc(\u001b[38;5;28mself\u001b[39m\u001b[38;5;241m.\u001b[39m\u001b[38;5;18m__class__\u001b[39m\u001b[38;5;241m.\u001b[39m\u001b[38;5;18m__name__\u001b[39m \u001b[38;5;241m+\u001b[39m \u001b[38;5;124m\"\u001b[39m\u001b[38;5;124m.\u001b[39m\u001b[38;5;124m\"\u001b[39m \u001b[38;5;241m+\u001b[39m f\u001b[38;5;241m.\u001b[39m\u001b[38;5;18m__name__\u001b[39m)\n",
      "File \u001b[0;32m~/miniforge3/envs/py311/lib/python3.11/site-packages/simpeg/optimization.py:1093\u001b[0m, in \u001b[0;36mInexactGaussNewton.findSearchDirection\u001b[0;34m(self)\u001b[0m\n\u001b[1;32m   1091\u001b[0m inp \u001b[38;5;241m=\u001b[39m {tol_key: \u001b[38;5;28mself\u001b[39m\u001b[38;5;241m.\u001b[39mtolCG, \u001b[38;5;124m\"\u001b[39m\u001b[38;5;124mmaxiter\u001b[39m\u001b[38;5;124m\"\u001b[39m: \u001b[38;5;28mself\u001b[39m\u001b[38;5;241m.\u001b[39mmaxIterCG}\n\u001b[1;32m   1092\u001b[0m Hinv \u001b[38;5;241m=\u001b[39m SolverCG(\u001b[38;5;28mself\u001b[39m\u001b[38;5;241m.\u001b[39mH, M\u001b[38;5;241m=\u001b[39m\u001b[38;5;28mself\u001b[39m\u001b[38;5;241m.\u001b[39mapproxHinv, \u001b[38;5;241m*\u001b[39m\u001b[38;5;241m*\u001b[39minp)\n\u001b[0;32m-> 1093\u001b[0m p \u001b[38;5;241m=\u001b[39m \u001b[43mHinv\u001b[49m\u001b[43m \u001b[49m\u001b[38;5;241;43m*\u001b[39;49m\u001b[43m \u001b[49m\u001b[43m(\u001b[49m\u001b[38;5;241;43m-\u001b[39;49m\u001b[38;5;28;43mself\u001b[39;49m\u001b[38;5;241;43m.\u001b[39;49m\u001b[43mg\u001b[49m\u001b[43m)\u001b[49m\n\u001b[1;32m   1094\u001b[0m \u001b[38;5;28;01mreturn\u001b[39;00m p\n",
      "File \u001b[0;32m~/miniforge3/envs/py311/lib/python3.11/site-packages/pymatsolver/solvers.py:409\u001b[0m, in \u001b[0;36mBase.__mul__\u001b[0;34m(self, val)\u001b[0m\n\u001b[1;32m    408\u001b[0m \u001b[38;5;28;01mdef\u001b[39;00m\u001b[38;5;250m \u001b[39m\u001b[38;5;21m__mul__\u001b[39m(\u001b[38;5;28mself\u001b[39m, val):\n\u001b[0;32m--> 409\u001b[0m     \u001b[38;5;28;01mreturn\u001b[39;00m \u001b[38;5;28;43mself\u001b[39;49m\u001b[38;5;241;43m.\u001b[39;49m\u001b[38;5;21;43m__matmul__\u001b[39;49m\u001b[43m(\u001b[49m\u001b[43mval\u001b[49m\u001b[43m)\u001b[49m\n",
      "File \u001b[0;32m~/miniforge3/envs/py311/lib/python3.11/site-packages/pymatsolver/solvers.py:415\u001b[0m, in \u001b[0;36mBase.__matmul__\u001b[0;34m(self, val)\u001b[0m\n\u001b[1;32m    414\u001b[0m \u001b[38;5;28;01mdef\u001b[39;00m\u001b[38;5;250m \u001b[39m\u001b[38;5;21m__matmul__\u001b[39m(\u001b[38;5;28mself\u001b[39m, val):\n\u001b[0;32m--> 415\u001b[0m     \u001b[38;5;28;01mreturn\u001b[39;00m \u001b[38;5;28;43mself\u001b[39;49m\u001b[38;5;241;43m.\u001b[39;49m\u001b[43msolve\u001b[49m\u001b[43m(\u001b[49m\u001b[43mval\u001b[49m\u001b[43m)\u001b[49m\n",
      "File \u001b[0;32m~/miniforge3/envs/py311/lib/python3.11/site-packages/pymatsolver/solvers.py:342\u001b[0m, in \u001b[0;36mBase.solve\u001b[0;34m(self, rhs)\u001b[0m\n\u001b[1;32m    340\u001b[0m     \u001b[38;5;28;01mif\u001b[39;00m \u001b[38;5;28mself\u001b[39m\u001b[38;5;241m.\u001b[39m_is_conjugate:\n\u001b[1;32m    341\u001b[0m         rhs \u001b[38;5;241m=\u001b[39m rhs\u001b[38;5;241m.\u001b[39mconjugate()\n\u001b[0;32m--> 342\u001b[0m     x \u001b[38;5;241m=\u001b[39m \u001b[38;5;28;43mself\u001b[39;49m\u001b[38;5;241;43m.\u001b[39;49m\u001b[43m_solve_single\u001b[49m\u001b[43m(\u001b[49m\u001b[43mrhs\u001b[49m\u001b[43m)\u001b[49m\n\u001b[1;32m    343\u001b[0m \u001b[38;5;28;01melse\u001b[39;00m:\n\u001b[1;32m    344\u001b[0m     \u001b[38;5;28;01mif\u001b[39;00m ndim \u001b[38;5;241m==\u001b[39m \u001b[38;5;241m2\u001b[39m \u001b[38;5;129;01mand\u001b[39;00m rhs\u001b[38;5;241m.\u001b[39mshape[\u001b[38;5;241m-\u001b[39m\u001b[38;5;241m1\u001b[39m] \u001b[38;5;241m==\u001b[39m \u001b[38;5;241m1\u001b[39m:\n",
      "File \u001b[0;32m~/miniforge3/envs/py311/lib/python3.11/site-packages/pymatsolver/wrappers.py:209\u001b[0m, in \u001b[0;36mwrap_iterative.<locals>._solve_single\u001b[0;34m(self, rhs)\u001b[0m\n\u001b[1;32m    207\u001b[0m \u001b[38;5;28;01mdef\u001b[39;00m\u001b[38;5;250m \u001b[39m\u001b[38;5;21m_solve_single\u001b[39m(\u001b[38;5;28mself\u001b[39m, rhs):\n\u001b[0;32m--> 209\u001b[0m     out \u001b[38;5;241m=\u001b[39m \u001b[43mfun\u001b[49m\u001b[43m(\u001b[49m\u001b[38;5;28;43mself\u001b[39;49m\u001b[38;5;241;43m.\u001b[39;49m\u001b[43mA\u001b[49m\u001b[43m,\u001b[49m\u001b[43m \u001b[49m\u001b[43mrhs\u001b[49m\u001b[43m,\u001b[49m\u001b[43m \u001b[49m\u001b[38;5;241;43m*\u001b[39;49m\u001b[38;5;241;43m*\u001b[39;49m\u001b[38;5;28;43mself\u001b[39;49m\u001b[38;5;241;43m.\u001b[39;49m\u001b[43mkwargs\u001b[49m\u001b[43m)\u001b[49m\n\u001b[1;32m    210\u001b[0m     \u001b[38;5;28;01mif\u001b[39;00m \u001b[38;5;28mtype\u001b[39m(out) \u001b[38;5;129;01mis\u001b[39;00m \u001b[38;5;28mtuple\u001b[39m \u001b[38;5;129;01mand\u001b[39;00m \u001b[38;5;28mlen\u001b[39m(out) \u001b[38;5;241m==\u001b[39m \u001b[38;5;241m2\u001b[39m:\n\u001b[1;32m    211\u001b[0m         \u001b[38;5;66;03m# We are dealing with scipy output with an info!\u001b[39;00m\n\u001b[1;32m    212\u001b[0m         X \u001b[38;5;241m=\u001b[39m out[\u001b[38;5;241m0\u001b[39m]\n",
      "File \u001b[0;32m~/miniforge3/envs/py311/lib/python3.11/site-packages/scipy/sparse/linalg/_isolve/iterative.py:411\u001b[0m, in \u001b[0;36mcg\u001b[0;34m(A, b, x0, rtol, atol, maxiter, M, callback)\u001b[0m\n\u001b[1;32m    408\u001b[0m     p \u001b[38;5;241m=\u001b[39m np\u001b[38;5;241m.\u001b[39mempty_like(r)\n\u001b[1;32m    409\u001b[0m     p[:] \u001b[38;5;241m=\u001b[39m z[:]\n\u001b[0;32m--> 411\u001b[0m q \u001b[38;5;241m=\u001b[39m \u001b[43mmatvec\u001b[49m\u001b[43m(\u001b[49m\u001b[43mp\u001b[49m\u001b[43m)\u001b[49m\n\u001b[1;32m    412\u001b[0m alpha \u001b[38;5;241m=\u001b[39m rho_cur \u001b[38;5;241m/\u001b[39m dotprod(p, q)\n\u001b[1;32m    413\u001b[0m x \u001b[38;5;241m+\u001b[39m\u001b[38;5;241m=\u001b[39m alpha\u001b[38;5;241m*\u001b[39mp\n",
      "File \u001b[0;32m~/miniforge3/envs/py311/lib/python3.11/site-packages/scipy/sparse/linalg/_interface.py:258\u001b[0m, in \u001b[0;36mLinearOperator.matvec\u001b[0;34m(self, x)\u001b[0m\n\u001b[1;32m    255\u001b[0m \u001b[38;5;28;01mif\u001b[39;00m x\u001b[38;5;241m.\u001b[39mshape \u001b[38;5;241m!=\u001b[39m (N,) \u001b[38;5;129;01mand\u001b[39;00m x\u001b[38;5;241m.\u001b[39mshape \u001b[38;5;241m!=\u001b[39m (N,\u001b[38;5;241m1\u001b[39m):\n\u001b[1;32m    256\u001b[0m     \u001b[38;5;28;01mraise\u001b[39;00m \u001b[38;5;167;01mValueError\u001b[39;00m(\u001b[38;5;124m'\u001b[39m\u001b[38;5;124mdimension mismatch\u001b[39m\u001b[38;5;124m'\u001b[39m)\n\u001b[0;32m--> 258\u001b[0m y \u001b[38;5;241m=\u001b[39m \u001b[38;5;28;43mself\u001b[39;49m\u001b[38;5;241;43m.\u001b[39;49m\u001b[43m_matvec\u001b[49m\u001b[43m(\u001b[49m\u001b[43mx\u001b[49m\u001b[43m)\u001b[49m\n\u001b[1;32m    260\u001b[0m \u001b[38;5;28;01mif\u001b[39;00m \u001b[38;5;28misinstance\u001b[39m(x, np\u001b[38;5;241m.\u001b[39mmatrix):\n\u001b[1;32m    261\u001b[0m     y \u001b[38;5;241m=\u001b[39m asmatrix(y)\n",
      "File \u001b[0;32m~/miniforge3/envs/py311/lib/python3.11/site-packages/scipy/sparse/linalg/_interface.py:613\u001b[0m, in \u001b[0;36m_CustomLinearOperator._matvec\u001b[0;34m(self, x)\u001b[0m\n\u001b[1;32m    612\u001b[0m \u001b[38;5;28;01mdef\u001b[39;00m\u001b[38;5;250m \u001b[39m\u001b[38;5;21m_matvec\u001b[39m(\u001b[38;5;28mself\u001b[39m, x):\n\u001b[0;32m--> 613\u001b[0m     \u001b[38;5;28;01mreturn\u001b[39;00m \u001b[38;5;28;43mself\u001b[39;49m\u001b[38;5;241;43m.\u001b[39;49m\u001b[43m__matvec_impl\u001b[49m\u001b[43m(\u001b[49m\u001b[43mx\u001b[49m\u001b[43m)\u001b[49m\n",
      "File \u001b[0;32m~/miniforge3/envs/py311/lib/python3.11/site-packages/simpeg/inverse_problem.py:353\u001b[0m, in \u001b[0;36mBaseInvProblem.evalFunction.<locals>.H_fun\u001b[0;34m(v)\u001b[0m\n\u001b[1;32m    352\u001b[0m \u001b[38;5;28;01mdef\u001b[39;00m\u001b[38;5;250m \u001b[39m\u001b[38;5;21mH_fun\u001b[39m(v):\n\u001b[0;32m--> 353\u001b[0m     phi_d2Deriv \u001b[38;5;241m=\u001b[39m \u001b[38;5;28;43mself\u001b[39;49m\u001b[38;5;241;43m.\u001b[39;49m\u001b[43mdmisfit\u001b[49m\u001b[38;5;241;43m.\u001b[39;49m\u001b[43mderiv2\u001b[49m\u001b[43m(\u001b[49m\u001b[43mm\u001b[49m\u001b[43m,\u001b[49m\u001b[43m \u001b[49m\u001b[43mv\u001b[49m\u001b[43m,\u001b[49m\u001b[43m \u001b[49m\u001b[43mf\u001b[49m\u001b[38;5;241;43m=\u001b[39;49m\u001b[43mf\u001b[49m\u001b[43m)\u001b[49m\n\u001b[1;32m    354\u001b[0m     phi_m2Deriv \u001b[38;5;241m=\u001b[39m \u001b[38;5;28mself\u001b[39m\u001b[38;5;241m.\u001b[39mreg\u001b[38;5;241m.\u001b[39mderiv2(m, v\u001b[38;5;241m=\u001b[39mv)\n\u001b[1;32m    356\u001b[0m     \u001b[38;5;28;01mreturn\u001b[39;00m phi_d2Deriv \u001b[38;5;241m+\u001b[39m \u001b[38;5;28mself\u001b[39m\u001b[38;5;241m.\u001b[39mbeta \u001b[38;5;241m*\u001b[39m phi_m2Deriv\n",
      "File \u001b[0;32m~/miniforge3/envs/py311/lib/python3.11/site-packages/simpeg/objective_function.py:491\u001b[0m, in \u001b[0;36mComboObjectiveFunction.deriv2\u001b[0;34m(self, m, v, f)\u001b[0m\n\u001b[1;32m    489\u001b[0m     \u001b[38;5;28;01mcontinue\u001b[39;00m\n\u001b[1;32m    490\u001b[0m \u001b[38;5;28;01mif\u001b[39;00m f \u001b[38;5;129;01mis\u001b[39;00m \u001b[38;5;129;01mnot\u001b[39;00m \u001b[38;5;28;01mNone\u001b[39;00m \u001b[38;5;129;01mand\u001b[39;00m objfct\u001b[38;5;241m.\u001b[39mhas_fields:\n\u001b[0;32m--> 491\u001b[0m     objfct_H \u001b[38;5;241m=\u001b[39m \u001b[43mobjfct\u001b[49m\u001b[38;5;241;43m.\u001b[39;49m\u001b[43mderiv2\u001b[49m\u001b[43m(\u001b[49m\u001b[43mm\u001b[49m\u001b[43m,\u001b[49m\u001b[43m \u001b[49m\u001b[43mv\u001b[49m\u001b[43m,\u001b[49m\u001b[43m \u001b[49m\u001b[43mf\u001b[49m\u001b[38;5;241;43m=\u001b[39;49m\u001b[43mf\u001b[49m\u001b[43m[\u001b[49m\u001b[43mi\u001b[49m\u001b[43m]\u001b[49m\u001b[43m)\u001b[49m\n\u001b[1;32m    492\u001b[0m \u001b[38;5;28;01melse\u001b[39;00m:\n\u001b[1;32m    493\u001b[0m     objfct_H \u001b[38;5;241m=\u001b[39m objfct\u001b[38;5;241m.\u001b[39mderiv2(m, v)\n",
      "File \u001b[0;32m~/miniforge3/envs/py311/lib/python3.11/site-packages/simpeg/utils/counter_utils.py:136\u001b[0m, in \u001b[0;36mtimeIt.<locals>.wrapper\u001b[0;34m(self, *args, **kwargs)\u001b[0m\n\u001b[1;32m    134\u001b[0m \u001b[38;5;28;01mif\u001b[39;00m \u001b[38;5;28misinstance\u001b[39m(counter, Counter):\n\u001b[1;32m    135\u001b[0m     counter\u001b[38;5;241m.\u001b[39mcountTic(\u001b[38;5;28mself\u001b[39m\u001b[38;5;241m.\u001b[39m\u001b[38;5;18m__class__\u001b[39m\u001b[38;5;241m.\u001b[39m\u001b[38;5;18m__name__\u001b[39m \u001b[38;5;241m+\u001b[39m \u001b[38;5;124m\"\u001b[39m\u001b[38;5;124m.\u001b[39m\u001b[38;5;124m\"\u001b[39m \u001b[38;5;241m+\u001b[39m f\u001b[38;5;241m.\u001b[39m\u001b[38;5;18m__name__\u001b[39m)\n\u001b[0;32m--> 136\u001b[0m out \u001b[38;5;241m=\u001b[39m \u001b[43mf\u001b[49m\u001b[43m(\u001b[49m\u001b[38;5;28;43mself\u001b[39;49m\u001b[43m,\u001b[49m\u001b[43m \u001b[49m\u001b[38;5;241;43m*\u001b[39;49m\u001b[43margs\u001b[49m\u001b[43m,\u001b[49m\u001b[43m \u001b[49m\u001b[38;5;241;43m*\u001b[39;49m\u001b[38;5;241;43m*\u001b[39;49m\u001b[43mkwargs\u001b[49m\u001b[43m)\u001b[49m\n\u001b[1;32m    137\u001b[0m \u001b[38;5;28;01mif\u001b[39;00m \u001b[38;5;28misinstance\u001b[39m(counter, Counter):\n\u001b[1;32m    138\u001b[0m     counter\u001b[38;5;241m.\u001b[39mcountToc(\u001b[38;5;28mself\u001b[39m\u001b[38;5;241m.\u001b[39m\u001b[38;5;18m__class__\u001b[39m\u001b[38;5;241m.\u001b[39m\u001b[38;5;18m__name__\u001b[39m \u001b[38;5;241m+\u001b[39m \u001b[38;5;124m\"\u001b[39m\u001b[38;5;124m.\u001b[39m\u001b[38;5;124m\"\u001b[39m \u001b[38;5;241m+\u001b[39m f\u001b[38;5;241m.\u001b[39m\u001b[38;5;18m__name__\u001b[39m)\n",
      "File \u001b[0;32m~/miniforge3/envs/py311/lib/python3.11/site-packages/simpeg/data_misfit.py:338\u001b[0m, in \u001b[0;36mL2DataMisfit.deriv2\u001b[0;34m(self, m, v, f)\u001b[0m\n\u001b[1;32m    335\u001b[0m \u001b[38;5;28;01mif\u001b[39;00m f \u001b[38;5;129;01mis\u001b[39;00m \u001b[38;5;28;01mNone\u001b[39;00m:\n\u001b[1;32m    336\u001b[0m     f \u001b[38;5;241m=\u001b[39m \u001b[38;5;28mself\u001b[39m\u001b[38;5;241m.\u001b[39msimulation\u001b[38;5;241m.\u001b[39mfields(m)\n\u001b[0;32m--> 338\u001b[0m \u001b[38;5;28;01mreturn\u001b[39;00m \u001b[38;5;241m2\u001b[39m \u001b[38;5;241m*\u001b[39m \u001b[38;5;28;43mself\u001b[39;49m\u001b[38;5;241;43m.\u001b[39;49m\u001b[43msimulation\u001b[49m\u001b[38;5;241;43m.\u001b[39;49m\u001b[43mJtvec_approx\u001b[49m\u001b[43m(\u001b[49m\n\u001b[1;32m    339\u001b[0m \u001b[43m    \u001b[49m\u001b[43mm\u001b[49m\u001b[43m,\u001b[49m\u001b[43m \u001b[49m\u001b[38;5;28;43mself\u001b[39;49m\u001b[38;5;241;43m.\u001b[39;49m\u001b[43mW\u001b[49m\u001b[43m \u001b[49m\u001b[38;5;241;43m*\u001b[39;49m\u001b[43m \u001b[49m\u001b[43m(\u001b[49m\u001b[38;5;28;43mself\u001b[39;49m\u001b[38;5;241;43m.\u001b[39;49m\u001b[43mW\u001b[49m\u001b[43m \u001b[49m\u001b[38;5;241;43m*\u001b[39;49m\u001b[43m \u001b[49m\u001b[38;5;28;43mself\u001b[39;49m\u001b[38;5;241;43m.\u001b[39;49m\u001b[43msimulation\u001b[49m\u001b[38;5;241;43m.\u001b[39;49m\u001b[43mJvec_approx\u001b[49m\u001b[43m(\u001b[49m\u001b[43mm\u001b[49m\u001b[43m,\u001b[49m\u001b[43m \u001b[49m\u001b[43mv\u001b[49m\u001b[43m,\u001b[49m\u001b[43m \u001b[49m\u001b[43mf\u001b[49m\u001b[38;5;241;43m=\u001b[39;49m\u001b[43mf\u001b[49m\u001b[43m)\u001b[49m\u001b[43m)\u001b[49m\u001b[43m,\u001b[49m\u001b[43m \u001b[49m\u001b[43mf\u001b[49m\u001b[38;5;241;43m=\u001b[39;49m\u001b[43mf\u001b[49m\n\u001b[1;32m    340\u001b[0m \u001b[43m\u001b[49m\u001b[43m)\u001b[49m\n",
      "File \u001b[0;32m~/miniforge3/envs/py311/lib/python3.11/site-packages/simpeg/utils/counter_utils.py:136\u001b[0m, in \u001b[0;36mtimeIt.<locals>.wrapper\u001b[0;34m(self, *args, **kwargs)\u001b[0m\n\u001b[1;32m    134\u001b[0m \u001b[38;5;28;01mif\u001b[39;00m \u001b[38;5;28misinstance\u001b[39m(counter, Counter):\n\u001b[1;32m    135\u001b[0m     counter\u001b[38;5;241m.\u001b[39mcountTic(\u001b[38;5;28mself\u001b[39m\u001b[38;5;241m.\u001b[39m\u001b[38;5;18m__class__\u001b[39m\u001b[38;5;241m.\u001b[39m\u001b[38;5;18m__name__\u001b[39m \u001b[38;5;241m+\u001b[39m \u001b[38;5;124m\"\u001b[39m\u001b[38;5;124m.\u001b[39m\u001b[38;5;124m\"\u001b[39m \u001b[38;5;241m+\u001b[39m f\u001b[38;5;241m.\u001b[39m\u001b[38;5;18m__name__\u001b[39m)\n\u001b[0;32m--> 136\u001b[0m out \u001b[38;5;241m=\u001b[39m \u001b[43mf\u001b[49m\u001b[43m(\u001b[49m\u001b[38;5;28;43mself\u001b[39;49m\u001b[43m,\u001b[49m\u001b[43m \u001b[49m\u001b[38;5;241;43m*\u001b[39;49m\u001b[43margs\u001b[49m\u001b[43m,\u001b[49m\u001b[43m \u001b[49m\u001b[38;5;241;43m*\u001b[39;49m\u001b[38;5;241;43m*\u001b[39;49m\u001b[43mkwargs\u001b[49m\u001b[43m)\u001b[49m\n\u001b[1;32m    137\u001b[0m \u001b[38;5;28;01mif\u001b[39;00m \u001b[38;5;28misinstance\u001b[39m(counter, Counter):\n\u001b[1;32m    138\u001b[0m     counter\u001b[38;5;241m.\u001b[39mcountToc(\u001b[38;5;28mself\u001b[39m\u001b[38;5;241m.\u001b[39m\u001b[38;5;18m__class__\u001b[39m\u001b[38;5;241m.\u001b[39m\u001b[38;5;18m__name__\u001b[39m \u001b[38;5;241m+\u001b[39m \u001b[38;5;124m\"\u001b[39m\u001b[38;5;124m.\u001b[39m\u001b[38;5;124m\"\u001b[39m \u001b[38;5;241m+\u001b[39m f\u001b[38;5;241m.\u001b[39m\u001b[38;5;18m__name__\u001b[39m)\n",
      "File \u001b[0;32m~/miniforge3/envs/py311/lib/python3.11/site-packages/simpeg/simulation.py:334\u001b[0m, in \u001b[0;36mBaseSimulation.Jtvec_approx\u001b[0;34m(self, m, v, f)\u001b[0m\n\u001b[1;32m    301\u001b[0m \u001b[38;5;129m@timeIt\u001b[39m\n\u001b[1;32m    302\u001b[0m \u001b[38;5;28;01mdef\u001b[39;00m\u001b[38;5;250m \u001b[39m\u001b[38;5;21mJtvec_approx\u001b[39m(\u001b[38;5;28mself\u001b[39m, m, v, f\u001b[38;5;241m=\u001b[39m\u001b[38;5;28;01mNone\u001b[39;00m):\n\u001b[1;32m    303\u001b[0m \u001b[38;5;250m    \u001b[39m\u001b[38;5;124mr\u001b[39m\u001b[38;5;124;03m\"\"\"Approximation of the Jacobian transpose times a vector for the model provided.\u001b[39;00m\n\u001b[1;32m    304\u001b[0m \n\u001b[1;32m    305\u001b[0m \u001b[38;5;124;03m    The Jacobian defines the derivative of the predicted data vector with respect to the\u001b[39;00m\n\u001b[0;32m   (...)\u001b[0m\n\u001b[1;32m    332\u001b[0m \u001b[38;5;124;03m        Approximation of the Jacobian transpose times a vector for the model provided.\u001b[39;00m\n\u001b[1;32m    333\u001b[0m \u001b[38;5;124;03m    \"\"\"\u001b[39;00m\n\u001b[0;32m--> 334\u001b[0m     \u001b[38;5;28;01mreturn\u001b[39;00m \u001b[38;5;28;43mself\u001b[39;49m\u001b[38;5;241;43m.\u001b[39;49m\u001b[43mJtvec\u001b[49m\u001b[43m(\u001b[49m\u001b[43mm\u001b[49m\u001b[43m,\u001b[49m\u001b[43m \u001b[49m\u001b[43mv\u001b[49m\u001b[43m,\u001b[49m\u001b[43m \u001b[49m\u001b[43mf\u001b[49m\u001b[43m)\u001b[49m\n",
      "File \u001b[0;32m~/miniforge3/envs/py311/lib/python3.11/site-packages/simpeg/electromagnetics/time_domain/simulation.py:1235\u001b[0m, in \u001b[0;36mSimulation3DElectricField.Jtvec\u001b[0;34m(self, m, v, f)\u001b[0m\n\u001b[1;32m   1228\u001b[0m PT_v \u001b[38;5;241m=\u001b[39m \u001b[38;5;28mself\u001b[39m\u001b[38;5;241m.\u001b[39mFields_Derivs(\u001b[38;5;28mself\u001b[39m)\n\u001b[1;32m   1229\u001b[0m \u001b[38;5;28;01mfor\u001b[39;00m src \u001b[38;5;129;01min\u001b[39;00m \u001b[38;5;28mself\u001b[39m\u001b[38;5;241m.\u001b[39msurvey\u001b[38;5;241m.\u001b[39msource_list:\n\u001b[1;32m   1230\u001b[0m     \u001b[38;5;66;03m# Looping over initializing field class is appending memory!\u001b[39;00m\n\u001b[1;32m   1231\u001b[0m     \u001b[38;5;66;03m# PT_v = Fields_Derivs(self.mesh) # initialize storage\u001b[39;00m\n\u001b[1;32m   1232\u001b[0m     \u001b[38;5;66;03m# #for PT_v (don't need to preserve over sources)\u001b[39;00m\n\u001b[1;32m   1233\u001b[0m     \u001b[38;5;66;03m# initialize size\u001b[39;00m\n\u001b[1;32m   1234\u001b[0m     df_duT_v[src, \u001b[38;5;124m\"\u001b[39m\u001b[38;5;132;01m{}\u001b[39;00m\u001b[38;5;124mDeriv\u001b[39m\u001b[38;5;124m\"\u001b[39m\u001b[38;5;241m.\u001b[39mformat(\u001b[38;5;28mself\u001b[39m\u001b[38;5;241m.\u001b[39m_fieldType), :] \u001b[38;5;241m=\u001b[39m np\u001b[38;5;241m.\u001b[39mzeros_like(\n\u001b[0;32m-> 1235\u001b[0m         \u001b[43mf\u001b[49m\u001b[43m[\u001b[49m\u001b[43msrc\u001b[49m\u001b[43m,\u001b[49m\u001b[43m \u001b[49m\u001b[38;5;28;43mself\u001b[39;49m\u001b[38;5;241;43m.\u001b[39;49m\u001b[43m_fieldType\u001b[49m\u001b[43m,\u001b[49m\u001b[43m \u001b[49m\u001b[43m:\u001b[49m\u001b[43m]\u001b[49m\n\u001b[1;32m   1236\u001b[0m     )\n\u001b[1;32m   1238\u001b[0m     \u001b[38;5;28;01mfor\u001b[39;00m rx \u001b[38;5;129;01min\u001b[39;00m src\u001b[38;5;241m.\u001b[39mreceiver_list:\n\u001b[1;32m   1239\u001b[0m         src_rx_slice \u001b[38;5;241m=\u001b[39m survey_slices[src, rx]\n",
      "File \u001b[0;32m~/miniforge3/envs/py311/lib/python3.11/site-packages/simpeg/fields.py:313\u001b[0m, in \u001b[0;36mFields.__getitem__\u001b[0;34m(self, key)\u001b[0m\n\u001b[1;32m    311\u001b[0m         out[name] \u001b[38;5;241m=\u001b[39m \u001b[38;5;28mself\u001b[39m\u001b[38;5;241m.\u001b[39m_getField(name, ind, src_list)\n\u001b[1;32m    312\u001b[0m     \u001b[38;5;28;01mreturn\u001b[39;00m out\n\u001b[0;32m--> 313\u001b[0m \u001b[38;5;28;01mreturn\u001b[39;00m \u001b[38;5;28;43mself\u001b[39;49m\u001b[38;5;241;43m.\u001b[39;49m\u001b[43m_getField\u001b[49m\u001b[43m(\u001b[49m\u001b[43mname\u001b[49m\u001b[43m,\u001b[49m\u001b[43m \u001b[49m\u001b[43mind\u001b[49m\u001b[43m,\u001b[49m\u001b[43m \u001b[49m\u001b[43msrc_list\u001b[49m\u001b[43m)\u001b[49m\n",
      "File \u001b[0;32m~/miniforge3/envs/py311/lib/python3.11/site-packages/simpeg/fields.py:531\u001b[0m, in \u001b[0;36mTimeFields._getField\u001b[0;34m(self, name, ind, src_list)\u001b[0m\n\u001b[1;32m    529\u001b[0m             \u001b[38;5;28;01melif\u001b[39;00m out[i]\u001b[38;5;241m.\u001b[39mndim \u001b[38;5;241m==\u001b[39m \u001b[38;5;241m2\u001b[39m:\n\u001b[1;32m    530\u001b[0m                 out[i] \u001b[38;5;241m=\u001b[39m out[i][:, :, np\u001b[38;5;241m.\u001b[39mnewaxis]\n\u001b[0;32m--> 531\u001b[0m         out \u001b[38;5;241m=\u001b[39m \u001b[43mnp\u001b[49m\u001b[38;5;241;43m.\u001b[39;49m\u001b[43mconcatenate\u001b[49m\u001b[43m(\u001b[49m\u001b[43mout\u001b[49m\u001b[43m,\u001b[49m\u001b[43m \u001b[49m\u001b[43maxis\u001b[49m\u001b[38;5;241;43m=\u001b[39;49m\u001b[38;5;241;43m2\u001b[39;49m\u001b[43m)\u001b[49m\n\u001b[1;32m    533\u001b[0m shape \u001b[38;5;241m=\u001b[39m \u001b[38;5;28mself\u001b[39m\u001b[38;5;241m.\u001b[39m_correctShape(name, ind, deflate\u001b[38;5;241m=\u001b[39m\u001b[38;5;28;01mTrue\u001b[39;00m)\n\u001b[1;32m    534\u001b[0m \u001b[38;5;28;01mreturn\u001b[39;00m out\u001b[38;5;241m.\u001b[39mreshape(shape, order\u001b[38;5;241m=\u001b[39m\u001b[38;5;124m\"\u001b[39m\u001b[38;5;124mF\u001b[39m\u001b[38;5;124m\"\u001b[39m)\n",
      "\u001b[0;31mKeyboardInterrupt\u001b[0m: "
     ]
    }
   ],
   "source": [
    "%%time\n",
    "# if __name__ == \"__main__\":\n",
    "mrec = inv.run(m0)"
   ]
  },
  {
   "cell_type": "code",
   "execution_count": 38,
   "id": "4c0b41bc-8116-40dc-a669-4a767a39c647",
   "metadata": {},
   "outputs": [
    {
     "data": {
      "text/plain": [
       "array([-6.2146081 , -6.2146081 , -6.2146081 , ..., -6.21460811,\n",
       "       -6.21460811, -6.21460811])"
      ]
     },
     "execution_count": 38,
     "metadata": {},
     "output_type": "execute_result"
    }
   ],
   "source": [
    "mrec"
   ]
  },
  {
   "cell_type": "code",
   "execution_count": 41,
   "id": "6afa9bb3-cef2-49bd-918f-80dde0e10738",
   "metadata": {},
   "outputs": [
    {
     "data": {
      "text/plain": [
       "(-200.0, 10.0)"
      ]
     },
     "execution_count": 41,
     "metadata": {},
     "output_type": "execute_result"
    },
    {
     "data": {
      "image/png": "[encoded data removed]",
      "text/plain": [
       "<Figure size 640x480 with 1 Axes>"
      ]
     },
     "metadata": {},
     "output_type": "display_data"
    }
   ],
   "source": [
    "fig, ax = plt.subplots(1, 1)\n",
    "\n",
    "mesh.plot_slice(\n",
    "    np.exp(active_cells_map * mrec),\n",
    "    ax=ax, \n",
    "    normal=\"y\", \n",
    "    pcolor_opts={\"norm\":LogNorm()}\n",
    ")\n",
    "\n",
    "ax.set_xlim(-500, 500)\n",
    "ax.set_ylim([-200, 10])"
   ]
  },
  {
   "cell_type": "code",
   "execution_count": 35,
   "id": "ab002b09-5036-40a3-8f20-f413761c8415",
   "metadata": {},
   "outputs": [
    {
     "data": {
      "text/plain": [
       "(array([2.200e+01, 8.000e+01, 3.700e+02, 1.996e+04, 2.044e+03, 3.060e+02,\n",
       "        1.340e+02, 3.800e+01, 8.000e+00, 2.000e+00]),\n",
       " array([-4.15935895, -3.78015805, -3.40095714, -3.02175623, -2.64255532,\n",
       "        -2.26335441, -1.88415351, -1.5049526 , -1.12575169, -0.74655078,\n",
       "        -0.36734987]),\n",
       " <BarContainer object of 10 artists>)"
      ]
     },
     "execution_count": 35,
     "metadata": {},
     "output_type": "execute_result"
    },
    {
     "data": {
      "image/png": "[encoded data removed]",
      "text/plain": [
       "<Figure size 640x480 with 1 Axes>"
      ]
     },
     "metadata": {},
     "output_type": "display_data"
    }
   ],
   "source": [
    "plt.hist(np.log10(np.exp(mlast)))"
   ]
  },
  {
   "cell_type": "code",
   "execution_count": 36,
   "id": "97a6bd61-b42c-4561-b0be-949b1bc7df80",
   "metadata": {},
   "outputs": [
    {
     "data": {
      "text/plain": [
       "np.float64(6.928529122736016e-05)"
      ]
     },
     "execution_count": 36,
     "metadata": {},
     "output_type": "execute_result"
    }
   ],
   "source": [
    "np.min(np.exp(mlast))"
   ]
  },
  {
   "cell_type": "code",
   "execution_count": 37,
   "id": "9707c259-0c02-4374-aa54-d6e613371a6c",
   "metadata": {},
   "outputs": [
    {
     "data": {
      "text/plain": [
       "np.float64(0.4291905245333578)"
      ]
     },
     "execution_count": 37,
     "metadata": {},
     "output_type": "execute_result"
    }
   ],
   "source": [
    "np.max(np.exp(mlast))"
   ]
  },
  {
   "cell_type": "code",
   "execution_count": null,
   "id": "18058e28-8c9a-4759-8124-58a4392235ab",
   "metadata": {},
   "outputs": [],
   "source": []
  }
 ],
 "metadata": {
  "kernelspec": {
   "display_name": "Python 3 (ipykernel)",
   "language": "python",
   "name": "python3"
  },
  "language_info": {
   "codemirror_mode": {
    "name": "ipython",
    "version": 3
   },
   "file_extension": ".py",
   "mimetype": "text/x-python",
   "name": "python",
   "nbconvert_exporter": "python",
   "pygments_lexer": "ipython3",
   "version": "3.11.11"
  }
 },
 "nbformat": 4,
 "nbformat_minor": 5
}
