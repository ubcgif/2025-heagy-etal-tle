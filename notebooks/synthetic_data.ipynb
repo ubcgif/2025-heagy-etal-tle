{
 "cells": [
  {
   "cell_type": "code",
   "execution_count": 1,
   "id": "64b9eb20-6cda-4905-a6c8-95b3ae0f260e",
   "metadata": {},
   "outputs": [],
   "source": [
    "import numpy as np\n",
    "import matplotlib.pyplot as plt\n",
    "from matplotlib.colors import LogNorm, Normalize\n",
    "\n",
    "import discretize \n",
    "from simpeg import maps\n",
    "from simpeg.electromagnetics import time_domain as tdem\n",
    "\n",
    "from simpeg.utils.solver_utils import get_default_solver\n",
    "\n",
    "from simpeg.meta import MultiprocessingMetaSimulation #DaskMetaSimulation"
   ]
  },
  {
   "cell_type": "code",
   "execution_count": 2,
   "id": "aabf8349-b2ea-41ef-a974-3537317c7cfe",
   "metadata": {},
   "outputs": [
    {
     "data": {
      "text/plain": [
       "pymatsolver.direct.mumps.Mumps"
      ]
     },
     "execution_count": 2,
     "metadata": {},
     "output_type": "execute_result"
    }
   ],
   "source": [
    "Solver = get_default_solver()\n",
    "Solver"
   ]
  },
  {
   "cell_type": "markdown",
   "id": "570037d2-aeab-487d-ba4a-30e1bb25c2ee",
   "metadata": {},
   "source": [
    "# set up models and mesh"
   ]
  },
  {
   "cell_type": "code",
   "execution_count": 3,
   "id": "24698367-f198-4d55-9007-f8fb22906420",
   "metadata": {},
   "outputs": [],
   "source": [
    "rho_back = 150\n",
    "sigma_back = 1./rho_back \n",
    "\n",
    "rho_target = 20\n",
    "sigma_target = 1./rho_target\n",
    "\n",
    "sigma_air = 1e-8\n",
    "\n",
    "target_dips = np.r_[0, 15, 30, 45]\n",
    "target_z = np.r_[-70, -40]"
   ]
  },
  {
   "cell_type": "code",
   "execution_count": 14,
   "id": "2f4b1720-d691-4250-90f5-9d3c289b98dd",
   "metadata": {},
   "outputs": [
    {
     "data": {
      "text/plain": [
       "array([-495., -475., -455., -435., -415., -395., -375., -355., -335.,\n",
       "       -315., -295., -275., -255., -235., -215., -195., -175., -155.,\n",
       "       -135., -115.,  -95.,  -75.,  -55.,  -35.,  -15.,    5.,   25.,\n",
       "         45.,   65.,   85.,  105.,  125.,  145.,  165.,  185.,  205.,\n",
       "        225.,  245.,  265.,  285.,  305.,  325.,  345.,  365.,  385.,\n",
       "        405.,  425.,  445.,  465.,  485.,  505.])"
      ]
     },
     "execution_count": 14,
     "metadata": {},
     "output_type": "execute_result"
    }
   ],
   "source": [
    "tx_height = np.r_[30]\n",
    "\n",
    "rx_x = (np.linspace(-500, 500, 51) + 5)\n",
    "rx_y = np.r_[0]\n",
    "rx_z = tx_height\n",
    "\n",
    "rx_locs = discretize.utils.ndgrid([rx_x, rx_y, rx_z])\n",
    "rx_x"
   ]
  },
  {
   "cell_type": "code",
   "execution_count": 15,
   "id": "fdced28d-6966-4a09-a529-9733ec6e746a",
   "metadata": {},
   "outputs": [],
   "source": [
    "base_cell_width = 10\n",
    "domain_extent = 8000\n",
    "\n",
    "n_base_cells = 2 ** int(\n",
    "    np.ceil(np.log(domain_extent / base_cell_width) / np.log(2.0))\n",
    ")  # needs to be powers of 2 for the tree mesh\n",
    "\n",
    "h = [(base_cell_width, n_base_cells)]\n",
    "mesh = discretize.TreeMesh([h, h, h], origin=\"CCC\", diagonal_balance=True)\n",
    "\n",
    "# refine near transmitters and receivers\n",
    "mesh.refine_points(\n",
    "    rx_locs, level=-1, padding_cells_by_level=[2, 2, 4], \n",
    "    finalize=False, diagonal_balance=True\n",
    ")\n",
    "\n",
    "# Refine core region of the mesh \n",
    "\n",
    "bounding_points = np.array([\n",
    "    [rx_x.min(), rx_y.min(), target_z.min()*3 - base_cell_width * 4], \n",
    "    [rx_x.max(), rx_y.max(), 0],\n",
    "])\n",
    "mesh.refine_bounding_box(\n",
    "    bounding_points, level=-1, \n",
    "    diagonal_balance=True, finalize=False, padding_cells_by_level=[2, 4, 8]\n",
    ")\n",
    "\n",
    "mesh.finalize()"
   ]
  },
  {
   "cell_type": "code",
   "execution_count": 16,
   "id": "525e327f-9aa3-4121-8eb1-812b8a3b240e",
   "metadata": {},
   "outputs": [
    {
     "data": {
      "text/html": [
       "<table>\n",
       "<tr>\n",
       "<td style='font-weight: bold; font-size: 1.2em; text-align: center;'>OcTreeMesh</td>\n",
       "<td style='font-size: 1.2em; text-align: center;' colspan='2'>0.01% filled</td>\n",
       "</tr>\n",
       "<tr>\n",
       "<td>\n",
       "<table>\n",
       "<tr>\n",
       "<th style='padding: 5px 20px 5px 20px;'>Level</th>\n",
       "<th style='padding: 5px 20px 5px 20px;'>Number of cells</th>\n",
       "</tr>\n",
       "<tr>\n",
       "<td style='padding: 5px 20px 5px 20px;'>3</td>\n",
       "<td style='padding: 5px 20px 5px 20px;'>448</td>\n",
       "</tr>\n",
       "<tr>\n",
       "<td style='padding: 5px 20px 5px 20px;'>4</td>\n",
       "<td style='padding: 5px 20px 5px 20px;'>416</td>\n",
       "</tr>\n",
       "<tr>\n",
       "<td style='padding: 5px 20px 5px 20px;'>5</td>\n",
       "<td style='padding: 5px 20px 5px 20px;'>480</td>\n",
       "</tr>\n",
       "<tr>\n",
       "<td style='padding: 5px 20px 5px 20px;'>6</td>\n",
       "<td style='padding: 5px 20px 5px 20px;'>1296</td>\n",
       "</tr>\n",
       "<tr>\n",
       "<td style='padding: 5px 20px 5px 20px;'>7</td>\n",
       "<td style='padding: 5px 20px 5px 20px;'>3744</td>\n",
       "</tr>\n",
       "<tr>\n",
       "<td style='padding: 5px 20px 5px 20px;'>8</td>\n",
       "<td style='padding: 5px 20px 5px 20px;'>32328</td>\n",
       "</tr>\n",
       "<tr>\n",
       "<td style='padding: 5px 20px 5px 20px;'>9</td>\n",
       "<td style='padding: 5px 20px 5px 20px;'>14358</td>\n",
       "</tr>\n",
       "<tr>\n",
       "<td style='padding: 5px 20px 5px 20px;'>10</td>\n",
       "<td style='padding: 5px 20px 5px 20px;'>27984</td>\n",
       "</tr>\n",
       "<tr>\n",
       "<td style='font-weight: bold; padding: 5px 20px 5px 20px;'> Total </td>\n",
       "<td style='padding: 5px 20px 5px 20px;'> 81054 </td>\n",
       "</tr>\n",
       "</table>\n",
       "</td>\n",
       "<td>\n",
       "<table>\n",
       "<tr>\n",
       "<th></th>\n",
       "<th style='padding: 5px 20px 5px 20px;' colspan='2'>Mesh extent</th>\n",
       "<th style='padding: 5px 20px 5px 20px;' colspan='2'>Cell widths</th>\n",
       "</tr>\n",
       "<tr>\n",
       "<th></th>\n",
       "<th style='padding: 5px 20px 5px 20px;'>min</th>\n",
       "<th style='padding: 5px 20px 5px 20px;'>max</th>\n",
       "<th style='padding: 5px 20px 5px 20px;'>min</th>\n",
       "<th style='padding: 5px 20px 5px 20px;'>max</th>\n",
       "</tr>\n",
       "<tr>\n",
       "<td style='padding: 5px 20px 5px 20px;'>x</td>\n",
       "<td style='padding: 5px 20px 5px 20px;'>-5120.0</td>\n",
       "<td style='padding: 5px 20px 5px 20px;'>5120.0</td>\n",
       "<td style='padding: 5px 20px 5px 20px;'>10.0</td>\n",
       "<td style='padding: 5px 20px 5px 20px;'>1280.0</td>\n",
       "</tr>\n",
       "<tr>\n",
       "<td style='padding: 5px 20px 5px 20px;'>y</td>\n",
       "<td style='padding: 5px 20px 5px 20px;'>-5120.0</td>\n",
       "<td style='padding: 5px 20px 5px 20px;'>5120.0</td>\n",
       "<td style='padding: 5px 20px 5px 20px;'>10.0</td>\n",
       "<td style='padding: 5px 20px 5px 20px;'>1280.0</td>\n",
       "</tr>\n",
       "<tr>\n",
       "<td style='padding: 5px 20px 5px 20px;'>z</td>\n",
       "<td style='padding: 5px 20px 5px 20px;'>-5120.0</td>\n",
       "<td style='padding: 5px 20px 5px 20px;'>5120.0</td>\n",
       "<td style='padding: 5px 20px 5px 20px;'>10.0</td>\n",
       "<td style='padding: 5px 20px 5px 20px;'>1280.0</td>\n",
       "</tr>\n",
       "</table>\n",
       "</td>\n",
       "</tr>\n",
       "</table>\n"
      ],
      "text/plain": [
       "\n",
       "OcTreeMesh: 0.01% filled\n",
       "\n",
       "Level : Number of cells               Mesh Extent               Cell Widths    \n",
       "-----------------------           min     ,     max            min   ,   max   \n",
       "  3   :       448            ---------------------------   --------------------\n",
       "  4   :       416         x:    -5120.0   ,   5120.0          10.0   ,   1280.0  \n",
       "  5   :       480         y:    -5120.0   ,   5120.0          10.0   ,   1280.0  \n",
       "  6   :      1296         z:    -5120.0   ,   5120.0          10.0   ,   1280.0  \n",
       "  7   :      3744      \n",
       "  8   :      32328     \n",
       "  9   :      14358     \n",
       " 10   :      27984     \n",
       "-----------------------\n",
       "Total :      81054     "
      ]
     },
     "execution_count": 16,
     "metadata": {},
     "output_type": "execute_result"
    }
   ],
   "source": [
    "mesh"
   ]
  },
  {
   "cell_type": "code",
   "execution_count": 17,
   "id": "6e176c97-3127-4721-94b9-0f219b296d76",
   "metadata": {},
   "outputs": [],
   "source": [
    "def dipping_target_indices(\n",
    "    mesh, target_x_center, target_z_center, dip, target_thickness, target_xlim=None, target_ylim=None, target_zlim=None\n",
    "): \n",
    "    \"\"\"\n",
    "    add a dipping target to the model. For now assumes the target dips in the x-direction\n",
    "    \"\"\"\n",
    "    x_center = np.mean(target_x)\n",
    "    slope = np.tan(-dip*np.pi/180)\n",
    "    target_z = target_z_center + target_thickness / 2 * np.r_[-1, 1]\n",
    "    \n",
    "    z_bottom = (mesh.cell_centers[:, 0] - target_x_center) * slope + target_z.min()\n",
    "    z_top = (mesh.cell_centers[:, 0] - target_x_center) * slope + target_z.max()\n",
    "\n",
    "    indices = (\n",
    "        (mesh.cell_centers[:, 2] >= z_bottom) &\n",
    "        (mesh.cell_centers[:, 2] <= z_top) \n",
    "    )\n",
    "\n",
    "    if target_xlim is not None: \n",
    "        indices = indices & (\n",
    "            (mesh.cell_centers[:, 0] >= target_xlim.min()) &\n",
    "            (mesh.cell_centers[:, 0] <= target_xlim.max())\n",
    "        )\n",
    "    if target_ylim is not None: \n",
    "        indices = indices & (\n",
    "            (mesh.cell_centers[:, 1] >= target_ylim.min()) &\n",
    "            (mesh.cell_centers[:, 1] <= target_ylim.max())\n",
    "        )\n",
    "    if target_zlim is not None: \n",
    "        indices = indices & (\n",
    "            (mesh.cell_centers[:, 2] >= target_zlim.min()) &\n",
    "            (mesh.cell_centers[:, 2] <= target_zlim.max())\n",
    "        )\n",
    "    return indices"
   ]
  },
  {
   "cell_type": "code",
   "execution_count": 18,
   "id": "ee81bced-772e-40ce-8614-5b3190bf980e",
   "metadata": {},
   "outputs": [],
   "source": [
    "models = {}\n",
    "\n",
    "target_x = np.r_[-400, 500]\n",
    "target_y = np.r_[-400, 500]\n",
    "target_thickness = 45\n",
    "\n",
    "# background model\n",
    "background = np.ones(mesh.n_cells) * sigma_air\n",
    "background[mesh.cell_centers[:, 2] < 0] = sigma_back\n",
    "models[\"background\"] = background\n",
    "\n",
    "for dip in target_dips:\n",
    "    model = background.copy()\n",
    "    indices = dipping_target_indices(\n",
    "        mesh, target_x_center=-100, target_z_center=-60, \n",
    "        target_thickness=target_thickness, dip=dip, \n",
    "        target_xlim=np.r_[-400, 400], \n",
    "        target_ylim=np.r_[-400, 400],\n",
    "        target_zlim=np.r_[-200, -20]\n",
    "    )\n",
    "    model[indices] = sigma_target\n",
    "    models[f\"target_{dip}\"] = model\n",
    "\n"
   ]
  },
  {
   "cell_type": "code",
   "execution_count": 19,
   "id": "96e02ebf-af3e-4ab0-9434-c1f494560b7e",
   "metadata": {},
   "outputs": [
    {
     "data": {
      "text/plain": [
       "array([False, False, False, ..., False, False, False], shape=(81054,))"
      ]
     },
     "execution_count": 19,
     "metadata": {},
     "output_type": "execute_result"
    }
   ],
   "source": [
    "indices"
   ]
  },
  {
   "cell_type": "code",
   "execution_count": 20,
   "id": "56658cb3-6e4e-4366-9126-2344916a2d39",
   "metadata": {},
   "outputs": [
    {
     "data": {
      "text/plain": [
       "['background', 'target_0', 'target_15', 'target_30', 'target_45']"
      ]
     },
     "execution_count": 20,
     "metadata": {},
     "output_type": "execute_result"
    }
   ],
   "source": [
    "model_keys = list(models.keys())\n",
    "model_keys"
   ]
  },
  {
   "cell_type": "code",
   "execution_count": 21,
   "id": "0c1cb401-3b46-4d30-a40e-3a2193ca3faf",
   "metadata": {},
   "outputs": [
    {
     "data": {
      "image/png": "[encoded data removed]",
      "text/plain": [
       "<Figure size 800x200 with 2 Axes>"
      ]
     },
     "metadata": {},
     "output_type": "display_data"
    }
   ],
   "source": [
    "fig, ax = plt.subplots(1, 1, figsize=(8, 2)) \n",
    "\n",
    "plt.colorbar(\n",
    "    mesh.plot_slice(\n",
    "        models[\"target_0\"], \n",
    "        # grid=True, \n",
    "        normal=\"y\",\n",
    "        pcolor_opts={\"norm\":LogNorm(1e-3, 1e-1)},\n",
    "        ax=ax)[0], \n",
    "    ax=ax\n",
    ")\n",
    "\n",
    "ax.set_xlim(800*np.r_[-1, 1])\n",
    "ax.set_ylim(np.r_[-300, 50])\n",
    "\n",
    "ax.plot(rx_locs[:, 0], rx_locs[:, 2], \"ro\")\n",
    "ax.set_aspect(1)"
   ]
  },
  {
   "cell_type": "code",
   "execution_count": 22,
   "id": "e06689c6-3f6c-4aa4-ac9c-ca3a6d23c919",
   "metadata": {},
   "outputs": [],
   "source": [
    "active_cells_map = maps.InjectActiveCells(mesh, mesh.cell_centers[:, 2]<0, value_inactive=np.log(1e-8))"
   ]
  },
  {
   "cell_type": "code",
   "execution_count": 23,
   "id": "13aa6f6a-0b1d-4f99-9c9a-1dc129614417",
   "metadata": {},
   "outputs": [],
   "source": [
    "rx_times = np.logspace(np.log10(1e-4), np.log10(3e-3), 20)"
   ]
  },
  {
   "cell_type": "code",
   "execution_count": 24,
   "id": "1c5499de-4110-4b98-808d-8b2b8bc375cd",
   "metadata": {},
   "outputs": [],
   "source": [
    "source_list = []\n",
    "\n",
    "for i in range(rx_locs.shape[0]): \n",
    "    rx = tdem.receivers.PointMagneticFluxTimeDerivative(rx_locs[i, :], rx_times, orientation=\"z\")\n",
    "    src = tdem.sources.CircularLoop(\n",
    "        receiver_list=[rx], location=rx_locs[i, :], orientation=\"z\", radius=10, \n",
    "        waveform=tdem.sources.StepOffWaveform()\n",
    "    )\n",
    "    source_list.append(src)\n",
    "\n",
    "survey = tdem.Survey(source_list)"
   ]
  },
  {
   "cell_type": "code",
   "execution_count": 25,
   "id": "633de28b-8ee1-4658-af39-bd4ae14e7662",
   "metadata": {},
   "outputs": [],
   "source": [
    "# set up the survey\n",
    "\n",
    "time_steps = [\n",
    "    (1e-5, 40), (3e-5, 20), (1e-4, 20), (3e-4, 20)\n",
    "]"
   ]
  },
  {
   "cell_type": "code",
   "execution_count": 26,
   "id": "513b4b5c-19cc-4f9a-b01a-6512ec7a1c76",
   "metadata": {},
   "outputs": [],
   "source": [
    "# global_sim = tdem.simulation.Simulation3DElectricField(\n",
    "#     mesh=mesh,\n",
    "#     survey=survey,\n",
    "#     time_steps=time_steps,\n",
    "#     solver=Solver,\n",
    "#     sigmaMap=maps.ExpMap() * active_cells_map\n",
    "# )"
   ]
  },
  {
   "cell_type": "code",
   "execution_count": 27,
   "id": "82a3e0a7-f09a-485f-a551-efd1b7fb1095",
   "metadata": {},
   "outputs": [],
   "source": [
    "# refine_depth = 180 # refine our local mesh to 200m \n",
    "# mesh_list = []\n",
    "\n",
    "# for src in source_list: \n",
    "#     mesh_local = discretize.TreeMesh(mesh.h, origin=mesh.origin, diagonal_balance=True)\n",
    "    \n",
    "#     # refine near transmitters and receivers\n",
    "#     refine_points = discretize.utils.ndgrid(\n",
    "#         np.r_[src.location[0]], np.r_[src.location[1]], np.linspace(-refine_depth, src.location[2], 40)\n",
    "#     )\n",
    "#     mesh_local.refine_points(\n",
    "#         refine_points, level=-2, padding_cells_by_level=[2, 4, 4], \n",
    "#         finalize=True, diagonal_balance=True\n",
    "#     )\n",
    "#     mesh_list.append(mesh_local)"
   ]
  },
  {
   "cell_type": "code",
   "execution_count": 29,
   "id": "92bc5ea5-dd13-4f06-83fc-e77d1b230ec8",
   "metadata": {},
   "outputs": [],
   "source": [
    "# mesh_list[1]"
   ]
  },
  {
   "cell_type": "code",
   "execution_count": 30,
   "id": "0188d8fe-10c0-4904-babc-330682559bce",
   "metadata": {},
   "outputs": [
    {
     "data": {
      "image/png": "[encoded data removed]",
      "text/plain": [
       "<Figure size 800x200 with 2 Axes>"
      ]
     },
     "metadata": {},
     "output_type": "display_data"
    }
   ],
   "source": [
    "fig, ax = plt.subplots(1, 1, figsize=(8, 2)) \n",
    "\n",
    "mesh_local = mesh_list[-1]\n",
    "\n",
    "plt.colorbar(\n",
    "    mesh.plot_slice(\n",
    "        models[\"target_15\"], \n",
    "        # grid=True, \n",
    "        normal=\"y\",\n",
    "        pcolor_opts={\"norm\":LogNorm(1e-3, 1e-1)},\n",
    "        ax=ax)[0], \n",
    "    ax=ax\n",
    ")\n",
    "# mesh_local.plot_slice(\n",
    "#     np.ones(mesh_local.n_cells), \n",
    "#     # grid=True, \n",
    "#     normal=\"y\",\n",
    "#     grid_opts={\"color\":\"k\", \"lw\":1},\n",
    "#     pcolor_opts={\"alpha\":0.1},\n",
    "#     ax=ax\n",
    "# )\n",
    "ax.set_xlim(600*np.r_[-1, 1])\n",
    "ax.set_ylim(np.r_[-300, 50])\n",
    "\n",
    "ax.plot(rx_locs[:, 0], rx_locs[:, 2], \"ro\")\n",
    "ax.set_aspect(1)\n"
   ]
  },
  {
   "cell_type": "code",
   "execution_count": 31,
   "id": "83e54f2c-ca11-4bba-91bd-36f367bd2cb1",
   "metadata": {},
   "outputs": [],
   "source": [
    "# mappings = []\n",
    "# sims = []\n",
    "\n",
    "# for ii, local_mesh in enumerate(mesh_list):\n",
    "\n",
    "#     tile_map = maps.TileMap(mesh, active_cells_map.active_cells, local_mesh)\n",
    "#     mappings.append(tile_map)\n",
    "    \n",
    "#     local_actmap = maps.InjectActiveCells(\n",
    "#         local_mesh, \n",
    "#         active_cells=tile_map.local_active, \n",
    "#         value_inactive=np.log(1e-8)\n",
    "#     )\n",
    "    \n",
    "#     local_survey = tdem.Survey([survey.source_list[ii]])\n",
    "#     sims.append(tdem.simulation.Simulation3DElectricField(\n",
    "#             mesh=local_mesh,\n",
    "#             survey=local_survey,\n",
    "#             time_steps=time_steps,\n",
    "#             solver=Solver,\n",
    "#             sigmaMap=maps.ExpMap() * local_actmap\n",
    "#         )\n",
    "#     )\n",
    "\n",
    "# # client = Client()\n",
    "\n",
    "# sim = MultiprocessingMetaSimulation(sims, mappings, n_processes=4)\n",
    "# # sim = DaskMetaSimulation(sims, mappings)\n"
   ]
  },
  {
   "cell_type": "code",
   "execution_count": 32,
   "id": "22fabbe6-1628-45b7-8e5e-1eda3fe8d5c5",
   "metadata": {},
   "outputs": [],
   "source": [
    "log_conductivity_models = {}\n",
    "\n",
    "for key, val in models.items():\n",
    "    log_conductivity_models[key] = np.log(val[active_cells_map.active_cells])"
   ]
  },
  {
   "cell_type": "code",
   "execution_count": 33,
   "id": "2e350843-6831-4c4f-8f4f-64981ca84557",
   "metadata": {},
   "outputs": [],
   "source": [
    "# ind = 2\n",
    "# key = model_keys[3]\n",
    "# m_plot = sims[ind].sigmaMap * sim.mappings[ind] * log_conductivity_models[key]\n",
    "\n",
    "# fig, ax = plt.subplots(2, 1, figsize=(8, 5)) \n",
    "\n",
    "# mesh_local = mesh_list[ind]\n",
    "\n",
    "# plt.colorbar(\n",
    "#     mesh.plot_slice(\n",
    "#         models[key], \n",
    "#         # grid=True, \n",
    "#         normal=\"y\",\n",
    "#         pcolor_opts={\"norm\":LogNorm(1e-3, 1e-1)},\n",
    "#         ax=ax[0])[0], \n",
    "#     ax=ax[0]\n",
    "# )\n",
    "\n",
    "# plt.colorbar(\n",
    "#     mesh_local.plot_slice(\n",
    "#         m_plot, \n",
    "#         grid=True, \n",
    "#         normal=\"y\",\n",
    "#         pcolor_opts={\"norm\":LogNorm(1e-3, 1e-1)},\n",
    "#         ax=ax[1])[0], \n",
    "#     ax=ax[1]\n",
    "# )\n",
    "\n",
    "# for a in ax:\n",
    "#     a.set_xlim(600*np.r_[-1, 1])\n",
    "#     a.set_ylim(np.r_[-300, 50])\n",
    "    \n",
    "#     a.plot(rx_locs[:, 0], rx_locs[:, 2], \"ro\")\n",
    "#     a.set_aspect(1)\n",
    "\n"
   ]
  },
  {
   "cell_type": "code",
   "execution_count": 27,
   "id": "25b9af14-be83-497b-81ab-14b96d8bbcb4",
   "metadata": {},
   "outputs": [
    {
     "data": {
      "text/plain": [
       "['background', 'target_0', 'target_15', 'target_30', 'target_45']"
      ]
     },
     "execution_count": 27,
     "metadata": {},
     "output_type": "execute_result"
    }
   ],
   "source": [
    "model_keys"
   ]
  },
  {
   "cell_type": "code",
   "execution_count": 28,
   "id": "ea573045-1641-48ec-bee2-4ecdbc9aeecc",
   "metadata": {
    "scrolled": true
   },
   "outputs": [
    {
     "name": "stderr",
     "output_type": "stream",
     "text": [
      "/Users/lindseyjh/git/simpeg/geoana/geoana/spatial.py:104: RuntimeWarning: invalid value encountered in multiply\n",
      "  vec[..., 0] * np.cos(grid[..., 1]) - vec[..., 1] * np.sin(grid[..., 1]),\n",
      "/Users/lindseyjh/git/simpeg/geoana/geoana/spatial.py:104: RuntimeWarning: invalid value encountered in multiply\n",
      "  vec[..., 0] * np.cos(grid[..., 1]) - vec[..., 1] * np.sin(grid[..., 1]),\n",
      "/Users/lindseyjh/git/simpeg/geoana/geoana/spatial.py:104: RuntimeWarning: invalid value encountered in multiply\n",
      "  vec[..., 0] * np.cos(grid[..., 1]) - vec[..., 1] * np.sin(grid[..., 1]),\n",
      "/Users/lindseyjh/git/simpeg/geoana/geoana/spatial.py:104: RuntimeWarning: invalid value encountered in multiply\n",
      "  vec[..., 0] * np.cos(grid[..., 1]) - vec[..., 1] * np.sin(grid[..., 1]),\n",
      "/Users/lindseyjh/miniforge3/envs/py311/lib/python3.11/site-packages/pymatsolver/solvers.py:415: FutureWarning: In Future pymatsolver v0.4.0, passing a vector of shape (n, 1) to the solve method will return an array with shape (n, 1), instead of always returning a flattened array. This is to be consistent with numpy.linalg.solve broadcasting.\n",
      "  return self.solve(val)\n",
      "/Users/lindseyjh/miniforge3/envs/py311/lib/python3.11/site-packages/pymatsolver/solvers.py:415: FutureWarning: In Future pymatsolver v0.4.0, passing a vector of shape (n, 1) to the solve method will return an array with shape (n, 1), instead of always returning a flattened array. This is to be consistent with numpy.linalg.solve broadcasting.\n",
      "  return self.solve(val)\n",
      "/Users/lindseyjh/miniforge3/envs/py311/lib/python3.11/site-packages/pymatsolver/solvers.py:415: FutureWarning: In Future pymatsolver v0.4.0, passing a vector of shape (n, 1) to the solve method will return an array with shape (n, 1), instead of always returning a flattened array. This is to be consistent with numpy.linalg.solve broadcasting.\n",
      "  return self.solve(val)\n",
      "/Users/lindseyjh/miniforge3/envs/py311/lib/python3.11/site-packages/pymatsolver/solvers.py:415: FutureWarning: In Future pymatsolver v0.4.0, passing a vector of shape (n, 1) to the solve method will return an array with shape (n, 1), instead of always returning a flattened array. This is to be consistent with numpy.linalg.solve broadcasting.\n",
      "  return self.solve(val)\n"
     ]
    },
    {
     "name": "stdout",
     "output_type": "stream",
     "text": [
      "[-2.23776047e-08 -1.41200829e-08 -8.97719071e-09 -5.70040574e-09\n",
      " -3.65081201e-09 -2.34144695e-09 -1.50570491e-09 -9.70301869e-10\n",
      " -6.34545317e-10 -4.19155178e-10 -2.74370416e-10 -1.78298177e-10\n",
      " -1.15229817e-10 -7.51017123e-11 -4.99428274e-11 -3.27895804e-11\n",
      " -2.12812425e-11 -1.36591880e-11 -8.73237899e-12 -5.55285953e-12\n",
      " -2.23987633e-08 -1.41412904e-08 -8.99631237e-09 -5.71617553e-09\n",
      " -3.66309769e-09 -2.35093231e-09 -1.51314597e-09 -9.76031437e-10\n",
      " -6.38632175e-10 -4.21799513e-10 -2.75955816e-10 -1.79278285e-10\n",
      " -1.15947721e-10 -7.57102068e-11 -5.04510008e-11 -3.31777372e-11\n",
      " -2.15502075e-11 -1.38334979e-11 -8.84595320e-12 -5.63092557e-12\n",
      " -2.23773067e-08 -1.41228387e-08 -8.98120956e-09 -5.70476526e-09\n",
      " -3.65541641e-09 -2.34655219e-09 -1.51127065e-09 -9.75768627e-10\n",
      " -6.39171532e-10 -4.22578923e-10 -2.76644342e-10 -1.79702653e-10\n",
      " -1.16080322e-10 -7.56369108e-11 -5.02938947e-11 -3.30134911e-11\n",
      " -2.14160662e-11 -1.37333357e-11 -8.76788019e-12 -5.56501551e-12\n",
      " -2.23886171e-08 -1.41325175e-08 -8.98998864e-09 -5.71248599e-09\n",
      " -3.66155281e-09 -2.35084066e-09 -1.51390342e-09 -9.77205895e-10\n",
      " -6.39902438e-10 -4.22937719e-10 -2.76815293e-10 -1.79787757e-10\n",
      " -1.16126284e-10 -7.56620786e-11 -5.03062200e-11 -3.30176734e-11\n",
      " -2.14160597e-11 -1.37319079e-11 -8.76648751e-12 -5.56407872e-12\n",
      " -2.23722597e-08 -1.41154860e-08 -8.97351270e-09 -5.69779606e-09\n",
      " -3.64932955e-09 -2.34099932e-09 -1.50602575e-09 -9.71018671e-10\n",
      " -6.35311343e-10 -4.19814222e-10 -2.74935343e-10 -1.78850450e-10\n",
      " -1.15821396e-10 -7.57018407e-11 -5.04746254e-11 -3.32049624e-11\n",
      " -2.15712199e-11 -1.38469701e-11 -8.85358496e-12 -5.63479654e-12\n",
      " -2.23922912e-08 -1.41361481e-08 -8.99311469e-09 -5.71529602e-09\n",
      " -3.66444241e-09 -2.35390811e-09 -1.51685200e-09 -9.79621668e-10\n",
      " -6.41591561e-10 -4.23993381e-10 -2.77422649e-10 -1.80121259e-10\n",
      " -1.16301309e-10 -7.57436439e-11 -5.03317733e-11 -3.30098063e-11\n",
      " -2.13933068e-11 -1.37078909e-11 -8.74933030e-12 -5.55638859e-12]\n",
      "CPU times: user 3.67 ms, sys: 3.02 ms, total: 6.68 ms\n",
      "Wall time: 37.7 s\n"
     ]
    }
   ],
   "source": [
    "%%time \n",
    "\n",
    "key = model_keys[0]\n",
    "model = log_conductivity_models[key]\n",
    "# fields = sim.fields(model)\n",
    "dpred = global_sim.dpred(model)\n",
    "print(dpred)\n",
    "# sim.join()"
   ]
  },
  {
   "cell_type": "code",
   "execution_count": 30,
   "id": "468e60a0-739e-4e27-814e-722a670df171",
   "metadata": {},
   "outputs": [
    {
     "data": {
      "text/plain": [
       "[<matplotlib.lines.Line2D at 0x307a30b10>]"
      ]
     },
     "execution_count": 30,
     "metadata": {},
     "output_type": "execute_result"
    },
    {
     "data": {
      "image/png": "[encoded data removed]",
      "text/plain": [
       "<Figure size 640x480 with 1 Axes>"
      ]
     },
     "metadata": {},
     "output_type": "display_data"
    }
   ],
   "source": [
    "plt.loglog(rx_times, -dpred[:len(rx_times)], \"-o\")"
   ]
  },
  {
   "cell_type": "code",
   "execution_count": 47,
   "id": "38bba3b8-e35f-42b2-ad6d-6aa42d23df5f",
   "metadata": {},
   "outputs": [
    {
     "data": {
      "text/plain": [
       "array([1.00000000e-05, 1.35012756e-05, 1.82284443e-05, 2.46107251e-05,\n",
       "       3.32276182e-05, 4.48615231e-05, 6.05687788e-05, 8.17755776e-05,\n",
       "       1.10407461e-04, 1.49064156e-04, 2.01255626e-04, 2.71720767e-04,\n",
       "       3.66857696e-04, 4.95304687e-04, 6.68724509e-04, 9.02863390e-04,\n",
       "       1.21898075e-03, 1.64577950e-03, 2.22201227e-03, 3.00000000e-03])"
      ]
     },
     "execution_count": 47,
     "metadata": {},
     "output_type": "execute_result"
    }
   ],
   "source": [
    "rx_times"
   ]
  },
  {
   "cell_type": "code",
   "execution_count": null,
   "id": "f45e2741-bfef-4732-9688-84c87f97db87",
   "metadata": {},
   "outputs": [],
   "source": []
  }
 ],
 "metadata": {
  "kernelspec": {
   "display_name": "Python 3 (ipykernel)",
   "language": "python",
   "name": "python3"
  },
  "language_info": {
   "codemirror_mode": {
    "name": "ipython",
    "version": 3
   },
   "file_extension": ".py",
   "mimetype": "text/x-python",
   "name": "python",
   "nbconvert_exporter": "python",
   "pygments_lexer": "ipython3",
   "version": "3.11.10"
  }
 },
 "nbformat": 4,
 "nbformat_minor": 5
}
