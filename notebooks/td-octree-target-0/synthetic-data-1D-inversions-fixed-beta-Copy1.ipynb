{
 "cells": [
  {
   "cell_type": "code",
   "execution_count": 1,
   "id": "64b9eb20-6cda-4905-a6c8-95b3ae0f260e",
   "metadata": {},
   "outputs": [],
   "source": [
    "import numpy as np\n",
    "import os\n",
    "import matplotlib.pyplot as plt\n",
    "from matplotlib.colors import LogNorm, Normalize\n",
    "import time\n",
    "import pickle\n",
    "\n",
    "from concurrent.futures import ProcessPoolExecutor, as_completed\n",
    "\n",
    "import discretize \n",
    "from simpeg.utils import mkvc, plot_1d_layer_model\n",
    "from simpeg import (\n",
    "    maps,\n",
    "    Data,\n",
    "    data_misfit,\n",
    "    inverse_problem,\n",
    "    regularization,\n",
    "    optimization,\n",
    "    directives,\n",
    "    inversion,\n",
    "    utils,\n",
    ")\n",
    "from simpeg.electromagnetics import time_domain as tdem\n",
    "from simpeg.utils.solver_utils import get_default_solver\n",
    "\n",
    "from simpeg.meta import MultiprocessingMetaSimulation #DaskMetaSimulation"
   ]
  },
  {
   "cell_type": "code",
   "execution_count": 2,
   "id": "b6140b2a-3139-44f2-a600-ba8b73054e79",
   "metadata": {},
   "outputs": [],
   "source": [
    "# from inversions_1d import create_inversion, run_inv"
   ]
  },
  {
   "cell_type": "code",
   "execution_count": 3,
   "id": "aabf8349-b2ea-41ef-a974-3537317c7cfe",
   "metadata": {},
   "outputs": [
    {
     "data": {
      "text/plain": [
       "pymatsolver.direct.pardiso.Pardiso"
      ]
     },
     "execution_count": 3,
     "metadata": {},
     "output_type": "execute_result"
    }
   ],
   "source": [
    "Solver = get_default_solver()\n",
    "Solver"
   ]
  },
  {
   "cell_type": "markdown",
   "id": "570037d2-aeab-487d-ba4a-30e1bb25c2ee",
   "metadata": {},
   "source": [
    "# load data "
   ]
  },
  {
   "cell_type": "code",
   "execution_count": 4,
   "id": "6cbb11df-7177-4c15-9306-af4487b12d76",
   "metadata": {},
   "outputs": [],
   "source": [
    "n_times_invert = 20"
   ]
  },
  {
   "cell_type": "code",
   "execution_count": 5,
   "id": "3ff22d31-60af-41a8-8a1c-e0c440f7cd2a",
   "metadata": {},
   "outputs": [],
   "source": [
    "rx_locs = np.load(\"rx_locs.npy\")"
   ]
  },
  {
   "cell_type": "code",
   "execution_count": 6,
   "id": "4d519ec9-3d80-4e99-8f1d-70923b6c6c7b",
   "metadata": {},
   "outputs": [
    {
     "data": {
      "text/plain": [
       "array([-400., -360., -320., -280., -240., -200., -160., -120.,  -80.,\n",
       "        -40.,    0.,   40.,   80.,  120.,  160.,  200.,  240.,  280.,\n",
       "        320.,  360.,  400., -400., -360., -320., -280., -240., -200.,\n",
       "       -160., -120.,  -80.,  -40.,    0.,   40.,   80.,  120.,  160.,\n",
       "        200.,  240.,  280.,  320.,  360.,  400., -400., -360., -320.,\n",
       "       -280., -240., -200., -160., -120.,  -80.,  -40.,    0.,   40.,\n",
       "         80.,  120.,  160.,  200.,  240.,  280.,  320.,  360.,  400.,\n",
       "       -400., -360., -320., -280., -240., -200., -160., -120.,  -80.,\n",
       "        -40.,    0.,   40.,   80.,  120.,  160.,  200.,  240.,  280.,\n",
       "        320.,  360.,  400., -400., -360., -320., -280., -240., -200.,\n",
       "       -160., -120.,  -80.,  -40.,    0.,   40.,   80.,  120.,  160.,\n",
       "        200.,  240.,  280.,  320.,  360.,  400., -400., -360., -320.,\n",
       "       -280., -240., -200., -160., -120.,  -80.,  -40.,    0.,   40.,\n",
       "         80.,  120.,  160.,  200.,  240.,  280.,  320.,  360.,  400.,\n",
       "       -400., -360., -320., -280., -240., -200., -160., -120.,  -80.,\n",
       "        -40.,    0.,   40.,   80.,  120.,  160.,  200.,  240.,  280.,\n",
       "        320.,  360.,  400., -400., -360., -320., -280., -240., -200.,\n",
       "       -160., -120.,  -80.,  -40.,    0.,   40.,   80.,  120.,  160.,\n",
       "        200.,  240.,  280.,  320.,  360.,  400., -400., -360., -320.,\n",
       "       -280., -240., -200., -160., -120.,  -80.,  -40.,    0.,   40.,\n",
       "         80.,  120.,  160.,  200.,  240.,  280.,  320.,  360.,  400.])"
      ]
     },
     "execution_count": 6,
     "metadata": {},
     "output_type": "execute_result"
    }
   ],
   "source": [
    "rx_locs[:, 0]"
   ]
  },
  {
   "cell_type": "code",
   "execution_count": 7,
   "id": "a8a91c39-21e7-46f2-bf7a-fe1816e36806",
   "metadata": {},
   "outputs": [],
   "source": [
    "def load_obs_file(filepath):\n",
    "    \"\"\"\n",
    "    Load a GIF-style .pre file (TDoctree format).\n",
    "\n",
    "    Parameters\n",
    "    ----------\n",
    "    filepath : str\n",
    "        Path to the .pre-style data file\n",
    "\n",
    "    Returns\n",
    "    -------\n",
    "    dict\n",
    "        {\n",
    "            \"ignore\": float or None,\n",
    "            \"n_trx\": int,\n",
    "            \"transmitters\": list of {\n",
    "                \"location\": list of float,\n",
    "                \"n_recv\": int,\n",
    "                \"n_time\": int,\n",
    "                \"receivers\": list of {\n",
    "                    \"loc\": (x, y, z),\n",
    "                    \"time\": float,\n",
    "                    \"data\": list of float\n",
    "                }\n",
    "            }\n",
    "        }\n",
    "    \"\"\"\n",
    "    with open(filepath, \"r\") as f:\n",
    "        lines = [line.strip() for line in f if line.strip()]\n",
    "\n",
    "    i = 0\n",
    "    ignore_value = None\n",
    "    transmitters = []\n",
    "\n",
    "    # Parse IGNORE line if present\n",
    "    if lines[i].startswith(\"IGNORE\"):\n",
    "        ignore_value = float(lines[i].split()[1])\n",
    "        i += 1\n",
    "\n",
    "    # Parse number of transmitters\n",
    "    if lines[i].startswith(\"N_TRX\"):\n",
    "        n_trx = int(lines[i].split()[1])\n",
    "        i += 1\n",
    "    else:\n",
    "        raise ValueError(\"Missing N_TRX line\")\n",
    "\n",
    "    while i < len(lines):\n",
    "        if lines[i].startswith(\"TRX_LOOP\"):\n",
    "            i += 1\n",
    "            location = list(map(float, lines[i].split()))\n",
    "            i += 1\n",
    "            if not lines[i].startswith(\"N_RECV\"):\n",
    "                raise ValueError(\"Expected N_RECV\")\n",
    "            n_recv = int(lines[i].split()[1])\n",
    "            i += 1\n",
    "            if not lines[i].startswith(\"N_TIME\"):\n",
    "                raise ValueError(\"Expected N_TIME\")\n",
    "            n_time = int(lines[i].split()[1])\n",
    "            i += 1\n",
    "\n",
    "            receivers = []\n",
    "            for _ in range(n_recv * n_time):\n",
    "                parts = lines[i].split()\n",
    "                x, y, z = map(float, parts[0:3])\n",
    "                time = float(parts[3])\n",
    "                data = list(map(float, parts[4:]))\n",
    "                receivers.append({\n",
    "                    \"loc\": (x, y, z),\n",
    "                    \"time\": time,\n",
    "                    \"data\": data\n",
    "                })\n",
    "                i += 1\n",
    "\n",
    "            transmitters.append({\n",
    "                \"location\": location,\n",
    "                \"n_recv\": n_recv,\n",
    "                \"n_time\": n_time,\n",
    "                \"receivers\": receivers\n",
    "            })\n",
    "        else:\n",
    "            i += 1  # Skip unknown or empty lines\n",
    "\n",
    "    return {\n",
    "        \"ignore\": ignore_value,\n",
    "        \"n_trx\": len(transmitters),\n",
    "        \"transmitters\": transmitters\n",
    "    }\n"
   ]
  },
  {
   "cell_type": "code",
   "execution_count": 8,
   "id": "5fd81991-6667-490c-a4c9-fb5709f40ef1",
   "metadata": {},
   "outputs": [],
   "source": [
    "dobs = load_obs_file(\"dobs.txt\")"
   ]
  },
  {
   "cell_type": "code",
   "execution_count": 9,
   "id": "db758b4b-449e-4bba-9567-a22c57716508",
   "metadata": {},
   "outputs": [],
   "source": [
    "rx_times = np.array([dobs[\"transmitters\"][0][\"receivers\"][j][\"time\"] for j in range(len(dobs[\"transmitters\"][0][\"receivers\"]))])"
   ]
  },
  {
   "cell_type": "code",
   "execution_count": 10,
   "id": "e667ec24-e5b1-44f4-bd1c-c49d684b55a5",
   "metadata": {},
   "outputs": [
    {
     "data": {
      "text/plain": [
       "array([2.00000000e-05, 2.54854997e-05, 3.24755348e-05, 4.13827616e-05,\n",
       "       5.27330180e-05, 6.71963657e-05, 8.56266480e-05, 1.09111896e-04,\n",
       "       1.39038559e-04, 1.77173358e-04, 2.25767578e-04, 2.87689978e-04,\n",
       "       3.66596142e-04, 4.67144294e-04, 5.95270288e-04, 7.58538038e-04,\n",
       "       9.66586048e-04, 1.23169642e-03, 1.56951994e-03, 2.00000000e-03])"
      ]
     },
     "execution_count": 10,
     "metadata": {},
     "output_type": "execute_result"
    }
   ],
   "source": [
    "rx_times"
   ]
  },
  {
   "cell_type": "code",
   "execution_count": 11,
   "id": "c6023670-236a-462f-93f8-559b454e3f58",
   "metadata": {},
   "outputs": [],
   "source": [
    "n_times_invert = len(rx_times)"
   ]
  },
  {
   "cell_type": "markdown",
   "id": "3f41a307-4215-4e3e-839a-cc6043fdf40b",
   "metadata": {},
   "source": [
    "# create survey"
   ]
  },
  {
   "cell_type": "code",
   "execution_count": 12,
   "id": "b94ea81b-edea-4ba7-8621-beae5127c408",
   "metadata": {},
   "outputs": [],
   "source": [
    "tx_height = rx_locs[0, 2]\n",
    "source_list = []\n",
    "\n",
    "for i in range(rx_locs.shape[0]): \n",
    "    rx = tdem.receivers.PointMagneticFluxTimeDerivative(rx_locs[i, :], rx_times, orientation=\"z\")\n",
    "    src = tdem.sources.CircularLoop(\n",
    "        receiver_list=[rx], location=rx_locs[i, :], orientation=\"z\", radius=10, \n",
    "        waveform=tdem.sources.StepOffWaveform()\n",
    "    )\n",
    "    source_list.append(src)\n",
    "\n",
    "full_survey = tdem.Survey(source_list)\n"
   ]
  },
  {
   "cell_type": "code",
   "execution_count": 13,
   "id": "67fa371a-8276-4957-98dc-18e2fdb83a38",
   "metadata": {},
   "outputs": [],
   "source": [
    "dobs_values = np.zeros((n_times_invert, len(dobs[\"transmitters\"])))\n",
    "for i in range(len(dobs[\"transmitters\"])): \n",
    "    for j in range(n_times_invert): \n",
    "        dobs_values[j, i] = dobs[\"transmitters\"][i][\"receivers\"][j][\"data\"][-2]"
   ]
  },
  {
   "cell_type": "code",
   "execution_count": 14,
   "id": "3a7bd154-47d9-4a92-b243-495ee86dead0",
   "metadata": {},
   "outputs": [],
   "source": [
    "relative_error = 0.1\n",
    "noise_floor = 1e-11\n",
    "observed_data = Data(survey=full_survey, dobs=-discretize.utils.mkvc(dobs_values), relative_error=relative_error, noise_floor=noise_floor)"
   ]
  },
  {
   "cell_type": "code",
   "execution_count": 15,
   "id": "7285f177-f371-416e-a2e5-9450940f12d7",
   "metadata": {},
   "outputs": [
    {
     "data": {
      "text/plain": [
       "array([-240., -120.,   30.])"
      ]
     },
     "execution_count": 15,
     "metadata": {},
     "output_type": "execute_result"
    }
   ],
   "source": [
    "ind = 25\n",
    "rx_locs[ind, :]"
   ]
  },
  {
   "cell_type": "code",
   "execution_count": 16,
   "id": "fcd27f56-1030-42bd-b796-baf5d2f5685a",
   "metadata": {},
   "outputs": [],
   "source": [
    "ubc_mesh = discretize.TreeMesh.read_UBC(\"octree_mesh.txt\")\n",
    "model = discretize.TreeMesh.read_model_UBC(ubc_mesh, \"target_0.con\")"
   ]
  },
  {
   "cell_type": "code",
   "execution_count": 17,
   "id": "cbf0a5bb-d1b7-44b0-8ddb-1bbef6807c88",
   "metadata": {},
   "outputs": [
    {
     "data": {
      "text/plain": [
       "189"
      ]
     },
     "execution_count": 17,
     "metadata": {},
     "output_type": "execute_result"
    }
   ],
   "source": [
    "len(full_survey.source_list)"
   ]
  },
  {
   "cell_type": "code",
   "execution_count": 18,
   "id": "503e92e7-6b8d-4ae2-b22a-67e94b4520b8",
   "metadata": {},
   "outputs": [
    {
     "data": {
      "text/plain": [
       "94"
      ]
     },
     "execution_count": 18,
     "metadata": {},
     "output_type": "execute_result"
    }
   ],
   "source": [
    "src_ind = int((len(full_survey.source_list) -1 )/2)\n",
    "src_ind"
   ]
  },
  {
   "cell_type": "code",
   "execution_count": 19,
   "id": "50eed06a-48f7-45d4-8395-d86e699b82d5",
   "metadata": {},
   "outputs": [
    {
     "data": {
      "text/plain": [
       "[<matplotlib.lines.Line2D at 0x7fd032f1f9d0>]"
      ]
     },
     "execution_count": 19,
     "metadata": {},
     "output_type": "execute_result"
    },
    {
     "data": {
      "image/png": "[encoded data removed]",
      "text/plain": [
       "<Figure size 640x480 with 2 Axes>"
      ]
     },
     "metadata": {},
     "output_type": "display_data"
    }
   ],
   "source": [
    "fig, ax = plt.subplots(1, 1)\n",
    "plt.colorbar(\n",
    "    ubc_mesh.plot_slice(\n",
    "        model, ax=ax, pcolor_opts={\"norm\":LogNorm()}, \n",
    "        normal=\"Z\", ind=1468\n",
    "    )[0], \n",
    "    ax=ax\n",
    ")\n",
    "\n",
    "ax.set_xlim(1000*np.r_[-1, 1])\n",
    "ax.set_ylim(1000*np.r_[-1, 1])\n",
    "\n",
    "ax.plot(rx_locs[:, 0], rx_locs[:, 1], \"wo\", ms=4)\n",
    "ax.plot(rx_locs[src_ind, 0], rx_locs[src_ind, 1], \"rs\", ms=6)"
   ]
  },
  {
   "cell_type": "code",
   "execution_count": 20,
   "id": "78e68022-c7c3-49ec-bddc-716fa00a226e",
   "metadata": {},
   "outputs": [
    {
     "data": {
      "text/plain": [
       "array([-1.367907e-07, -7.903297e-08, -4.424004e-08, -2.621037e-08,\n",
       "       -1.545964e-08, -9.021990e-09, -5.224410e-09, -2.996222e-09,\n",
       "       -1.656130e-09, -9.594785e-10, -5.425148e-10, -3.020185e-10,\n",
       "       -1.666767e-10, -8.907670e-11, -5.005086e-11, -2.773695e-11,\n",
       "       -1.523912e-11, -8.178872e-12, -4.635361e-12, -2.569505e-12])"
      ]
     },
     "execution_count": 20,
     "metadata": {},
     "output_type": "execute_result"
    }
   ],
   "source": [
    "observed_data[src, src.receiver_list[0]]"
   ]
  },
  {
   "cell_type": "code",
   "execution_count": 21,
   "id": "285e0dbe-5366-41dd-bc93-903b21cb1aad",
   "metadata": {},
   "outputs": [
    {
     "data": {
      "image/png": "[encoded data removed]",
      "text/plain": [
       "<Figure size 640x480 with 1 Axes>"
      ]
     },
     "metadata": {},
     "output_type": "display_data"
    }
   ],
   "source": [
    "for src_ind in range(180): \n",
    "    src = full_survey.source_list[src_ind]\n",
    "    \n",
    "    # plt.loglog(rx_times, -data_dict[\"background\"][src, src.receiver_list[0]], \"k\", alpha=0.5)\n",
    "    plt.loglog(rx_times, -observed_data[src, src.receiver_list[0]], \"C0-o\", ms=4, alpha=0.1)"
   ]
  },
  {
   "cell_type": "code",
   "execution_count": 22,
   "id": "e9fbfc66-2bef-498f-8f73-1d0c0b36c165",
   "metadata": {},
   "outputs": [],
   "source": [
    "thicknesses_true = np.r_[60, 40]\n",
    "sigma_true = 1./np.r_[500, 20, 500]"
   ]
  },
  {
   "cell_type": "code",
   "execution_count": 23,
   "id": "abbbfe88-cef7-4015-b584-b22fd35a321f",
   "metadata": {},
   "outputs": [],
   "source": [
    "src_ind = 90\n",
    "source_sounding = full_survey.source_list[src_ind]\n",
    "survey_sounding = tdem.Survey([source_sounding])\n",
    "sim1d_true = tdem.Simulation1DLayered(\n",
    "    survey=survey_sounding, thicknesses=thicknesses_true, sigmaMap=maps.IdentityMap(nP=3)\n",
    ")"
   ]
  },
  {
   "cell_type": "code",
   "execution_count": 24,
   "id": "05822a28-d036-4953-ac41-28a6fc233077",
   "metadata": {},
   "outputs": [],
   "source": [
    "dpred_halfspace = sim1d_true.dpred(1./500*np.ones(3))"
   ]
  },
  {
   "cell_type": "code",
   "execution_count": 25,
   "id": "ffed7b3e-0f9d-44f9-8963-b3b9dce3532e",
   "metadata": {},
   "outputs": [],
   "source": [
    "dpred_1d = sim1d_true.dpred(sigma_true)"
   ]
  },
  {
   "cell_type": "code",
   "execution_count": 26,
   "id": "bd4dc299-6579-47f9-b9b2-af14658a7169",
   "metadata": {},
   "outputs": [
    {
     "data": {
      "text/plain": [
       "<matplotlib.legend.Legend at 0x7fd0380d32d0>"
      ]
     },
     "execution_count": 26,
     "metadata": {},
     "output_type": "execute_result"
    },
    {
     "data": {
      "image/png": "[encoded data removed]",
      "text/plain": [
       "<Figure size 640x480 with 1 Axes>"
      ]
     },
     "metadata": {},
     "output_type": "display_data"
    }
   ],
   "source": [
    "fig, ax = plt.subplots(1, 1)\n",
    "\n",
    "ax.loglog(rx_times, -dpred_halfspace, \"k-o\", ms=4, label=\"halfspace\")\n",
    "ax.loglog(rx_times, -observed_data[source_sounding, source_sounding.receiver_list[0]], \"C0-o\", ms=4, label=\"dobs\")\n",
    "ax.loglog(rx_times, -dpred_1d, \"C1-o\", ms=4, label=\"1D\")\n",
    "\n",
    "ax.legend()"
   ]
  },
  {
   "cell_type": "code",
   "execution_count": 27,
   "id": "f725ec8d-c732-48ea-a63d-3e5450805314",
   "metadata": {},
   "outputs": [],
   "source": [
    "# octree_mesh = discretize.load_mesh(\"./synthetic-data/treemesh.json\")\n",
    "\n",
    "# octree_mesh = discretize.load_mesh()"
   ]
  },
  {
   "cell_type": "code",
   "execution_count": 28,
   "id": "73dcfe18-de48-42ce-b07e-b7d4d685ff61",
   "metadata": {},
   "outputs": [],
   "source": [
    "cs = 10\n",
    "core_region = 200\n",
    "npad = 10\n",
    "padding_factor = 1.3\n",
    "\n",
    "thicknesses1d = discretize.utils.unpack_widths(\n",
    "    [(cs, np.int64(np.ceil(core_region/cs))), (cs, npad, padding_factor)]\n",
    ")"
   ]
  },
  {
   "cell_type": "code",
   "execution_count": 29,
   "id": "4686cbe1-78e3-457b-8d9a-fca2f51f5bae",
   "metadata": {},
   "outputs": [
    {
     "data": {
      "text/plain": [
       "np.float64(754.0534646790002)"
      ]
     },
     "execution_count": 29,
     "metadata": {},
     "output_type": "execute_result"
    }
   ],
   "source": [
    "np.sum(thicknesses1d)\n"
   ]
  },
  {
   "cell_type": "code",
   "execution_count": 36,
   "id": "d31a96a5-e517-4600-8371-a4d1cc30ac26",
   "metadata": {},
   "outputs": [],
   "source": [
    "# set up 1D inversion \n",
    "def create_inversion(\n",
    "    ind,\n",
    "    dobs,\n",
    "    rx_times_invert=rx_times[:n_times_invert],\n",
    "    rx_locs=rx_locs, \n",
    "    relative_error=0.05,\n",
    "    noise_floor=1e-13,\n",
    "    alpha_s = 1e-2,\n",
    "    alpha_x = 1,\n",
    "    rho_back = 500,\n",
    "    beta0 = 10,\n",
    "): \n",
    "    cs = 10\n",
    "    core_region = 200\n",
    "    npad = 10\n",
    "    padding_factor = 1.3\n",
    "    \n",
    "    thicknesses1d = discretize.utils.unpack_widths(\n",
    "        [(cs, np.int64(np.ceil(core_region/cs))), (cs, npad, padding_factor)]\n",
    "    )\n",
    "    \n",
    "    rx_sounding = tdem.receivers.PointMagneticFluxTimeDerivative(\n",
    "        locations=rx_locs[ind, :], times=rx_times_invert, orientation=\"z\"\n",
    "    )\n",
    "    src_sounding = tdem.sources.CircularLoop(\n",
    "        receiver_list=[rx_sounding], location=rx_locs[ind, :], orientation=\"z\", \n",
    "        radius=10, \n",
    "        waveform=tdem.sources.StepOffWaveform()\n",
    "    )\n",
    "    survey_sounding = tdem.Survey([src_sounding])\n",
    "    mesh_invert = discretize.TensorMesh([(np.r_[thicknesses1d, thicknesses1d[-1]])], origin=\"0\")\n",
    "    \n",
    "    sim1d = tdem.Simulation1DLayered(\n",
    "        survey=survey_sounding, thicknesses=thicknesses1d, sigmaMap=maps.ExpMap(mesh_invert)\n",
    "    )\n",
    "\n",
    "    data_invert = Data(\n",
    "        survey_sounding, \n",
    "        dobs=dobs,\n",
    "        standard_deviation=relative_error*np.abs(dobs) + noise_floor\n",
    "    )\n",
    "    \n",
    "    dmis = data_misfit.L2DataMisfit(simulation=sim1d, data=data_invert)\n",
    "    reg = regularization.WeightedLeastSquares(\n",
    "        mesh_invert, alpha_s=alpha_s, alpha_x=alpha_x, \n",
    "        # reference_model=np.log(1./rho_back),\n",
    "        # norms=norms\n",
    "    )\n",
    "    \n",
    "    opt = optimization.InexactGaussNewton(maxIter=20)\n",
    "    inv_prob = inverse_problem.BaseInvProblem(dmis, reg, opt, beta=beta0)\n",
    "    \n",
    "    # Defining a starting value for the trade-off parameter (beta) between the data\n",
    "    # misfit and the regularization.\n",
    "    # starting_beta = directives.BetaEstimate_ByEig(beta0_ratio=10)\n",
    "    \n",
    "    # cool_beta = directives.BetaSchedule(coolingFactor=1.5, coolingRate=1)\n",
    "    \n",
    "    # Update the preconditionner\n",
    "    update_Jacobi = directives.UpdatePreconditioner()\n",
    "    \n",
    "    # Options for outputting recovered models and predicted data for each beta.\n",
    "    save_iteration = directives.SaveOutputDictEveryIteration(\n",
    "        saveOnDisk=False,\n",
    "    )\n",
    "    \n",
    "    \n",
    "    # Updating the preconditionner if it is model dependent.\n",
    "    update_jacobi = directives.UpdatePreconditioner()\n",
    "    \n",
    "    # Add sensitivity weights\n",
    "    sensitivity_weights = directives.UpdateSensitivityWeights()\n",
    "    \n",
    "    target_misfit = directives.TargetMisfit()\n",
    "    \n",
    "    # The directives are defined as a list.\n",
    "    directives_list = [\n",
    "        sensitivity_weights,\n",
    "        update_jacobi,\n",
    "        # starting_beta,\n",
    "        # cool_beta,\n",
    "        save_iteration,\n",
    "        target_misfit,\n",
    "    ]\n",
    "    \n",
    "    # Here we combine the inverse problem and the set of directives\n",
    "    inv = inversion.BaseInversion(inv_prob, directives_list)\n",
    "    return inv"
   ]
  },
  {
   "cell_type": "code",
   "execution_count": 37,
   "id": "bdc4238d-679d-4069-8edb-2c5a51a38059",
   "metadata": {},
   "outputs": [],
   "source": [
    "ind = 90\n",
    "source_sounding = full_survey.source_list[ind]\n",
    "inv = create_inversion(\n",
    "    ind, observed_data[source_sounding, source_sounding.receiver_list[0]], \n",
    "    rx_times[:n_times_invert], rx_locs\n",
    ")"
   ]
  },
  {
   "cell_type": "code",
   "execution_count": 38,
   "id": "a097abb8-c265-4d43-aef5-ca1b25eda96e",
   "metadata": {},
   "outputs": [
    {
     "name": "stdout",
     "output_type": "stream",
     "text": [
      "\n",
      "Running inversion with SimPEG v0.24.0\n",
      "simpeg.InvProblem will set Regularization.reference_model to m0.\n",
      "simpeg.InvProblem will set Regularization.reference_model to m0.\n",
      "simpeg.InvProblem will set Regularization.reference_model to m0.\n",
      "\n",
      "                    simpeg.InvProblem is setting bfgsH0 to the inverse of the eval2Deriv.\n",
      "                    ***Done using the default solver Pardiso and no solver_opts.***\n",
      "                    \n",
      "model has any nan: 0\n",
      "============================ Inexact Gauss Newton ============================\n",
      "  #     beta     phi_d     phi_m       f      |proj(x-g)-x|  LS    Comment   \n",
      "-----------------------------------------------------------------------------\n",
      "x0 has any nan: 0\n",
      "   0  1.00e+01  6.30e+02  0.00e+00  6.30e+02    7.70e+02      0              \n",
      "   1  1.00e+01  2.18e+02  2.32e-01  2.21e+02    8.22e+02      0              \n",
      "   2  1.00e+01  4.69e+01  1.75e-01  4.86e+01    4.66e+01      0              \n",
      "   3  1.00e+01  3.37e+01  3.99e-01  3.76e+01    1.44e+02      1   Skip BFGS  \n",
      "------------------------- STOP! -------------------------\n",
      "1 : |fc-fOld| = 0.0000e+00 <= tolF*(1+|f0|) = 6.3103e+01\n",
      "1 : |xc-x_last| = 1.5317e+00 <= tolX*(1+|x0|) = 3.5601e+00\n",
      "0 : |proj(x-g)-x|    = 1.4365e+02 <= tolG          = 1.0000e-01\n",
      "0 : |proj(x-g)-x|    = 1.4365e+02 <= 1e3*eps       = 1.0000e-02\n",
      "0 : maxIter   =      20    <= iter          =      4\n",
      "------------------------- DONE! -------------------------\n"
     ]
    }
   ],
   "source": [
    "rho_start = 500\n",
    "m0 = np.log(1/rho_start) * np.ones(len(thicknesses1d)+1)\n",
    "mopt = inv.run(m0)"
   ]
  },
  {
   "cell_type": "code",
   "execution_count": 39,
   "id": "fa89be64-111d-4511-8224-131dca226478",
   "metadata": {},
   "outputs": [],
   "source": [
    "iterations = len(inv.directiveList.dList[-2].outDict)"
   ]
  },
  {
   "cell_type": "code",
   "execution_count": 40,
   "id": "ac0d6e74-b99d-4eed-8f3d-e4825c710d04",
   "metadata": {},
   "outputs": [
    {
     "data": {
      "text/plain": [
       "[<matplotlib.lines.Line2D at 0x7fd032eeddd0>]"
      ]
     },
     "execution_count": 40,
     "metadata": {},
     "output_type": "execute_result"
    },
    {
     "data": {
      "image/png": "[encoded data removed]",
      "text/plain": [
       "<Figure size 640x480 with 1 Axes>"
      ]
     },
     "metadata": {},
     "output_type": "display_data"
    }
   ],
   "source": [
    "\n",
    "# plt.loglog(rx_times, -data_dict[\"background\"][src, src.receiver_list[0]], \"k\", alpha=0.5)\n",
    "# plt.loglog(rx_times, -data_dict[key][src, rx], \"C0o\", ms=4)\n",
    "rx_times_invert = rx_times[:n_times_invert]\n",
    "plt.errorbar(rx_times_invert, -inv.invProb.dmisfit[0][1].data.dobs, yerr=inv.invProb.dmisfit[0][1].data.standard_deviation)\n",
    "plt.loglog(rx_times_invert, -inv.directiveList.dList[-2].outDict[iterations][\"dpred\"], \"C1-s\", ms=4)"
   ]
  },
  {
   "cell_type": "code",
   "execution_count": 41,
   "id": "09d15f38-0a9e-45fc-8b78-43141ad38563",
   "metadata": {},
   "outputs": [
    {
     "data": {
      "text/plain": [
       "(0.0001, 0.1)"
      ]
     },
     "execution_count": 41,
     "metadata": {},
     "output_type": "execute_result"
    },
    {
     "data": {
      "image/png": "[encoded data removed]",
      "text/plain": [
       "<Figure size 200x400 with 1 Axes>"
      ]
     },
     "metadata": {},
     "output_type": "display_data"
    }
   ],
   "source": [
    "fig, ax = plt.subplots(1, 1, figsize=(2, 4))\n",
    "plot_1d_layer_model(\n",
    "    thicknesses1d, np.exp(mopt), ax=ax, color=\"C0\", label=\"recovered\"\n",
    ")\n",
    "plot_1d_layer_model(\n",
    "    thicknesses_true, sigma_true, ax=ax, color=\"k\", label=\"true\"\n",
    ")\n",
    "ax.set_ylim([400, 0])\n",
    "ax.set_xlim([1e-4, 1e-1])\n"
   ]
  },
  {
   "cell_type": "code",
   "execution_count": null,
   "id": "ee03bceb-7ace-4207-8201-43179285fdd7",
   "metadata": {},
   "outputs": [],
   "source": []
  },
  {
   "cell_type": "code",
   "execution_count": null,
   "id": "c2101f56-8437-473f-b7c5-6a91797dc720",
   "metadata": {},
   "outputs": [],
   "source": []
  },
  {
   "cell_type": "code",
   "execution_count": null,
   "id": "441ebcf7-16ca-4b8e-afd9-7aec2bc58e56",
   "metadata": {},
   "outputs": [],
   "source": []
  },
  {
   "cell_type": "code",
   "execution_count": null,
   "id": "e462293a-c7dc-4625-a558-d162ded3c0be",
   "metadata": {},
   "outputs": [],
   "source": [
    "\n"
   ]
  },
  {
   "cell_type": "code",
   "execution_count": 36,
   "id": "e4c0c49d-1f2e-4bac-bb7a-a3d1f1dd4fe2",
   "metadata": {},
   "outputs": [],
   "source": [
    "\n",
    "ind = 91\n",
    "source_sounding = full_survey.source_list[ind]\n",
    "inv = create_inversion(\n",
    "    ind, observed_data[source_sounding, source_sounding.receiver_list[0]], rx_times[:n_times_invert], rx_locs\n",
    ")"
   ]
  },
  {
   "cell_type": "code",
   "execution_count": 37,
   "id": "42d5c9a8-28d9-4be1-bf20-fae260c3106b",
   "metadata": {},
   "outputs": [
    {
     "name": "stdout",
     "output_type": "stream",
     "text": [
      "\n",
      "Running inversion with SimPEG v0.24.0\n",
      "simpeg.InvProblem will set Regularization.reference_model to m0.\n",
      "simpeg.InvProblem will set Regularization.reference_model to m0.\n",
      "simpeg.InvProblem will set Regularization.reference_model to m0.\n",
      "\n",
      "                    simpeg.InvProblem is setting bfgsH0 to the inverse of the eval2Deriv.\n",
      "                    ***Done using the default solver Pardiso and no solver_opts.***\n",
      "                    \n",
      "model has any nan: 0\n",
      "============================ Inexact Gauss Newton ============================\n",
      "  #     beta     phi_d     phi_m       f      |proj(x-g)-x|  LS    Comment   \n",
      "-----------------------------------------------------------------------------\n",
      "x0 has any nan: 0\n",
      "   0  1.00e+00  1.36e+03  0.00e+00  1.36e+03    8.36e+02      0              \n",
      "   1  1.00e+00  6.60e+02  2.16e-01  6.60e+02    5.87e+02      2              \n",
      "   2  1.00e+00  6.21e+02  1.72e+00  6.22e+02    1.25e+03      1              \n",
      "   3  1.00e+00  2.14e+02  6.61e+00  2.21e+02    7.10e+02      0              \n",
      "   4  1.00e+00  1.14e+02  7.50e+00  1.21e+02    6.12e+01      0   Skip BFGS  \n",
      "   5  1.00e+00  1.07e+02  5.69e+00  1.13e+02    2.91e+02      2   Skip BFGS  \n",
      "   6  1.00e+00  1.00e+02  5.68e+00  1.06e+02    3.28e+02      3   Skip BFGS  \n",
      "   7  1.00e+00  6.99e+01  7.59e+00  7.74e+01    7.87e+01      0   Skip BFGS  \n",
      "   8  1.00e+00  6.63e+01  6.53e+00  7.29e+01    1.18e+02      3   Skip BFGS  \n",
      "   9  1.00e+00  6.35e+01  6.39e+00  6.99e+01    1.71e+02      3   Skip BFGS  \n",
      "  10  1.00e+00  6.19e+01  6.42e+00  6.83e+01    2.12e+02      3   Skip BFGS  \n",
      "  11  1.00e+00  5.38e+01  7.05e+00  6.09e+01    1.31e+01      0              \n",
      "  12  1.00e+00  5.20e+01  6.27e+00  5.82e+01    1.09e+02      3   Skip BFGS  \n",
      "  13  1.00e+00  5.05e+01  6.63e+00  5.71e+01    1.35e+02      3   Skip BFGS  \n",
      "  14  1.00e+00  4.62e+01  7.66e+00  5.38e+01    1.38e+01      0   Skip BFGS  \n",
      "  15  1.00e+00  4.52e+01  6.62e+00  5.18e+01    8.64e+01      3   Skip BFGS  \n",
      "  16  1.00e+00  4.40e+01  6.81e+00  5.08e+01    1.03e+02      3   Skip BFGS  \n",
      "  17  1.00e+00  4.22e+01  7.08e+00  4.93e+01    9.76e+00      0              \n",
      "  18  1.00e+00  4.16e+01  6.65e+00  4.83e+01    3.71e+01      3   Skip BFGS  \n",
      "  19  1.00e+00  4.05e+01  7.46e+00  4.79e+01    8.87e+01      2   Skip BFGS  \n",
      "  20  1.00e+00  3.93e+01  7.72e+00  4.70e+01    8.20e+00      0              \n",
      "------------------------- STOP! -------------------------\n",
      "1 : |fc-fOld| = 9.1100e-01 <= tolF*(1+|f0|) = 1.3603e+02\n",
      "1 : |xc-x_last| = 2.4716e-01 <= tolX*(1+|x0|) = 3.5601e+00\n",
      "0 : |proj(x-g)-x|    = 8.2039e+00 <= tolG          = 1.0000e-01\n",
      "0 : |proj(x-g)-x|    = 8.2039e+00 <= 1e3*eps       = 1.0000e-02\n",
      "1 : maxIter   =      20    <= iter          =     20\n",
      "------------------------- DONE! -------------------------\n"
     ]
    }
   ],
   "source": [
    "rho_start = 500\n",
    "m0 = np.log(1/rho_start) * np.ones(len(thicknesses1d)+1)\n",
    "mopt = inv.run(m0)\n",
    "    \n"
   ]
  },
  {
   "cell_type": "code",
   "execution_count": 38,
   "id": "07474e91-bdb5-4441-b260-8b9eb5d4c5b3",
   "metadata": {},
   "outputs": [
    {
     "data": {
      "text/plain": [
       "(0.0001, 0.1)"
      ]
     },
     "execution_count": 38,
     "metadata": {},
     "output_type": "execute_result"
    },
    {
     "data": {
      "image/png": "[encoded data removed]",
      "text/plain": [
       "<Figure size 200x400 with 1 Axes>"
      ]
     },
     "metadata": {},
     "output_type": "display_data"
    }
   ],
   "source": [
    "fig, ax = plt.subplots(1, 1, figsize=(2, 4))\n",
    "plot_1d_layer_model(\n",
    "    thicknesses1d, np.exp(mopt), ax=ax, color=\"C0\", label=\"recovered\"\n",
    ")\n",
    "plot_1d_layer_model(\n",
    "    thicknesses_true, sigma_true, ax=ax, color=\"k\", label=\"true\"\n",
    ")\n",
    "ax.set_ylim([400, 0])\n",
    "ax.set_xlim([1e-4, 1e-1])\n"
   ]
  },
  {
   "cell_type": "code",
   "execution_count": 39,
   "id": "d21cf0d1-7490-4899-9bdd-fb82ecfd856a",
   "metadata": {},
   "outputs": [
    {
     "data": {
      "text/plain": [
       "[<matplotlib.lines.Line2D at 0x7fe779cd16d0>]"
      ]
     },
     "execution_count": 39,
     "metadata": {},
     "output_type": "execute_result"
    },
    {
     "data": {
      "image/png": "[encoded data removed]",
      "text/plain": [
       "<Figure size 640x480 with 1 Axes>"
      ]
     },
     "metadata": {},
     "output_type": "display_data"
    }
   ],
   "source": [
    "\n",
    "# plt.loglog(rx_times, -data_dict[\"background\"][src, src.receiver_list[0]], \"k\", alpha=0.5)\n",
    "# plt.loglog(rx_times, -data_dict[key][src, rx], \"C0o\", ms=4)\n",
    "rx_times_invert = rx_times[:n_times_invert]\n",
    "plt.errorbar(rx_times_invert, -inv.invProb.dmisfit[0][1].data.dobs, yerr=inv.invProb.dmisfit[0][1].data.standard_deviation)\n",
    "plt.loglog(rx_times_invert, -inv.directiveList.dList[-2].outDict[iterations][\"dpred\"], \"C1-s\", ms=4)"
   ]
  },
  {
   "cell_type": "code",
   "execution_count": 40,
   "id": "c58e6be5-6d35-4410-9287-6e038f15a5ad",
   "metadata": {},
   "outputs": [],
   "source": [
    "rho_start = 500\n",
    "m0 = np.log(1/rho_start) * np.ones(len(thicknesses1d)+1)"
   ]
  },
  {
   "cell_type": "code",
   "execution_count": 43,
   "id": "212c67c0-18ea-49a4-a3b7-189906e4352a",
   "metadata": {},
   "outputs": [],
   "source": [
    "directory = \"/t40array/lheagy/2025-heagy-et-al-tle/target-0-invs-1d\""
   ]
  },
  {
   "cell_type": "code",
   "execution_count": 42,
   "id": "65377adf-5c7f-40d4-9ee7-1c1120c9569c",
   "metadata": {},
   "outputs": [],
   "source": [
    "def run_inv(ind, dobs, m0, directory=directory): \n",
    "    inv = create_inversion(ind, dobs)\n",
    "    \n",
    "    label_key=f\"{ind}\"\n",
    "    \n",
    "    mopt = inv.run(m0)\n",
    "    np.save(f\"{directory}/{label_key}_model.npy\", mopt)\n",
    "    \n",
    "    inv_dict = inv.directiveList.dList[-2].outDict\n",
    "    with open(f\"{directory}/{label_key}_inv_dict.pkl\", \"wb\") as f:\n",
    "        pickle.dump(inv_dict, f)\n",
    "\n",
    "    return label_key, mopt"
   ]
  },
  {
   "cell_type": "code",
   "execution_count": 43,
   "id": "5421f151-ebef-44cf-9e0c-d6bf64950485",
   "metadata": {
    "scrolled": true
   },
   "outputs": [
    {
     "name": "stdout",
     "output_type": "stream",
     "text": [
      "\n",
      "Running inversion with SimPEG v0.24.0\n",
      "simpeg.InvProblem will set Regularization.reference_model to m0.\n",
      "simpeg.InvProblem will set Regularization.reference_model to m0.\n",
      "simpeg.InvProblem will set Regularization.reference_model to m0.\n",
      "\n",
      "                    simpeg.InvProblem is setting bfgsH0 to the inverse of the eval2Deriv.\n",
      "                    ***Done using the default solver Pardiso and no solver_opts.***\n",
      "                    \n",
      "model has any nan: 0\n",
      "============================ Inexact Gauss Newton ============================\n",
      "  #     beta     phi_d     phi_m       f      |proj(x-g)-x|  LS    Comment   \n",
      "-----------------------------------------------------------------------------\n",
      "x0 has any nan: 0\n",
      "   0  1.00e+00  5.79e+01  0.00e+00  5.79e+01    3.24e+02      0              \n",
      "------------------------- STOP! -------------------------\n",
      "1 : |fc-fOld| = 0.0000e+00 <= tolF*(1+|f0|) = 5.8927e+00\n",
      "1 : |xc-x_last| = 4.9713e-01 <= tolX*(1+|x0|) = 3.5601e+00\n",
      "0 : |proj(x-g)-x|    = 3.2354e+02 <= tolG          = 1.0000e-01\n",
      "0 : |proj(x-g)-x|    = 3.2354e+02 <= 1e3*eps       = 1.0000e-02\n",
      "0 : maxIter   =      20    <= iter          =      1\n",
      "------------------------- DONE! -------------------------\n"
     ]
    },
    {
     "data": {
      "text/plain": [
       "('0',\n",
       " array([-6.18070666, -6.1799889 , -6.17798547, -6.17475994, -6.17025895,\n",
       "        -6.16445547, -6.15741603, -6.14935811, -6.14065575, -6.13176047,\n",
       "        -6.12306289, -6.11478036, -6.10694083, -6.09945302, -6.09219803,\n",
       "        -6.08509039, -6.07809666, -6.07122577, -6.06450944, -6.05776051,\n",
       "        -6.08657275, -6.10968133, -6.12812658, -6.14280961, -6.15447537,\n",
       "        -6.1636715 , -6.17079606, -6.17616994, -6.1802772 , -6.18546719,\n",
       "        -6.28216455]))"
      ]
     },
     "execution_count": 43,
     "metadata": {},
     "output_type": "execute_result"
    }
   ],
   "source": [
    "ind=0\n",
    "src = full_survey.source_list[ind]\n",
    "rx = src.receiver_list[0]\n",
    "run_inv(0, observed_data[src, rx], m0, directory)"
   ]
  },
  {
   "cell_type": "code",
   "execution_count": 47,
   "id": "1af2133d-04b3-43e3-805f-ce92d91a1de0",
   "metadata": {
    "collapsed": true,
    "jupyter": {
     "outputs_hidden": true
    }
   },
   "outputs": [
    {
     "name": "stdout",
     "output_type": "stream",
     "text": [
      "\n",
      "Running inversion with SimPEG v0.24.0\n",
      "simpeg.InvProblem will set Regularization.reference_model to m0.\n",
      "simpeg.InvProblem will set Regularization.reference_model to m0.\n",
      "simpeg.InvProblem will set Regularization.reference_model to m0.\n",
      "\n",
      "                    simpeg.InvProblem is setting bfgsH0 to the inverse of the eval2Deriv.\n",
      "                    ***Done using the default solver Pardiso and no solver_opts.***\n",
      "                    \n",
      "model has any nan: 0\n",
      "============================ Inexact Gauss Newton ============================\n",
      "  #     beta     phi_d     phi_m       f      |proj(x-g)-x|  LS    Comment   \n",
      "-----------------------------------------------------------------------------\n",
      "x0 has any nan: 0\n",
      "   0  1.00e+00  8.71e+02  0.00e+00  8.71e+02    8.32e+02      0              \n",
      "   1  1.00e+00  1.53e+02  2.02e-01  1.53e+02    2.63e+02      1              \n",
      "   2  1.00e+00  6.93e+01  6.73e-01  7.00e+01    3.27e+02      0              \n",
      "------------------------- STOP! -------------------------\n",
      "1 : |fc-fOld| = 0.0000e+00 <= tolF*(1+|f0|) = 8.7206e+01\n",
      "1 : |xc-x_last| = 1.0868e+00 <= tolX*(1+|x0|) = 3.5601e+00\n",
      "0 : |proj(x-g)-x|    = 3.2734e+02 <= tolG          = 1.0000e-01\n",
      "0 : |proj(x-g)-x|    = 3.2734e+02 <= 1e3*eps       = 1.0000e-02\n",
      "0 : maxIter   =      20    <= iter          =      3\n",
      "------------------------- DONE! -------------------------\n",
      "\n",
      "Running inversion with SimPEG v0.24.0\n",
      "simpeg.InvProblem will set Regularization.reference_model to m0.\n",
      "simpeg.InvProblem will set Regularization.reference_model to m0.\n",
      "simpeg.InvProblem will set Regularization.reference_model to m0.\n",
      "\n",
      "                    simpeg.InvProblem is setting bfgsH0 to the inverse of the eval2Deriv.\n",
      "                    ***Done using the default solver Pardiso and no solver_opts.***\n",
      "                    \n",
      "model has any nan: 0\n",
      "============================ Inexact Gauss Newton ============================\n",
      "  #     beta     phi_d     phi_m       f      |proj(x-g)-x|  LS    Comment   \n",
      "-----------------------------------------------------------------------------\n",
      "x0 has any nan: 0\n",
      "   0  1.00e+00  6.83e+01  0.00e+00  6.83e+01    3.50e+02      0              \n",
      "------------------------- STOP! -------------------------\n",
      "1 : |fc-fOld| = 0.0000e+00 <= tolF*(1+|f0|) = 6.9289e+00\n",
      "1 : |xc-x_last| = 5.1078e-01 <= tolX*(1+|x0|) = 3.5601e+00\n",
      "0 : |proj(x-g)-x|    = 3.4982e+02 <= tolG          = 1.0000e-01\n",
      "0 : |proj(x-g)-x|    = 3.4982e+02 <= 1e3*eps       = 1.0000e-02\n",
      "0 : maxIter   =      20    <= iter          =      1\n",
      "------------------------- DONE! -------------------------\n",
      "\n",
      "Running inversion with SimPEG v0.24.0\n",
      "simpeg.InvProblem will set Regularization.reference_model to m0.\n",
      "simpeg.InvProblem will set Regularization.reference_model to m0.\n",
      "simpeg.InvProblem will set Regularization.reference_model to m0.\n",
      "\n",
      "                    simpeg.InvProblem is setting bfgsH0 to the inverse of the eval2Deriv.\n",
      "                    ***Done using the default solver Pardiso and no solver_opts.***\n",
      "                    \n",
      "model has any nan: 0\n",
      "============================ Inexact Gauss Newton ============================\n",
      "  #     beta     phi_d     phi_m       f      |proj(x-g)-x|  LS    Comment   \n",
      "-----------------------------------------------------------------------------\n",
      "x0 has any nan: 0\n",
      "   0  1.00e+00  1.59e+02  0.00e+00  1.59e+02    5.13e+02      0              \n",
      "------------------------- STOP! -------------------------\n",
      "1 : |fc-fOld| = 0.0000e+00 <= tolF*(1+|f0|) = 1.6049e+01\n",
      "1 : |xc-x_last| = 7.9908e-01 <= tolX*(1+|x0|) = 3.5601e+00\n",
      "0 : |proj(x-g)-x|    = 5.1289e+02 <= tolG          = 1.0000e-01\n",
      "0 : |proj(x-g)-x|    = 5.1289e+02 <= 1e3*eps       = 1.0000e-02\n",
      "0 : maxIter   =      20    <= iter          =      1\n",
      "------------------------- DONE! -------------------------\n",
      "\n",
      "Running inversion with SimPEG v0.24.0\n",
      "simpeg.InvProblem will set Regularization.reference_model to m0.\n",
      "simpeg.InvProblem will set Regularization.reference_model to m0.\n",
      "simpeg.InvProblem will set Regularization.reference_model to m0.\n",
      "\n",
      "                    simpeg.InvProblem is setting bfgsH0 to the inverse of the eval2Deriv.\n",
      "                    ***Done using the default solver Pardiso and no solver_opts.***\n",
      "                    \n",
      "model has any nan: 0\n",
      "============================ Inexact Gauss Newton ============================\n",
      "  #     beta     phi_d     phi_m       f      |proj(x-g)-x|  LS    Comment   \n",
      "-----------------------------------------------------------------------------\n",
      "x0 has any nan: 0\n",
      "   0  1.00e+00  7.58e+01  0.00e+00  7.58e+01    3.65e+02      0              \n",
      "------------------------- STOP! -------------------------\n",
      "1 : |fc-fOld| = 0.0000e+00 <= tolF*(1+|f0|) = 7.6777e+00\n",
      "1 : |xc-x_last| = 5.7826e-01 <= tolX*(1+|x0|) = 3.5601e+00\n",
      "0 : |proj(x-g)-x|    = 3.6468e+02 <= tolG          = 1.0000e-01\n",
      "0 : |proj(x-g)-x|    = 3.6468e+02 <= 1e3*eps       = 1.0000e-02\n",
      "0 : maxIter   =      20    <= iter          =      1\n",
      "------------------------- DONE! -------------------------\n",
      "\n",
      "Running inversion with SimPEG v0.24.0\n",
      "simpeg.InvProblem will set Regularization.reference_model to m0.\n",
      "simpeg.InvProblem will set Regularization.reference_model to m0.\n",
      "simpeg.InvProblem will set Regularization.reference_model to m0.\n",
      "\n",
      "                    simpeg.InvProblem is setting bfgsH0 to the inverse of the eval2Deriv.\n",
      "                    ***Done using the default solver Pardiso and no solver_opts.***\n",
      "                    \n",
      "model has any nan: 0\n",
      "============================ Inexact Gauss Newton ============================\n",
      "  #     beta     phi_d     phi_m       f      |proj(x-g)-x|  LS    Comment   \n",
      "-----------------------------------------------------------------------------\n",
      "x0 has any nan: 0\n",
      "   0  1.00e+00  2.01e+02  0.00e+00  2.01e+02    5.55e+02      0              \n",
      "------------------------- STOP! -------------------------\n",
      "1 : |fc-fOld| = 0.0000e+00 <= tolF*(1+|f0|) = 2.0233e+01\n",
      "1 : |xc-x_last| = 9.6567e-01 <= tolX*(1+|x0|) = 3.5601e+00\n",
      "0 : |proj(x-g)-x|    = 5.5453e+02 <= tolG          = 1.0000e-01\n",
      "0 : |proj(x-g)-x|    = 5.5453e+02 <= 1e3*eps       = 1.0000e-02\n",
      "0 : maxIter   =      20    <= iter          =      1\n",
      "------------------------- DONE! -------------------------\n",
      "\n",
      "Running inversion with SimPEG v0.24.0\n",
      "simpeg.InvProblem will set Regularization.reference_model to m0.\n",
      "simpeg.InvProblem will set Regularization.reference_model to m0.\n",
      "simpeg.InvProblem will set Regularization.reference_model to m0.\n",
      "\n",
      "                    simpeg.InvProblem is setting bfgsH0 to the inverse of the eval2Deriv.\n",
      "                    ***Done using the default solver Pardiso and no solver_opts.***\n",
      "                    \n",
      "model has any nan: 0\n",
      "============================ Inexact Gauss Newton ============================\n",
      "  #     beta     phi_d     phi_m       f      |proj(x-g)-x|  LS    Comment   \n",
      "-----------------------------------------------------------------------------\n",
      "x0 has any nan: 0\n",
      "   0  1.00e+00  9.37e+01  0.00e+00  9.37e+01    3.96e+02      0              \n",
      "------------------------- STOP! -------------------------\n",
      "1 : |fc-fOld| = 0.0000e+00 <= tolF*(1+|f0|) = 9.4668e+00\n",
      "1 : |xc-x_last| = 6.5887e-01 <= tolX*(1+|x0|) = 3.5601e+00\n",
      "0 : |proj(x-g)-x|    = 3.9638e+02 <= tolG          = 1.0000e-01\n",
      "0 : |proj(x-g)-x|    = 3.9638e+02 <= 1e3*eps       = 1.0000e-02\n",
      "0 : maxIter   =      20    <= iter          =      1\n",
      "------------------------- DONE! -------------------------\n",
      "\n",
      "Running inversion with SimPEG v0.24.0\n",
      "simpeg.InvProblem will set Regularization.reference_model to m0.\n",
      "simpeg.InvProblem will set Regularization.reference_model to m0.\n",
      "simpeg.InvProblem will set Regularization.reference_model to m0.\n",
      "\n",
      "                    simpeg.InvProblem is setting bfgsH0 to the inverse of the eval2Deriv.\n",
      "                    ***Done using the default solver Pardiso and no solver_opts.***\n",
      "                    \n",
      "model has any nan: 0\n",
      "============================ Inexact Gauss Newton ============================\n",
      "  #     beta     phi_d     phi_m       f      |proj(x-g)-x|  LS    Comment   \n",
      "-----------------------------------------------------------------------------\n",
      "x0 has any nan: 0\n",
      "   0  1.00e+00  7.53e+01  0.00e+00  7.53e+01    3.60e+02      0              \n",
      "------------------------- STOP! -------------------------\n",
      "1 : |fc-fOld| = 0.0000e+00 <= tolF*(1+|f0|) = 7.6278e+00\n",
      "Running inversion with SimPEG v0.24.0\n",
      "simpeg.InvProblem will set Regularization.reference_model to m0.\n",
      "simpeg.InvProblem will set Regularization.reference_model to m0.\n",
      "simpeg.InvProblem will set Regularization.reference_model to m0.\n",
      "\n",
      "                    simpeg.InvProblem is setting bfgsH0 to the inverse of the eval2Deriv.\n",
      "                    ***Done using the default solver Pardiso and no solver_opts.***\n",
      "                    \n",
      "model has any nan: 0\n",
      "============================ Inexact Gauss Newton ============================\n",
      "  #     beta     phi_d     phi_m       f      |proj(x-g)-x|  LS    Comment   \n",
      "-----------------------------------------------------------------------------\n",
      "x0 has any nan: 0\n",
      "   0  1.00e+00  6.42e+01  0.00e+00  6.42e+01    3.37e+02      0              \n",
      "------------------------- STOP! -------------------------\n",
      "1 : |fc-fOld| = 0.0000e+00 <= tolF*(1+|f0|) = 6.5239e+00\n",
      "1 : |xc-x_last| = 5.3206e-01 <= tolX*(1+|x0|) = 3.5601e+00\n",
      "0 : |proj(x-g)-x|    = 3.3711e+02 <= tolG          = 1.0000e-01\n",
      "0 : |proj(x-g)-x|    = 3.3711e+02 <= 1e3*eps       = 1.0000e-02\n",
      "0 : maxIter   =      20    <= iter          =      1\n",
      "------------------------- DONE! -------------------------\n",
      "\n",
      "Running inversion with SimPEG v0.24.0\n",
      "simpeg.InvProblem will set Regularization.reference_model to m0.\n",
      "simpeg.InvProblem will set Regularization.reference_model to m0.\n",
      "simpeg.InvProblem will set Regularization.reference_model to m0.\n",
      "\n",
      "                    simpeg.InvProblem is setting bfgsH0 to the inverse of the eval2Deriv.\n",
      "                    ***Done using the default solver Pardiso and no solver_opts.***\n",
      "                    \n",
      "model has any nan: 0\n",
      "============================ Inexact Gauss Newton ============================\n",
      "  #     beta     phi_d     phi_m       f      |proj(x-g)-x|  LS    Comment   \n",
      "-----------------------------------------------------------------------------\n",
      "x0 has any nan: 0\n",
      "   0  1.00e+00  3.78e+02  0.00e+00  3.78e+02    6.99e+02      0              \n",
      "   1  1.00e+00  3.98e+01  9.60e-02  3.99e+01    2.83e+02      0              \n",
      "------------------------- STOP! -------------------------\n",
      "1 : |fc-fOld| = 0.0000e+00 <= tolF*(1+|f0|) = 3.7878e+01\n",
      "1 : |xc-x_last| = 4.8593e-01 <= tolX*(1+|x0|) = 3.5601e+00\n",
      "0 : |proj(x-g)-x|    = 2.8343e+02 <= tolG          = 1.0000e-01\n",
      "0 : |proj(x-g)-x|    = 2.8343e+02 <= 1e3*eps       = 1.0000e-02\n",
      "0 : maxIter   =      20    <= iter          =      2\n",
      "------------------------- DONE! -------------------------\n",
      "\n",
      "Running inversion with SimPEG v0.24.0\n",
      "simpeg.InvProblem will set Regularization.reference_model to m0.\n",
      "simpeg.InvProblem will set Regularization.reference_model to m0.\n",
      "simpeg.InvProblem will set Regularization.reference_model to m0.\n",
      "\n",
      "                    simpeg.InvProblem is setting bfgsH0 to the inverse of the eval2Deriv.\n",
      "                    ***Done using the default solver Pardiso and no solver_opts.***\n",
      "                    \n",
      "model has any nan: 0\n",
      "============================ Inexact Gauss Newton ============================\n",
      "  #     beta     phi_d     phi_m       f      |proj(x-g)-x|  LS    Comment   \n",
      "-----------------------------------------------------------------------------\n",
      "x0 has any nan: 0\n",
      "   0  1.00e+00  2.12e+02  0.00e+00  2.12e+02    5.80e+02      0              \n",
      "------------------------- STOP! -------------------------\n",
      "1 : |fc-fOld| = 0.0000e+00 <= tolF*(1+|f0|) = 2.1269e+01\n",
      "1 : |xc-x_last| = 8.9965e-01 <= tolX*(1+|x0|) = 3.5601e+00\n",
      "0 : |proj(x-g)-x|    = 5.7984e+02 <= tolG          = 1.0000e-01\n",
      "0 : |proj(x-g)-x|    = 5.7984e+02 <= 1e3*eps       = 1.0000e-02\n",
      "0 : maxIter   =      20    <= iter          =      1\n",
      "------------------------- DONE! -------------------------\n",
      "\n",
      "Running inversion with SimPEG v0.24.0\n",
      "simpeg.InvProblem will set Regularization.reference_model to m0.\n",
      "simpeg.InvProblem will set Regularization.reference_model to m0.\n",
      "simpeg.InvProblem will set Regularization.reference_model to m0.\n",
      "\n",
      "                    simpeg.InvProblem is setting bfgsH0 to the inverse of the eval2Deriv.\n",
      "                    ***Done using the default solver Pardiso and no solver_opts.***\n",
      "                    \n",
      "model has any nan: 0\n",
      "============================ Inexact Gauss Newton ============================\n",
      "  #     beta     phi_d     phi_m       f      |proj(x-g)-x|  LS    Comment   \n",
      "-----------------------------------------------------------------------------\n",
      "x0 has any nan: 0\n",
      "   0  1.00e+00  9.14e+01  0.00e+00  9.14e+01    4.00e+02      0              \n",
      "------------------------- STOP! -------------------------\n",
      "1 : |fc-fOld| = 0.0000e+00 <= tolF*(1+|f0|) = 9.2423e+00\n",
      "1 : |xc-x_last| = 6.0096e-01 <= tolX*(1+|x0|) = 3.5601e+00\n",
      "0 : |proj(x-g)-x|    = 3.9968e+02 <= tolG          = 1.0000e-01\n",
      "0 : |proj(x-g)-x|    = 3.9968e+02 <= 1e3*eps       = 1.0000e-02\n",
      "0 : maxIter   =      20    <= iter          =      1\n",
      "------------------------- DONE! -------------------------\n",
      "\n",
      "Running inversion with SimPEG v0.24.0\n",
      "simpeg.InvProblem will set Regularization.reference_model to m0.\n",
      "simpeg.InvProblem will set Regularization.reference_model to m0.\n",
      "simpeg.InvProblem will set Regularization.reference_model to m0.\n",
      "\n",
      "                    simpeg.InvProblem is setting bfgsH0 to the inverse of the eval2Deriv.\n",
      "                    ***Done using the default solver Pardiso and no solver_opts.***\n",
      "                    \n",
      "model has any nan: 0\n",
      "============================ Inexact Gauss Newton ============================\n",
      "  #     beta     phi_d     phi_m       f      |proj(x-g)-x|  LS    Comment   \n",
      "-----------------------------------------------------------------------------\n",
      "x0 has any nan: 0\n",
      "   0  1.00e+00  3.69e+02  0.00e+00  3.69e+02    6.94e+02      0              \n",
      "   1  1.00e+00  3.77e+01  9.29e-02  3.78e+01    2.74e+02      0              \n",
      "------------------------- STOP! -------------------------\n",
      "1 : |fc-fOld| = 0.0000e+00 <= tolF*(1+|f0|) = 3.7021e+01\n",
      "1 : |xc-x_last| = 4.7845e-01 <= tolX*(1+|x0|) = 3.5601e+00\n",
      "0 : |proj(x-g)-x|    = 2.7390e+02 <= tolG          = 1.0000e-01\n",
      "0 : |proj(x-g)-x|    = 2.7390e+02 <= 1e3*eps       = 1.0000e-02\n",
      "0 : maxIter   =      20    <= iter          =      2\n",
      "------------------------- DONE! -------------------------\n",
      "\n",
      "Running inversion with SimPEG v0.24.0\n",
      "simpeg.InvProblem will set Regularization.reference_model to m0.\n",
      "simpeg.InvProblem will set Regularization.reference_model to m0.\n",
      "simpeg.InvProblem will set Regularization.reference_model to m0.\n",
      "\n",
      "                    simpeg.InvProblem is setting bfgsH0 to the inverse of the eval2Deriv.\n",
      "                    ***Done using the default solver Pardiso and no solver_opts.***\n",
      "                    \n",
      "model has any nan: 0\n",
      "============================ Inexact Gauss Newton ============================\n",
      "  #     beta     phi_d     phi_m       f      |proj(x-g)-x|  LS    Comment   \n",
      "-----------------------------------------------------------------------------\n",
      "x0 has any nan: 0\n",
      "   0  1.00e+00  7.68e+01  0.00e+00  7.68e+01    3.67e+02      0              \n",
      "------------------------- STOP! -------------------------\n",
      "1 : |fc-fOld| = 0.0000e+00 <= tolF*(1+|f0|) = 7.7771e+00\n",
      "1 : |xc-x_last| = 5.8239e-01 <= tolX*(1+|x0|) = 3.5601e+00\n",
      "0 : |proj(x-g)-x|    = 3.6731e+02 <= tolG          = 1.0000e-01\n",
      "0 : |proj(x-g)-x|    = 3.6731e+02 <= 1e3*eps       = 1.0000e-02\n",
      "0 : maxIter   =      20    <= iter          =      1\n",
      "------------------------- DONE! -------------------------\n",
      "\n",
      "Running inversion with SimPEG v0.24.0\n",
      "simpeg.InvProblem will set Regularization.reference_model to m0.\n",
      "simpeg.InvProblem will set Regularization.reference_model to m0.\n",
      "simpeg.InvProblem will set Regularization.reference_model to m0.\n",
      "\n",
      "                    simpeg.InvProblem is setting bfgsH0 to the inverse of the eval2Deriv.\n",
      "                    ***Done using the default solver Pardiso and no solver_opts.***\n",
      "                    \n",
      "model has any nan: 0\n",
      "============================ Inexact Gauss Newton ============================\n",
      "  #     beta     phi_d     phi_m       f      |proj(x-g)-x|  LS    Comment   \n",
      "-----------------------------------------------------------------------------\n",
      "x0 has any nan: 0\n",
      "   0  1.00e+00  3.78e+02  0.00e+00  3.78e+02    6.76e+02      0              \n",
      "   1  1.00e+00  4.06e+01  9.64e-02  4.07e+01    2.72e+02      0              \n",
      "------------------------- STOP! -------------------------\n",
      "Running inversion with SimPEG v0.24.0\n",
      "simpeg.InvProblem will set Regularization.reference_model to m0.\n",
      "simpeg.InvProblem will set Regularization.reference_model to m0.\n",
      "simpeg.InvProblem will set Regularization.reference_model to m0.\n",
      "\n",
      "                    simpeg.InvProblem is setting bfgsH0 to the inverse of the eval2Deriv.\n",
      "                    ***Done using the default solver Pardiso and no solver_opts.***\n",
      "                    \n",
      "model has any nan: 0\n",
      "============================ Inexact Gauss Newton ============================\n",
      "  #     beta     phi_d     phi_m       f      |proj(x-g)-x|  LS    Comment   \n",
      "-----------------------------------------------------------------------------\n",
      "x0 has any nan: 0\n",
      "   0  1.00e+00  6.94e+01  0.00e+00  6.94e+01    3.49e+02      0              \n",
      "------------------------- STOP! -------------------------\n",
      "1 : |fc-fOld| = 0.0000e+00 <= tolF*(1+|f0|) = 7.0405e+00\n",
      "1 : |xc-x_last| = 5.5532e-01 <= tolX*(1+|x0|) = 3.5601e+00\n",
      "0 : |proj(x-g)-x|    = 3.4893e+02 <= tolG          = 1.0000e-01\n",
      "0 : |proj(x-g)-x|    = 3.4893e+02 <= 1e3*eps       = 1.0000e-02\n",
      "0 : maxIter   =      20    <= iter          =      1\n",
      "------------------------- DONE! -------------------------\n",
      "\n",
      "Running inversion with SimPEG v0.24.0\n",
      "simpeg.InvProblem will set Regularization.reference_model to m0.\n",
      "simpeg.InvProblem will set Regularization.reference_model to m0.\n",
      "simpeg.InvProblem will set Regularization.reference_model to m0.\n",
      "\n",
      "                    simpeg.InvProblem is setting bfgsH0 to the inverse of the eval2Deriv.\n",
      "                    ***Done using the default solver Pardiso and no solver_opts.***\n",
      "                    \n",
      "model has any nan: 0\n",
      "============================ Inexact Gauss Newton ============================\n",
      "  #     beta     phi_d     phi_m       f      |proj(x-g)-x|  LS    Comment   \n",
      "-----------------------------------------------------------------------------\n",
      "x0 has any nan: 0\n",
      "   0  1.00e+00  6.11e+02  0.00e+00  6.11e+02    7.95e+02      0              \n",
      "   1  1.00e+00  1.35e+02  1.93e-01  1.35e+02    5.94e+02      0              \n",
      "------------------------- STOP! -------------------------\n",
      "1 : |fc-fOld| = 0.0000e+00 <= tolF*(1+|f0|) = 6.1242e+01\n",
      "1 : |xc-x_last| = 7.7265e-01 <= tolX*(1+|x0|) = 3.5601e+00\n",
      "0 : |proj(x-g)-x|    = 5.9427e+02 <= tolG          = 1.0000e-01\n",
      "0 : |proj(x-g)-x|    = 5.9427e+02 <= 1e3*eps       = 1.0000e-02\n",
      "0 : maxIter   =      20    <= iter          =      2\n",
      "------------------------- DONE! -------------------------\n",
      "\n",
      "Running inversion with SimPEG v0.24.0\n",
      "simpeg.InvProblem will set Regularization.reference_model to m0.\n",
      "simpeg.InvProblem will set Regularization.reference_model to m0.\n",
      "simpeg.InvProblem will set Regularization.reference_model to m0.\n",
      "\n",
      "                    simpeg.InvProblem is setting bfgsH0 to the inverse of the eval2Deriv.\n",
      "                    ***Done using the default solver Pardiso and no solver_opts.***\n",
      "                    \n",
      "model has any nan: 0\n",
      "============================ Inexact Gauss Newton ============================\n",
      "  #     beta     phi_d     phi_m       f      |proj(x-g)-x|  LS    Comment   \n",
      "-----------------------------------------------------------------------------\n",
      "x0 has any nan: 0\n",
      "   0  1.00e+00  1.38e+02  0.00e+00  1.38e+02    4.82e+02      0              \n",
      "------------------------- STOP! -------------------------\n",
      "1 : |fc-fOld| = 0.0000e+00 <= tolF*(1+|f0|) = 1.3863e+01\n",
      "1 : |xc-x_last| = 7.2675e-01 <= tolX*(1+|x0|) = 3.5601e+00\n",
      "0 : |proj(x-g)-x|    = 4.8199e+02 <= tolG          = 1.0000e-01\n",
      "0 : |proj(x-g)-x|    = 4.8199e+02 <= 1e3*eps       = 1.0000e-02\n",
      "0 : maxIter   =      20    <= iter          =      1\n",
      "------------------------- DONE! -------------------------\n",
      "\n",
      "Running inversion with SimPEG v0.24.0\n",
      "simpeg.InvProblem will set Regularization.reference_model to m0.\n",
      "simpeg.InvProblem will set Regularization.reference_model to m0.\n",
      "simpeg.InvProblem will set Regularization.reference_model to m0.\n",
      "\n",
      "                    simpeg.InvProblem is setting bfgsH0 to the inverse of the eval2Deriv.\n",
      "                    ***Done using the default solver Pardiso and no solver_opts.***\n",
      "                    \n",
      "model has any nan: 0\n",
      "============================ Inexact Gauss Newton ============================\n",
      "  #     beta     phi_d     phi_m       f      |proj(x-g)-x|  LS    Comment   \n",
      "-----------------------------------------------------------------------------\n",
      "x0 has any nan: 0\n",
      "   0  1.00e+00  1.14e+02  0.00e+00  1.14e+02    4.44e+02      0              \n",
      "------------------------- STOP! -------------------------\n",
      "1 : |fc-fOld| = 0.0000e+00 <= tolF*(1+|f0|) = 1.1515e+01\n",
      "1 : |xc-x_last| = 6.6791e-01 <= tolX*(1+|x0|) = 3.5601e+00\n",
      "0 : |proj(x-g)-x|    = 4.4365e+02 <= tolG          = 1.0000e-01\n",
      "0 : |proj(x-g)-x|    = 4.4365e+02 <= 1e3*eps       = 1.0000e-02\n",
      "0 : maxIter   =      20    <= iter          =      1\n",
      "------------------------- DONE! -------------------------\n",
      "\n",
      "Running inversion with SimPEG v0.24.0\n",
      "simpeg.InvProblem will set Regularization.reference_model to m0.\n",
      "simpeg.InvProblem will set Regularization.reference_model to m0.\n",
      "simpeg.InvProblem will set Regularization.reference_model to m0.\n",
      "\n",
      "                    simpeg.InvProblem is setting bfgsH0 to the inverse of the eval2Deriv.\n",
      "                    ***Done using the default solver Pardiso and no solver_opts.***\n",
      "                    \n",
      "model has any nan: 0\n",
      "============================ Inexact Gauss Newton ============================\n",
      "  #     beta     phi_d     phi_m       f      |proj(x-g)-x|  LS    Comment   \n",
      "-----------------------------------------------------------------------------\n",
      "x0 has any nan: 0\n",
      "   0  1.00e+00  6.16e+01  0.00e+00  6.16e+01    3.33e+02      0              \n",
      "------------------------- STOP! -------------------------\n",
      "1 : |fc-fOld| = 0.0000e+00 <= tolF*(1+|f0|) = 6.2604e+00\n",
      "1 : |xc-x_last| = 5.1493e-01 <= tolX*(1+|x0|) = 3.5601e+00\n",
      "0 : |proj(x-g)-x|    = 3.3296e+02 <= tolG          = 1.0000e-01\n",
      "0 : |proj(x-g)-x|    = 3.3296e+02 <= 1e3*eps       = 1.0000e-02\n",
      "0 : maxIter   =      20    <= iter          =      1\n",
      "------------------------- DONE! -------------------------\n",
      "\n",
      "Running inversion with SimPEG v0.24.0\n",
      "simpeg.InvProblem will set Regularization.reference_model to m0.\n",
      "simpeg.InvProblem will set Regularization.reference_model to m0.\n",
      "simpeg.InvProblem will set Regularization.reference_model to m0.\n",
      "\n",
      "                    simpeg.InvProblem is setting bfgsH0 to the inverse of the eval2Deriv.\n",
      "                    ***Done using the default solver Pardiso and no solver_opts.***\n",
      "                    \n",
      "model has any nan: 0\n",
      "============================ Inexact Gauss Newton ============================\n",
      "  #     beta     phi_d     phi_m       f      |proj(x-g)-x|  LS    Comment   \n",
      "-----------------------------------------------------------------------------\n",
      "x0 has any nan: 0\n",
      "   0  1.00e+00  2.96e+02  0.00e+00  2.96e+02    6.37e+02      0              \n",
      "   1  1.00e+00  2.31e+01  6.72e-02  2.31e+01    1.94e+02      0              \n",
      "------------------------- STOP! -------------------------\n",
      "1 : |fc-fOld| = 0.0000e+00 <= tolF*(1+|f0|) = 2.9715e+01\n",
      "1 : |xc-x_last| = 9.5828e-01 <= tolX*(1+|x0|) = 3.5601e+00\n",
      "0 : |proj(x-g)-x|    = 1.9437e+02 <= tolG          = 1.0000e-01\n",
      "0 : |proj(x-g)-x|    = 1.9437e+02 <= 1e3*eps       = 1.0000e-02\n",
      "0 : maxIter   =      20    <= iter          =      2\n",
      "------------------------- DONE! -------------------------\n",
      "\n",
      "Running inversion with SimPEG v0.24.0\n",
      "simpeg.InvProblem will set Regularization.reference_model to m0.\n",
      "simpeg.InvProblem will set Regularization.reference_model to m0.\n",
      "simpeg.InvProblem will set Regularization.reference_model to m0.\n",
      "\n",
      "                    simpeg.InvProblem is setting bfgsH0 to the inverse of the eval2Deriv.\n",
      "                    ***Done using the default solver Pardiso and no solver_opts.***\n",
      "                    \n",
      "model has any nan: 0\n",
      "============================ Inexact Gauss Newton ============================\n",
      "  #     beta     phi_d     phi_m       f      |proj(x-g)-x|  LS    Comment   \n",
      "-----------------------------------------------------------------------------\n",
      "x0 has any nan: 0\n",
      "   0  1.00e+00  3.84e+02  0.00e+00  3.84e+02    6.78e+02      0              \n",
      "   1  1.00e+00  4.21e+01  9.88e-02  4.22e+01    2.78e+02      0              \n",
      "------------------------- STOP! -------------------------\n",
      "Running inversion with SimPEG v0.24.0\n",
      "simpeg.InvProblem will set Regularization.reference_model to m0.\n",
      "simpeg.InvProblem will set Regularization.reference_model to m0.\n",
      "simpeg.InvProblem will set Regularization.reference_model to m0.\n",
      "\n",
      "                    simpeg.InvProblem is setting bfgsH0 to the inverse of the eval2Deriv.\n",
      "                    ***Done using the default solver Pardiso and no solver_opts.***\n",
      "                    \n",
      "model has any nan: 0\n",
      "============================ Inexact Gauss Newton ============================\n",
      "  #     beta     phi_d     phi_m       f      |proj(x-g)-x|  LS    Comment   \n",
      "-----------------------------------------------------------------------------\n",
      "x0 has any nan: 0\n",
      "   0  1.00e+00  4.68e+02  0.00e+00  4.68e+02    7.37e+02      0              \n",
      "   1  1.00e+00  6.50e+01  1.28e-01  6.52e+01    3.70e+02      0              \n",
      "------------------------- STOP! -------------------------\n",
      "1 : |fc-fOld| = 0.0000e+00 <= tolF*(1+|f0|) = 4.6929e+01\n",
      "1 : |xc-x_last| = 1.4265e+00 <= tolX*(1+|x0|) = 3.5601e+00\n",
      "0 : |proj(x-g)-x|    = 3.7032e+02 <= tolG          = 1.0000e-01\n",
      "0 : |proj(x-g)-x|    = 3.7032e+02 <= 1e3*eps       = 1.0000e-02\n",
      "0 : maxIter   =      20    <= iter          =      2\n",
      "------------------------- DONE! -------------------------\n",
      "\n",
      "Running inversion with SimPEG v0.24.0\n",
      "simpeg.InvProblem will set Regularization.reference_model to m0.\n",
      "simpeg.InvProblem will set Regularization.reference_model to m0.\n",
      "simpeg.InvProblem will set Regularization.reference_model to m0.\n",
      "\n",
      "                    simpeg.InvProblem is setting bfgsH0 to the inverse of the eval2Deriv.\n",
      "                    ***Done using the default solver Pardiso and no solver_opts.***\n",
      "                    \n",
      "model has any nan: 0\n",
      "============================ Inexact Gauss Newton ============================\n",
      "  #     beta     phi_d     phi_m       f      |proj(x-g)-x|  LS    Comment   \n",
      "-----------------------------------------------------------------------------\n",
      "x0 has any nan: 0\n",
      "   0  1.00e+00  2.66e+02  0.00e+00  2.66e+02    6.31e+02      0              \n",
      "------------------------- STOP! -------------------------\n",
      "1 : |fc-fOld| = 0.0000e+00 <= tolF*(1+|f0|) = 2.6685e+01\n",
      "1 : |xc-x_last| = 1.0447e+00 <= tolX*(1+|x0|) = 3.5601e+00\n",
      "0 : |proj(x-g)-x|    = 6.3066e+02 <= tolG          = 1.0000e-01\n",
      "0 : |proj(x-g)-x|    = 6.3066e+02 <= 1e3*eps       = 1.0000e-02\n",
      "0 : maxIter   =      20    <= iter          =      1\n",
      "------------------------- DONE! -------------------------\n",
      "\n",
      "Running inversion with SimPEG v0.24.0\n",
      "simpeg.InvProblem will set Regularization.reference_model to m0.\n",
      "simpeg.InvProblem will set Regularization.reference_model to m0.\n",
      "simpeg.InvProblem will set Regularization.reference_model to m0.\n",
      "\n",
      "                    simpeg.InvProblem is setting bfgsH0 to the inverse of the eval2Deriv.\n",
      "                    ***Done using the default solver Pardiso and no solver_opts.***\n",
      "                    \n",
      "model has any nan: 0\n",
      "============================ Inexact Gauss Newton ============================\n",
      "  #     beta     phi_d     phi_m       f      |proj(x-g)-x|  LS    Comment   \n",
      "-----------------------------------------------------------------------------\n",
      "x0 has any nan: 0\n",
      "   0  1.00e+00  8.97e+01  0.00e+00  8.97e+01    3.96e+02      0              \n",
      "------------------------- STOP! -------------------------\n",
      "1 : |fc-fOld| = 0.0000e+00 <= tolF*(1+|f0|) = 9.0733e+00\n",
      "1 : |xc-x_last| = 5.9685e-01 <= tolX*(1+|x0|) = 3.5601e+00\n",
      "0 : |proj(x-g)-x|    = 3.9581e+02 <= tolG          = 1.0000e-01\n",
      "0 : |proj(x-g)-x|    = 3.9581e+02 <= 1e3*eps       = 1.0000e-02\n",
      "0 : maxIter   =      20    <= iter          =      1\n",
      "------------------------- DONE! -------------------------\n",
      "\n",
      "Running inversion with SimPEG v0.24.0\n",
      "simpeg.InvProblem will set Regularization.reference_model to m0.\n",
      "simpeg.InvProblem will set Regularization.reference_model to m0.\n",
      "simpeg.InvProblem will set Regularization.reference_model to m0.\n",
      "\n",
      "                    simpeg.InvProblem is setting bfgsH0 to the inverse of the eval2Deriv.\n",
      "                    ***Done using the default solver Pardiso and no solver_opts.***\n",
      "                    \n",
      "model has any nan: 0\n",
      "============================ Inexact Gauss Newton ============================\n",
      "  #     beta     phi_d     phi_m       f      |proj(x-g)-x|  LS    Comment   \n",
      "-----------------------------------------------------------------------------\n",
      "x0 has any nan: 0\n",
      "   0  1.00e+00  2.29e+02  0.00e+00  2.29e+02    5.92e+02      0              \n",
      "------------------------- STOP! -------------------------\n",
      "1 : |fc-fOld| = 0.0000e+00 <= tolF*(1+|f0|) = 2.3001e+01\n",
      "1 : |xc-x_last| = 9.8564e-01 <= tolX*(1+|x0|) = 3.5601e+00\n",
      "0 : |proj(x-g)-x|    = 5.9240e+02 <= tolG          = 1.0000e-01\n",
      "0 : |proj(x-g)-x|    = 5.9240e+02 <= 1e3*eps       = 1.0000e-02\n",
      "0 : maxIter   =      20    <= iter          =      1\n",
      "------------------------- DONE! -------------------------\n",
      "\n",
      "Running inversion with SimPEG v0.24.0\n",
      "simpeg.InvProblem will set Regularization.reference_model to m0.\n",
      "simpeg.InvProblem will set Regularization.reference_model to m0.\n",
      "simpeg.InvProblem will set Regularization.reference_model to m0.\n",
      "\n",
      "                    simpeg.InvProblem is setting bfgsH0 to the inverse of the eval2Deriv.\n",
      "                    ***Done using the default solver Pardiso and no solver_opts.***\n",
      "                    \n",
      "model has any nan: 0\n",
      "============================ Inexact Gauss Newton ============================\n",
      "  #     beta     phi_d     phi_m       f      |proj(x-g)-x|  LS    Comment   \n",
      "-----------------------------------------------------------------------------\n",
      "x0 has any nan: 0\n",
      "   0  1.00e+00  1.35e+02  0.00e+00  1.35e+02    4.71e+02      0              \n",
      "------------------------- STOP! -------------------------\n",
      "1 : |fc-fOld| = 0.0000e+00 <= tolF*(1+|f0|) = 1.3602e+01\n",
      "1 : |xc-x_last| = 7.6815e-01 <= tolX*(1+|x0|) = 3.5601e+00\n",
      "0 : |proj(x-g)-x|    = 4.7066e+02 <= tolG          = 1.0000e-01\n",
      "0 : |proj(x-g)-x|    = 4.7066e+02 <= 1e3*eps       = 1.0000e-02\n",
      "0 : maxIter   =      20    <= iter          =      1\n",
      "------------------------- DONE! -------------------------\n",
      "\n",
      "Running inversion with SimPEG v0.24.0\n",
      "simpeg.InvProblem will set Regularization.reference_model to m0.\n",
      "simpeg.InvProblem will set Regularization.reference_model to m0.\n",
      "simpeg.InvProblem will set Regularization.reference_model to m0.\n",
      "\n",
      "                    simpeg.InvProblem is setting bfgsH0 to the inverse of the eval2Deriv.\n",
      "                    ***Done using the default solver Pardiso and no solver_opts.***\n",
      "                    \n",
      "model has any nan: 0\n",
      "============================ Inexact Gauss Newton ============================\n",
      "  #     beta     phi_d     phi_m       f      |proj(x-g)-x|  LS    Comment   \n",
      "-----------------------------------------------------------------------------\n",
      "x0 has any nan: 0\n",
      "   0  1.00e+00  1.01e+02  0.00e+00  1.01e+02    4.16e+02      0              \n",
      "------------------------- STOP! -------------------------\n",
      "1 : |fc-fOld| = 0.0000e+00 <= tolF*(1+|f0|) = 1.0210e+01\n",
      "1 : |xc-x_last| = 6.5049e-01 <= tolX*(1+|x0|) = 3.5601e+00\n",
      "0 : |proj(x-g)-x|    = 4.1604e+02 <= tolG          = 1.0000e-01\n",
      "0 : |proj(x-g)-x|    = 4.1604e+02 <= 1e3*eps       = 1.0000e-02\n",
      "0 : maxIter   =      20    <= iter          =      1\n",
      "------------------------- DONE! -------------------------\n",
      "\n",
      "Running inversion with SimPEG v0.24.0\n",
      "simpeg.InvProblem will set Regularization.reference_model to m0.\n",
      "simpeg.InvProblem will set Regularization.reference_model to m0.\n",
      "simpeg.InvProblem will set Regularization.reference_model to m0.\n",
      "\n",
      "                    simpeg.InvProblem is setting bfgsH0 to the inverse of the eval2Deriv.\n",
      "                    ***Done using the default solver Pardiso and no solver_opts.***\n",
      "                    \n",
      "model has any nan: 0\n",
      "============================ Inexact Gauss Newton ============================\n",
      "  #     beta     phi_d     phi_m       f      |proj(x-g)-x|  LS    Comment   \n",
      "-----------------------------------------------------------------------------\n",
      "x0 has any nan: 0\n",
      "   0  1.00e+00  6.16e+02  0.00e+00  6.16e+02    7.65e+02      0              \n",
      "   1  1.00e+00  1.00e+02  1.06e-01  1.00e+02    3.19e+02      1              \n",
      "   2  1.00e+00  2.14e+01  3.52e-01  2.18e+01    1.79e+02      0   Skip BFGS  \n",
      "------------------------- STOP! -------------------------"
     ]
    }
   ],
   "source": [
    "# from joblib import Parallel, delayed\n",
    "# inv_dict = {}\n",
    "# results = Parallel(n_jobs=48, backend='loky')(  # 'loky' is the default and most flexible\n",
    "#     delayed(run_inv)(\n",
    "#         ind, observed_data[full_survey.source_list[ind], \n",
    "#         full_survey.source_list[ind].receiver_list[0]], \n",
    "#         m0, directory)\n",
    "#     for ind in range(rx_locs.shape[0])\n",
    "# )\n",
    "\n",
    "# # Collect results\n",
    "# for (label_key, mopt) in results:\n",
    "#     inv_dict[label_key] = mopt"
   ]
  },
  {
   "cell_type": "code",
   "execution_count": 47,
   "id": "97f76f2f-9882-40de-89cd-d19b7acbab90",
   "metadata": {},
   "outputs": [],
   "source": [
    "def load_models_and_dicts(folder):\n",
    "    inv_dicts = {}\n",
    "    model_arrays = {}\n",
    "\n",
    "    for fname in os.listdir(folder):\n",
    "        full_path = os.path.join(folder, fname)\n",
    "\n",
    "        if fname.endswith(\"_inv_dict.pkl\"):\n",
    "            key = fname.replace(\"_inv_dict.pkl\", \"\")\n",
    "            with open(full_path, \"rb\") as f:\n",
    "                inv_dicts[key] = pickle.load(f)\n",
    "\n",
    "        elif fname.endswith(\"_model.npy\"):\n",
    "            key = fname.replace(\"_model.npy\", \"\")\n",
    "            model_arrays[key] = np.load(full_path)\n",
    "\n",
    "    return inv_dicts, model_arrays"
   ]
  },
  {
   "cell_type": "code",
   "execution_count": 67,
   "id": "0e55f72c-1ee5-4842-8df8-8efaa511517f",
   "metadata": {
    "scrolled": true
   },
   "outputs": [],
   "source": [
    "inv_dicts, models_1d = load_models_and_dicts(directory)"
   ]
  },
  {
   "cell_type": "code",
   "execution_count": 53,
   "id": "4a54a800-f37d-4bf6-85ed-fdae0cc75558",
   "metadata": {},
   "outputs": [],
   "source": [
    "mesh1d = discretize.TensorMesh([(np.r_[thicknesses1d, thicknesses1d[-1]])], origin=\"0\")\n"
   ]
  },
  {
   "cell_type": "code",
   "execution_count": 54,
   "id": "156e759a-74dd-4666-af59-14fd29bf0845",
   "metadata": {},
   "outputs": [
    {
     "data": {
      "text/plain": [
       "array([  5.        ,  15.        ,  25.        ,  35.        ,\n",
       "        45.        ,  55.        ,  65.        ,  75.        ,\n",
       "        85.        ,  95.        , 105.        , 115.        ,\n",
       "       125.        , 135.        , 145.        , 155.        ,\n",
       "       165.        , 175.        , 185.        , 195.        ,\n",
       "       206.5       , 221.45      , 240.885     , 266.1505    ,\n",
       "       298.99565   , 341.694345  , 397.2026485 , 469.36344305,\n",
       "       563.17247597, 685.12421875, 822.9827106 ])"
      ]
     },
     "execution_count": 54,
     "metadata": {},
     "output_type": "execute_result"
    }
   ],
   "source": [
    "mesh1d.cell_centers"
   ]
  },
  {
   "cell_type": "code",
   "execution_count": 62,
   "id": "2f813d55-05ae-4809-a784-cd84bd9774d5",
   "metadata": {},
   "outputs": [],
   "source": [
    "rx_x = np.unique(rx_locs[:, 0])\n",
    "rx_y = np.unique(rx_locs[:, 1])"
   ]
  },
  {
   "cell_type": "code",
   "execution_count": 64,
   "id": "8d433099-5fc6-4476-96b5-160459110644",
   "metadata": {},
   "outputs": [],
   "source": [
    "grid_1d_results = discretize.utils.ndgrid(\n",
    "    rx_x, rx_y, -mesh1d.cell_centers\n",
    ")"
   ]
  },
  {
   "cell_type": "code",
   "execution_count": 93,
   "id": "44213b17-9014-4ddb-87f7-bf15ceb93fe1",
   "metadata": {
    "scrolled": true
   },
   "outputs": [],
   "source": [
    "compiled_1d_models = np.zeros(len(grid_1d_results))\n",
    "\n",
    "for key in models_1d.keys():\n",
    "    ind = int(key)\n",
    "    m = models_1d[key]\n",
    "    sounding_inds = (\n",
    "        (rx_locs[ind, 0] == grid_1d_results[:, 0]) & \n",
    "        (rx_locs[ind, 1] == grid_1d_results[:, 1])\n",
    "    )\n",
    "    compiled_1d_models[sounding_inds] = np.flipud(m)"
   ]
  },
  {
   "cell_type": "code",
   "execution_count": 102,
   "id": "3a49a996-1a26-4db7-9677-36365fbd119e",
   "metadata": {},
   "outputs": [],
   "source": [
    "hx = np.diff(rx_x)\n",
    "hx = np.r_[hx, hx[-1]]\n",
    "hy = np.diff(rx_y)\n",
    "hy = np.r_[hy, hy[-1]]\n",
    "\n",
    "mesh_results = discretize.TensorMesh(\n",
    "    [hx, hy, np.flipud(mesh1d.h[0])], origin=\"CCN\"\n",
    ")"
   ]
  },
  {
   "cell_type": "code",
   "execution_count": 103,
   "id": "ebb680e4-301c-4965-a46d-56fc64f92ca4",
   "metadata": {},
   "outputs": [
    {
     "data": {
      "text/html": [
       "<table>\n",
       "  <tr>\n",
       "    <td style='font-weight: bold; font-size: 1.2em; text-align: center;' colspan='3'>TensorMesh</td>\n",
       "    <td style='font-size: 1.2em; text-align: center;'colspan='4'>5,859 cells</td>\n",
       "  </tr>\n",
       "  <tr>\n",
       "    <th></th>\n",
       "    <th></th>\n",
       "    <th colspan='2' style='padding: 5px 20px 5px 20px;'>MESH EXTENT</th>\n",
       "    <th colspan='2' style='padding: 5px 20px 5px 20px;'>CELL WIDTH</th>\n",
       "    <th style='padding: 5px 20px 5px 20px;'>FACTOR</th>\n",
       "  </tr>\n",
       "  <tr>\n",
       "    <th style='padding: 5px 20px 5px 20px;'>dir</th>\n",
       "    <th style='padding: 5px 20px 5px 20px;'>nC</th>\n",
       "    <th style='padding: 5px 20px 5px 20px;'>min</th>\n",
       "    <th style='padding: 5px 20px 5px 20px;'>max</th>\n",
       "    <th style='padding: 5px 20px 5px 20px;'>min</th>\n",
       "    <th style='padding: 5px 20px 5px 20px;'>max</th>\n",
       "    <th style='padding: 5px 20px 5px 20px;'>max</th>\n",
       "  </tr>\n",
       "  <tr>\n",
       "    <td style='padding: 5px 20px 5px 20px;'>x</td>\n",
       "    <td style='padding: 5px 20px 5px 20px;'>21</td>\n",
       "    <td style='padding: 5px 20px 5px 20px;'>-420.00</td>\n",
       "    <td style='padding: 5px 20px 5px 20px;'>420.00</td>\n",
       "    <td style='padding: 5px 20px 5px 20px;'>40.00</td>\n",
       "    <td style='padding: 5px 20px 5px 20px;'>40.00</td>\n",
       "    <td style='padding: 5px 20px 5px 20px;'>1.00</td>\n",
       "  </tr>\n",
       "  <tr>\n",
       "    <td style='padding: 5px 20px 5px 20px;'>y</td>\n",
       "    <td style='padding: 5px 20px 5px 20px;'>9</td>\n",
       "    <td style='padding: 5px 20px 5px 20px;'>-180.00</td>\n",
       "    <td style='padding: 5px 20px 5px 20px;'>180.00</td>\n",
       "    <td style='padding: 5px 20px 5px 20px;'>40.00</td>\n",
       "    <td style='padding: 5px 20px 5px 20px;'>40.00</td>\n",
       "    <td style='padding: 5px 20px 5px 20px;'>1.00</td>\n",
       "  </tr>\n",
       "  <tr>\n",
       "    <td style='padding: 5px 20px 5px 20px;'>z</td>\n",
       "    <td style='padding: 5px 20px 5px 20px;'>31</td>\n",
       "    <td style='padding: 5px 20px 5px 20px;'>-891.91</td>\n",
       "    <td style='padding: 5px 20px 5px 20px;'>0.00</td>\n",
       "    <td style='padding: 5px 20px 5px 20px;'>10.00</td>\n",
       "    <td style='padding: 5px 20px 5px 20px;'>137.86</td>\n",
       "    <td style='padding: 5px 20px 5px 20px;'>1.30</td>\n",
       "  </tr>\n",
       "</table>\n"
      ],
      "text/plain": [
       "\n",
       "  TensorMesh: 5,859 cells\n",
       "\n",
       "                      MESH EXTENT             CELL WIDTH      FACTOR\n",
       "  dir    nC        min           max         min       max      max\n",
       "  ---   ---  ---------------------------  ------------------  ------\n",
       "   x     21       -420.00        420.00     40.00     40.00    1.00\n",
       "   y      9       -180.00        180.00     40.00     40.00    1.00\n",
       "   z     31       -891.91          0.00     10.00    137.86    1.30\n"
      ]
     },
     "execution_count": 103,
     "metadata": {},
     "output_type": "execute_result"
    }
   ],
   "source": [
    "mesh_results"
   ]
  },
  {
   "cell_type": "code",
   "execution_count": 123,
   "id": "6305aa86-a1e2-4050-94f8-69477d6bb992",
   "metadata": {},
   "outputs": [
    {
     "data": {
      "text/plain": [
       "(-300.0, 0.0)"
      ]
     },
     "execution_count": 123,
     "metadata": {},
     "output_type": "execute_result"
    },
    {
     "data": {
      "image/png": "[encoded data removed]",
      "text/plain": [
       "<Figure size 640x480 with 2 Axes>"
      ]
     },
     "metadata": {},
     "output_type": "display_data"
    }
   ],
   "source": [
    "fig, ax = plt.subplots(1, 1)\n",
    "plt.colorbar(mesh_results.plot_slice(\n",
    "    np.exp(compiled_1d_models),\n",
    "    normal=\"Y\", \n",
    "    ax=ax,\n",
    "    # ind=8\n",
    ")[0], ax=ax)\n",
    "ax.set_ylim(-300, 0)"
   ]
  },
  {
   "cell_type": "code",
   "execution_count": 148,
   "id": "5369a375-4aac-4e96-becf-2b25aa20f6f7",
   "metadata": {},
   "outputs": [
    {
     "data": {
      "text/plain": [
       "np.float64(-44.99999999999986)"
      ]
     },
     "execution_count": 148,
     "metadata": {},
     "output_type": "execute_result"
    }
   ],
   "source": [
    "mesh_results.cell_centers_z[26]"
   ]
  },
  {
   "cell_type": "code",
   "execution_count": 150,
   "id": "7bca2616-65ad-431e-b811-b9c6d5f42564",
   "metadata": {},
   "outputs": [
    {
     "data": {
      "text/plain": [
       "<matplotlib.colorbar.Colorbar at 0x7fd0658a4510>"
      ]
     },
     "execution_count": 150,
     "metadata": {},
     "output_type": "execute_result"
    },
    {
     "data": {
      "image/png": "[encoded data removed]",
      "text/plain": [
       "<Figure size 640x480 with 2 Axes>"
      ]
     },
     "metadata": {},
     "output_type": "display_data"
    }
   ],
   "source": [
    "fig, ax = plt.subplots(1, 1)\n",
    "plt.colorbar(mesh_results.plot_slice(\n",
    "    np.exp(compiled_1d_models),\n",
    "    normal=\"Z\", \n",
    "    ax=ax,\n",
    "    ind=25\n",
    ")[0], ax=ax)\n",
    "# ax.set_ylim(-300, 0)"
   ]
  },
  {
   "cell_type": "code",
   "execution_count": 151,
   "id": "c457f259-7f2e-4013-ae21-a7752740c54b",
   "metadata": {},
   "outputs": [],
   "source": [
    "P = discretize.utils.volume_average(mesh_results, ubc_mesh)"
   ]
  },
  {
   "cell_type": "code",
   "execution_count": 152,
   "id": "cf2e1319-e3d8-4fa3-b7af-7aab3abcd90e",
   "metadata": {},
   "outputs": [],
   "source": [
    "interpolated_model = P * compiled_1d_models\n",
    "interpolated_model[ubc_mesh.cell_centers[:, 2]>0] = np.log(1e-8)"
   ]
  },
  {
   "cell_type": "code",
   "execution_count": 161,
   "id": "96e77170-6144-4da1-8350-e88e82aa4f34",
   "metadata": {},
   "outputs": [
    {
     "data": {
      "text/plain": [
       "(-500.0, 200.0)"
      ]
     },
     "execution_count": 161,
     "metadata": {},
     "output_type": "execute_result"
    },
    {
     "data": {
      "image/png": "[encoded data removed]",
      "text/plain": [
       "<Figure size 640x480 with 2 Axes>"
      ]
     },
     "metadata": {},
     "output_type": "display_data"
    }
   ],
   "source": [
    "fig, ax = plt.subplots(1, 1)\n",
    "plt.colorbar(ubc_mesh.plot_slice(\n",
    "    np.exp(interpolated_model),\n",
    "    pcolor_opts = {\"norm\": LogNorm(3e-4, 9e-3)},\n",
    "    ax=ax,\n",
    "    normal=\"y\"\n",
    ")[0], ax=ax)\n",
    "\n",
    "ax.set_xlim(np.r_[-1, 1]*500)\n",
    "ax.set_ylim(np.r_[-500, 200])"
   ]
  },
  {
   "cell_type": "code",
   "execution_count": 162,
   "id": "0218d63b-8da4-4868-814d-8836c006f3c5",
   "metadata": {},
   "outputs": [],
   "source": [
    "sim_directory_3d = \"2D-sim-1d-results\""
   ]
  },
  {
   "cell_type": "code",
   "execution_count": 164,
   "id": "8aa4569c-bb4f-462a-95db-62785ee8070e",
   "metadata": {},
   "outputs": [
    {
     "ename": "TypeError",
     "evalue": "TreeMeshIO.write_model_UBC() missing 1 required positional argument: 'model'",
     "output_type": "error",
     "traceback": [
      "\u001b[0;31m---------------------------------------------------------------------------\u001b[0m",
      "\u001b[0;31mTypeError\u001b[0m                                 Traceback (most recent call last)",
      "Cell \u001b[0;32mIn[164], line 1\u001b[0m\n\u001b[0;32m----> 1\u001b[0m \u001b[43mdiscretize\u001b[49m\u001b[38;5;241;43m.\u001b[39;49m\u001b[43mTreeMesh\u001b[49m\u001b[38;5;241;43m.\u001b[39;49m\u001b[43mwrite_model_UBC\u001b[49m\u001b[43m(\u001b[49m\u001b[43mubc_mesh\u001b[49m\u001b[43m,\u001b[49m\u001b[43m \u001b[49m\u001b[38;5;124;43mf\u001b[39;49m\u001b[38;5;124;43m\"\u001b[39;49m\u001b[38;5;132;43;01m{\u001b[39;49;00m\u001b[43msim_directory_3d\u001b[49m\u001b[38;5;132;43;01m}\u001b[39;49;00m\u001b[38;5;124;43m/model.con\u001b[39;49m\u001b[38;5;124;43m\"\u001b[39;49m\u001b[43m)\u001b[49m\n",
      "\u001b[0;31mTypeError\u001b[0m: TreeMeshIO.write_model_UBC() missing 1 required positional argument: 'model'"
     ]
    }
   ],
   "source": [
    "discretize.TreeMesh.write_model_UBC(ubc_mesh, f\"{sim_directory_3d}/model.con\", interpolated_model)"
   ]
  },
  {
   "cell_type": "code",
   "execution_count": null,
   "id": "41696c59-b8dc-46f6-a137-976e2516e13a",
   "metadata": {},
   "outputs": [],
   "source": []
  },
  {
   "cell_type": "code",
   "execution_count": null,
   "id": "d10d9596-54c7-4b53-a574-5c39cba1cce9",
   "metadata": {},
   "outputs": [],
   "source": []
  },
  {
   "cell_type": "code",
   "execution_count": null,
   "id": "a705f848-07d0-4938-88f1-91cbea655c10",
   "metadata": {},
   "outputs": [],
   "source": []
  },
  {
   "cell_type": "code",
   "execution_count": null,
   "id": "e3037249-701d-4717-9c36-d8f4ea6110d3",
   "metadata": {},
   "outputs": [],
   "source": []
  }
 ],
 "metadata": {
  "kernelspec": {
   "display_name": "Python 3 (ipykernel)",
   "language": "python",
   "name": "python3"
  },
  "language_info": {
   "codemirror_mode": {
    "name": "ipython",
    "version": 3
   },
   "file_extension": ".py",
   "mimetype": "text/x-python",
   "name": "python",
   "nbconvert_exporter": "python",
   "pygments_lexer": "ipython3",
   "version": "3.11.11"
  }
 },
 "nbformat": 4,
 "nbformat_minor": 5
}
