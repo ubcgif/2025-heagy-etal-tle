{
 "cells": [
  {
   "cell_type": "code",
   "execution_count": 4,
   "id": "90e69b22-2163-4d84-9440-b87d67ce414e",
   "metadata": {},
   "outputs": [],
   "source": [
    "\n",
    "import numpy as np\n",
    "import os\n",
    "import matplotlib.pyplot as plt\n",
    "from matplotlib.colors import LogNorm, Normalize\n",
    "import time\n",
    "import pickle\n",
    "\n",
    "from concurrent.futures import ProcessPoolExecutor, as_completed\n",
    "\n",
    "import discretize\n",
    "# from simpeg import dask\n",
    "from simpeg.utils import mkvc, plot_1d_layer_model\n",
    "from simpeg import (\n",
    "    maps,\n",
    "    Data,\n",
    "    data_misfit,\n",
    "    inverse_problem,\n",
    "    regularization,\n",
    "    optimization,\n",
    "    directives,\n",
    "    inversion,\n",
    "    utils,\n",
    ")\n",
    "from simpeg.electromagnetics import time_domain as tdem\n",
    "from simpeg.utils.solver_utils import get_default_solver\n",
    "\n",
    "from simpeg.meta import MultiprocessingMetaSimulation, MetaSimulation\n",
    "\n",
    "\n",
    "Solver = get_default_solver()\n",
    "\n",
    "\n",
    "directory = \"../synthetic-data-10m\"\n",
    "files = [f for f in os.listdir(directory) if os.path.isfile(os.path.join(directory, f)) and f.split(\".\")[-1]==\"txt\"]\n",
    "\n",
    "files.remove(\"rx_locs.txt\")\n",
    "rx_locs = np.loadtxt(f\"{directory}/rx_locs.txt\")\n",
    "# rx_locs[:, 1] =\n",
    "\n",
    "files.remove(\"rx_times.txt\")\n",
    "rx_times = np.loadtxt(f\"{directory}/rx_times.txt\")\n"
   ]
  },
  {
   "cell_type": "code",
   "execution_count": 5,
   "id": "161cfd90-81a9-4059-94e7-39ca9c4c7b5e",
   "metadata": {},
   "outputs": [],
   "source": [
    "dobs_dict = {}\n",
    "\n",
    "for f in files:\n",
    "    key = f.split(\".\")[0]\n",
    "    dobs_dict[key] = np.loadtxt(f\"{directory}/{f}\")\n",
    "    \n",
    "data_dict = {}\n",
    "for key, value in dobs_dict.items():\n",
    "    source_list = []\n",
    "    for i in range(rx_locs.shape[0]):\n",
    "        rx = tdem.receivers.PointMagneticFluxTimeDerivative(rx_locs[i, :], rx_times, orientation=\"z\")\n",
    "        src = tdem.sources.CircularLoop(\n",
    "            receiver_list=[rx], location=rx_locs[i, :], orientation=\"z\", radius=10,\n",
    "            waveform=tdem.sources.StepOffWaveform()\n",
    "        )\n",
    "        source_list.append(src)\n",
    "\n",
    "    full_survey = tdem.Survey(source_list)\n",
    "\n",
    "    data_dict[key] = Data(survey=full_survey, dobs=value)\n",
    "\n"
   ]
  },
  {
   "cell_type": "code",
   "execution_count": 6,
   "id": "11201b3c-9b0b-4e91-abf2-04f5f021cc57",
   "metadata": {},
   "outputs": [],
   "source": [
    "n_times_invert = 20\n",
    "data_dict_invert = {}\n",
    "    \n",
    "for key, value in dobs_dict.items():\n",
    "\n",
    "    source_list = []\n",
    "\n",
    "    for i in range(rx_locs.shape[0]):\n",
    "        rx = tdem.receivers.PointMagneticFluxTimeDerivative(rx_locs[i, :], rx_times[:n_times_invert], orientation=\"z\")\n",
    "        src = tdem.sources.CircularLoop(\n",
    "            receiver_list=[rx], location=rx_locs[i, :], orientation=\"z\", radius=10,\n",
    "            waveform=tdem.sources.StepOffWaveform()\n",
    "        )\n",
    "        source_list.append(src)\n",
    "\n",
    "    survey = tdem.Survey(source_list)\n",
    "\n",
    "    data_dict_invert[key] = Data(\n",
    "        survey=survey,\n",
    "        dobs=(value.reshape(rx_locs.shape[0], len(rx_times))[:, :n_times_invert]).flatten(),\n",
    "        relative_error=0.1,\n",
    "        noise_floor=1e-11\n",
    "    )"
   ]
  },
  {
   "cell_type": "code",
   "execution_count": 7,
   "id": "b40bb443-4c15-4b39-bc2f-e500ea935910",
   "metadata": {},
   "outputs": [],
   "source": [
    "src = source_list[0]"
   ]
  },
  {
   "cell_type": "code",
   "execution_count": 8,
   "id": "b5885ecd-f79c-4ac1-95a0-ca351b7a1375",
   "metadata": {},
   "outputs": [],
   "source": [
    "rx = src.receiver_list[0]"
   ]
  },
  {
   "cell_type": "code",
   "execution_count": 10,
   "id": "c5829766-8090-402b-be3b-0dba3998db91",
   "metadata": {},
   "outputs": [
    {
     "data": {
      "text/plain": [
       "np.float64(0.0)"
      ]
     },
     "execution_count": 10,
     "metadata": {},
     "output_type": "execute_result"
    }
   ],
   "source": [
    "rx.locations[0, 1]"
   ]
  },
  {
   "cell_type": "code",
   "execution_count": 11,
   "id": "bd3bc777-8d54-4562-be90-2f0561cea06c",
   "metadata": {},
   "outputs": [
    {
     "data": {
      "text/plain": [
       "array([0.0001    , 0.00011836, 0.00014008, 0.0001658 , 0.00019624,\n",
       "       0.00023226, 0.0002749 , 0.00032536, 0.00038509, 0.00045579,\n",
       "       0.00053946, 0.00063849, 0.0007557 , 0.00089443, 0.00105862,\n",
       "       0.00125296, 0.00148297, 0.00175521, 0.00207742, 0.00245878])"
      ]
     },
     "execution_count": 11,
     "metadata": {},
     "output_type": "execute_result"
    }
   ],
   "source": [
    "rx.times"
   ]
  },
  {
   "cell_type": "code",
   "execution_count": 12,
   "id": "ca21e4f8-3aff-48dc-b947-751c32513b3d",
   "metadata": {},
   "outputs": [
    {
     "data": {
      "text/plain": [
       "array([0.0001    , 0.00011836, 0.00014008, 0.0001658 , 0.00019624,\n",
       "       0.00023226, 0.0002749 , 0.00032536, 0.00038509, 0.00045579,\n",
       "       0.00053946, 0.00063849, 0.0007557 , 0.00089443, 0.00105862,\n",
       "       0.00125296, 0.00148297, 0.00175521, 0.00207742, 0.00245878,\n",
       "       0.00291015, 0.00344438, 0.00407668, 0.00482506, 0.00571082,\n",
       "       0.00675918, 0.008     ])"
      ]
     },
     "execution_count": 12,
     "metadata": {},
     "output_type": "execute_result"
    }
   ],
   "source": [
    "rx_times"
   ]
  },
  {
   "cell_type": "code",
   "execution_count": 29,
   "id": "3429855b-b6c4-4557-9cc9-bb91d4d6fc6a",
   "metadata": {},
   "outputs": [],
   "source": [
    "with open(\"survey.txt\", \"w\") as f:\n",
    "    f.write(f\"N_TRX {len(full_survey.source_list)}\\n\\n\")\n",
    "\n",
    "    for src in source_list: \n",
    "        f.write(f\"TRX_LOOP\\n\")\n",
    "        f.write(f\"{src.location[0]} {src.location[1]} {src.location[2]} {src.radius} 0 0\\n\\n\")\n",
    "\n",
    "        f.write(f\"N_RECV 1\\n\")\n",
    "        f.write(f\"N_TIME {n_times_invert}\\n\")\n",
    "        for t in rx_times[:n_times_invert]:\n",
    "            rx = src.receiver_list[0]\n",
    "            f.write(f\"{rx.locations[0, 0]} {rx.locations[0, 1]} {rx.locations[0, 2]} {t}\\n\")\n",
    "        f.write(\"\\n\")\n",
    "            \n",
    "\n",
    "\n",
    "        "
   ]
  },
  {
   "cell_type": "code",
   "execution_count": 30,
   "id": "87bf3cb8-f4e0-48c2-b7b9-d967b8986b63",
   "metadata": {},
   "outputs": [],
   "source": [
    "data_invert = data_dict_invert[\"target_0\"]\n",
    "survey = data_invert.survey"
   ]
  },
  {
   "cell_type": "code",
   "execution_count": 31,
   "id": "c6cd6d73-68ce-46a8-af6e-7594b7495ffd",
   "metadata": {},
   "outputs": [
    {
     "data": {
      "text/plain": [
       "array([-6.55434462e-09, -4.63707831e-09, -3.32808904e-09, -2.36915869e-09,\n",
       "       -1.66094531e-09, -1.15095849e-09, -7.89255554e-10, -5.34561600e-10,\n",
       "       -3.57517766e-10, -2.39363793e-10, -1.58666024e-10, -1.03423493e-10,\n",
       "       -6.59916590e-11, -4.14325693e-11, -2.61372424e-11, -1.66247136e-11,\n",
       "       -1.03789112e-11, -6.38048911e-12, -3.89142202e-12, -2.36408146e-12])"
      ]
     },
     "execution_count": 31,
     "metadata": {},
     "output_type": "execute_result"
    }
   ],
   "source": [
    "src = survey.source_list[0]\n",
    "rx = src.receiver_list[0]\n",
    "data_invert[src, rx]"
   ]
  },
  {
   "cell_type": "code",
   "execution_count": 32,
   "id": "c9e3f95f-53e1-4e29-ad23-28f4a1955b37",
   "metadata": {},
   "outputs": [],
   "source": [
    "relative_error = 0.1\n",
    "noise_floor = 1e-11"
   ]
  },
  {
   "cell_type": "code",
   "execution_count": 34,
   "id": "073a04fa-a229-4b4b-bc1b-ffffb4bbbbe6",
   "metadata": {},
   "outputs": [],
   "source": [
    "with open(\"dobs.txt\", \"w\") as f:\n",
    "    f.write(f\"IGNORE -9.9999000e+004\")\n",
    "    f.write(f\"N_TRX {len(full_survey.source_list)}\\n\\n\")\n",
    "\n",
    "    for src in survey.source_list: \n",
    "        f.write(f\"TRX_LOOP\\n\")\n",
    "        f.write(f\"{src.location[0]} {src.location[1]} {src.location[2]} {src.radius} 0 0\\n\\n\")\n",
    "\n",
    "        f.write(f\"N_RECV 1\\n\")\n",
    "        f.write(f\"N_TIME {n_times_invert}\\n\")\n",
    "        for i, t in enumerate(rx_times[:n_times_invert]):\n",
    "            rx = src.receiver_list[0]\n",
    "            datum = -data_invert[src, rx][i]\n",
    "            std = np.abs(datum) * relative_error + noise_floor\n",
    "            f.write(\n",
    "                f\"{rx.locations[0, 0]} {rx.locations[0, 1]} {rx.locations[0, 2]} {t} \"+\n",
    "                f\"-9.9999000e+004 -9.9999000e+004 -9.9999000e+004 -9.9999000e+004 -9.9999000e+004 -9.9999000e+004 \" + # E data \n",
    "                f\"-9.9999000e+004 \" + # H data\n",
    "                f\"-9.9999000e+004 -9.9999000e+004 -9.9999000e+004 -9.9999000e+004 {datum} {std}\\n\"\n",
    "            )\n",
    "            \n",
    "        f.write(\"\\n\")\n",
    "            \n",
    "\n",
    "\n",
    "        "
   ]
  },
  {
   "cell_type": "code",
   "execution_count": 35,
   "id": "b88139f0-e66b-4bc1-8684-8ccea6e782fd",
   "metadata": {},
   "outputs": [],
   "source": [
    "time_steps = [\n",
    "    (1e-6, 30),\n",
    "    (3e-6, 30),\n",
    "    (1e-5, 30), (3e-5, 20), (1e-4, 20), #(3e-4, 20)\n",
    "]"
   ]
  },
  {
   "cell_type": "code",
   "execution_count": 43,
   "id": "b893ea07-94fb-4276-98ec-5bfb8d1d4391",
   "metadata": {},
   "outputs": [
    {
     "name": "stdout",
     "output_type": "stream",
     "text": [
      "1e-06 30\n",
      "3e-06 30\n",
      "1e-05 30\n",
      "3e-05 20\n",
      "0.0001 20\n"
     ]
    }
   ],
   "source": [
    "for dt, n in time_steps: \n",
    "    print(dt, n)"
   ]
  },
  {
   "cell_type": "code",
   "execution_count": 45,
   "id": "5f6b741a-bb66-4ae7-9fa4-9cf9b766cfad",
   "metadata": {},
   "outputs": [],
   "source": [
    "with open(\"waveform.txt\", \"w\") as f:\n",
    "    f.write(f\"{timestep}\\t 1\\n\")\n",
    "    for dt, n in time_steps: \n",
    "        f.write(f\"{dt}\\t 0\\t {n}\\n\")"
   ]
  },
  {
   "cell_type": "code",
   "execution_count": null,
   "id": "5b9768eb-4d98-446c-9fb0-65c0bf69decd",
   "metadata": {},
   "outputs": [],
   "source": []
  }
 ],
 "metadata": {
  "kernelspec": {
   "display_name": "Python 3 (ipykernel)",
   "language": "python",
   "name": "python3"
  },
  "language_info": {
   "codemirror_mode": {
    "name": "ipython",
    "version": 3
   },
   "file_extension": ".py",
   "mimetype": "text/x-python",
   "name": "python",
   "nbconvert_exporter": "python",
   "pygments_lexer": "ipython3",
   "version": "3.11.11"
  }
 },
 "nbformat": 4,
 "nbformat_minor": 5
}
