{
 "cells": [
  {
   "cell_type": "code",
   "execution_count": 1,
   "id": "64b9eb20-6cda-4905-a6c8-95b3ae0f260e",
   "metadata": {},
   "outputs": [],
   "source": [
    "import numpy as np\n",
    "import os\n",
    "import matplotlib.pyplot as plt\n",
    "from matplotlib.colors import LogNorm, Normalize\n",
    "import time\n",
    "import pickle\n",
    "\n",
    "from concurrent.futures import ProcessPoolExecutor, as_completed\n",
    "\n",
    "import discretize \n",
    "# from simpeg import dask\n",
    "from simpeg.utils import mkvc, plot_1d_layer_model\n",
    "from simpeg import (\n",
    "    maps,\n",
    "    Data,\n",
    "    data_misfit,\n",
    "    inverse_problem,\n",
    "    regularization,\n",
    "    optimization,\n",
    "    directives,\n",
    "    inversion,\n",
    "    utils,\n",
    ")\n",
    "from simpeg.electromagnetics import time_domain as tdem\n",
    "from simpeg.utils.solver_utils import get_default_solver\n",
    "\n",
    "from simpeg.meta import MultiprocessingMetaSimulation #DaskMetaSimulation"
   ]
  },
  {
   "cell_type": "code",
   "execution_count": 40,
   "id": "c1a21772-fbc1-42b0-8ed3-b4537317707c",
   "metadata": {},
   "outputs": [],
   "source": [
    "import dask\n",
    "from dask.distributed import Client"
   ]
  },
  {
   "cell_type": "code",
   "execution_count": null,
   "id": "7c80bf34-bdff-4649-805e-ef9d67b1fa9f",
   "metadata": {},
   "outputs": [],
   "source": []
  },
  {
   "cell_type": "code",
   "execution_count": 2,
   "id": "aabf8349-b2ea-41ef-a974-3537317c7cfe",
   "metadata": {},
   "outputs": [
    {
     "data": {
      "text/plain": [
       "pymatsolver.direct.pardiso.Pardiso"
      ]
     },
     "execution_count": 2,
     "metadata": {},
     "output_type": "execute_result"
    }
   ],
   "source": [
    "Solver = get_default_solver()\n",
    "Solver"
   ]
  },
  {
   "cell_type": "markdown",
   "id": "570037d2-aeab-487d-ba4a-30e1bb25c2ee",
   "metadata": {},
   "source": [
    "# load data "
   ]
  },
  {
   "cell_type": "code",
   "execution_count": 3,
   "id": "6cbb11df-7177-4c15-9306-af4487b12d76",
   "metadata": {},
   "outputs": [
    {
     "name": "stdout",
     "output_type": "stream",
     "text": [
      "['rx_times.txt', 'background.txt', 'target_30.txt', 'target_45.txt', 'target_0.txt', 'rx_locs.txt', 'target_15.txt']\n"
     ]
    }
   ],
   "source": [
    "directory = \"./synthetic-data-10m\"\n",
    "files = [f for f in os.listdir(directory) if os.path.isfile(os.path.join(directory, f)) and f.split(\".\")[-1]==\"txt\"]\n",
    "\n",
    "print(files)"
   ]
  },
  {
   "cell_type": "code",
   "execution_count": 4,
   "id": "3ff22d31-60af-41a8-8a1c-e0c440f7cd2a",
   "metadata": {},
   "outputs": [
    {
     "data": {
      "text/plain": [
       "['rx_times.txt',\n",
       " 'background.txt',\n",
       " 'target_30.txt',\n",
       " 'target_45.txt',\n",
       " 'target_0.txt',\n",
       " 'rx_locs.txt',\n",
       " 'target_15.txt']"
      ]
     },
     "execution_count": 4,
     "metadata": {},
     "output_type": "execute_result"
    }
   ],
   "source": [
    "files"
   ]
  },
  {
   "cell_type": "code",
   "execution_count": 5,
   "id": "7a4f7987-8a1a-4eb5-af8a-68df324d8582",
   "metadata": {},
   "outputs": [],
   "source": [
    "files.remove(\"rx_locs.txt\")\n",
    "rx_locs = np.loadtxt(f\"{directory}/rx_locs.txt\")\n",
    "\n",
    "files.remove(\"rx_times.txt\")\n",
    "rx_times = np.loadtxt(f\"{directory}/rx_times.txt\")"
   ]
  },
  {
   "cell_type": "code",
   "execution_count": 6,
   "id": "373275e0-f3b8-4e8b-b1a6-d9cee29315c0",
   "metadata": {},
   "outputs": [],
   "source": [
    "dobs_dict = {}\n",
    "\n",
    "for f in files: \n",
    "    key = f.split(\".\")[0]\n",
    "    dobs_dict[key] = np.loadtxt(f\"{directory}/{f}\")"
   ]
  },
  {
   "cell_type": "markdown",
   "id": "3f41a307-4215-4e3e-839a-cc6043fdf40b",
   "metadata": {},
   "source": [
    "# create survey"
   ]
  },
  {
   "cell_type": "code",
   "execution_count": 7,
   "id": "3a7bd154-47d9-4a92-b243-495ee86dead0",
   "metadata": {},
   "outputs": [],
   "source": [
    "data_dict = {}\n",
    "\n",
    "for key, value in dobs_dict.items(): \n",
    "    source_list = []\n",
    "    for i in range(rx_locs.shape[0]): \n",
    "        rx = tdem.receivers.PointMagneticFluxTimeDerivative(rx_locs[i, :], rx_times, orientation=\"z\")\n",
    "        src = tdem.sources.CircularLoop(\n",
    "            receiver_list=[rx], location=rx_locs[i, :], orientation=\"z\", radius=10, \n",
    "            waveform=tdem.sources.StepOffWaveform()\n",
    "        )\n",
    "        source_list.append(src)\n",
    "    \n",
    "    full_survey = tdem.Survey(source_list)\n",
    "\n",
    "    data_dict[key] = Data(survey=full_survey, dobs=value)"
   ]
  },
  {
   "cell_type": "code",
   "execution_count": 8,
   "id": "7285f177-f371-416e-a2e5-9450940f12d7",
   "metadata": {},
   "outputs": [
    {
     "data": {
      "text/plain": [
       "array([-255.,    0.,   30.])"
      ]
     },
     "execution_count": 8,
     "metadata": {},
     "output_type": "execute_result"
    }
   ],
   "source": [
    "ind = 25\n",
    "rx_locs[ind, :]"
   ]
  },
  {
   "cell_type": "code",
   "execution_count": 9,
   "id": "285e0dbe-5366-41dd-bc93-903b21cb1aad",
   "metadata": {},
   "outputs": [
    {
     "data": {
      "text/plain": [
       "[<matplotlib.lines.Line2D at 0x7fa125d15b50>]"
      ]
     },
     "execution_count": 9,
     "metadata": {},
     "output_type": "execute_result"
    },
    {
     "data": {
      "image/png": "[encoded data removed]",
      "text/plain": [
       "<Figure size 640x480 with 1 Axes>"
      ]
     },
     "metadata": {},
     "output_type": "display_data"
    }
   ],
   "source": [
    "key = \"target_0\"\n",
    "ind = 25\n",
    "src_background = data_dict[\"background\"].survey.source_list[ind]\n",
    "src = data_dict[key].survey.source_list[ind]\n",
    "\n",
    "plt.loglog(rx_times, -data_dict[\"background\"][src_background, src_background.receiver_list[0]], \"k\", alpha=0.5)\n",
    "plt.loglog(rx_times, -data_dict[key][src, src.receiver_list[0]], \"C0-o\", ms=4)"
   ]
  },
  {
   "cell_type": "code",
   "execution_count": 10,
   "id": "f725ec8d-c732-48ea-a63d-3e5450805314",
   "metadata": {},
   "outputs": [
    {
     "name": "stderr",
     "output_type": "stream",
     "text": [
      "/home/lheagy/miniforge3/envs/py311/lib/python3.11/site-packages/discretize/utils/io_utils.py:39: FutureWarning: In discretize v1.0 the TreeMesh will change the default value of diagonal_balance to True, which will likely slightly change meshes you have previously created. If you need to keep the current behavior, explicitly set diagonal_balance=False.\n",
      "  data = cls(**jsondict)\n"
     ]
    }
   ],
   "source": [
    "mesh = discretize.load_mesh(f\"{directory}/treemesh.json\")"
   ]
  },
  {
   "cell_type": "code",
   "execution_count": 11,
   "id": "112cb42c-4cf7-46e7-87a7-390ca0c11418",
   "metadata": {},
   "outputs": [],
   "source": [
    "active_cells_map = maps.InjectActiveCells(mesh, mesh.cell_centers[:, 2]<0, value_inactive=np.log(1e-8))"
   ]
  },
  {
   "cell_type": "code",
   "execution_count": 12,
   "id": "9aab7a94-e641-42c4-b2d1-5010397df444",
   "metadata": {},
   "outputs": [],
   "source": [
    "# full_source_list = []\n",
    "\n",
    "# for i in range(rx_locs.shape[0]): \n",
    "#     rx = tdem.receivers.PointMagneticFluxTimeDerivative(rx_locs[i, :], rx_times, orientation=\"z\")\n",
    "#     src = tdem.sources.CircularLoop(\n",
    "#         receiver_list=[rx], location=rx_locs[i, :], orientation=\"z\", radius=10, \n",
    "#         waveform=tdem.sources.StepOffWaveform()\n",
    "#     )\n",
    "#     full_source_list.append(src)\n",
    "\n",
    "# full_survey = tdem.Survey(full_source_list)"
   ]
  },
  {
   "cell_type": "code",
   "execution_count": 13,
   "id": "36c96571-6f70-4ac8-aceb-d4b618997655",
   "metadata": {},
   "outputs": [],
   "source": [
    "n_times_invert = 20\n",
    "\n"
   ]
  },
  {
   "cell_type": "code",
   "execution_count": 14,
   "id": "c55e4da1-5e33-4b4d-a367-6b6958333261",
   "metadata": {},
   "outputs": [],
   "source": [
    "data_dict_invert = {}\n",
    "\n",
    "for key, value in dobs_dict.items(): \n",
    "\n",
    "    source_list = []\n",
    "\n",
    "    for i in range(rx_locs.shape[0]): \n",
    "        rx = tdem.receivers.PointMagneticFluxTimeDerivative(rx_locs[i, :], rx_times[:n_times_invert], orientation=\"z\")\n",
    "        src = tdem.sources.CircularLoop(\n",
    "            receiver_list=[rx], location=rx_locs[i, :], orientation=\"z\", radius=10, \n",
    "            waveform=tdem.sources.StepOffWaveform()\n",
    "        )\n",
    "        source_list.append(src)\n",
    "    \n",
    "    survey = tdem.Survey(source_list)\n",
    "    \n",
    "    data_dict_invert[key] = Data(\n",
    "        survey=survey, \n",
    "        dobs=(value.reshape(rx_locs.shape[0], len(rx_times))[:, :n_times_invert]).flatten(), \n",
    "        relative_error=0.1, \n",
    "        noise_floor=1e-11\n",
    "    )"
   ]
  },
  {
   "cell_type": "code",
   "execution_count": 15,
   "id": "02f60b79-dde2-49eb-80d4-94b4a0819df2",
   "metadata": {},
   "outputs": [
    {
     "data": {
      "text/plain": [
       "[<matplotlib.lines.Line2D at 0x7fa125d08690>]"
      ]
     },
     "execution_count": 15,
     "metadata": {},
     "output_type": "execute_result"
    },
    {
     "data": {
      "image/png": "[encoded data removed]",
      "text/plain": [
       "<Figure size 640x480 with 1 Axes>"
      ]
     },
     "metadata": {},
     "output_type": "display_data"
    }
   ],
   "source": [
    "key = \"background\"\n",
    "src = data_dict_invert[key].survey.source_list[0]\n",
    "rx = src.receiver_list[0]\n",
    "plt.loglog(rx_times[:n_times_invert], -data_dict_invert[key][src, rx], \"-o\")"
   ]
  },
  {
   "cell_type": "code",
   "execution_count": 16,
   "id": "6d6ea4b9-f1ef-42d6-842d-c213befc406e",
   "metadata": {},
   "outputs": [
    {
     "data": {
      "text/plain": [
       "np.float64(0.0029101499992409746)"
      ]
     },
     "execution_count": 16,
     "metadata": {},
     "output_type": "execute_result"
    }
   ],
   "source": [
    "rx_times[n_times_invert]"
   ]
  },
  {
   "cell_type": "code",
   "execution_count": 17,
   "id": "88bdd33d-5cd8-4d20-9d71-08253160a2ac",
   "metadata": {},
   "outputs": [],
   "source": [
    "# refine_depth = 120 # refine our local mesh to 200m \n",
    "\n",
    "# def get_local_mesh(src):\n",
    "#     mesh_local = discretize.TreeMesh(mesh.h, origin=mesh.origin, diagonal_balance=True)\n",
    "#     refine_points = discretize.utils.ndgrid(\n",
    "#         np.r_[src.location[0]],\n",
    "#         np.r_[src.location[1]],\n",
    "#         np.linspace(-refine_depth, src.location[2], 40)\n",
    "#     )\n",
    "#     mesh_local.refine_points(\n",
    "#         refine_points,\n",
    "#         level=-1,\n",
    "#         padding_cells_by_level=[1, 4, 6, 2],\n",
    "#         finalize=True,\n",
    "#         diagonal_balance=True\n",
    "#     )\n",
    "#     return mesh_local\n",
    "\n",
    "# with ProcessPoolExecutor() as executor:\n",
    "#     mesh_list = list(executor.map(get_local_mesh, source_list))"
   ]
  },
  {
   "cell_type": "code",
   "execution_count": 18,
   "id": "26ac6607-1c1a-4c88-9c28-db40559a3a1a",
   "metadata": {},
   "outputs": [],
   "source": [
    "# mesh_list[0]"
   ]
  },
  {
   "cell_type": "code",
   "execution_count": 19,
   "id": "e576bddf-c1c2-4194-82ae-40dd66d0efa8",
   "metadata": {},
   "outputs": [],
   "source": [
    "with open(f\"synthetic-data-10m/true-models.pkl\", \"rb\") as f:\n",
    "    true_models = pickle.load(f)"
   ]
  },
  {
   "cell_type": "code",
   "execution_count": 20,
   "id": "2de1786b-ecd1-450b-b3fc-66ec8e29f34d",
   "metadata": {},
   "outputs": [
    {
     "data": {
      "text/plain": [
       "120576"
      ]
     },
     "execution_count": 20,
     "metadata": {},
     "output_type": "execute_result"
    }
   ],
   "source": [
    "len(true_models[\"target_15\"])"
   ]
  },
  {
   "cell_type": "code",
   "execution_count": 22,
   "id": "3fe4164d-2ba2-4f1f-8370-ccc688ad3a41",
   "metadata": {},
   "outputs": [],
   "source": [
    "# fig, ax = plt.subplots(1, 1, figsize=(8, 2)) \n",
    "\n",
    "# mesh_local = mesh_list[30]\n",
    "\n",
    "# plt.colorbar(\n",
    "#     mesh.plot_slice(\n",
    "#         true_models[\"target_30\"], \n",
    "#         # grid=True, \n",
    "#         normal=\"y\",\n",
    "#         pcolor_opts={\"norm\":LogNorm(1e-3, 1e-1)},\n",
    "#         ax=ax)[0], \n",
    "#     ax=ax\n",
    "# )\n",
    "# mesh_local.plot_slice(\n",
    "#     np.ones(mesh_local.n_cells), \n",
    "#     # grid=True, \n",
    "#     normal=\"y\",\n",
    "#     grid_opts={\"color\":\"k\", \"lw\":1},\n",
    "#     pcolor_opts={\"alpha\":0.1},\n",
    "#     ax=ax\n",
    "# )\n",
    "# ax.set_xlim(600*np.r_[-1, 1])\n",
    "# ax.set_ylim(np.r_[-300, 50])\n",
    "\n",
    "# ax.plot(rx_locs[:, 0], rx_locs[:, 2], \"ro\")\n",
    "# ax.set_aspect(1)\n"
   ]
  },
  {
   "cell_type": "code",
   "execution_count": 23,
   "id": "0e82757e-1249-479e-b8c1-6842012bd3be",
   "metadata": {},
   "outputs": [
    {
     "data": {
      "text/plain": [
       "np.float64(0.0030199999999999997)"
      ]
     },
     "execution_count": 23,
     "metadata": {},
     "output_type": "execute_result"
    }
   ],
   "source": [
    "time_steps = [\n",
    "    (1e-6, 30), \n",
    "    (3e-6, 30), \n",
    "    (1e-5, 30), (3e-5, 20), (1e-4, 20), #(3e-4, 20)\n",
    "]\n",
    "\n",
    "np.sum(discretize.utils.unpack_widths(time_steps))"
   ]
  },
  {
   "cell_type": "code",
   "execution_count": 24,
   "id": "216e661e-7406-459a-aada-af13d84cb75f",
   "metadata": {
    "scrolled": true
   },
   "outputs": [],
   "source": [
    "# mappings = []\n",
    "# sims = []\n",
    "\n",
    "# for ii, local_mesh in enumerate(mesh_list):\n",
    "    \n",
    "#     tile_map = maps.TileMap(mesh, active_cells_map.active_cells, local_mesh)\n",
    "#     mappings.append(tile_map)\n",
    "    \n",
    "#     local_actmap = maps.InjectActiveCells(\n",
    "#         local_mesh, \n",
    "#         active_cells=tile_map.local_active, \n",
    "#         value_inactive=np.log(1e-8)\n",
    "#     )\n",
    "    \n",
    "#     local_survey = tdem.Survey([survey.source_list[ii]])\n",
    "#     sims.append(tdem.simulation.Simulation3DElectricField(\n",
    "#             mesh=local_mesh,\n",
    "#             survey=local_survey,\n",
    "#             time_steps=time_steps,\n",
    "#             solver=Solver,\n",
    "#             sigmaMap=maps.ExpMap() * local_actmap\n",
    "#         )\n",
    "#     )\n",
    "\n"
   ]
  },
  {
   "cell_type": "code",
   "execution_count": 25,
   "id": "8d6b63bd-75ad-4a95-88ee-179caf866225",
   "metadata": {},
   "outputs": [],
   "source": [
    "# len(sims)"
   ]
  },
  {
   "cell_type": "code",
   "execution_count": 26,
   "id": "168fac15-1b6c-432a-b337-f576c2d826e2",
   "metadata": {},
   "outputs": [],
   "source": [
    "# inds = slice(47, 53)\n",
    "# len(sims[inds])"
   ]
  },
  {
   "cell_type": "code",
   "execution_count": 27,
   "id": "97137ee7-a8b1-4c22-854f-be6d5b8d7711",
   "metadata": {
    "scrolled": true
   },
   "outputs": [],
   "source": [
    "# downsample = 20\n",
    "# sim = MultiprocessingMetaSimulation(sims[inds], mappings[inds])\n"
   ]
  },
  {
   "cell_type": "code",
   "execution_count": 28,
   "id": "efd64927-890a-4746-ad1f-db1353d7fe30",
   "metadata": {},
   "outputs": [],
   "source": [
    "with open(f\"{directory}/true-models.pkl\", \"rb\") as f:\n",
    "    true_models = pickle.load(f)"
   ]
  },
  {
   "cell_type": "code",
   "execution_count": 29,
   "id": "ee493420-4029-413b-837b-4017de9d7e4b",
   "metadata": {},
   "outputs": [
    {
     "data": {
      "text/plain": [
       "dict_keys(['background', 'target_0', 'target_15', 'target_30', 'target_45'])"
      ]
     },
     "execution_count": 29,
     "metadata": {},
     "output_type": "execute_result"
    }
   ],
   "source": [
    "true_models.keys()"
   ]
  },
  {
   "cell_type": "code",
   "execution_count": 30,
   "id": "6a9e634d-65d0-4aeb-901d-3340b13c7c13",
   "metadata": {},
   "outputs": [],
   "source": [
    "# %%time\n",
    "# tmp = sim.dpred(np.log(1/500) * np.ones(np.sum(active_cells_map.active_cells)))"
   ]
  },
  {
   "cell_type": "code",
   "execution_count": 31,
   "id": "15e996a3-e4e6-4b43-b0e5-fecc22aae324",
   "metadata": {},
   "outputs": [],
   "source": [
    "def get_simulation(survey): \n",
    "    # create simulation \n",
    "    time_steps = [\n",
    "        (1e-6, 30), (3e-6, 30), (1e-5, 30), (3e-5, 20), (1e-4, 20), #(3e-4, 20)\n",
    "    ]      \n",
    "    \n",
    "    return tdem.simulation.Simulation3DElectricField(\n",
    "        mesh=mesh,\n",
    "        survey=survey,\n",
    "        time_steps=time_steps,\n",
    "        solver=Solver,\n",
    "        sigmaMap=maps.ExpMap() * active_cells_map\n",
    "    )"
   ]
  },
  {
   "cell_type": "code",
   "execution_count": 34,
   "id": "e682f0f6-987d-473d-b4e8-08b674c0b9d0",
   "metadata": {},
   "outputs": [],
   "source": [
    "downsampled_data_dict = {}\n",
    "simulations = {}\n",
    "\n",
    "downsample = 5\n",
    "\n",
    "for key, val in data_dict_invert.items(): \n",
    "    source_list_downsampled = val.survey.source_list[::downsample]\n",
    "    survey_downsampled = tdem.Survey(source_list_downsampled)\n",
    "    downsampled_data_dict[key] = Data(\n",
    "        survey=survey_downsampled, \n",
    "        dobs=np.hstack(\n",
    "            [val[src, src.receiver_list[0]] for src in source_list_downsampled]\n",
    "        ),\n",
    "        noise_floor=1e-11, \n",
    "        relative_error=0.1\n",
    "    )\n",
    "    simulations[key] = get_simulation(survey_downsampled)"
   ]
  },
  {
   "cell_type": "code",
   "execution_count": 35,
   "id": "7442a414-1bd3-46ce-9b6f-7253da70622e",
   "metadata": {},
   "outputs": [],
   "source": [
    "# %%time\n",
    "# key = \"target_0\"\n",
    "# fwd_target = sim.dpred(np.log(true_models[key])[active_cells_map.active_cells])"
   ]
  },
  {
   "cell_type": "code",
   "execution_count": 36,
   "id": "baa66ad6-711f-4bc2-be80-ada9316459ea",
   "metadata": {},
   "outputs": [],
   "source": [
    "# fig, ax = plt.subplots(1, 1)\n",
    "\n",
    "# # key = \"target_0\"\n",
    "# ind = 0\n",
    "# src = downsampled_data_dict[key].survey.source_list[ind]\n",
    "# rx = src.receiver_list[0]\n",
    "# ax.errorbar(rx_times[:n_times_invert], -downsampled_data_dict[key][src, rx], yerr=downsampled_data_dict[key].standard_deviation[n_times_invert*ind:n_times_invert*(ind+1)])\n",
    "\n",
    "# ax.loglog(rx_times[:n_times_invert], -fwd_target[n_times_invert*ind:n_times_invert*(ind+1)], \"-s\")\n",
    "\n",
    "# ax.loglog(rx_times[:n_times_invert], np.abs(downsampled_data_dict[key][src, rx]-fwd_target[n_times_invert*ind:n_times_invert*(ind+1)]), \"--k\")"
   ]
  },
  {
   "cell_type": "code",
   "execution_count": 33,
   "id": "dacbdc92-6351-4002-9253-b216dccb3b5a",
   "metadata": {},
   "outputs": [
    {
     "data": {
      "text/plain": [
       "(-500.0, 10.0)"
      ]
     },
     "execution_count": 33,
     "metadata": {},
     "output_type": "execute_result"
    },
    {
     "data": {
      "image/png": "[encoded data removed]",
      "text/plain": [
       "<Figure size 800x200 with 2 Axes>"
      ]
     },
     "metadata": {},
     "output_type": "display_data"
    }
   ],
   "source": [
    "# fig, ax = plt.subplots(1, 1, figsize=(8, 2)) \n",
    "\n",
    "# ind = 5\n",
    "# mesh_local = sim.simulations[ind].mesh\n",
    "\n",
    "# plt.colorbar(mesh_local.plot_slice(\n",
    "#     (\n",
    "#         sim.simulations[ind].sigmaMap @ \n",
    "#         sim.mappings[ind] @ \n",
    "#         np.log(true_models[\"target_0\"])[active_cells_map.active_cells])\n",
    "#     , \n",
    "#     # grid=True, \n",
    "#     normal=\"y\",\n",
    "#     grid_opts={\"color\":\"k\", \"lw\":0.5},\n",
    "#     pcolor_opts={\"norm\":LogNorm()},\n",
    "#     ax=ax\n",
    "# )[0], ax=ax)\n",
    "# ax.set_xlim(500*np.r_[-1, 1])\n",
    "# ax.set_ylim(np.r_[-500, 10])"
   ]
  },
  {
   "cell_type": "code",
   "execution_count": 34,
   "id": "d31a96a5-e517-4600-8371-a4d1cc30ac26",
   "metadata": {},
   "outputs": [],
   "source": [
    "# set up 1D inversion \n",
    "def create_inversion(data_invert): \n",
    "    # relative_error=0.1\n",
    "    # noise_floor=1e-11\n",
    "    # alpha_s = 1e-1\n",
    "    # alpha_x = 1\n",
    "    rho_back = 500\n",
    "    # beta0 = 10\n",
    "    \n",
    "    \n",
    "    dmis = data_misfit.L2DataMisfit(simulation=sim, data=data_invert)\n",
    "    reg = regularization.WeightedLeastSquares(\n",
    "        mesh, \n",
    "        active_cells=active_cells_map.active_cells,\n",
    "        # alpha_s=1e-6, \n",
    "        # alpha_x=alpha_x, \n",
    "        # reference_model=np.log(1./rho_back),\n",
    "        # norms=norms\n",
    "    )\n",
    "    \n",
    "    opt = optimization.InexactGaussNewton(maxIter=10, maxIterCG=30, tolCG=1e-3)\n",
    "    inv_prob = inverse_problem.BaseInvProblem(dmis, reg, opt)\n",
    "    \n",
    "    # Defining a starting value for the trade-off parameter (beta) between the data\n",
    "    # misfit and the regularization.\n",
    "    starting_beta = directives.BetaEstimate_ByEig(beta0_ratio=10)\n",
    "    \n",
    "    cool_beta = directives.BetaSchedule(coolingFactor=2, coolingRate=1)\n",
    "    \n",
    "    # Update the preconditionner\n",
    "    # update_Jacobi = directives.UpdatePreconditioner()\n",
    "    \n",
    "    # Options for outputting recovered models and predicted data for each beta.\n",
    "    save_iteration = directives.SaveOutputDictEveryIteration(\n",
    "        saveOnDisk=False, name=f\"inv-dict-{rx.locations[0,0]}\"\n",
    "    )\n",
    "    \n",
    "    \n",
    "    # Updating the preconditionner if it is model dependent.\n",
    "    # update_jacobi = directives.UpdatePreconditioner()\n",
    "    \n",
    "    # Add sensitivity weights\n",
    "    # sensitivity_weights = directives.UpdateSensitivityWeights()\n",
    "    \n",
    "    target_misfit = directives.TargetMisfit()\n",
    "    \n",
    "    # The directives are defined as a list.\n",
    "    directives_list = [\n",
    "        # sensitivity_weights,\n",
    "        # update_jacobi,\n",
    "        starting_beta,\n",
    "        cool_beta,\n",
    "        save_iteration,\n",
    "        target_misfit,\n",
    "    ]\n",
    "    \n",
    "    # Here we combine the inverse problem and the set of directives\n",
    "    inv = inversion.BaseInversion(inv_prob, directives_list)\n",
    "    return inv"
   ]
  },
  {
   "cell_type": "code",
   "execution_count": 35,
   "id": "441ebcf7-16ca-4b8e-afd9-7aec2bc58e56",
   "metadata": {},
   "outputs": [],
   "source": [
    "inv_directory = \"/t40array/lheagy/2025-heagy-et-al-tle/synthetic-invs-3d\""
   ]
  },
  {
   "cell_type": "code",
   "execution_count": 36,
   "id": "47ae8b6e-6ec0-4d3b-b4a9-56b7c7ac7b94",
   "metadata": {},
   "outputs": [],
   "source": [
    "rho_start = 500\n",
    "m0 = np.log(1/rho_start) * np.ones(np.sum(active_cells_map.active_cells))\n"
   ]
  },
  {
   "cell_type": "code",
   "execution_count": 37,
   "id": "2f0e113a-9009-4f96-9d5f-57c58112981c",
   "metadata": {},
   "outputs": [
    {
     "data": {
      "text/plain": [
       "array([500.])"
      ]
     },
     "execution_count": 37,
     "metadata": {},
     "output_type": "execute_result"
    }
   ],
   "source": [
    "1./np.exp(np.unique(m0))"
   ]
  },
  {
   "cell_type": "code",
   "execution_count": 38,
   "id": "e462293a-c7dc-4625-a558-d162ded3c0be",
   "metadata": {},
   "outputs": [],
   "source": [
    "def run_inv(key): \n",
    "    inv = create_inversion(downsampled_data_dict[key])\n",
    "    rho_start = 500\n",
    "    m0 = np.log(1/rho_start) * np.ones(np.sum(active_cells_map.active_cells))\n",
    "    \n",
    "    mopt = inv.run(m0)\n",
    "    # np.save(f\"{inv_directory}/{key}_model.npy\", mopt)\n",
    "    \n",
    "    # inv_dict = inv.directiveList.dList[-2].outDict\n",
    "    # with open(f\"{inv_directory}/{key}_inv_dict.pkl\", \"wb\") as f:\n",
    "    #     pickle.dump(inv_dict, f)\n",
    "\n",
    "    return mopt, inv\n"
   ]
  },
  {
   "cell_type": "code",
   "execution_count": 39,
   "id": "e3167a6a-e152-44cc-a586-e13f97aeb10f",
   "metadata": {},
   "outputs": [],
   "source": [
    "tmp = downsampled_data_dict[key]"
   ]
  },
  {
   "cell_type": "code",
   "execution_count": 40,
   "id": "a703193f-9d08-493f-8c2e-407e9863028e",
   "metadata": {},
   "outputs": [],
   "source": [
    "src_x = np.hstack([s.location[0] for s in downsampled_data_dict[key].survey.source_list])"
   ]
  },
  {
   "cell_type": "code",
   "execution_count": 41,
   "id": "ec7bb8af-2609-42c2-afec-976ab5e15cb7",
   "metadata": {},
   "outputs": [
    {
     "data": {
      "image/png": "[encoded data removed]",
      "text/plain": [
       "<Figure size 1000x400 with 1 Axes>"
      ]
     },
     "metadata": {},
     "output_type": "display_data"
    }
   ],
   "source": [
    "fig, ax = plt.subplots(1, 1, figsize=(10, 4))\n",
    "ax.semilogy(src_x, -tmp.dobs.reshape(len(src_x), n_times_invert), color=\"k\");\n"
   ]
  },
  {
   "cell_type": "code",
   "execution_count": 42,
   "id": "a5cd5304-e682-4052-9ba3-b3ffa9d552fb",
   "metadata": {},
   "outputs": [],
   "source": [
    "# inv_dict.invProb.dmisfit(np.log(true_models[\"background\"][active_cells_map.active_cells]))"
   ]
  },
  {
   "cell_type": "code",
   "execution_count": 43,
   "id": "f43c73f9-4c5d-407c-a3e5-021690e75444",
   "metadata": {},
   "outputs": [
    {
     "name": "stdout",
     "output_type": "stream",
     "text": [
      "\n",
      "Running inversion with SimPEG v0.24.0\n",
      "simpeg.InvProblem will set Regularization.reference_model to m0.\n",
      "simpeg.InvProblem will set Regularization.reference_model to m0.\n",
      "simpeg.InvProblem will set Regularization.reference_model to m0.\n",
      "simpeg.InvProblem will set Regularization.reference_model to m0.\n",
      "simpeg.InvProblem will set Regularization.reference_model to m0.\n",
      "simpeg.InvProblem will set Regularization.reference_model to m0.\n",
      "simpeg.InvProblem will set Regularization.reference_model to m0.\n",
      "\n",
      "                    simpeg.InvProblem is setting bfgsH0 to the inverse of the eval2Deriv.\n",
      "                    ***Done using the default solver Pardiso and no solver_opts.***\n",
      "                    \n",
      "model has any nan: 0\n",
      "============================ Inexact Gauss Newton ============================\n",
      "  #     beta     phi_d     phi_m       f      |proj(x-g)-x|  LS    Comment   \n",
      "-----------------------------------------------------------------------------\n",
      "x0 has any nan: 0\n",
      "   0  4.68e-11  8.01e+03  0.00e+00  8.01e+03    1.53e+01      0              \n",
      "   1  2.34e-11  4.54e+03  4.02e+09  4.54e+03    3.82e+01      3              \n",
      "   2  1.17e-11  2.92e+03  4.08e+09  2.92e+03    3.74e+01      3              \n",
      "   3  5.85e-12  2.34e+03  4.08e+09  2.34e+03    1.21e+02      3              \n",
      "   4  2.93e-12  1.88e+03  3.93e+09  1.88e+03    1.61e+02      3              \n",
      "   5  1.46e-12  1.52e+03  3.75e+09  1.52e+03    1.82e+02      2   Skip BFGS  \n",
      "   6  7.32e-13  1.40e+03  3.43e+09  1.40e+03    3.36e+02      1   Skip BFGS  \n",
      "   7  3.66e-13  2.17e+02  3.31e+09  2.17e+02    9.23e+01      0   Skip BFGS  \n",
      "   8  1.83e-13  1.91e+02  3.18e+09  1.91e+02    9.83e+01      2              \n",
      "   9  9.15e-14  1.38e+02  2.95e+09  1.38e+02    6.31e+01      0              \n",
      "------------------------- STOP! -------------------------\n",
      "1 : |fc-fOld| = 0.0000e+00 <= tolF*(1+|f0|) = 8.0139e+02\n",
      "1 : |xc-x_last| = 6.3666e+01 <= tolX*(1+|x0|) = 1.7741e+02\n",
      "0 : |proj(x-g)-x|    = 6.3070e+01 <= tolG          = 1.0000e-01\n",
      "0 : |proj(x-g)-x|    = 6.3070e+01 <= 1e3*eps       = 1.0000e-02\n",
      "1 : maxIter   =      10    <= iter          =     10\n",
      "------------------------- DONE! -------------------------\n",
      "CPU times: user 36min 40s, sys: 39.9 s, total: 37min 20s\n",
      "Wall time: 2h 1min 21s\n"
     ]
    }
   ],
   "source": [
    "%%time\n",
    "if __name__ == \"__main__\": \n",
    "    mopt, inv = run_inv(\"target_0\")"
   ]
  },
  {
   "cell_type": "code",
   "execution_count": 44,
   "id": "80a6f40d-48bb-4d80-a997-6927dbe2fca9",
   "metadata": {},
   "outputs": [
    {
     "data": {
      "text/plain": [
       "array([-6.21460813, -6.21460819, -6.21460819, ..., -6.2145836 ,\n",
       "       -6.2145836 , -6.2146074 ])"
      ]
     },
     "execution_count": 44,
     "metadata": {},
     "output_type": "execute_result"
    }
   ],
   "source": [
    "mopt"
   ]
  },
  {
   "cell_type": "code",
   "execution_count": null,
   "id": "d4edf1ab-c3cd-4483-8442-c6ddd0558ddc",
   "metadata": {},
   "outputs": [],
   "source": [
    "fig, ax = plt.subplots(1, 1, figsize=(12, 4))\n",
    "\n",
    "plt.colorbar(mesh.plot_slice(\n",
    "    np.exp(active_cells_map * mopt), \n",
    "    pcolor_opts={\"norm\":LogNorm()},\n",
    "    ax=ax,\n",
    "    ind=512,\n",
    "    normal=\"Y\"\n",
    ")[0])\n",
    "\n",
    "ax.set_xlim(600*np.r_[-1, 1])\n",
    "ax.set_ylim(-200, 10)\n",
    "ax.set_aspect(1)"
   ]
  },
  {
   "cell_type": "code",
   "execution_count": 47,
   "id": "19aca38f-cc69-4c89-845a-c28eb6d82462",
   "metadata": {},
   "outputs": [],
   "source": [
    "inv_outputs = inv_dict.directiveList.dList[-2].outDict"
   ]
  },
  {
   "cell_type": "code",
   "execution_count": 49,
   "id": "d607dde6-a92c-41db-918c-aa011d398fce",
   "metadata": {},
   "outputs": [
    {
     "data": {
      "text/plain": [
       "array([-6.2146081 , -6.21460809, -6.21460809, ..., -6.21460833,\n",
       "       -6.21460833, -6.21460711])"
      ]
     },
     "execution_count": 49,
     "metadata": {},
     "output_type": "execute_result"
    }
   ],
   "source": []
  },
  {
   "cell_type": "code",
   "execution_count": null,
   "id": "25fc6c13-f759-48b3-8b1c-faecf2f6e826",
   "metadata": {},
   "outputs": [
    {
     "name": "stdout",
     "output_type": "stream",
     "text": [
      "\n",
      "Running inversion with SimPEG v0.24.0\n",
      "simpeg.InvProblem will set Regularization.reference_model to m0.\n",
      "simpeg.InvProblem will set Regularization.reference_model to m0.\n",
      "simpeg.InvProblem will set Regularization.reference_model to m0.\n",
      "simpeg.InvProblem will set Regularization.reference_model to m0.\n",
      "simpeg.InvProblem will set Regularization.reference_model to m0.\n",
      "simpeg.InvProblem will set Regularization.reference_model to m0.\n",
      "simpeg.InvProblem will set Regularization.reference_model to m0.\n",
      "\n",
      "                    simpeg.InvProblem is setting bfgsH0 to the inverse of the eval2Deriv.\n",
      "                    ***Done using the default solver Pardiso and no solver_opts.***\n",
      "                    \n"
     ]
    }
   ],
   "source": [
    "# mopt_dict = {}\n",
    "# inv_dict = {}\n",
    "\n",
    "# for key in list(downsampled_data_dict.keys())[1:]:\n",
    "#     mopt_dict[key], inv_dict[key] = run_inv(key)\n",
    "    "
   ]
  },
  {
   "cell_type": "code",
   "execution_count": null,
   "id": "d1f3c7be-cbd6-4f5d-a55b-31b9321b655d",
   "metadata": {},
   "outputs": [],
   "source": [
    "5"
   ]
  },
  {
   "cell_type": "code",
   "execution_count": null,
   "id": "069d29a1-e198-47c2-bf58-05fb8814bf1d",
   "metadata": {},
   "outputs": [],
   "source": [
    "mopt_dict[\"\"]"
   ]
  },
  {
   "cell_type": "code",
   "execution_count": null,
   "id": "f1014fa1-e38a-4e55-87a0-5227961c2889",
   "metadata": {},
   "outputs": [],
   "source": [
    "mopt_dict.keys()"
   ]
  },
  {
   "cell_type": "code",
   "execution_count": 34,
   "id": "e4c0c49d-1f2e-4bac-bb7a-a3d1f1dd4fe2",
   "metadata": {},
   "outputs": [],
   "source": [
    "# key = \"target_0\"\n",
    "# n_times_invert = 20\n",
    "# ind = 0\n",
    "# src = full_survey.source_list[ind]\n",
    "# rx = src.receiver_list[0]\n",
    "# dobs = data_dict[key][src, rx][:n_times_invert]\n",
    "\n",
    "# inv = create_inversion(key, ind, dobs)"
   ]
  },
  {
   "cell_type": "code",
   "execution_count": 35,
   "id": "42d5c9a8-28d9-4be1-bf20-fae260c3106b",
   "metadata": {},
   "outputs": [],
   "source": [
    "    # rho_start = 500\n",
    "    # m0 = np.log(1/rho_start) * np.ones(len(thicknesses1d)+1)\n",
    "    # mopt = inv.run(m0)\n",
    "    \n"
   ]
  },
  {
   "cell_type": "code",
   "execution_count": 36,
   "id": "07474e91-bdb5-4441-b260-8b9eb5d4c5b3",
   "metadata": {},
   "outputs": [],
   "source": [
    "# iterations = len(inv.directiveList.dList[-2].outDict)"
   ]
  },
  {
   "cell_type": "code",
   "execution_count": 37,
   "id": "d21cf0d1-7490-4899-9bdd-fb82ecfd856a",
   "metadata": {},
   "outputs": [],
   "source": [
    "\n",
    "# # plt.loglog(rx_times, -data_dict[\"background\"][src, src.receiver_list[0]], \"k\", alpha=0.5)\n",
    "# # plt.loglog(rx_times, -data_dict[key][src, rx], \"C0o\", ms=4)\n",
    "# rx_times_invert = rx_times[:n_times_invert]\n",
    "# plt.errorbar(rx_times_invert, -inv.invProb.dmisfit[0][1].data.dobs, yerr=inv.invProb.dmisfit[0][1].data.standard_deviation)\n",
    "# plt.loglog(rx_times_invert, -inv.directiveList.dList[-2].outDict[iterations][\"dpred\"], \"C1-s\", ms=4)"
   ]
  },
  {
   "cell_type": "code",
   "execution_count": 38,
   "id": "e1ca74d5-5abf-4774-86da-9a354e90f298",
   "metadata": {},
   "outputs": [],
   "source": [
    "\n",
    "# rho_back = 500\n",
    "# sigma_back = 1./rho_back \n",
    "\n",
    "# rho_target = 20\n",
    "# sigma_target = 1./rho_target\n",
    "# target_z_center = -60\n",
    "# target_thickness = 40\n",
    "\n",
    "# model_true = np.log(1/np.r_[rho_back, rho_target, rho_back])\n",
    "\n",
    "# thicknesses_true = np.r_[-target_z_center - target_thickness/2, target_thickness]"
   ]
  },
  {
   "cell_type": "code",
   "execution_count": 39,
   "id": "1f2aa3c5-8163-4e96-ad55-e1ece38bed23",
   "metadata": {},
   "outputs": [],
   "source": [
    "# fig, ax = plt.subplots(1, 1, figsize=(2, 4))\n",
    "# plot_1d_layer_model(\n",
    "#     thicknesses1d, np.exp(mopt), ax=ax, color=\"C0\", label=\"recovered\"\n",
    "# )\n",
    "# plot_1d_layer_model(\n",
    "#     thicknesses_true, np.exp(model_true), ax=ax, color=\"k\", label=\"true\"\n",
    "# )\n",
    "# ax.set_ylim([250, 0])\n",
    "# ax.set_xlim([1e-4, 1e-1])\n"
   ]
  },
  {
   "cell_type": "code",
   "execution_count": null,
   "id": "0218d63b-8da4-4868-814d-8836c006f3c5",
   "metadata": {},
   "outputs": [],
   "source": []
  },
  {
   "cell_type": "code",
   "execution_count": null,
   "id": "8aa4569c-bb4f-462a-95db-62785ee8070e",
   "metadata": {},
   "outputs": [],
   "source": []
  },
  {
   "cell_type": "code",
   "execution_count": null,
   "id": "41696c59-b8dc-46f6-a137-976e2516e13a",
   "metadata": {},
   "outputs": [],
   "source": []
  },
  {
   "cell_type": "code",
   "execution_count": null,
   "id": "d10d9596-54c7-4b53-a574-5c39cba1cce9",
   "metadata": {},
   "outputs": [],
   "source": []
  },
  {
   "cell_type": "code",
   "execution_count": null,
   "id": "a705f848-07d0-4938-88f1-91cbea655c10",
   "metadata": {},
   "outputs": [],
   "source": []
  },
  {
   "cell_type": "code",
   "execution_count": null,
   "id": "e3037249-701d-4717-9c36-d8f4ea6110d3",
   "metadata": {},
   "outputs": [],
   "source": []
  }
 ],
 "metadata": {
  "kernelspec": {
   "display_name": "Python 3 (ipykernel)",
   "language": "python",
   "name": "python3"
  },
  "language_info": {
   "codemirror_mode": {
    "name": "ipython",
    "version": 3
   },
   "file_extension": ".py",
   "mimetype": "text/x-python",
   "name": "python",
   "nbconvert_exporter": "python",
   "pygments_lexer": "ipython3",
   "version": "3.11.11"
  }
 },
 "nbformat": 4,
 "nbformat_minor": 5
}
