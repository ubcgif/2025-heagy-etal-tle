{
 "cells": [
  {
   "cell_type": "code",
   "execution_count": 58,
   "id": "4d0da572-797d-4195-8887-8b0b935cec93",
   "metadata": {},
   "outputs": [],
   "source": [
    "import numpy as np\n",
    "import os\n",
    "import matplotlib.pyplot as plt\n",
    "from matplotlib.colors import LogNorm, Normalize\n",
    "import time\n",
    "import pickle\n",
    "\n",
    "from concurrent.futures import ProcessPoolExecutor, as_completed\n",
    "\n",
    "import discretize \n",
    "from simpeg.utils import mkvc, plot_1d_layer_model\n",
    "from simpeg import (\n",
    "    maps,\n",
    "    Data,\n",
    "    data_misfit,\n",
    "    inverse_problem,\n",
    "    regularization,\n",
    "    optimization,\n",
    "    directives,\n",
    "    inversion,\n",
    "    utils,\n",
    ")\n",
    "from simpeg.electromagnetics import time_domain as tdem\n",
    "from simpeg.utils.solver_utils import get_default_solver\n",
    "\n",
    "from simpeg.meta import MultiprocessingMetaSimulation #DaskMetaSimulation"
   ]
  },
  {
   "cell_type": "code",
   "execution_count": 60,
   "id": "47eddee4-c56a-4466-a5a8-602b50574e2e",
   "metadata": {},
   "outputs": [
    {
     "name": "stdout",
     "output_type": "stream",
     "text": [
      "['rx_times.txt', 'background.txt', 'target_30.txt', 'target_45.txt', 'target_0.txt', 'rx_locs.txt', 'target_15.txt']\n"
     ]
    }
   ],
   "source": [
    "directory = \"./synthetic-data-10m\"\n",
    "files = [f for f in os.listdir(directory) if os.path.isfile(os.path.join(directory, f)) and f.split(\".\")[-1]==\"txt\"]\n",
    "\n",
    "print(files)"
   ]
  },
  {
   "cell_type": "code",
   "execution_count": 61,
   "id": "1a718520-8c12-44d8-ab99-999a95811293",
   "metadata": {},
   "outputs": [],
   "source": [
    "files.remove(\"rx_locs.txt\")\n",
    "rx_locs = np.loadtxt(f\"{directory}/rx_locs.txt\")\n",
    "\n",
    "files.remove(\"rx_times.txt\")\n",
    "rx_times = np.loadtxt(f\"{directory}/rx_times.txt\")"
   ]
  },
  {
   "cell_type": "code",
   "execution_count": 62,
   "id": "4a037559-360b-4ff6-b49a-9af5ce1b46bb",
   "metadata": {},
   "outputs": [],
   "source": [
    "dobs_dict = {}\n",
    "\n",
    "for f in files: \n",
    "    key = f.split(\".\")[0]\n",
    "    dobs_dict[key] = np.loadtxt(f\"{directory}/{f}\")"
   ]
  },
  {
   "cell_type": "code",
   "execution_count": 63,
   "id": "977cfbb2-9aca-49e2-9575-8f9d915c5895",
   "metadata": {},
   "outputs": [],
   "source": [
    "data_dict = {}\n",
    "\n",
    "for key, value in dobs_dict.items(): \n",
    "    source_list = []\n",
    "    for i in range(rx_locs.shape[0]): \n",
    "        rx = tdem.receivers.PointMagneticFluxTimeDerivative(rx_locs[i, :], rx_times, orientation=\"z\")\n",
    "        src = tdem.sources.CircularLoop(\n",
    "            receiver_list=[rx], location=rx_locs[i, :], orientation=\"z\", radius=10, \n",
    "            waveform=tdem.sources.StepOffWaveform()\n",
    "        )\n",
    "        source_list.append(src)\n",
    "    \n",
    "    full_survey = tdem.Survey(source_list)\n",
    "\n",
    "    data_dict[key] = Data(survey=full_survey, dobs=value, relative_error=0.05)"
   ]
  },
  {
   "cell_type": "code",
   "execution_count": 64,
   "id": "08b41b79-dd8f-44f7-8356-e9e7943d590b",
   "metadata": {},
   "outputs": [
    {
     "name": "stderr",
     "output_type": "stream",
     "text": [
      "/home/lheagy/miniforge3/envs/py311/lib/python3.11/site-packages/discretize/utils/io_utils.py:39: FutureWarning: In discretize v1.0 the TreeMesh will change the default value of diagonal_balance to True, which will likely slightly change meshes you have previously created. If you need to keep the current behavior, explicitly set diagonal_balance=False.\n",
      "  data = cls(**jsondict)\n"
     ]
    }
   ],
   "source": [
    "mesh = discretize.load_mesh(f\"{directory}/treemesh.json\")"
   ]
  },
  {
   "cell_type": "code",
   "execution_count": 65,
   "id": "6452a0c5-1441-49a1-8b87-cfe4682429b0",
   "metadata": {},
   "outputs": [],
   "source": [
    "inv_directory = f\"./synthetic-invs-3d-finer\"\n",
    "files = [f for f in os.listdir(inv_directory) if os.path.isfile(os.path.join(inv_directory, f)) and f.split(\".\")[-1]==\"npy\"]\n",
    "pkl_files = [f for f in os.listdir(inv_directory) if os.path.isfile(os.path.join(inv_directory, f)) and f.split(\".\")[-1]==\"pkl\"]"
   ]
  },
  {
   "cell_type": "code",
   "execution_count": 66,
   "id": "e725245b-faa5-403a-9caa-426beb5f8079",
   "metadata": {},
   "outputs": [],
   "source": [
    "f = files[0]"
   ]
  },
  {
   "cell_type": "code",
   "execution_count": 67,
   "id": "21362efb-80ae-476c-86cb-083e98a306f1",
   "metadata": {},
   "outputs": [],
   "source": [
    "recovered_models = {}\n",
    "\n",
    "for f in files: \n",
    "    key = \"_\".join(f.split(\"_\")[:2])\n",
    "    recovered_models[key] = np.load(f\"{inv_directory}/{f}\")"
   ]
  },
  {
   "cell_type": "code",
   "execution_count": 68,
   "id": "b2a8c1ba-45c4-4bd1-a705-055204de4a54",
   "metadata": {},
   "outputs": [],
   "source": [
    "inv_results = {}\n",
    "for file in pkl_files: \n",
    "    key = \"_\".join(file.split(\"_\")[:2])\n",
    "    with open(f\"{inv_directory}/{file}\", \"rb\") as f:\n",
    "        inv_results[key] = pickle.load(f)"
   ]
  },
  {
   "cell_type": "code",
   "execution_count": 69,
   "id": "dfe82f3d-071a-4f31-bd85-4222bb106d9a",
   "metadata": {},
   "outputs": [],
   "source": [
    "active_cells_map = maps.InjectActiveCells(mesh, mesh.cell_centers[:, 2]<0, value_inactive=np.log(1e-8))"
   ]
  },
  {
   "cell_type": "code",
   "execution_count": 70,
   "id": "a7378668-f85a-4a7e-8e6e-10e659777b18",
   "metadata": {},
   "outputs": [
    {
     "data": {
      "text/plain": [
       "dict_keys(['target_30', 'target_0', 'target_45', 'target_15'])"
      ]
     },
     "execution_count": 70,
     "metadata": {},
     "output_type": "execute_result"
    }
   ],
   "source": [
    "recovered_models.keys()"
   ]
  },
  {
   "cell_type": "code",
   "execution_count": 92,
   "id": "83ee59be-97f3-45aa-ac0d-3a634532b8d7",
   "metadata": {},
   "outputs": [
    {
     "data": {
      "text/plain": [
       "(array([1.6000e+01, 8.0000e+00, 2.4000e+01, 2.2000e+01, 1.2160e+03,\n",
       "        4.3500e+04, 3.0286e+04, 5.4480e+03, 8.3200e+02, 4.8000e+01]),\n",
       " array([-15.91685102, -14.24587531, -12.5748996 , -10.90392389,\n",
       "         -9.23294818,  -7.56197247,  -5.89099676,  -4.22002106,\n",
       "         -2.54904535,  -0.87806964,   0.79290607]),\n",
       " <BarContainer object of 10 artists>)"
      ]
     },
     "execution_count": 92,
     "metadata": {},
     "output_type": "execute_result"
    },
    {
     "data": {
      "image/png": "[encoded data removed]",
      "text/plain": [
       "<Figure size 640x480 with 1 Axes>"
      ]
     },
     "metadata": {},
     "output_type": "display_data"
    }
   ],
   "source": [
    "key = \"target_0\"\n",
    "plt.hist(recovered_models[key])"
   ]
  },
  {
   "cell_type": "code",
   "execution_count": 93,
   "id": "936f01cf-8d9b-492d-9126-91be29fe73e5",
   "metadata": {},
   "outputs": [],
   "source": [
    "tmp = active_cells_map * recovered_models[key]"
   ]
  },
  {
   "cell_type": "code",
   "execution_count": 94,
   "id": "e0646995-6098-4bbd-a8e5-684f09cdb747",
   "metadata": {},
   "outputs": [
    {
     "data": {
      "text/plain": [
       "array([ -6.2146081 ,  -6.2146081 ,  -6.2146081 , ..., -18.42068074,\n",
       "       -18.42068074, -18.42068074])"
      ]
     },
     "execution_count": 94,
     "metadata": {},
     "output_type": "execute_result"
    }
   ],
   "source": [
    "tmp"
   ]
  },
  {
   "cell_type": "code",
   "execution_count": 95,
   "id": "31a0c1a1-5773-4286-8ddc-d84d3d72eac7",
   "metadata": {},
   "outputs": [
    {
     "data": {
      "text/plain": [
       "np.float64(-18.420680743952367)"
      ]
     },
     "execution_count": 95,
     "metadata": {},
     "output_type": "execute_result"
    }
   ],
   "source": [
    "np.log(1e-8)"
   ]
  },
  {
   "cell_type": "code",
   "execution_count": 100,
   "id": "3c3dd4f7-81cb-4ad9-8af1-f9315eaa4373",
   "metadata": {},
   "outputs": [
    {
     "data": {
      "image/png": "[encoded data removed]",
      "text/plain": [
       "<Figure size 1200x400 with 2 Axes>"
      ]
     },
     "metadata": {},
     "output_type": "display_data"
    }
   ],
   "source": [
    "fig, ax = plt.subplots(1, 1, figsize=(12, 4))\n",
    "key = \"target_45\"\n",
    "\n",
    "plt.colorbar(mesh.plot_slice(\n",
    "    np.exp(active_cells_map * recovered_models[key]), pcolor_opts={\"norm\":LogNorm(vmin=1e-8, vmax=1e-1)},\n",
    "    ax=ax,\n",
    "    ind=512,\n",
    "    normal=\"Y\"\n",
    ")[0])\n",
    "\n",
    "ax.set_xlim(600*np.r_[-1, 1])\n",
    "ax.set_ylim(-200, 10)\n",
    "ax.set_aspect(1)"
   ]
  },
  {
   "cell_type": "code",
   "execution_count": 86,
   "id": "d6867f95-40d7-4195-9e95-2c7609373341",
   "metadata": {},
   "outputs": [
    {
     "data": {
      "text/plain": [
       "(array([1.6000e+01, 8.0000e+00, 2.4000e+01, 2.2000e+01, 1.2160e+03,\n",
       "        4.3500e+04, 3.0286e+04, 5.4480e+03, 8.3200e+02, 4.8000e+01]),\n",
       " array([-15.91685102, -14.24587531, -12.5748996 , -10.90392389,\n",
       "         -9.23294818,  -7.56197247,  -5.89099676,  -4.22002106,\n",
       "         -2.54904535,  -0.87806964,   0.79290607]),\n",
       " <BarContainer object of 10 artists>)"
      ]
     },
     "execution_count": 86,
     "metadata": {},
     "output_type": "execute_result"
    },
    {
     "data": {
      "image/png": "[encoded data removed]",
      "text/plain": [
       "<Figure size 640x480 with 1 Axes>"
      ]
     },
     "metadata": {},
     "output_type": "display_data"
    }
   ],
   "source": [
    "plt.hist(inv_results[\"target_0\"][7][\"m\"])"
   ]
  },
  {
   "cell_type": "code",
   "execution_count": null,
   "id": "281085ee-8e23-462e-a01a-ecdb3920249a",
   "metadata": {},
   "outputs": [],
   "source": []
  }
 ],
 "metadata": {
  "kernelspec": {
   "display_name": "Python 3 (ipykernel)",
   "language": "python",
   "name": "python3"
  },
  "language_info": {
   "codemirror_mode": {
    "name": "ipython",
    "version": 3
   },
   "file_extension": ".py",
   "mimetype": "text/x-python",
   "name": "python",
   "nbconvert_exporter": "python",
   "pygments_lexer": "ipython3",
   "version": "3.11.11"
  }
 },
 "nbformat": 4,
 "nbformat_minor": 5
}
