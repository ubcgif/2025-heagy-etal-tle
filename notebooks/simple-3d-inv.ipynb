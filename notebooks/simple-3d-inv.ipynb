{
 "cells": [
  {
   "cell_type": "code",
   "execution_count": 1,
   "id": "64b9eb20-6cda-4905-a6c8-95b3ae0f260e",
   "metadata": {},
   "outputs": [],
   "source": [
    "import numpy as np\n",
    "import matplotlib.pyplot as plt\n",
    "from matplotlib.colors import LogNorm, Normalize\n",
    "import time\n",
    "import json\n",
    "import pickle\n",
    "# import dask\n",
    "\n",
    "from concurrent.futures import ProcessPoolExecutor, as_completed\n",
    "\n",
    "\n",
    "import discretize \n",
    "from simpeg import maps\n",
    "from simpeg.electromagnetics import time_domain as tdem\n",
    "from simpeg import (\n",
    "    maps,\n",
    "    Data,\n",
    "    data_misfit,\n",
    "    inverse_problem,\n",
    "    regularization,\n",
    "    optimization,\n",
    "    directives,\n",
    "    inversion,\n",
    "    utils,\n",
    ")\n",
    "\n",
    "from simpeg.utils.solver_utils import get_default_solver\n",
    "\n",
    "from simpeg.meta import MultiprocessingMetaSimulation#, DaskMetaSimulation"
   ]
  },
  {
   "cell_type": "code",
   "execution_count": 2,
   "id": "aabf8349-b2ea-41ef-a974-3537317c7cfe",
   "metadata": {},
   "outputs": [
    {
     "data": {
      "text/plain": [
       "pymatsolver.direct.pardiso.Pardiso"
      ]
     },
     "execution_count": 2,
     "metadata": {},
     "output_type": "execute_result"
    }
   ],
   "source": [
    "Solver = get_default_solver()\n",
    "Solver"
   ]
  },
  {
   "cell_type": "code",
   "execution_count": 3,
   "id": "d52f1cb1-3c59-42ab-90dc-fe9f2fc89774",
   "metadata": {},
   "outputs": [],
   "source": [
    "# directory = \"./synthetic-data-10m\""
   ]
  },
  {
   "cell_type": "markdown",
   "id": "570037d2-aeab-487d-ba4a-30e1bb25c2ee",
   "metadata": {},
   "source": [
    "# set up models and mesh"
   ]
  },
  {
   "cell_type": "code",
   "execution_count": 4,
   "id": "24698367-f198-4d55-9007-f8fb22906420",
   "metadata": {},
   "outputs": [],
   "source": [
    "rho_back = 500\n",
    "sigma_back = 1./rho_back \n",
    "\n",
    "rho_target = 20\n",
    "sigma_target = 1./rho_target\n",
    "\n",
    "sigma_air = 1e-8\n",
    "\n",
    "target_dips = np.r_[0] #, 15, 30, 45]\n",
    "target_z = np.r_[-200, -20]"
   ]
  },
  {
   "cell_type": "code",
   "execution_count": 5,
   "id": "2f4b1720-d691-4250-90f5-9d3c289b98dd",
   "metadata": {},
   "outputs": [
    {
     "data": {
      "text/plain": [
       "array([-105.,  -55.,   -5.,   45.,   95.])"
      ]
     },
     "execution_count": 5,
     "metadata": {},
     "output_type": "execute_result"
    }
   ],
   "source": [
    "tx_height = np.r_[30]\n",
    "\n",
    "# rx_x = (np.linspace(-500, 500, 51) + 5)\n",
    "# rx_x = (np.linspace(-510, 500, 102) + 5)\n",
    "rx_x = np.linspace(-110, 100, 22) + 5\n",
    "rx_x = rx_x[::5]\n",
    "# rx_x = np.linspace(-70, 60, 12) + 5\n",
    "\n",
    "rx_y = np.r_[0]\n",
    "rx_z = tx_height\n",
    "\n",
    "rx_locs = discretize.utils.ndgrid([rx_x, rx_y, rx_z])\n",
    "rx_x"
   ]
  },
  {
   "cell_type": "code",
   "execution_count": 6,
   "id": "fdced28d-6966-4a09-a529-9733ec6e746a",
   "metadata": {},
   "outputs": [],
   "source": [
    "base_cell_width = 10\n",
    "domain_extent = 8000\n",
    "\n",
    "n_base_cells = 2 ** int(\n",
    "    np.ceil(np.log(domain_extent / base_cell_width) / np.log(2.0))\n",
    ")  # needs to be powers of 2 for the tree mesh\n",
    "\n",
    "h = [(base_cell_width, n_base_cells)]\n",
    "mesh = discretize.TreeMesh([h, h, h], origin=\"CCC\", diagonal_balance=True)\n",
    "\n",
    "# refine near transmitters and receivers\n",
    "mesh.refine_points(\n",
    "    rx_locs, level=-2, padding_cells_by_level=[2, 2, 4], \n",
    "    finalize=False, diagonal_balance=True\n",
    ")\n",
    "\n",
    "# Refine core region of the mesh \n",
    "\n",
    "bounding_points = np.array([\n",
    "    [-105, rx_y.min(), target_z.min() - base_cell_width * 4], \n",
    "    [105, rx_y.max(), 0],\n",
    "])\n",
    "mesh.refine_bounding_box(\n",
    "    bounding_points, level=-2, \n",
    "    diagonal_balance=True, finalize=False, padding_cells_by_level=[2, 8, 8]\n",
    ")\n",
    "\n",
    "mesh.finalize()"
   ]
  },
  {
   "cell_type": "code",
   "execution_count": 7,
   "id": "525e327f-9aa3-4121-8eb1-812b8a3b240e",
   "metadata": {},
   "outputs": [
    {
     "data": {
      "text/html": [
       "<table>\n",
       "<tr>\n",
       "<td style='font-weight: bold; font-size: 1.2em; text-align: center;'>OcTreeMesh</td>\n",
       "<td style='font-size: 1.2em; text-align: center;' colspan='2'>0.00% filled</td>\n",
       "</tr>\n",
       "<tr>\n",
       "<td>\n",
       "<table>\n",
       "<tr>\n",
       "<th style='padding: 5px 20px 5px 20px;'>Level</th>\n",
       "<th style='padding: 5px 20px 5px 20px;'>Number of cells</th>\n",
       "</tr>\n",
       "<tr>\n",
       "<td style='padding: 5px 20px 5px 20px;'>3</td>\n",
       "<td style='padding: 5px 20px 5px 20px;'>448</td>\n",
       "</tr>\n",
       "<tr>\n",
       "<td style='padding: 5px 20px 5px 20px;'>4</td>\n",
       "<td style='padding: 5px 20px 5px 20px;'>296</td>\n",
       "</tr>\n",
       "<tr>\n",
       "<td style='padding: 5px 20px 5px 20px;'>5</td>\n",
       "<td style='padding: 5px 20px 5px 20px;'>1152</td>\n",
       "</tr>\n",
       "<tr>\n",
       "<td style='padding: 5px 20px 5px 20px;'>6</td>\n",
       "<td style='padding: 5px 20px 5px 20px;'>1668</td>\n",
       "</tr>\n",
       "<tr>\n",
       "<td style='padding: 5px 20px 5px 20px;'>7</td>\n",
       "<td style='padding: 5px 20px 5px 20px;'>21960</td>\n",
       "</tr>\n",
       "<tr>\n",
       "<td style='padding: 5px 20px 5px 20px;'>8</td>\n",
       "<td style='padding: 5px 20px 5px 20px;'>12160</td>\n",
       "</tr>\n",
       "<tr>\n",
       "<td style='padding: 5px 20px 5px 20px;'>9</td>\n",
       "<td style='padding: 5px 20px 5px 20px;'>2560</td>\n",
       "</tr>\n",
       "<tr>\n",
       "<td style='font-weight: bold; padding: 5px 20px 5px 20px;'> Total </td>\n",
       "<td style='padding: 5px 20px 5px 20px;'> 40244 </td>\n",
       "</tr>\n",
       "</table>\n",
       "</td>\n",
       "<td>\n",
       "<table>\n",
       "<tr>\n",
       "<th></th>\n",
       "<th style='padding: 5px 20px 5px 20px;' colspan='2'>Mesh extent</th>\n",
       "<th style='padding: 5px 20px 5px 20px;' colspan='2'>Cell widths</th>\n",
       "</tr>\n",
       "<tr>\n",
       "<th></th>\n",
       "<th style='padding: 5px 20px 5px 20px;'>min</th>\n",
       "<th style='padding: 5px 20px 5px 20px;'>max</th>\n",
       "<th style='padding: 5px 20px 5px 20px;'>min</th>\n",
       "<th style='padding: 5px 20px 5px 20px;'>max</th>\n",
       "</tr>\n",
       "<tr>\n",
       "<td style='padding: 5px 20px 5px 20px;'>x</td>\n",
       "<td style='padding: 5px 20px 5px 20px;'>-5120.0</td>\n",
       "<td style='padding: 5px 20px 5px 20px;'>5120.0</td>\n",
       "<td style='padding: 5px 20px 5px 20px;'>20.0</td>\n",
       "<td style='padding: 5px 20px 5px 20px;'>1280.0</td>\n",
       "</tr>\n",
       "<tr>\n",
       "<td style='padding: 5px 20px 5px 20px;'>y</td>\n",
       "<td style='padding: 5px 20px 5px 20px;'>-5120.0</td>\n",
       "<td style='padding: 5px 20px 5px 20px;'>5120.0</td>\n",
       "<td style='padding: 5px 20px 5px 20px;'>20.0</td>\n",
       "<td style='padding: 5px 20px 5px 20px;'>1280.0</td>\n",
       "</tr>\n",
       "<tr>\n",
       "<td style='padding: 5px 20px 5px 20px;'>z</td>\n",
       "<td style='padding: 5px 20px 5px 20px;'>-5120.0</td>\n",
       "<td style='padding: 5px 20px 5px 20px;'>5120.0</td>\n",
       "<td style='padding: 5px 20px 5px 20px;'>20.0</td>\n",
       "<td style='padding: 5px 20px 5px 20px;'>1280.0</td>\n",
       "</tr>\n",
       "</table>\n",
       "</td>\n",
       "</tr>\n",
       "</table>\n"
      ],
      "text/plain": [
       "\n",
       "OcTreeMesh: 0.00% filled\n",
       "\n",
       "Level : Number of cells               Mesh Extent               Cell Widths    \n",
       "-----------------------           min     ,     max            min   ,   max   \n",
       "  3   :       448            ---------------------------   --------------------\n",
       "  4   :       296         x:    -5120.0   ,   5120.0          20.0   ,   1280.0  \n",
       "  5   :      1152         y:    -5120.0   ,   5120.0          20.0   ,   1280.0  \n",
       "  6   :      1668         z:    -5120.0   ,   5120.0          20.0   ,   1280.0  \n",
       "  7   :      21960     \n",
       "  8   :      12160     \n",
       "  9   :      2560      \n",
       "-----------------------\n",
       "Total :      40244     "
      ]
     },
     "execution_count": 7,
     "metadata": {},
     "output_type": "execute_result"
    }
   ],
   "source": [
    "mesh"
   ]
  },
  {
   "cell_type": "code",
   "execution_count": 8,
   "id": "64e1bc0e-b432-455b-af0c-41ce006704ce",
   "metadata": {},
   "outputs": [],
   "source": [
    "# mesh.save(f\"{directory}/treemesh.json\")"
   ]
  },
  {
   "cell_type": "code",
   "execution_count": 9,
   "id": "6e176c97-3127-4721-94b9-0f219b296d76",
   "metadata": {},
   "outputs": [],
   "source": [
    "def dipping_target_indices(\n",
    "    mesh, target_x_center, target_z_center, dip, target_thickness, target_xlim=None, target_ylim=None, target_zlim=None\n",
    "): \n",
    "    \"\"\"\n",
    "    add a dipping target to the model. For now assumes the target dips in the x-direction\n",
    "    \"\"\"\n",
    "    x_center = np.mean(target_x)\n",
    "    slope = np.tan(-dip*np.pi/180)\n",
    "    target_z = target_z_center + target_thickness / 2 * np.r_[-1, 1]\n",
    "    \n",
    "    z_bottom = (mesh.cell_centers[:, 0] - target_x_center) * slope + target_z.min()\n",
    "    z_top = (mesh.cell_centers[:, 0] - target_x_center) * slope + target_z.max()\n",
    "\n",
    "    indices = (\n",
    "        (mesh.cell_centers[:, 2] >= z_bottom) &\n",
    "        (mesh.cell_centers[:, 2] <= z_top) \n",
    "    )\n",
    "\n",
    "    if target_xlim is not None: \n",
    "        indices = indices & (\n",
    "            (mesh.cell_centers[:, 0] >= target_xlim.min()) &\n",
    "            (mesh.cell_centers[:, 0] <= target_xlim.max())\n",
    "        )\n",
    "    if target_ylim is not None: \n",
    "        indices = indices & (\n",
    "            (mesh.cell_centers[:, 1] >= target_ylim.min()) &\n",
    "            (mesh.cell_centers[:, 1] <= target_ylim.max())\n",
    "        )\n",
    "    if target_zlim is not None: \n",
    "        indices = indices & (\n",
    "            (mesh.cell_centers[:, 2] >= target_zlim.min()) &\n",
    "            (mesh.cell_centers[:, 2] <= target_zlim.max())\n",
    "        )\n",
    "    return indices"
   ]
  },
  {
   "cell_type": "code",
   "execution_count": 10,
   "id": "ee81bced-772e-40ce-8614-5b3190bf980e",
   "metadata": {},
   "outputs": [],
   "source": [
    "models = {}\n",
    "\n",
    "target_x = np.r_[-30, 30]\n",
    "target_y = np.r_[-500, 500]\n",
    "target_z_center = -30\n",
    "target_thickness = 40\n",
    "\n",
    "# background model\n",
    "background = np.ones(mesh.n_cells) * sigma_air\n",
    "background[mesh.cell_centers[:, 2] < 0] = sigma_back\n",
    "models[\"background\"] = background\n",
    "\n",
    "for dip in target_dips:\n",
    "    model = background.copy()\n",
    "    indices = dipping_target_indices(\n",
    "        mesh, target_x_center=-100, target_z_center=target_z_center, \n",
    "        target_thickness=target_thickness, dip=dip, \n",
    "        target_xlim=target_x, \n",
    "        target_ylim=target_y,\n",
    "        target_zlim=target_z\n",
    "    )\n",
    "    model[indices] = sigma_target\n",
    "    models[f\"target_{dip}\"] = model\n",
    "\n"
   ]
  },
  {
   "cell_type": "code",
   "execution_count": 11,
   "id": "37e92d72-aa70-4b13-ba8a-6d0448688376",
   "metadata": {},
   "outputs": [
    {
     "data": {
      "text/plain": [
       "{'background': array([2.e-03, 2.e-03, 2.e-03, ..., 1.e-08, 1.e-08, 1.e-08]),\n",
       " 'target_0': array([2.e-03, 2.e-03, 2.e-03, ..., 1.e-08, 1.e-08, 1.e-08])}"
      ]
     },
     "execution_count": 11,
     "metadata": {},
     "output_type": "execute_result"
    }
   ],
   "source": [
    "models"
   ]
  },
  {
   "cell_type": "code",
   "execution_count": 12,
   "id": "96e02ebf-af3e-4ab0-9434-c1f494560b7e",
   "metadata": {},
   "outputs": [],
   "source": [
    "# with open(f\"{directory}/true-models.pkl\", \"wb\") as f:\n",
    "#     pickle.dump(models, f)\n"
   ]
  },
  {
   "cell_type": "code",
   "execution_count": 13,
   "id": "56658cb3-6e4e-4366-9126-2344916a2d39",
   "metadata": {},
   "outputs": [
    {
     "data": {
      "text/plain": [
       "['background', 'target_0']"
      ]
     },
     "execution_count": 13,
     "metadata": {},
     "output_type": "execute_result"
    }
   ],
   "source": [
    "model_keys = list(models.keys())\n",
    "model_keys"
   ]
  },
  {
   "cell_type": "code",
   "execution_count": 14,
   "id": "0c1cb401-3b46-4d30-a40e-3a2193ca3faf",
   "metadata": {},
   "outputs": [
    {
     "data": {
      "image/png": "[encoded data removed]",
      "text/plain": [
       "<Figure size 800x200 with 2 Axes>"
      ]
     },
     "metadata": {},
     "output_type": "display_data"
    }
   ],
   "source": [
    "fig, ax = plt.subplots(1, 1, figsize=(8, 2)) \n",
    "\n",
    "plt.colorbar(\n",
    "    mesh.plot_slice(\n",
    "        models[\"target_0\"], \n",
    "        # grid=True, \n",
    "        normal=\"y\",\n",
    "        pcolor_opts={\"norm\":LogNorm(1e-3, 1e-1)},\n",
    "        ax=ax)[0], \n",
    "    ax=ax\n",
    ")\n",
    "\n",
    "ax.set_xlim(100*np.r_[-1, 1])\n",
    "ax.set_ylim(np.r_[-300, 50])\n",
    "\n",
    "ax.plot(rx_locs[:, 0], rx_locs[:, 2], \"ro\")\n",
    "ax.set_aspect(1)"
   ]
  },
  {
   "cell_type": "code",
   "execution_count": 15,
   "id": "0188d8fe-10c0-4904-babc-330682559bce",
   "metadata": {},
   "outputs": [
    {
     "data": {
      "image/png": "[encoded data removed]",
      "text/plain": [
       "<Figure size 800x200 with 2 Axes>"
      ]
     },
     "metadata": {},
     "output_type": "display_data"
    }
   ],
   "source": [
    "fig, ax = plt.subplots(1, 1, figsize=(8, 2)) \n",
    "\n",
    "# mesh_local = mesh_list[-1]\n",
    "\n",
    "plt.colorbar(\n",
    "    mesh.plot_slice(\n",
    "        models[\"target_0\"], \n",
    "        grid=True, \n",
    "        normal=\"y\",\n",
    "        pcolor_opts={\"norm\":LogNorm(1e-3, 1e-1)},\n",
    "        ax=ax)[0], \n",
    "    ax=ax\n",
    ")\n",
    "\n",
    "ax.set_xlim(600*np.r_[-1, 1])\n",
    "ax.set_ylim(np.r_[-300, 50])\n",
    "\n",
    "ax.plot(rx_locs[:, 0], rx_locs[:, 2], \"ro\")\n",
    "ax.set_aspect(1)\n"
   ]
  },
  {
   "cell_type": "code",
   "execution_count": 16,
   "id": "22fabbe6-1628-45b7-8e5e-1eda3fe8d5c5",
   "metadata": {},
   "outputs": [],
   "source": [
    "log_conductivity_models = {}\n",
    "\n",
    "active_cells = mesh.cell_centers[:, 2] < 0\n",
    "\n",
    "for key, val in models.items():\n",
    "    log_conductivity_models[key] = np.log(val[active_cells])"
   ]
  },
  {
   "cell_type": "code",
   "execution_count": 17,
   "id": "2a3c2b1e-a803-44fa-8153-70681acc4bd5",
   "metadata": {},
   "outputs": [
    {
     "data": {
      "text/plain": [
       "20"
      ]
     },
     "execution_count": 17,
     "metadata": {},
     "output_type": "execute_result"
    }
   ],
   "source": [
    "rx_times = np.logspace(np.log10(1e-4), np.log10(8e-3), 27)[:20]\n",
    "# np.savetxt(f\"{directory}/rx_times.txt\", rx_times)\n",
    "# np.savetxt(f\"{directory}/rx_locs.txt\", rx_locs)\n",
    "len(rx_times)"
   ]
  },
  {
   "cell_type": "code",
   "execution_count": 18,
   "id": "2e350843-6831-4c4f-8f4f-64981ca84557",
   "metadata": {},
   "outputs": [],
   "source": [
    "def get_sim():\n",
    "    # set up survey\n",
    "    source_list = []\n",
    "\n",
    "    for i in range(rx_locs.shape[0]): \n",
    "        rx = tdem.receivers.PointMagneticFluxTimeDerivative(rx_locs[i, :], rx_times, orientation=\"z\")\n",
    "        src = tdem.sources.CircularLoop(\n",
    "            receiver_list=[rx], location=rx_locs[i, :], orientation=\"z\", radius=10, \n",
    "            waveform=tdem.sources.StepOffWaveform()\n",
    "        )\n",
    "        source_list.append(src)\n",
    "    \n",
    "    survey = tdem.Survey(source_list)\n",
    "\n",
    "    # create simulation \n",
    "    time_steps = [\n",
    "        (1e-6, 30), (3e-6, 30), (1e-5, 30), (3e-5, 20), (1e-4, 20), #(3e-4, 20)\n",
    "    ]      \n",
    "    msh = mesh.copy()\n",
    "    active_cells_map = maps.InjectActiveCells(msh, msh.cell_centers[:, 2]<0, value_inactive=np.log(1e-8))\n",
    "\n",
    "    global_sim = tdem.simulation.Simulation3DElectricField(\n",
    "        mesh=msh,\n",
    "        survey=survey,\n",
    "        time_steps=time_steps,\n",
    "        solver=Solver,\n",
    "        sigmaMap=maps.ExpMap() * active_cells_map\n",
    "    )\n",
    "    return global_sim"
   ]
  },
  {
   "cell_type": "code",
   "execution_count": 19,
   "id": "0cfbd375-497d-4ea9-984e-2c22b1b8d084",
   "metadata": {},
   "outputs": [],
   "source": [
    "def run_simulation(key):\n",
    "    print(f\"Starting {key}\")\n",
    "    # filename = f\"{directory}/{key}.txt\"\n",
    "    t = time.time()\n",
    "    model = log_conductivity_models[key]\n",
    "    sim = get_sim()\n",
    "    dpred = sim.dpred(model)\n",
    "    # np.savetxt(filename, dpred)\n",
    "    elapsed = time.time() - t\n",
    "    print(f\".... done. {key}. Elapsed time = {elapsed:1.2e}s \\n\")\n",
    "    return key, dpred"
   ]
  },
  {
   "cell_type": "code",
   "execution_count": null,
   "id": "29980bf6-2122-48cc-98e9-7c3e157551d7",
   "metadata": {},
   "outputs": [],
   "source": []
  },
  {
   "cell_type": "code",
   "execution_count": 20,
   "id": "bfbe0381-f18d-484d-935d-64d8a7e99eac",
   "metadata": {},
   "outputs": [
    {
     "name": "stdout",
     "output_type": "stream",
     "text": [
      "Starting backgroundStarting target_0\n",
      "\n"
     ]
    },
    {
     "name": "stderr",
     "output_type": "stream",
     "text": [
      "/home/lheagy/miniforge3/envs/py311/lib/python3.11/site-packages/discretize/base/base_mesh.py:197: FutureWarning: In discretize v1.0 the TreeMesh will change the default value of diagonal_balance to True, which will likely slightly change meshes you have previously created. If you need to keep the current behavior, explicitly set diagonal_balance=False.\n",
      "  return cls(**items)\n",
      "/home/lheagy/miniforge3/envs/py311/lib/python3.11/site-packages/discretize/base/base_mesh.py:197: FutureWarning: In discretize v1.0 the TreeMesh will change the default value of diagonal_balance to True, which will likely slightly change meshes you have previously created. If you need to keep the current behavior, explicitly set diagonal_balance=False.\n",
      "  return cls(**items)\n"
     ]
    },
    {
     "name": "stdout",
     "output_type": "stream",
     "text": [
      ".... done. target_0. Elapsed time = 1.03e+02s \n",
      "\n",
      ".... done. background. Elapsed time = 1.07e+02s \n",
      "\n"
     ]
    }
   ],
   "source": [
    "if __name__ == \"__main__\":\n",
    "    dpred_dict = {}\n",
    "    \n",
    "    with ProcessPoolExecutor(max_workers=3) as executor:\n",
    "        futures = [executor.submit(run_simulation, key) for key in model_keys]\n",
    "        for future in as_completed(futures):\n",
    "            key, dpred = future.result()\n",
    "            dpred_dict[key] = dpred"
   ]
  },
  {
   "cell_type": "code",
   "execution_count": 21,
   "id": "ea573045-1641-48ec-bee2-4ecdbc9aeecc",
   "metadata": {},
   "outputs": [],
   "source": [
    "# %%time \n",
    "\n",
    "# dpred_dict = {}\n",
    "\n",
    "# for key in model_keys:\n",
    "#     print(f\"Starting {key}\")\n",
    "#     filename = f\"./synthetic-data/{key}.txt\"\n",
    "#     t = time.time()\n",
    "#     model = log_conductivity_models[key]\n",
    "#     sim = get_sim()\n",
    "#     dpred = sim.dpred(model)\n",
    "#     np.savetxt(filename, dpred)\n",
    "#     dpred_dict[key] = dpred\n",
    "#     print(f\".... done. {filename}. Elapsed time = {time.time()-t:1.2e}s\")\n",
    "    \n",
    "# # sim.join()"
   ]
  },
  {
   "cell_type": "code",
   "execution_count": 22,
   "id": "f4bedb55-d896-4ac2-91e7-4636e61d6316",
   "metadata": {},
   "outputs": [],
   "source": [
    "# dpred_dict"
   ]
  },
  {
   "cell_type": "code",
   "execution_count": 23,
   "id": "ec1ea585-d744-49c5-8937-078abad9e98f",
   "metadata": {},
   "outputs": [
    {
     "data": {
      "text/plain": [
       "(5, 3)"
      ]
     },
     "execution_count": 23,
     "metadata": {},
     "output_type": "execute_result"
    }
   ],
   "source": [
    "rx_locs.shape"
   ]
  },
  {
   "cell_type": "code",
   "execution_count": 24,
   "id": "38bba3b8-e35f-42b2-ad6d-6aa42d23df5f",
   "metadata": {},
   "outputs": [
    {
     "data": {
      "image/png": "[encoded data removed]",
      "text/plain": [
       "<Figure size 1200x400 with 1 Axes>"
      ]
     },
     "metadata": {},
     "output_type": "display_data"
    }
   ],
   "source": [
    "key = model_keys[1]\n",
    "# rx_times = np.logspace(np.log10(1e-4), np.log10(8e-3), 27)\n",
    "\n",
    "n_sources = rx_locs.shape[0]\n",
    "n_rxtimes = len(rx_times)\n",
    "\n",
    "fig, ax = plt.subplots(1, 1, figsize = (12, 4)) \n",
    "\n",
    "ax.semilogy(rx_x, -dpred_dict[model_keys[0]].reshape(n_sources, n_rxtimes), \"-k\", marker=\".\", lw=0.5, alpha=0.5);\n",
    "ax.semilogy(rx_x, -dpred_dict[key].reshape(n_sources, n_rxtimes), \"-C0\", marker=\".\", lw=1);\n"
   ]
  },
  {
   "cell_type": "code",
   "execution_count": 25,
   "id": "f45e2741-bfef-4732-9688-84c87f97db87",
   "metadata": {},
   "outputs": [
    {
     "name": "stderr",
     "output_type": "stream",
     "text": [
      "/home/lheagy/miniforge3/envs/py311/lib/python3.11/site-packages/discretize/base/base_mesh.py:197: FutureWarning: In discretize v1.0 the TreeMesh will change the default value of diagonal_balance to True, which will likely slightly change meshes you have previously created. If you need to keep the current behavior, explicitly set diagonal_balance=False.\n",
      "  return cls(**items)\n"
     ]
    }
   ],
   "source": [
    "global_sim = get_sim()\n",
    "survey=global_sim.survey"
   ]
  },
  {
   "cell_type": "code",
   "execution_count": 26,
   "id": "a705f848-07d0-4938-88f1-91cbea655c10",
   "metadata": {},
   "outputs": [],
   "source": [
    "key = \"target_0\"\n",
    "data_invert = Data(survey=survey, dobs=dpred_dict[key], relative_error=0.1, noise_floor=1e-11)"
   ]
  },
  {
   "cell_type": "code",
   "execution_count": 27,
   "id": "332cd0cc-b148-4547-890b-b6bf77ef89d1",
   "metadata": {},
   "outputs": [],
   "source": [
    "refine_depth = 120 # refine our local mesh to 200m \n",
    "\n",
    "def get_local_mesh(src):\n",
    "    mesh_local = discretize.TreeMesh(mesh.h, origin=mesh.origin, diagonal_balance=True)\n",
    "    refine_points = discretize.utils.ndgrid(\n",
    "        np.r_[src.location[0]],\n",
    "        np.r_[src.location[1]],\n",
    "        np.linspace(-refine_depth, src.location[2], 40)\n",
    "    )\n",
    "    mesh_local.refine_points(\n",
    "        refine_points,\n",
    "        level=-2,\n",
    "        padding_cells_by_level=[2, 4, 4],\n",
    "        finalize=True,\n",
    "        diagonal_balance=True\n",
    "    )\n",
    "    return mesh_local\n",
    "\n",
    "with ProcessPoolExecutor() as executor:\n",
    "    mesh_list = list(executor.map(get_local_mesh, survey.source_list))"
   ]
  },
  {
   "cell_type": "code",
   "execution_count": 28,
   "id": "878952aa-920b-4a3a-9a05-c98054f1e22a",
   "metadata": {},
   "outputs": [
    {
     "data": {
      "text/html": [
       "<table>\n",
       "<tr>\n",
       "<td style='font-weight: bold; font-size: 1.2em; text-align: center;'>OcTreeMesh</td>\n",
       "<td style='font-size: 1.2em; text-align: center;' colspan='2'>0.00% filled</td>\n",
       "</tr>\n",
       "<tr>\n",
       "<td>\n",
       "<table>\n",
       "<tr>\n",
       "<th style='padding: 5px 20px 5px 20px;'>Level</th>\n",
       "<th style='padding: 5px 20px 5px 20px;'>Number of cells</th>\n",
       "</tr>\n",
       "<tr>\n",
       "<td style='padding: 5px 20px 5px 20px;'>3</td>\n",
       "<td style='padding: 5px 20px 5px 20px;'>448</td>\n",
       "</tr>\n",
       "<tr>\n",
       "<td style='padding: 5px 20px 5px 20px;'>4</td>\n",
       "<td style='padding: 5px 20px 5px 20px;'>448</td>\n",
       "</tr>\n",
       "<tr>\n",
       "<td style='padding: 5px 20px 5px 20px;'>5</td>\n",
       "<td style='padding: 5px 20px 5px 20px;'>378</td>\n",
       "</tr>\n",
       "<tr>\n",
       "<td style='padding: 5px 20px 5px 20px;'>6</td>\n",
       "<td style='padding: 5px 20px 5px 20px;'>772</td>\n",
       "</tr>\n",
       "<tr>\n",
       "<td style='padding: 5px 20px 5px 20px;'>7</td>\n",
       "<td style='padding: 5px 20px 5px 20px;'>2212</td>\n",
       "</tr>\n",
       "<tr>\n",
       "<td style='padding: 5px 20px 5px 20px;'>8</td>\n",
       "<td style='padding: 5px 20px 5px 20px;'>1468</td>\n",
       "</tr>\n",
       "<tr>\n",
       "<td style='padding: 5px 20px 5px 20px;'>9</td>\n",
       "<td style='padding: 5px 20px 5px 20px;'>288</td>\n",
       "</tr>\n",
       "<tr>\n",
       "<td style='font-weight: bold; padding: 5px 20px 5px 20px;'> Total </td>\n",
       "<td style='padding: 5px 20px 5px 20px;'> 6014 </td>\n",
       "</tr>\n",
       "</table>\n",
       "</td>\n",
       "<td>\n",
       "<table>\n",
       "<tr>\n",
       "<th></th>\n",
       "<th style='padding: 5px 20px 5px 20px;' colspan='2'>Mesh extent</th>\n",
       "<th style='padding: 5px 20px 5px 20px;' colspan='2'>Cell widths</th>\n",
       "</tr>\n",
       "<tr>\n",
       "<th></th>\n",
       "<th style='padding: 5px 20px 5px 20px;'>min</th>\n",
       "<th style='padding: 5px 20px 5px 20px;'>max</th>\n",
       "<th style='padding: 5px 20px 5px 20px;'>min</th>\n",
       "<th style='padding: 5px 20px 5px 20px;'>max</th>\n",
       "</tr>\n",
       "<tr>\n",
       "<td style='padding: 5px 20px 5px 20px;'>x</td>\n",
       "<td style='padding: 5px 20px 5px 20px;'>-5120.0</td>\n",
       "<td style='padding: 5px 20px 5px 20px;'>5120.0</td>\n",
       "<td style='padding: 5px 20px 5px 20px;'>20.0</td>\n",
       "<td style='padding: 5px 20px 5px 20px;'>1280.0</td>\n",
       "</tr>\n",
       "<tr>\n",
       "<td style='padding: 5px 20px 5px 20px;'>y</td>\n",
       "<td style='padding: 5px 20px 5px 20px;'>-5120.0</td>\n",
       "<td style='padding: 5px 20px 5px 20px;'>5120.0</td>\n",
       "<td style='padding: 5px 20px 5px 20px;'>20.0</td>\n",
       "<td style='padding: 5px 20px 5px 20px;'>1280.0</td>\n",
       "</tr>\n",
       "<tr>\n",
       "<td style='padding: 5px 20px 5px 20px;'>z</td>\n",
       "<td style='padding: 5px 20px 5px 20px;'>-5120.0</td>\n",
       "<td style='padding: 5px 20px 5px 20px;'>5120.0</td>\n",
       "<td style='padding: 5px 20px 5px 20px;'>20.0</td>\n",
       "<td style='padding: 5px 20px 5px 20px;'>1280.0</td>\n",
       "</tr>\n",
       "</table>\n",
       "</td>\n",
       "</tr>\n",
       "</table>\n"
      ],
      "text/plain": [
       "\n",
       "OcTreeMesh: 0.00% filled\n",
       "\n",
       "Level : Number of cells               Mesh Extent               Cell Widths    \n",
       "-----------------------           min     ,     max            min   ,   max   \n",
       "  3   :       448            ---------------------------   --------------------\n",
       "  4   :       448         x:    -5120.0   ,   5120.0          20.0   ,   1280.0  \n",
       "  5   :       378         y:    -5120.0   ,   5120.0          20.0   ,   1280.0  \n",
       "  6   :       772         z:    -5120.0   ,   5120.0          20.0   ,   1280.0  \n",
       "  7   :      2212      \n",
       "  8   :      1468      \n",
       "  9   :       288      \n",
       "-----------------------\n",
       "Total :      6014      "
      ]
     },
     "execution_count": 28,
     "metadata": {},
     "output_type": "execute_result"
    }
   ],
   "source": [
    "mesh_list[0]"
   ]
  },
  {
   "cell_type": "code",
   "execution_count": 29,
   "id": "e007da08-30cb-40ec-afff-877d97084eed",
   "metadata": {},
   "outputs": [],
   "source": [
    "mappings = []\n",
    "sims = []\n",
    "\n",
    "active_cells_map = maps.InjectActiveCells(mesh, mesh.cell_centers[:, 2]<0, value_inactive=np.log(1e-8))\n",
    "time_steps = [\n",
    "    (1e-6, 30), (3e-6, 30), (1e-5, 30), (3e-5, 20), (1e-4, 20), #(3e-4, 20)\n",
    "] \n",
    "\n",
    "for ii, local_mesh in enumerate(mesh_list):\n",
    "    \n",
    "    tile_map = maps.TileMap(mesh, active_cells_map.active_cells, local_mesh)\n",
    "    mappings.append(tile_map)\n",
    "    \n",
    "    local_actmap = maps.InjectActiveCells(\n",
    "        local_mesh, \n",
    "        active_cells=tile_map.local_active, \n",
    "        value_inactive=np.log(1e-8)\n",
    "    )\n",
    "    \n",
    "    local_survey = tdem.Survey([survey.source_list[ii]])\n",
    "    sims.append(tdem.simulation.Simulation3DElectricField(\n",
    "            mesh=local_mesh,\n",
    "            survey=local_survey,\n",
    "            time_steps=time_steps,\n",
    "            solver=Solver,\n",
    "            sigmaMap=maps.ExpMap() * local_actmap\n",
    "        )\n",
    "    )\n",
    "\n"
   ]
  },
  {
   "cell_type": "code",
   "execution_count": 30,
   "id": "8efb40a0-d146-4f56-ae3c-c6b1ba563183",
   "metadata": {},
   "outputs": [
    {
     "name": "stderr",
     "output_type": "stream",
     "text": [
      "/home/lheagy/miniforge3/envs/py311/lib/python3.11/site-packages/simpeg/meta/multiprocessing.py:229: UserWarning: The MetaSimulation class is a work in progress and might change in the future\n",
      "  super().__init__(simulations, mappings)\n",
      "/home/lheagy/miniforge3/envs/py311/lib/python3.11/site-packages/simpeg/meta/multiprocessing.py:248: UserWarning: The MetaSimulation class is a work in progress and might change in the future\n",
      "  sim_chunk = MetaSimulation(\n",
      "/home/lheagy/miniforge3/envs/py311/lib/python3.11/site-packages/pymatsolver/solvers.py:415: FutureWarning: In Future pymatsolver v0.4.0, passing a vector of shape (n, 1) to the solve method will return an array with shape (n, 1), instead of always returning a flattened array. This is to be consistent with numpy.linalg.solve broadcasting.\n",
      "  return self.solve(val)\n",
      "/home/lheagy/miniforge3/envs/py311/lib/python3.11/site-packages/pymatsolver/solvers.py:415: FutureWarning: In Future pymatsolver v0.4.0, passing a vector of shape (n, 1) to the solve method will return an array with shape (n, 1), instead of always returning a flattened array. This is to be consistent with numpy.linalg.solve broadcasting.\n",
      "  return self.solve(val)\n",
      "/home/lheagy/miniforge3/envs/py311/lib/python3.11/site-packages/pymatsolver/solvers.py:415: FutureWarning: In Future pymatsolver v0.4.0, passing a vector of shape (n, 1) to the solve method will return an array with shape (n, 1), instead of always returning a flattened array. This is to be consistent with numpy.linalg.solve broadcasting.\n",
      "  return self.solve(val)\n",
      "/home/lheagy/miniforge3/envs/py311/lib/python3.11/site-packages/pymatsolver/solvers.py:415: FutureWarning: In Future pymatsolver v0.4.0, passing a vector of shape (n, 1) to the solve method will return an array with shape (n, 1), instead of always returning a flattened array. This is to be consistent with numpy.linalg.solve broadcasting.\n",
      "  return self.solve(val)\n",
      "/home/lheagy/miniforge3/envs/py311/lib/python3.11/site-packages/pymatsolver/solvers.py:415: FutureWarning: In Future pymatsolver v0.4.0, passing a vector of shape (n, 1) to the solve method will return an array with shape (n, 1), instead of always returning a flattened array. This is to be consistent with numpy.linalg.solve broadcasting.\n",
      "  return self.solve(val)\n"
     ]
    }
   ],
   "source": [
    "sim = MultiprocessingMetaSimulation(sims, mappings)\n",
    "\n",
    "# client = dask.Client()\n",
    "# sim = DaskMetaSimulation(sims, mappings, client=client)"
   ]
  },
  {
   "cell_type": "code",
   "execution_count": 31,
   "id": "c740b534-eaa6-4b8e-822e-d7b8b819d75f",
   "metadata": {},
   "outputs": [],
   "source": [
    "# relative_error=0.1\n",
    "# noise_floor=1e-11\n",
    "# alpha_s = 1e-1\n",
    "# alpha_x = 1\n",
    "rho_back = 500\n",
    "# beta0 = 10\n",
    "\n",
    "\n",
    "dmis = data_misfit.L2DataMisfit(simulation=sim, data=data_invert)\n",
    "reg = regularization.WeightedLeastSquares(\n",
    "    mesh, \n",
    "    active_cells=active_cells_map.active_cells,\n",
    ")\n",
    "\n",
    "opt = optimization.InexactGaussNewton(maxIter=20, maxIterCG=30, tolCG=1e-3)\n",
    "inv_prob = inverse_problem.BaseInvProblem(dmis, reg, opt)\n",
    "\n",
    "# Defining a starting value for the trade-off parameter (beta) between the data\n",
    "# misfit and the regularization.\n",
    "starting_beta = directives.BetaEstimate_ByEig(beta0_ratio=10)\n",
    "\n",
    "cool_beta = directives.BetaSchedule(coolingFactor=1.5, coolingRate=1)\n",
    "\n",
    "# Options for outputting recovered models and predicted data for each beta.\n",
    "save_iteration = directives.SaveOutputDictEveryIteration(\n",
    "    saveOnDisk=False,\n",
    ")\n",
    "\n",
    "target_misfit = directives.TargetMisfit()\n",
    "\n",
    "# The directives are defined as a list.\n",
    "directives_list = [\n",
    "    starting_beta,\n",
    "    cool_beta,\n",
    "    save_iteration,\n",
    "    target_misfit,\n",
    "]\n",
    "\n",
    "# Here we combine the inverse problem and the set of directives\n",
    "inv = inversion.BaseInversion(inv_prob, directives_list)"
   ]
  },
  {
   "cell_type": "code",
   "execution_count": 32,
   "id": "70cc4471-c82f-411d-b786-9eccd680c6b2",
   "metadata": {},
   "outputs": [],
   "source": [
    "m0 = np.log(1/rho_back) * np.ones(np.sum(active_cells_map.active_cells))"
   ]
  },
  {
   "cell_type": "code",
   "execution_count": 33,
   "id": "2c66adb6-675c-495e-9989-3a68e6fbb76f",
   "metadata": {},
   "outputs": [
    {
     "name": "stdout",
     "output_type": "stream",
     "text": [
      "\n",
      "Running inversion with SimPEG v0.24.0\n",
      "simpeg.InvProblem will set Regularization.reference_model to m0.\n",
      "simpeg.InvProblem will set Regularization.reference_model to m0.\n",
      "simpeg.InvProblem will set Regularization.reference_model to m0.\n",
      "simpeg.InvProblem will set Regularization.reference_model to m0.\n",
      "simpeg.InvProblem will set Regularization.reference_model to m0.\n",
      "simpeg.InvProblem will set Regularization.reference_model to m0.\n",
      "simpeg.InvProblem will set Regularization.reference_model to m0.\n",
      "\n",
      "                    simpeg.InvProblem is setting bfgsH0 to the inverse of the eval2Deriv.\n",
      "                    ***Done using the default solver Pardiso and no solver_opts.***\n",
      "                    \n",
      "model has any nan: 0\n",
      "============================ Inexact Gauss Newton ============================\n",
      "  #     beta     phi_d     phi_m       f      |proj(x-g)-x|  LS    Comment   \n",
      "-----------------------------------------------------------------------------\n",
      "x0 has any nan: 0\n",
      "   0  3.73e-09  1.44e+03  0.00e+00  1.44e+03    5.98e+01      0              \n",
      "   1  2.48e-09  1.04e+03  3.50e+07  1.04e+03    9.78e+01      4              \n",
      "   2  1.66e-09  8.35e+02  4.26e+07  8.35e+02    1.11e+02      4              \n",
      "   3  1.10e-09  3.29e+02  8.88e+07  3.29e+02    5.09e+02      2              \n",
      "   4  7.36e-10  2.06e+02  9.01e+07  2.06e+02    5.04e+02      2              \n",
      "   5  4.91e-10  1.41e+02  9.00e+07  1.41e+02    4.53e+02      2   Skip BFGS  \n",
      "------------------------- STOP! -------------------------\n",
      "1 : |fc-fOld| = 0.0000e+00 <= tolF*(1+|f0|) = 1.4405e+02\n",
      "1 : |xc-x_last| = 6.7344e+00 <= tolX*(1+|x0|) = 9.4275e+01\n",
      "0 : |proj(x-g)-x|    = 4.5346e+02 <= tolG          = 1.0000e-01\n",
      "0 : |proj(x-g)-x|    = 4.5346e+02 <= 1e3*eps       = 1.0000e-02\n",
      "0 : maxIter   =      20    <= iter          =      6\n",
      "------------------------- DONE! -------------------------\n",
      "CPU times: user 19min 19s, sys: 17.5 s, total: 19min 36s\n",
      "Wall time: 34min 35s\n"
     ]
    }
   ],
   "source": [
    "%%time\n",
    "# if __name__ == \"__main__\":\n",
    "mrec = inv.run(m0)"
   ]
  },
  {
   "cell_type": "code",
   "execution_count": 38,
   "id": "4c0b41bc-8116-40dc-a669-4a767a39c647",
   "metadata": {},
   "outputs": [
    {
     "data": {
      "text/plain": [
       "array([-6.2146081 , -6.2146081 , -6.2146081 , ..., -6.21460811,\n",
       "       -6.21460811, -6.21460811])"
      ]
     },
     "execution_count": 38,
     "metadata": {},
     "output_type": "execute_result"
    }
   ],
   "source": [
    "mrec"
   ]
  },
  {
   "cell_type": "code",
   "execution_count": 41,
   "id": "6afa9bb3-cef2-49bd-918f-80dde0e10738",
   "metadata": {},
   "outputs": [
    {
     "data": {
      "text/plain": [
       "(-200.0, 10.0)"
      ]
     },
     "execution_count": 41,
     "metadata": {},
     "output_type": "execute_result"
    },
    {
     "data": {
      "image/png": "[encoded data removed]",
      "text/plain": [
       "<Figure size 640x480 with 1 Axes>"
      ]
     },
     "metadata": {},
     "output_type": "display_data"
    }
   ],
   "source": [
    "fig, ax = plt.subplots(1, 1)\n",
    "\n",
    "mesh.plot_slice(\n",
    "    np.exp(active_cells_map * mrec),\n",
    "    ax=ax, \n",
    "    normal=\"y\", \n",
    "    pcolor_opts={\"norm\":LogNorm()}\n",
    ")\n",
    "\n",
    "ax.set_xlim(-500, 500)\n",
    "ax.set_ylim([-200, 10])"
   ]
  },
  {
   "cell_type": "code",
   "execution_count": 35,
   "id": "ab002b09-5036-40a3-8f20-f413761c8415",
   "metadata": {},
   "outputs": [
    {
     "data": {
      "text/plain": [
       "(array([2.200e+01, 8.000e+01, 3.700e+02, 1.996e+04, 2.044e+03, 3.060e+02,\n",
       "        1.340e+02, 3.800e+01, 8.000e+00, 2.000e+00]),\n",
       " array([-4.15935895, -3.78015805, -3.40095714, -3.02175623, -2.64255532,\n",
       "        -2.26335441, -1.88415351, -1.5049526 , -1.12575169, -0.74655078,\n",
       "        -0.36734987]),\n",
       " <BarContainer object of 10 artists>)"
      ]
     },
     "execution_count": 35,
     "metadata": {},
     "output_type": "execute_result"
    },
    {
     "data": {
      "image/png": "[encoded data removed]",
      "text/plain": [
       "<Figure size 640x480 with 1 Axes>"
      ]
     },
     "metadata": {},
     "output_type": "display_data"
    }
   ],
   "source": [
    "plt.hist(np.log10(np.exp(mlast)))"
   ]
  },
  {
   "cell_type": "code",
   "execution_count": 36,
   "id": "97a6bd61-b42c-4561-b0be-949b1bc7df80",
   "metadata": {},
   "outputs": [
    {
     "data": {
      "text/plain": [
       "np.float64(6.928529122736016e-05)"
      ]
     },
     "execution_count": 36,
     "metadata": {},
     "output_type": "execute_result"
    }
   ],
   "source": [
    "np.min(np.exp(mlast))"
   ]
  },
  {
   "cell_type": "code",
   "execution_count": 37,
   "id": "9707c259-0c02-4374-aa54-d6e613371a6c",
   "metadata": {},
   "outputs": [
    {
     "data": {
      "text/plain": [
       "np.float64(0.4291905245333578)"
      ]
     },
     "execution_count": 37,
     "metadata": {},
     "output_type": "execute_result"
    }
   ],
   "source": [
    "np.max(np.exp(mlast))"
   ]
  },
  {
   "cell_type": "code",
   "execution_count": null,
   "id": "18058e28-8c9a-4759-8124-58a4392235ab",
   "metadata": {},
   "outputs": [],
   "source": []
  }
 ],
 "metadata": {
  "kernelspec": {
   "display_name": "Python 3 (ipykernel)",
   "language": "python",
   "name": "python3"
  },
  "language_info": {
   "codemirror_mode": {
    "name": "ipython",
    "version": 3
   },
   "file_extension": ".py",
   "mimetype": "text/x-python",
   "name": "python",
   "nbconvert_exporter": "python",
   "pygments_lexer": "ipython3",
   "version": "3.11.11"
  }
 },
 "nbformat": 4,
 "nbformat_minor": 5
}
