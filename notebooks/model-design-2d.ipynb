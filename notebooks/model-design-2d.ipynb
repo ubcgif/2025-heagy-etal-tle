{
 "cells": [
  {
   "cell_type": "code",
   "execution_count": 1,
   "id": "64b9eb20-6cda-4905-a6c8-95b3ae0f260e",
   "metadata": {},
   "outputs": [],
   "source": [
    "import numpy as np\n",
    "import matplotlib.pyplot as plt\n",
    "from matplotlib.colors import LogNorm, Normalize\n",
    "import time\n",
    "import pickle\n",
    "\n",
    "from concurrent.futures import ProcessPoolExecutor, as_completed, ThreadPoolExecutor\n",
    "\n",
    "\n",
    "import discretize \n",
    "from simpeg import maps\n",
    "from simpeg.electromagnetics import time_domain as tdem\n",
    "\n",
    "from simpeg.utils.solver_utils import get_default_solver\n",
    "\n",
    "from simpeg.meta import MultiprocessingMetaSimulation #DaskMetaSimulation"
   ]
  },
  {
   "cell_type": "code",
   "execution_count": 2,
   "id": "aabf8349-b2ea-41ef-a974-3537317c7cfe",
   "metadata": {},
   "outputs": [
    {
     "data": {
      "text/plain": [
       "pymatsolver.direct.pardiso.Pardiso"
      ]
     },
     "execution_count": 2,
     "metadata": {},
     "output_type": "execute_result"
    }
   ],
   "source": [
    "Solver = get_default_solver()\n",
    "Solver"
   ]
  },
  {
   "cell_type": "markdown",
   "id": "570037d2-aeab-487d-ba4a-30e1bb25c2ee",
   "metadata": {},
   "source": [
    "# set up models and mesh"
   ]
  },
  {
   "cell_type": "code",
   "execution_count": 3,
   "id": "24698367-f198-4d55-9007-f8fb22906420",
   "metadata": {},
   "outputs": [],
   "source": [
    "rho_back = 500\n",
    "sigma_back = 1./rho_back \n",
    "\n",
    "rho_target = 20\n",
    "sigma_target = 1./rho_target\n",
    "\n",
    "sigma_air = 1e-8\n",
    "\n",
    "target_dips = np.r_[0, 15, 30, 45]\n",
    "\n",
    "rx_times = np.logspace(np.log10(2e-5), np.log10(2e-3), 20)\n"
   ]
  },
  {
   "cell_type": "code",
   "execution_count": 4,
   "id": "06ec46ef-3a60-489d-b950-efdfcf42dc64",
   "metadata": {},
   "outputs": [],
   "source": [
    "def diffusion_distance(sigma, t):\n",
    "    return 1260*np.sqrt(t/sigma)"
   ]
  },
  {
   "cell_type": "code",
   "execution_count": 5,
   "id": "feeba4ae-814a-4930-9023-39c5e9c2a690",
   "metadata": {},
   "outputs": [
    {
     "data": {
      "text/plain": [
       "np.float64(504.0)"
      ]
     },
     "execution_count": 5,
     "metadata": {},
     "output_type": "execute_result"
    }
   ],
   "source": [
    "diffusion_distance(sigma_target, 8e-3)"
   ]
  },
  {
   "cell_type": "code",
   "execution_count": 6,
   "id": "039d77a2-5aa7-41a9-a8d1-509c90da50d7",
   "metadata": {},
   "outputs": [
    {
     "data": {
      "text/plain": [
       "np.float64(2520.0)"
      ]
     },
     "execution_count": 6,
     "metadata": {},
     "output_type": "execute_result"
    }
   ],
   "source": [
    "diffusion_distance(sigma_back, 8e-3)"
   ]
  },
  {
   "cell_type": "code",
   "execution_count": 7,
   "id": "2f4b1720-d691-4250-90f5-9d3c289b98dd",
   "metadata": {},
   "outputs": [
    {
     "data": {
      "text/plain": [
       "array([-200., -180., -160., -140., -120., -100.,  -80.,  -60.,  -40.,\n",
       "        -20.,    0.,   20.,   40.,   60.,   80.,  100.,  120.,  140.,\n",
       "        160.,  180.,  200.])"
      ]
     },
     "execution_count": 7,
     "metadata": {},
     "output_type": "execute_result"
    }
   ],
   "source": [
    "tx_height = np.r_[30]\n",
    "\n",
    "rx_x = (np.linspace(-200, 200, 21))\n",
    "rx_y = np.r_[0]\n",
    "rx_z = tx_height\n",
    "\n",
    "rx_locs = discretize.utils.ndgrid([rx_x, rx_y, rx_z])\n",
    "rx_x"
   ]
  },
  {
   "cell_type": "code",
   "execution_count": 8,
   "id": "6eae7776-4de6-4192-a202-ff60c4a7c915",
   "metadata": {},
   "outputs": [
    {
     "data": {
      "text/plain": [
       "21"
      ]
     },
     "execution_count": 8,
     "metadata": {},
     "output_type": "execute_result"
    }
   ],
   "source": [
    "len(rx_x)"
   ]
  },
  {
   "cell_type": "code",
   "execution_count": 225,
   "id": "fdced28d-6966-4a09-a529-9733ec6e746a",
   "metadata": {},
   "outputs": [],
   "source": [
    "cell_width_x = 20\n",
    "# cell_width_z = 10\n",
    "cell_width_z = 20\n",
    "\n",
    "core_depth_z = 180\n",
    "\n",
    "n_pad_x = 7\n",
    "n_pad_y = 7\n",
    "n_pad_z = 7\n",
    "\n",
    "pf = 1.55\n",
    "\n",
    "n_core_x = int((rx_x.max()-rx_x.min())/cell_width_x + 1)\n",
    "n_core_y = 3\n",
    "n_core_air_z = int(rx_z[0] / cell_width_z)\n",
    "n_core_subsurface_z = int(core_depth_z/cell_width_z)\n",
    "n_core_z = int(n_core_air_z + n_core_subsurface_z)\n",
    "\n",
    "hx = [\n",
    "    (cell_width_x, n_pad_x, -pf), \n",
    "    (cell_width_x, n_core_x), \n",
    "    (cell_width_x, n_pad_x, pf)\n",
    "]\n",
    "\n",
    "hy = [\n",
    "    (cell_width_x, n_pad_y, -pf), \n",
    "    (cell_width_x, n_core_y), \n",
    "    (cell_width_x, n_pad_y, pf)\n",
    "]\n",
    "\n",
    "hz = [\n",
    "    (cell_width_z, n_pad_z, -pf), \n",
    "    (cell_width_z, n_core_z), \n",
    "    (cell_width_z, n_pad_z, pf)\n",
    "]\n",
    "\n",
    "mesh = discretize.TensorMesh(\n",
    "    [hx, hy, hz]\n",
    ")\n",
    "mesh.origin = np.r_[\n",
    "    -mesh.h[0].sum()/2, \n",
    "    -mesh.h[1].sum()/2,\n",
    "    -mesh.h[2][:n_pad_z+n_core_subsurface_z].sum()\n",
    "]"
   ]
  },
  {
   "cell_type": "code",
   "execution_count": 226,
   "id": "525e327f-9aa3-4121-8eb1-812b8a3b240e",
   "metadata": {},
   "outputs": [
    {
     "data": {
      "text/html": [
       "<table>\n",
       "  <tr>\n",
       "    <td style='font-weight: bold; font-size: 1.2em; text-align: center;' colspan='3'>TensorMesh</td>\n",
       "    <td style='font-size: 1.2em; text-align: center;'colspan='4'>14,280 cells</td>\n",
       "  </tr>\n",
       "  <tr>\n",
       "    <th></th>\n",
       "    <th></th>\n",
       "    <th colspan='2' style='padding: 5px 20px 5px 20px;'>MESH EXTENT</th>\n",
       "    <th colspan='2' style='padding: 5px 20px 5px 20px;'>CELL WIDTH</th>\n",
       "    <th style='padding: 5px 20px 5px 20px;'>FACTOR</th>\n",
       "  </tr>\n",
       "  <tr>\n",
       "    <th style='padding: 5px 20px 5px 20px;'>dir</th>\n",
       "    <th style='padding: 5px 20px 5px 20px;'>nC</th>\n",
       "    <th style='padding: 5px 20px 5px 20px;'>min</th>\n",
       "    <th style='padding: 5px 20px 5px 20px;'>max</th>\n",
       "    <th style='padding: 5px 20px 5px 20px;'>min</th>\n",
       "    <th style='padding: 5px 20px 5px 20px;'>max</th>\n",
       "    <th style='padding: 5px 20px 5px 20px;'>max</th>\n",
       "  </tr>\n",
       "  <tr>\n",
       "    <td style='padding: 5px 20px 5px 20px;'>x</td>\n",
       "    <td style='padding: 5px 20px 5px 20px;'>35</td>\n",
       "    <td style='padding: 5px 20px 5px 20px;'>-1,365.13</td>\n",
       "    <td style='padding: 5px 20px 5px 20px;'>1,365.13</td>\n",
       "    <td style='padding: 5px 20px 5px 20px;'>20.00</td>\n",
       "    <td style='padding: 5px 20px 5px 20px;'>429.88</td>\n",
       "    <td style='padding: 5px 20px 5px 20px;'>1.55</td>\n",
       "  </tr>\n",
       "  <tr>\n",
       "    <td style='padding: 5px 20px 5px 20px;'>y</td>\n",
       "    <td style='padding: 5px 20px 5px 20px;'>17</td>\n",
       "    <td style='padding: 5px 20px 5px 20px;'>-1,185.13</td>\n",
       "    <td style='padding: 5px 20px 5px 20px;'>1,185.13</td>\n",
       "    <td style='padding: 5px 20px 5px 20px;'>20.00</td>\n",
       "    <td style='padding: 5px 20px 5px 20px;'>429.88</td>\n",
       "    <td style='padding: 5px 20px 5px 20px;'>1.55</td>\n",
       "  </tr>\n",
       "  <tr>\n",
       "    <td style='padding: 5px 20px 5px 20px;'>z</td>\n",
       "    <td style='padding: 5px 20px 5px 20px;'>24</td>\n",
       "    <td style='padding: 5px 20px 5px 20px;'>-1,335.13</td>\n",
       "    <td style='padding: 5px 20px 5px 20px;'>1,175.13</td>\n",
       "    <td style='padding: 5px 20px 5px 20px;'>20.00</td>\n",
       "    <td style='padding: 5px 20px 5px 20px;'>429.88</td>\n",
       "    <td style='padding: 5px 20px 5px 20px;'>1.55</td>\n",
       "  </tr>\n",
       "</table>\n"
      ],
      "text/plain": [
       "\n",
       "  TensorMesh: 14,280 cells\n",
       "\n",
       "                      MESH EXTENT             CELL WIDTH      FACTOR\n",
       "  dir    nC        min           max         min       max      max\n",
       "  ---   ---  ---------------------------  ------------------  ------\n",
       "   x     35     -1,365.13      1,365.13     20.00    429.88    1.55\n",
       "   y     17     -1,185.13      1,185.13     20.00    429.88    1.55\n",
       "   z     24     -1,335.13      1,175.13     20.00    429.88    1.55\n"
      ]
     },
     "execution_count": 226,
     "metadata": {},
     "output_type": "execute_result"
    }
   ],
   "source": [
    "mesh"
   ]
  },
  {
   "cell_type": "code",
   "execution_count": 227,
   "id": "db38077c-5327-4934-947f-309dce549961",
   "metadata": {},
   "outputs": [],
   "source": [
    "def diffusion_distance(t, sigma): \n",
    "    return 1260 * np.sqrt(t/sigma)"
   ]
  },
  {
   "cell_type": "code",
   "execution_count": 228,
   "id": "ef62ab8f-fdfd-4982-9aa2-8f7a272490b1",
   "metadata": {},
   "outputs": [
    {
     "data": {
      "text/plain": [
       "np.float64(1260.0)"
      ]
     },
     "execution_count": 228,
     "metadata": {},
     "output_type": "execute_result"
    }
   ],
   "source": [
    "diffusion_distance(2e-3, sigma_back)"
   ]
  },
  {
   "cell_type": "code",
   "execution_count": null,
   "id": "97225265-9e55-4cb9-8bba-3e67cc436ace",
   "metadata": {},
   "outputs": [],
   "source": []
  },
  {
   "cell_type": "code",
   "execution_count": 229,
   "id": "6e176c97-3127-4721-94b9-0f219b296d76",
   "metadata": {},
   "outputs": [],
   "source": [
    "def dipping_target_indices(\n",
    "    mesh, target_x_center, target_z_center, dip, target_thickness, target_xlim=None, target_ylim=None, target_zlim=None\n",
    "): \n",
    "    \"\"\"\n",
    "    add a dipping target to the model. For now assumes the target dips in the x-direction\n",
    "    \"\"\"\n",
    "    x_center = np.mean(target_x)\n",
    "    slope = np.tan(-dip*np.pi/180)\n",
    "    target_z = target_z_center + target_thickness / 2 * np.r_[-1, 1]\n",
    "    \n",
    "    z_bottom = (mesh.cell_centers[:, 0] - target_x_center) * slope + target_z.min()\n",
    "    z_top = (mesh.cell_centers[:, 0] - target_x_center) * slope + target_z.max()\n",
    "\n",
    "    indices = (\n",
    "        (mesh.cell_centers[:, 2] >= z_bottom) &\n",
    "        (mesh.cell_centers[:, 2] <= z_top) \n",
    "    )\n",
    "\n",
    "    if target_xlim is not None: \n",
    "        indices = indices & (\n",
    "            (mesh.cell_centers[:, 0] >= target_xlim.min()) &\n",
    "            (mesh.cell_centers[:, 0] <= target_xlim.max())\n",
    "        )\n",
    "    if target_ylim is not None: \n",
    "        indices = indices & (\n",
    "            (mesh.cell_centers[:, 1] >= target_ylim.min()) &\n",
    "            (mesh.cell_centers[:, 1] <= target_ylim.max())\n",
    "        )\n",
    "    if target_zlim is not None: \n",
    "        indices = indices & (\n",
    "            (mesh.cell_centers[:, 2] >= target_zlim.min()) &\n",
    "            (mesh.cell_centers[:, 2] <= target_zlim.max())\n",
    "        )\n",
    "    return indices"
   ]
  },
  {
   "cell_type": "code",
   "execution_count": 296,
   "id": "ee81bced-772e-40ce-8614-5b3190bf980e",
   "metadata": {},
   "outputs": [],
   "source": [
    "models = {}\n",
    "\n",
    "# target_x = np.r_[-105, 105]\n",
    "target_x = np.r_[-60, 60]\n",
    "target_y = np.r_[-np.inf, np.inf]\n",
    "# target_z_center = -60\n",
    "# target_z_center = -80\n",
    "target_z_center=-70\n",
    "# target_thickness = 40\n",
    "target_thickness = 60\n",
    "\n",
    "# background model\n",
    "background = np.ones(mesh.n_cells) * sigma_air\n",
    "background[mesh.cell_centers[:, 2] < 0] = sigma_back\n",
    "models[\"background\"] = background\n",
    "\n",
    "for dip in target_dips:\n",
    "    model = background.copy()\n",
    "    indices = dipping_target_indices(\n",
    "        mesh, target_x_center=0, target_z_center=target_z_center, \n",
    "        target_thickness=target_thickness, dip=dip, \n",
    "        target_xlim=target_x, \n",
    "        target_ylim=target_y,\n",
    "        target_zlim=np.r_[-200, -20]\n",
    "    )\n",
    "    model[indices] = sigma_target\n",
    "    models[f\"target_{dip}\"] = model\n",
    "\n"
   ]
  },
  {
   "cell_type": "code",
   "execution_count": 297,
   "id": "56658cb3-6e4e-4366-9126-2344916a2d39",
   "metadata": {},
   "outputs": [
    {
     "data": {
      "text/plain": [
       "['background', 'target_0', 'target_15', 'target_30', 'target_45']"
      ]
     },
     "execution_count": 297,
     "metadata": {},
     "output_type": "execute_result"
    }
   ],
   "source": [
    "model_keys = list(models.keys())\n",
    "model_keys"
   ]
  },
  {
   "cell_type": "code",
   "execution_count": 298,
   "id": "0c1cb401-3b46-4d30-a40e-3a2193ca3faf",
   "metadata": {},
   "outputs": [
    {
     "data": {
      "image/png": "[encoded data removed]",
      "text/plain": [
       "<Figure size 1000x200 with 2 Axes>"
      ]
     },
     "metadata": {},
     "output_type": "display_data"
    }
   ],
   "source": [
    "fig, ax = plt.subplots(1, 1, figsize=(10, 2)) \n",
    "\n",
    "plt.colorbar(\n",
    "    mesh.plot_slice(\n",
    "        models[\"target_0\"], \n",
    "        grid=True, \n",
    "        normal=\"y\",\n",
    "        pcolor_opts={\"norm\":LogNorm(1e-6, 1e-1)},\n",
    "        grid_opts={\"color\":\"k\", \"lw\":0.5},\n",
    "        ax=ax)[0], \n",
    "    ax=ax\n",
    ")\n",
    "\n",
    "ax.set_xlim(300*np.r_[-1, 1])\n",
    "ax.set_ylim(np.r_[-300, 50])\n",
    "\n",
    "ax.plot(rx_locs[:, 0], rx_locs[:, 2], \"ro\")\n",
    "ax.set_aspect(1)"
   ]
  },
  {
   "cell_type": "code",
   "execution_count": 299,
   "id": "97dcd53a-4887-4d89-871b-8e6b2468079e",
   "metadata": {},
   "outputs": [
    {
     "data": {
      "text/plain": [
       "np.float64(-10.00000000000017)"
      ]
     },
     "execution_count": 299,
     "metadata": {},
     "output_type": "execute_result"
    }
   ],
   "source": [
    "mesh.cell_centers_z[15]"
   ]
  },
  {
   "cell_type": "code",
   "execution_count": 300,
   "id": "0188d8fe-10c0-4904-babc-330682559bce",
   "metadata": {},
   "outputs": [
    {
     "data": {
      "image/png": "[encoded data removed]",
      "text/plain": [
       "<Figure size 400x400 with 2 Axes>"
      ]
     },
     "metadata": {},
     "output_type": "display_data"
    }
   ],
   "source": [
    "fig, ax = plt.subplots(1, 1, figsize=(4, 4)) \n",
    "\n",
    "# mesh_local = mesh_list[-1]\n",
    "\n",
    "plt.colorbar(\n",
    "    mesh.plot_slice(\n",
    "        models[\"target_0\"], \n",
    "        grid=True, \n",
    "        normal=\"z\",\n",
    "        pcolor_opts={\"norm\":LogNorm(1e-3, 1e-1)},\n",
    "        grid_opts={\"color\":\"k\", \"lw\":0.5},\n",
    "        ax=ax,\n",
    "        ind=14,\n",
    "    )[0], \n",
    "    ax=ax\n",
    ")\n",
    "\n",
    "xlim = 800*np.r_[-1, 1]\n",
    "ax.set_xlim(xlim)\n",
    "ax.set_ylim(xlim)\n",
    "\n",
    "ax.plot(rx_locs[:, 0], rx_locs[:, 1], \"ro\")\n",
    "ax.set_aspect(1)\n"
   ]
  },
  {
   "cell_type": "code",
   "execution_count": 254,
   "id": "ea41fd73-9086-49ad-aa70-e6e8fe18f7e8",
   "metadata": {},
   "outputs": [],
   "source": [
    "mesh_2d = discretize.TensorMesh(\n",
    "    [mesh.h[0], mesh.h[2]], origin=np.r_[mesh.origin[0], mesh.origin[2]]\n",
    ")\n"
   ]
  },
  {
   "cell_type": "code",
   "execution_count": 255,
   "id": "d4c25b92-c922-441c-b712-0ab2db209f8b",
   "metadata": {},
   "outputs": [],
   "source": [
    "inds_2d_slice = (mesh.cell_centers[:, 1] < cell_width_x/2) & (mesh.cell_centers[:, 1] > -cell_width_x/2)"
   ]
  },
  {
   "cell_type": "code",
   "execution_count": 256,
   "id": "93faff7b-8588-4e66-b73c-ebc138cc0f93",
   "metadata": {},
   "outputs": [],
   "source": [
    "conductivity_models_2d = {}\n",
    "for key, val in models.items():\n",
    "    conductivity_models_2d[key] = val[inds_2d_slice]"
   ]
  },
  {
   "cell_type": "code",
   "execution_count": 257,
   "id": "24d16d37-259c-451a-a811-5cf2af2eb77d",
   "metadata": {},
   "outputs": [
    {
     "data": {
      "image/png": "[encoded data removed]",
      "text/plain": [
       "<Figure size 1000x200 with 2 Axes>"
      ]
     },
     "metadata": {},
     "output_type": "display_data"
    }
   ],
   "source": [
    "fig, ax = plt.subplots(1, 1, figsize=(10, 2)) \n",
    "\n",
    "plt.colorbar(\n",
    "    mesh_2d.plot_image(\n",
    "        conductivity_models_2d[\"target_15\"], \n",
    "        grid=True, \n",
    "        normal=\"y\",\n",
    "        pcolor_opts={\"norm\":LogNorm(1e-6, 1e-1)},\n",
    "        grid_opts={\"color\":\"k\", \"lw\":0.5},\n",
    "        ax=ax)[0], \n",
    "    ax=ax\n",
    ")\n",
    "\n",
    "ax.set_xlim(600*np.r_[-1, 1])\n",
    "ax.set_ylim(np.r_[-300, 50])\n",
    "\n",
    "ax.plot(rx_locs[:, 0], rx_locs[:, 2], \"ro\")\n",
    "ax.set_aspect(1)"
   ]
  },
  {
   "cell_type": "code",
   "execution_count": 258,
   "id": "22fabbe6-1628-45b7-8e5e-1eda3fe8d5c5",
   "metadata": {},
   "outputs": [],
   "source": [
    "log_conductivity_models_2d = {}\n",
    "active_cells = mesh_2d.cell_centers[:, 1] < 0\n",
    "\n",
    "for key, val in conductivity_models_2d.items():\n",
    "    log_conductivity_models_2d[key] = np.log(val[active_cells])"
   ]
  },
  {
   "cell_type": "code",
   "execution_count": 259,
   "id": "2e350843-6831-4c4f-8f4f-64981ca84557",
   "metadata": {},
   "outputs": [],
   "source": [
    "# def get_sim():\n",
    "    # set up survey\n",
    "\n",
    "def get_sim(\n",
    "    mesh, mesh_2d, rx_locs=rx_locs, rx_times=rx_times, sigma_air=sigma_air\n",
    "):\n",
    "    source_list = []\n",
    "    \n",
    "    for i in range(rx_locs.shape[0]): \n",
    "        rx = tdem.receivers.PointMagneticFluxTimeDerivative(rx_locs[i, :], rx_times, orientation=\"z\")\n",
    "        src = tdem.sources.CircularLoop(\n",
    "            receiver_list=[rx], location=rx_locs[i, :], orientation=\"z\", radius=10, \n",
    "            waveform=tdem.sources.StepOffWaveform()\n",
    "        )\n",
    "        source_list.append(src)\n",
    "    \n",
    "    survey = tdem.Survey(source_list)\n",
    "    \n",
    "    # create simulation \n",
    "    time_steps = [\n",
    "        (1e-6, 10), \n",
    "        (3e-6, 10), \n",
    "        (1e-5, 10), \n",
    "        (3e-5, 10), \n",
    "        (1e-4, 20), \n",
    "        # (3e-4, 20)\n",
    "    ]   \n",
    "    mapping = (\n",
    "        maps.ExpMap(mesh) * \n",
    "        maps.Surject2Dto3D(mesh) * \n",
    "        maps.InjectActiveCells(mesh_2d, active_cells=active_cells, value_inactive=np.log(sigma_air))\n",
    "    )\n",
    "    simulation = tdem.simulation.Simulation3DElectricField(\n",
    "        mesh=mesh,\n",
    "        survey=survey,\n",
    "        time_steps=time_steps,\n",
    "        solver=Solver,\n",
    "        sigmaMap=mapping, \n",
    "        solver_opts={}\n",
    "    )\n",
    "    return simulation"
   ]
  },
  {
   "cell_type": "code",
   "execution_count": 288,
   "id": "590a2daf-c11f-4482-8fb2-f0431bc47b36",
   "metadata": {},
   "outputs": [
    {
     "data": {
      "text/plain": [
       "array([-200.,    0.,   30.])"
      ]
     },
     "execution_count": 288,
     "metadata": {},
     "output_type": "execute_result"
    }
   ],
   "source": [
    "rx_ind = 0\n",
    "rx_locs[rx_ind, :]"
   ]
  },
  {
   "cell_type": "code",
   "execution_count": 289,
   "id": "7a21d8e4-dfa1-49a6-bd69-cd05cf3ea947",
   "metadata": {},
   "outputs": [],
   "source": [
    "sim = get_sim(\n",
    "    mesh.copy(), mesh_2d.copy(), rx_locs = np.atleast_2d(rx_locs[rx_ind, :])\n",
    ")"
   ]
  },
  {
   "cell_type": "code",
   "execution_count": 290,
   "id": "827f32e4-6852-4848-991a-50e894aaf0b1",
   "metadata": {},
   "outputs": [
    {
     "data": {
      "text/plain": [
       "dict_keys(['background', 'target_0', 'target_15', 'target_30', 'target_45'])"
      ]
     },
     "execution_count": 290,
     "metadata": {},
     "output_type": "execute_result"
    }
   ],
   "source": [
    "log_conductivity_models_2d.keys()"
   ]
  },
  {
   "cell_type": "code",
   "execution_count": 291,
   "id": "4128ddc1-a102-4ba7-bbe2-6cbfb2836cdf",
   "metadata": {},
   "outputs": [
    {
     "name": "stdout",
     "output_type": "stream",
     "text": [
      "CPU times: user 3min 25s, sys: 15.1 s, total: 3min 40s\n",
      "Wall time: 14.1 s\n"
     ]
    }
   ],
   "source": [
    "%%time\n",
    "key=\"background\"\n",
    "dpred_halfspace = sim.dpred(log_conductivity_models_2d[key])"
   ]
  },
  {
   "cell_type": "code",
   "execution_count": 292,
   "id": "e863e977-b741-4b76-8c2f-cad050b1989d",
   "metadata": {},
   "outputs": [],
   "source": [
    "def get_sim1d(thicknesses, rx_loc, rx_times=rx_times): \n",
    "\n",
    "    rx_sounding = tdem.receivers.PointMagneticFluxTimeDerivative(\n",
    "        locations=rx_loc, times=rx_times, orientation=\"z\"\n",
    "    )\n",
    "    src_sounding = tdem.sources.CircularLoop(\n",
    "        receiver_list=[rx_sounding], location=rx_loc, \n",
    "        orientation=\"z\", \n",
    "        radius=10, \n",
    "        waveform=tdem.sources.StepOffWaveform()\n",
    "    )\n",
    "    survey_sounding = tdem.Survey([src_sounding])\n",
    "    \n",
    "    sim1d = tdem.Simulation1DLayered(\n",
    "        survey=survey_sounding, thicknesses=thicknesses, sigmaMap=maps.ExpMap()\n",
    "    )\n",
    "    return sim1d"
   ]
  },
  {
   "cell_type": "code",
   "execution_count": 293,
   "id": "12857bd0-6f8f-47ae-982d-d9c14ca9c6a6",
   "metadata": {},
   "outputs": [],
   "source": [
    "sim1d = get_sim1d([], rx_loc=np.atleast_2d(rx_locs[rx_ind, :]))"
   ]
  },
  {
   "cell_type": "code",
   "execution_count": 294,
   "id": "c9e383be-4ae8-458c-8efa-edc17e0683de",
   "metadata": {},
   "outputs": [],
   "source": [
    "dpred1d = sim1d.dpred(np.log(sigma_back))"
   ]
  },
  {
   "cell_type": "code",
   "execution_count": 295,
   "id": "f1acba1d-63f9-481b-89db-1f313bdf5208",
   "metadata": {},
   "outputs": [
    {
     "data": {
      "image/png": "[encoded data removed]",
      "text/plain": [
       "<Figure size 400x600 with 2 Axes>"
      ]
     },
     "metadata": {},
     "output_type": "display_data"
    }
   ],
   "source": [
    "fig, ax = plt.subplots(2, 1, figsize=(4, 6)) \n",
    "ax[0].loglog(rx_times, -dpred1d, color=\"k\")\n",
    "ax[0].loglog(rx_times, -dpred_halfspace, \"C0-o\")\n",
    "\n",
    "ax[0].loglog(rx_times, np.abs(dpred_halfspace-dpred1d), \"C1--\")\n",
    "\n",
    "ax[1].loglog(rx_times, np.abs(dpred_halfspace-dpred1d)/np.abs(dpred1d))\n",
    "ax[1].set_ylim(1e-1, 10)\n",
    "\n",
    "for a in ax.flatten():\n",
    "    a.grid()"
   ]
  },
  {
   "cell_type": "code",
   "execution_count": 268,
   "id": "e90fb42e-77eb-40b9-9b99-a2e3e013afd1",
   "metadata": {},
   "outputs": [
    {
     "data": {
      "text/plain": [
       "-70"
      ]
     },
     "execution_count": 268,
     "metadata": {},
     "output_type": "execute_result"
    }
   ],
   "source": [
    "target_z_center"
   ]
  },
  {
   "cell_type": "code",
   "execution_count": 269,
   "id": "d190aef1-a2be-4d90-a16e-b4a41ace9edb",
   "metadata": {},
   "outputs": [
    {
     "data": {
      "text/plain": [
       "60"
      ]
     },
     "execution_count": 269,
     "metadata": {},
     "output_type": "execute_result"
    }
   ],
   "source": [
    "target_thickness"
   ]
  },
  {
   "cell_type": "code",
   "execution_count": 270,
   "id": "0f1b6360-038d-4656-ac4d-352423b4942b",
   "metadata": {},
   "outputs": [],
   "source": [
    "sim1d_target = get_sim1d(\n",
    "    thicknesses=[\n",
    "        -target_z_center-target_thickness/2,\n",
    "        target_thickness\n",
    "    ],\n",
    "    rx_loc = np.atleast_2d(rx_locs[rx_ind, :])\n",
    ")"
   ]
  },
  {
   "cell_type": "code",
   "execution_count": 271,
   "id": "00525d39-c1e7-4790-86e9-5b33bae39952",
   "metadata": {},
   "outputs": [],
   "source": [
    "dpred1d_target = sim1d_target.dpred(np.log(np.r_[sigma_back, sigma_target, sigma_back]))"
   ]
  },
  {
   "cell_type": "code",
   "execution_count": 272,
   "id": "986fb30e-8224-489e-b2cd-7305843bb373",
   "metadata": {},
   "outputs": [
    {
     "name": "stdout",
     "output_type": "stream",
     "text": [
      "CPU times: user 2min 55s, sys: 12.9 s, total: 3min 7s\n",
      "Wall time: 9.27 s\n"
     ]
    }
   ],
   "source": [
    "%%time\n",
    "key=\"target_0\"\n",
    "dpred_target = sim.dpred(log_conductivity_models_2d[key])"
   ]
  },
  {
   "cell_type": "code",
   "execution_count": 273,
   "id": "3f770881-dd38-4b14-b54e-cee31bcc5554",
   "metadata": {},
   "outputs": [
    {
     "data": {
      "text/plain": [
       "array([-2.23726181e-07, -1.72069884e-07, -1.31237637e-07, -9.92567914e-08,\n",
       "       -7.46419083e-08, -5.59820880e-08, -4.18163788e-08, -3.08576057e-08,\n",
       "       -2.22347685e-08, -1.54843290e-08, -1.03552502e-08, -6.63079238e-09,\n",
       "       -4.06213393e-09, -2.38176916e-09, -1.33831146e-09, -7.22153672e-10,\n",
       "       -3.75275137e-10, -1.88474746e-10, -9.18650863e-11, -4.36565097e-11])"
      ]
     },
     "execution_count": 273,
     "metadata": {},
     "output_type": "execute_result"
    }
   ],
   "source": [
    "dpred1d_target"
   ]
  },
  {
   "cell_type": "code",
   "execution_count": 274,
   "id": "4acc1b1b-32f4-460a-bbc3-feb8662c47b2",
   "metadata": {},
   "outputs": [
    {
     "data": {
      "text/plain": [
       "[<matplotlib.lines.Line2D at 0x7fbff1eff210>]"
      ]
     },
     "execution_count": 274,
     "metadata": {},
     "output_type": "execute_result"
    },
    {
     "data": {
      "image/png": "[encoded data removed]",
      "text/plain": [
       "<Figure size 400x300 with 1 Axes>"
      ]
     },
     "metadata": {},
     "output_type": "display_data"
    }
   ],
   "source": [
    "fig, ax = plt.subplots(1, 1, figsize=(4, 3)) \n",
    "ax.loglog(rx_times, -dpred1d_target, color=\"k\")\n",
    "ax.loglog(rx_times, -dpred_target, \"C0-o\")\n",
    "ax.loglog(rx_times, -dpred_halfspace, \"--k\", alpha=0.5)"
   ]
  },
  {
   "cell_type": "markdown",
   "id": "e34fe6ee-d99c-4d65-975f-9d19f37f3d9a",
   "metadata": {},
   "source": [
    "# run all simulations"
   ]
  },
  {
   "cell_type": "code",
   "execution_count": 275,
   "id": "49b7e0a3-7f12-40cd-8193-abd36be61b6d",
   "metadata": {},
   "outputs": [],
   "source": [
    "data_directory = \"./synthetic-data-2d-20m\""
   ]
  },
  {
   "cell_type": "code",
   "execution_count": 276,
   "id": "2fb0771a-2468-48f1-a7b8-836eb9670081",
   "metadata": {},
   "outputs": [
    {
     "data": {
      "text/plain": [
       "'/home/lheagy/git/simpeg-research/2025-heagy-etal-tle/notebooks/synthetic-data-2d-20m/mesh.json'"
      ]
     },
     "execution_count": 276,
     "metadata": {},
     "output_type": "execute_result"
    }
   ],
   "source": [
    "mesh.save(f\"{data_directory}/mesh.json\")"
   ]
  },
  {
   "cell_type": "code",
   "execution_count": 277,
   "id": "b3bec967-6274-4c10-bd4f-55895940cebd",
   "metadata": {},
   "outputs": [],
   "source": [
    "with open(f\"{data_directory}/true_models3d.pkl\", \"wb\") as f:\n",
    "    pickle.dump(models, f)"
   ]
  },
  {
   "cell_type": "code",
   "execution_count": 278,
   "id": "a2197ea5-ef2c-44f1-a5e7-77540e1111bd",
   "metadata": {},
   "outputs": [],
   "source": [
    "with open(f\"{data_directory}/log_conductivity_models_2d.pkl\", \"wb\") as f:\n",
    "    pickle.dump(log_conductivity_models_2d, f)"
   ]
  },
  {
   "cell_type": "code",
   "execution_count": 279,
   "id": "52c7b4dc-d221-4989-86b8-d18548e51e85",
   "metadata": {},
   "outputs": [],
   "source": [
    "np.save(f\"{data_directory}/rx_times.npy\", rx_times)\n",
    "np.save(f\"{data_directory}/rx_locs.npy\", rx_locs)"
   ]
  },
  {
   "cell_type": "code",
   "execution_count": 280,
   "id": "63f89ce4-ace6-4219-92f4-1cfd2e1772df",
   "metadata": {},
   "outputs": [],
   "source": [
    "dpred_dict = {}"
   ]
  },
  {
   "cell_type": "code",
   "execution_count": 281,
   "id": "0cfbd375-497d-4ea9-984e-2c22b1b8d084",
   "metadata": {},
   "outputs": [],
   "source": [
    "def run_simulation(key):\n",
    "    print(f\"Starting {key}\")\n",
    "    t = time.time()\n",
    "    model = log_conductivity_models_2d[key]\n",
    "    sim = get_sim(mesh.copy(), mesh_2d.copy())\n",
    "    dpred = sim.dpred(model)\n",
    "    np.save(f\"{data_directory}/dpred_{key}.npy\", dpred)\n",
    "    elapsed = time.time() - t\n",
    "    print(f\".... done. Elapsed time = {elapsed:1.2e}s \\n\")\n",
    "    return key, dpred"
   ]
  },
  {
   "cell_type": "code",
   "execution_count": 282,
   "id": "fff63086-d7fb-469f-8309-f660fcb12f2e",
   "metadata": {},
   "outputs": [
    {
     "name": "stdout",
     "output_type": "stream",
     "text": [
      "Starting background\n",
      ".... done. Elapsed time = 6.54e+01s \n",
      "\n",
      "Starting target_0\n",
      ".... done. Elapsed time = 6.38e+01s \n",
      "\n",
      "Starting target_15\n",
      ".... done. Elapsed time = 6.84e+01s \n",
      "\n",
      "Starting target_30\n",
      ".... done. Elapsed time = 6.80e+01s \n",
      "\n",
      "Starting target_45\n",
      ".... done. Elapsed time = 6.41e+01s \n",
      "\n"
     ]
    }
   ],
   "source": [
    "for key in model_keys:\n",
    "    if key not in dpred_dict.keys(): \n",
    "        key, dpred = run_simulation(key)\n",
    "        dpred_dict[key] = dpred"
   ]
  },
  {
   "cell_type": "code",
   "execution_count": 283,
   "id": "bfbe0381-f18d-484d-935d-64d8a7e99eac",
   "metadata": {},
   "outputs": [],
   "source": [
    "# # dpred_dict = {}\n",
    "\n",
    "# with ThreadPoolExecutor() as executor:\n",
    "#     futures = [executor.submit(run_simulation, key) for key in model_keys if key not in dpred_dict.keys()]\n",
    "#     for future in as_completed(futures):\n",
    "#         key, dpred = future.result()\n",
    "#         dpred_dict[key] = dpred"
   ]
  },
  {
   "cell_type": "code",
   "execution_count": 286,
   "id": "1f4e25a7-338c-4245-933d-262d72490339",
   "metadata": {},
   "outputs": [],
   "source": [
    "for k in models.keys(): \n",
    "    if k not in dpred_dict.keys(): \n",
    "        dpred_dict[k] = np.load(f\"{data_directory}/dpred_{k}.npy\")"
   ]
  },
  {
   "cell_type": "code",
   "execution_count": 287,
   "id": "a705f848-07d0-4938-88f1-91cbea655c10",
   "metadata": {},
   "outputs": [
    {
     "data": {
      "image/png": "[encoded data removed]",
      "text/plain": [
       "<Figure size 640x480 with 1 Axes>"
      ]
     },
     "metadata": {},
     "output_type": "display_data"
    }
   ],
   "source": [
    "fig, ax = plt.subplots(1, 1) \n",
    "\n",
    "key = \"target_45\" \n",
    "\n",
    "ax.semilogy(\n",
    "    rx_x, -dpred_dict[\"background\"].reshape(len(rx_x), len(rx_times)), color=\"k\", lw=1, alpha=0.5\n",
    ");\n",
    "ax.semilogy(\n",
    "    rx_x, -dpred_dict[key].reshape(len(rx_x), len(rx_times)), \"C0-o\", lw=1, ms=2\n",
    ");\n"
   ]
  },
  {
   "cell_type": "code",
   "execution_count": null,
   "id": "4e56ca16-41a7-4a0d-8ac3-85556697b856",
   "metadata": {},
   "outputs": [],
   "source": []
  }
 ],
 "metadata": {
  "kernelspec": {
   "display_name": "Python 3 (ipykernel)",
   "language": "python",
   "name": "python3"
  },
  "language_info": {
   "codemirror_mode": {
    "name": "ipython",
    "version": 3
   },
   "file_extension": ".py",
   "mimetype": "text/x-python",
   "name": "python",
   "nbconvert_exporter": "python",
   "pygments_lexer": "ipython3",
   "version": "3.11.11"
  }
 },
 "nbformat": 4,
 "nbformat_minor": 5
}
