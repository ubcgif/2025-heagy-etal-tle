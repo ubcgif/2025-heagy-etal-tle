{
 "cells": [
  {
   "cell_type": "code",
   "execution_count": 1,
   "id": "488fef69-b3f8-4df7-a607-4af111536ea6",
   "metadata": {},
   "outputs": [],
   "source": [
    "import numpy as np \n",
    "import matplotlib.pyplot as plt\n",
    "from matplotlib.colors import LogNorm\n",
    "import pandas as pd\n",
    "\n",
    "import discretize \n",
    "from simpeg import maps\n",
    "from simpeg.electromagnetics import time_domain as tdem"
   ]
  },
  {
   "cell_type": "code",
   "execution_count": 11,
   "id": "1894be8f-1545-4200-9796-aea8de3fa791",
   "metadata": {},
   "outputs": [],
   "source": [
    "vtem_df = pd.read_csv(\"../geoscience-bc/5-GEOPHYSICS/OriginalData/EM_V-TEM_QUEST_GBCReport2008-4/Data/7042-MtMill.csv\")\n",
    "orig_waveform = np.loadtxt(\"../geoscience-bc/5-GEOPHYSICS/OriginalData/EM_V-TEM_QUEST_GBCReport2008-4/Data/7042_106_wform.xyz\", skiprows=7)"
   ]
  },
  {
   "cell_type": "code",
   "execution_count": 36,
   "id": "875a543c-3ea4-4aee-ad2c-f562e5c39b1b",
   "metadata": {},
   "outputs": [],
   "source": [
    "waveform = np.loadtxt(\"../dyang/Milligan_VTEM/INV_3D/Real_VTEM_3D.wf\", usecols=[0, 1])\n",
    "# waveform_amplitude = np.loadtxt(\"../dyang/Milligan_VTEM/INV_3D/Real_VTEM_3D.wf\", usecols=1)"
   ]
  },
  {
   "cell_type": "code",
   "execution_count": 67,
   "id": "c6a4c2d9-02c4-4172-bf48-89dcae7779ec",
   "metadata": {},
   "outputs": [],
   "source": [
    "tc= np.r_[\n",
    "    4.5110e-003,\n",
    "    4.5320e-003,\n",
    "    4.5580e-003,\n",
    "    4.5890e-003,\n",
    "    4.6250e-003,\n",
    "    4.6720e-003,\n",
    "    4.7300e-003,\n",
    "    4.7970e-003,\n",
    "    4.8750e-003,\n",
    "    4.9640e-003,\n",
    "    5.0730e-003,\n",
    "    5.2090e-003,\n",
    "    5.3650e-003,\n",
    "    5.5420e-003,\n",
    "    5.7610e-003,\n",
    "    6.0320e-003,\n",
    "    6.3440e-003,\n",
    "    6.6980e-003,\n",
    "    7.1360e-003\n",
    "] #-4.5e-3"
   ]
  },
  {
   "cell_type": "code",
   "execution_count": 79,
   "id": "a32d0a50-546e-4bd3-be90-cb562d648cca",
   "metadata": {},
   "outputs": [
    {
     "data": {
      "text/html": [
       "<div>\n",
       "<style scoped>\n",
       "    .dataframe tbody tr th:only-of-type {\n",
       "        vertical-align: middle;\n",
       "    }\n",
       "\n",
       "    .dataframe tbody tr th {\n",
       "        vertical-align: top;\n",
       "    }\n",
       "\n",
       "    .dataframe thead th {\n",
       "        text-align: right;\n",
       "    }\n",
       "</style>\n",
       "<table border=\"1\" class=\"dataframe\">\n",
       "  <thead>\n",
       "    <tr style=\"text-align: right;\">\n",
       "      <th></th>\n",
       "      <th>index</th>\n",
       "      <th>time gate</th>\n",
       "      <th>start</th>\n",
       "      <th>end</th>\n",
       "      <th>width</th>\n",
       "    </tr>\n",
       "  </thead>\n",
       "  <tbody>\n",
       "    <tr>\n",
       "      <th>0</th>\n",
       "      <td>9</td>\n",
       "      <td>99</td>\n",
       "      <td>91</td>\n",
       "      <td>110</td>\n",
       "      <td>19</td>\n",
       "    </tr>\n",
       "    <tr>\n",
       "      <th>1</th>\n",
       "      <td>10</td>\n",
       "      <td>120</td>\n",
       "      <td>110</td>\n",
       "      <td>131</td>\n",
       "      <td>21</td>\n",
       "    </tr>\n",
       "    <tr>\n",
       "      <th>2</th>\n",
       "      <td>11</td>\n",
       "      <td>141</td>\n",
       "      <td>131</td>\n",
       "      <td>154</td>\n",
       "      <td>24</td>\n",
       "    </tr>\n",
       "    <tr>\n",
       "      <th>3</th>\n",
       "      <td>12</td>\n",
       "      <td>167</td>\n",
       "      <td>154</td>\n",
       "      <td>183</td>\n",
       "      <td>29</td>\n",
       "    </tr>\n",
       "    <tr>\n",
       "      <th>4</th>\n",
       "      <td>13</td>\n",
       "      <td>198</td>\n",
       "      <td>183</td>\n",
       "      <td>216</td>\n",
       "      <td>34</td>\n",
       "    </tr>\n",
       "    <tr>\n",
       "      <th>5</th>\n",
       "      <td>14</td>\n",
       "      <td>234</td>\n",
       "      <td>216</td>\n",
       "      <td>258</td>\n",
       "      <td>42</td>\n",
       "    </tr>\n",
       "    <tr>\n",
       "      <th>6</th>\n",
       "      <td>15</td>\n",
       "      <td>281</td>\n",
       "      <td>258</td>\n",
       "      <td>310</td>\n",
       "      <td>53</td>\n",
       "    </tr>\n",
       "    <tr>\n",
       "      <th>7</th>\n",
       "      <td>16</td>\n",
       "      <td>339</td>\n",
       "      <td>310</td>\n",
       "      <td>373</td>\n",
       "      <td>63</td>\n",
       "    </tr>\n",
       "    <tr>\n",
       "      <th>8</th>\n",
       "      <td>17</td>\n",
       "      <td>406</td>\n",
       "      <td>373</td>\n",
       "      <td>445</td>\n",
       "      <td>73</td>\n",
       "    </tr>\n",
       "    <tr>\n",
       "      <th>9</th>\n",
       "      <td>18</td>\n",
       "      <td>484</td>\n",
       "      <td>445</td>\n",
       "      <td>529</td>\n",
       "      <td>84</td>\n",
       "    </tr>\n",
       "    <tr>\n",
       "      <th>10</th>\n",
       "      <td>19</td>\n",
       "      <td>573</td>\n",
       "      <td>529</td>\n",
       "      <td>628</td>\n",
       "      <td>99</td>\n",
       "    </tr>\n",
       "    <tr>\n",
       "      <th>11</th>\n",
       "      <td>20</td>\n",
       "      <td>682</td>\n",
       "      <td>628</td>\n",
       "      <td>750</td>\n",
       "      <td>123</td>\n",
       "    </tr>\n",
       "    <tr>\n",
       "      <th>12</th>\n",
       "      <td>21</td>\n",
       "      <td>818</td>\n",
       "      <td>750</td>\n",
       "      <td>896</td>\n",
       "      <td>146</td>\n",
       "    </tr>\n",
       "    <tr>\n",
       "      <th>13</th>\n",
       "      <td>22</td>\n",
       "      <td>974</td>\n",
       "      <td>896</td>\n",
       "      <td>1063</td>\n",
       "      <td>167</td>\n",
       "    </tr>\n",
       "    <tr>\n",
       "      <th>14</th>\n",
       "      <td>23</td>\n",
       "      <td>1151</td>\n",
       "      <td>1063</td>\n",
       "      <td>1261</td>\n",
       "      <td>198</td>\n",
       "    </tr>\n",
       "    <tr>\n",
       "      <th>15</th>\n",
       "      <td>24</td>\n",
       "      <td>1370</td>\n",
       "      <td>1261</td>\n",
       "      <td>1506</td>\n",
       "      <td>245</td>\n",
       "    </tr>\n",
       "    <tr>\n",
       "      <th>16</th>\n",
       "      <td>25</td>\n",
       "      <td>1641</td>\n",
       "      <td>1506</td>\n",
       "      <td>1797</td>\n",
       "      <td>292</td>\n",
       "    </tr>\n",
       "    <tr>\n",
       "      <th>17</th>\n",
       "      <td>26</td>\n",
       "      <td>1953</td>\n",
       "      <td>1797</td>\n",
       "      <td>2130</td>\n",
       "      <td>333</td>\n",
       "    </tr>\n",
       "    <tr>\n",
       "      <th>18</th>\n",
       "      <td>27</td>\n",
       "      <td>2307</td>\n",
       "      <td>2130</td>\n",
       "      <td>2526</td>\n",
       "      <td>396</td>\n",
       "    </tr>\n",
       "    <tr>\n",
       "      <th>19</th>\n",
       "      <td>28</td>\n",
       "      <td>2745</td>\n",
       "      <td>2526</td>\n",
       "      <td>3016</td>\n",
       "      <td>490</td>\n",
       "    </tr>\n",
       "    <tr>\n",
       "      <th>20</th>\n",
       "      <td>29</td>\n",
       "      <td>3286</td>\n",
       "      <td>3016</td>\n",
       "      <td>3599</td>\n",
       "      <td>583</td>\n",
       "    </tr>\n",
       "    <tr>\n",
       "      <th>21</th>\n",
       "      <td>30</td>\n",
       "      <td>3911</td>\n",
       "      <td>3599</td>\n",
       "      <td>4266</td>\n",
       "      <td>667</td>\n",
       "    </tr>\n",
       "    <tr>\n",
       "      <th>22</th>\n",
       "      <td>31</td>\n",
       "      <td>4620</td>\n",
       "      <td>4266</td>\n",
       "      <td>5058</td>\n",
       "      <td>792</td>\n",
       "    </tr>\n",
       "    <tr>\n",
       "      <th>23</th>\n",
       "      <td>32</td>\n",
       "      <td>5495</td>\n",
       "      <td>5058</td>\n",
       "      <td>6037</td>\n",
       "      <td>979</td>\n",
       "    </tr>\n",
       "    <tr>\n",
       "      <th>24</th>\n",
       "      <td>33</td>\n",
       "      <td>6578</td>\n",
       "      <td>6037</td>\n",
       "      <td>7203</td>\n",
       "      <td>1167</td>\n",
       "    </tr>\n",
       "    <tr>\n",
       "      <th>25</th>\n",
       "      <td>34</td>\n",
       "      <td>7828</td>\n",
       "      <td>7203</td>\n",
       "      <td>8537</td>\n",
       "      <td>1334</td>\n",
       "    </tr>\n",
       "    <tr>\n",
       "      <th>26</th>\n",
       "      <td>35</td>\n",
       "      <td>9245</td>\n",
       "      <td>8537</td>\n",
       "      <td>10120</td>\n",
       "      <td>1584</td>\n",
       "    </tr>\n",
       "  </tbody>\n",
       "</table>\n",
       "</div>"
      ],
      "text/plain": [
       "    index  time gate  start    end  width\n",
       "0       9         99     91    110     19\n",
       "1      10        120    110    131     21\n",
       "2      11        141    131    154     24\n",
       "3      12        167    154    183     29\n",
       "4      13        198    183    216     34\n",
       "5      14        234    216    258     42\n",
       "6      15        281    258    310     53\n",
       "7      16        339    310    373     63\n",
       "8      17        406    373    445     73\n",
       "9      18        484    445    529     84\n",
       "10     19        573    529    628     99\n",
       "11     20        682    628    750    123\n",
       "12     21        818    750    896    146\n",
       "13     22        974    896   1063    167\n",
       "14     23       1151   1063   1261    198\n",
       "15     24       1370   1261   1506    245\n",
       "16     25       1641   1506   1797    292\n",
       "17     26       1953   1797   2130    333\n",
       "18     27       2307   2130   2526    396\n",
       "19     28       2745   2526   3016    490\n",
       "20     29       3286   3016   3599    583\n",
       "21     30       3911   3599   4266    667\n",
       "22     31       4620   4266   5058    792\n",
       "23     32       5495   5058   6037    979\n",
       "24     33       6578   6037   7203   1167\n",
       "25     34       7828   7203   8537   1334\n",
       "26     35       9245   8537  10120   1584"
      ]
     },
     "execution_count": 79,
     "metadata": {},
     "output_type": "execute_result"
    }
   ],
   "source": [
    "rx_times"
   ]
  },
  {
   "cell_type": "code",
   "execution_count": 68,
   "id": "3c01b7fb-c319-445d-8ee4-0ad550e8063b",
   "metadata": {},
   "outputs": [],
   "source": [
    "rx_times = pd.read_csv(\"./rx-times.csv\")"
   ]
  },
  {
   "cell_type": "code",
   "execution_count": 69,
   "id": "9b387e18-f78e-4d01-888d-e21aa2c1eae0",
   "metadata": {},
   "outputs": [
    {
     "data": {
      "text/plain": [
       "Index(['index', 'time gate', 'start', 'end', 'width'], dtype='object')"
      ]
     },
     "execution_count": 69,
     "metadata": {},
     "output_type": "execute_result"
    }
   ],
   "source": [
    "rx_times.columns"
   ]
  },
  {
   "cell_type": "code",
   "execution_count": 81,
   "id": "11a1269a-19a6-4c95-891f-118341e22d6b",
   "metadata": {},
   "outputs": [
    {
     "data": {
      "text/plain": [
       "[<matplotlib.lines.Line2D at 0x33a317210>]"
      ]
     },
     "execution_count": 81,
     "metadata": {},
     "output_type": "execute_result"
    },
    {
     "data": {
      "image/png": "[encoded data removed]",
      "text/plain": [
       "<Figure size 640x480 with 1 Axes>"
      ]
     },
     "metadata": {},
     "output_type": "display_data"
    }
   ],
   "source": [
    "fig, ax = plt.subplots(1, 1)\n",
    "# ax.semilogx(rx_times[\"time gate\"]*1e-6, np.zeros(27), \".\")\n",
    "# ax.semilogx(rx_times[\"start\"], np.zeros(27), \"|k\")\n",
    "# ax.semilogx(rx_times[\"end\"], np.zeros(27), \"|k\")\n",
    "\n",
    "ax.plot(tc, np.zeros_like(tc), \"s\")"
   ]
  },
  {
   "cell_type": "code",
   "execution_count": 71,
   "id": "408cdc25-b5a2-4968-8c01-aef86d6cc2d3",
   "metadata": {},
   "outputs": [],
   "source": [
    "wave_times = np.linspace(0, 1, len(waveform))*1e-5"
   ]
  },
  {
   "cell_type": "code",
   "execution_count": 73,
   "id": "1cf3176e-d76c-4a4e-8962-05015d3aea7d",
   "metadata": {},
   "outputs": [
    {
     "data": {
      "text/plain": [
       "[<matplotlib.lines.Line2D at 0x339c800d0>]"
      ]
     },
     "execution_count": 73,
     "metadata": {},
     "output_type": "execute_result"
    },
    {
     "data": {
      "image/png": "[encoded data removed]",
      "text/plain": [
       "<Figure size 640x480 with 1 Axes>"
      ]
     },
     "metadata": {},
     "output_type": "display_data"
    }
   ],
   "source": [
    "fig, ax = plt.subplots(1,1)\n",
    "ax.plot(waveform[:, 0], waveform[:, 1], \".-\")\n",
    "# ax.plot(rx_times[\"time gate\"]*1e-6, np.zeros(27), \"|\", ms=8)\n",
    "ax.plot(tc, np.zeros_like(tc), \"|\", ms=8)"
   ]
  },
  {
   "cell_type": "code",
   "execution_count": 58,
   "id": "1a91a633-8c73-45f3-8b15-1b7e1cc5e800",
   "metadata": {},
   "outputs": [
    {
     "data": {
      "text/plain": [
       "array([1.100e-05, 3.200e-05, 5.800e-05, 8.900e-05, 1.250e-04, 1.720e-04,\n",
       "       2.300e-04, 2.970e-04, 3.750e-04, 4.640e-04, 5.730e-04, 7.090e-04,\n",
       "       8.650e-04, 1.042e-03, 1.261e-03, 1.532e-03, 1.844e-03, 2.198e-03,\n",
       "       2.636e-03])"
      ]
     },
     "execution_count": 58,
     "metadata": {},
     "output_type": "execute_result"
    }
   ],
   "source": [
    "tc"
   ]
  },
  {
   "cell_type": "code",
   "execution_count": null,
   "id": "37aef48f-4b60-4453-96f2-a2fee3b1ed27",
   "metadata": {},
   "outputs": [],
   "source": []
  }
 ],
 "metadata": {
  "kernelspec": {
   "display_name": "Python 3 (ipykernel)",
   "language": "python",
   "name": "python3"
  },
  "language_info": {
   "codemirror_mode": {
    "name": "ipython",
    "version": 3
   },
   "file_extension": ".py",
   "mimetype": "text/x-python",
   "name": "python",
   "nbconvert_exporter": "python",
   "pygments_lexer": "ipython3",
   "version": "3.11.10"
  }
 },
 "nbformat": 4,
 "nbformat_minor": 5
}
