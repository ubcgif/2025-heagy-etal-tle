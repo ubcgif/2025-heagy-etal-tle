{
 "cells": [
  {
   "cell_type": "code",
   "execution_count": 1,
   "id": "c61d59a5-e30e-49eb-ae82-f9cf06972571",
   "metadata": {},
   "outputs": [],
   "source": [
    "\n",
    "import numpy as np\n",
    "import os\n",
    "import matplotlib.pyplot as plt\n",
    "from matplotlib.colors import LogNorm, Normalize\n",
    "import time\n",
    "import pickle\n",
    "\n",
    "from concurrent.futures import ProcessPoolExecutor, as_completed\n",
    "\n",
    "import discretize\n",
    "# from simpeg import dask\n",
    "from simpeg.utils import mkvc, plot_1d_layer_model\n",
    "from simpeg import (\n",
    "    maps,\n",
    "    Data,\n",
    "    data_misfit,\n",
    "    inverse_problem,\n",
    "    regularization,\n",
    "    optimization,\n",
    "    directives,\n",
    "    inversion,\n",
    "    utils,\n",
    ")\n",
    "from simpeg.electromagnetics import time_domain as tdem\n",
    "from simpeg.utils.solver_utils import get_default_solver\n",
    "\n",
    "from simpeg.meta import MultiprocessingMetaSimulation, MetaSimulation\n",
    "\n",
    "\n",
    "Solver = get_default_solver()\n",
    "\n",
    "\n",
    "directory = \"./synthetic-data-10m\"\n",
    "files = [f for f in os.listdir(directory) if os.path.isfile(os.path.join(directory, f)) and f.split(\".\")[-1]==\"txt\"]\n",
    "\n",
    "files.remove(\"rx_locs.txt\")\n",
    "rx_locs = np.loadtxt(f\"{directory}/rx_locs.txt\")\n",
    "# rx_locs[:, 1] =\n",
    "\n",
    "files.remove(\"rx_times.txt\")\n",
    "rx_times = np.loadtxt(f\"{directory}/rx_times.txt\")\n",
    "\n",
    "inv_directory = \"/t40array/lheagy/2025-heagy-et-al-tle/synthetic-invs-3d\" \n",
    "\n"
   ]
  },
  {
   "cell_type": "code",
   "execution_count": 2,
   "id": "d8afc421-4d26-4840-a116-f85f272c913b",
   "metadata": {},
   "outputs": [],
   "source": [
    "base_cell_width = 10\n",
    "domain_extent = 8000\n",
    "\n",
    "n_base_cells = 2 ** int(\n",
    "    np.ceil(np.log(domain_extent / base_cell_width) / np.log(2.0))\n",
    ")  # needs to be powers of 2 for the tree mesh\n",
    "\n",
    "h = [(base_cell_width, n_base_cells)]\n",
    "mesh = discretize.TreeMesh([h, h, h], origin=\"CCC\", diagonal_balance=True)\n",
    "\n",
    "# refine near transmitters and receivers\n",
    "mesh.refine_points(\n",
    "    rx_locs, level=-1, padding_cells_by_level=[4, 8, 8, 2], \n",
    "    finalize=False, diagonal_balance=True\n",
    ")\n",
    "\n",
    "# Refine core region of the mesh \n",
    "\n",
    "bounding_points = np.array([\n",
    "    [-520, rx_locs[:, 1].min()-10, -200 - base_cell_width * 4], \n",
    "    [520, rx_locs[:, 1].max()+10, rx_locs[:, 2].max()+10],\n",
    "])\n",
    "mesh.refine_bounding_box(\n",
    "    bounding_points, level=-1, \n",
    "    diagonal_balance=True, finalize=False, padding_cells_by_level=[4, 8, 8, 2]\n",
    ")\n",
    "\n",
    "mesh.finalize()"
   ]
  },
  {
   "cell_type": "code",
   "execution_count": 3,
   "id": "e54cf8a7-1339-415c-837c-508c7aa19cdf",
   "metadata": {},
   "outputs": [
    {
     "data": {
      "text/html": [
       "<table>\n",
       "<tr>\n",
       "<td style='font-weight: bold; font-size: 1.2em; text-align: center;'>OcTreeMesh</td>\n",
       "<td style='font-size: 1.2em; text-align: center;' colspan='2'>0.02% filled</td>\n",
       "</tr>\n",
       "<tr>\n",
       "<td>\n",
       "<table>\n",
       "<tr>\n",
       "<th style='padding: 5px 20px 5px 20px;'>Level</th>\n",
       "<th style='padding: 5px 20px 5px 20px;'>Number of cells</th>\n",
       "</tr>\n",
       "<tr>\n",
       "<td style='padding: 5px 20px 5px 20px;'>3</td>\n",
       "<td style='padding: 5px 20px 5px 20px;'>448</td>\n",
       "</tr>\n",
       "<tr>\n",
       "<td style='padding: 5px 20px 5px 20px;'>4</td>\n",
       "<td style='padding: 5px 20px 5px 20px;'>392</td>\n",
       "</tr>\n",
       "<tr>\n",
       "<td style='padding: 5px 20px 5px 20px;'>5</td>\n",
       "<td style='padding: 5px 20px 5px 20px;'>540</td>\n",
       "</tr>\n",
       "<tr>\n",
       "<td style='padding: 5px 20px 5px 20px;'>6</td>\n",
       "<td style='padding: 5px 20px 5px 20px;'>1600</td>\n",
       "</tr>\n",
       "<tr>\n",
       "<td style='padding: 5px 20px 5px 20px;'>7</td>\n",
       "<td style='padding: 5px 20px 5px 20px;'>7024</td>\n",
       "</tr>\n",
       "<tr>\n",
       "<td style='padding: 5px 20px 5px 20px;'>8</td>\n",
       "<td style='padding: 5px 20px 5px 20px;'>47784</td>\n",
       "</tr>\n",
       "<tr>\n",
       "<td style='padding: 5px 20px 5px 20px;'>9</td>\n",
       "<td style='padding: 5px 20px 5px 20px;'>62352</td>\n",
       "</tr>\n",
       "<tr>\n",
       "<td style='padding: 5px 20px 5px 20px;'>10</td>\n",
       "<td style='padding: 5px 20px 5px 20px;'>55680</td>\n",
       "</tr>\n",
       "<tr>\n",
       "<td style='font-weight: bold; padding: 5px 20px 5px 20px;'> Total </td>\n",
       "<td style='padding: 5px 20px 5px 20px;'> 175820 </td>\n",
       "</tr>\n",
       "</table>\n",
       "</td>\n",
       "<td>\n",
       "<table>\n",
       "<tr>\n",
       "<th></th>\n",
       "<th style='padding: 5px 20px 5px 20px;' colspan='2'>Mesh extent</th>\n",
       "<th style='padding: 5px 20px 5px 20px;' colspan='2'>Cell widths</th>\n",
       "</tr>\n",
       "<tr>\n",
       "<th></th>\n",
       "<th style='padding: 5px 20px 5px 20px;'>min</th>\n",
       "<th style='padding: 5px 20px 5px 20px;'>max</th>\n",
       "<th style='padding: 5px 20px 5px 20px;'>min</th>\n",
       "<th style='padding: 5px 20px 5px 20px;'>max</th>\n",
       "</tr>\n",
       "<tr>\n",
       "<td style='padding: 5px 20px 5px 20px;'>x</td>\n",
       "<td style='padding: 5px 20px 5px 20px;'>-5120.0</td>\n",
       "<td style='padding: 5px 20px 5px 20px;'>5120.0</td>\n",
       "<td style='padding: 5px 20px 5px 20px;'>10.0</td>\n",
       "<td style='padding: 5px 20px 5px 20px;'>1280.0</td>\n",
       "</tr>\n",
       "<tr>\n",
       "<td style='padding: 5px 20px 5px 20px;'>y</td>\n",
       "<td style='padding: 5px 20px 5px 20px;'>-5120.0</td>\n",
       "<td style='padding: 5px 20px 5px 20px;'>5120.0</td>\n",
       "<td style='padding: 5px 20px 5px 20px;'>10.0</td>\n",
       "<td style='padding: 5px 20px 5px 20px;'>1280.0</td>\n",
       "</tr>\n",
       "<tr>\n",
       "<td style='padding: 5px 20px 5px 20px;'>z</td>\n",
       "<td style='padding: 5px 20px 5px 20px;'>-5120.0</td>\n",
       "<td style='padding: 5px 20px 5px 20px;'>5120.0</td>\n",
       "<td style='padding: 5px 20px 5px 20px;'>10.0</td>\n",
       "<td style='padding: 5px 20px 5px 20px;'>1280.0</td>\n",
       "</tr>\n",
       "</table>\n",
       "</td>\n",
       "</tr>\n",
       "</table>\n"
      ],
      "text/plain": [
       "\n",
       "OcTreeMesh: 0.02% filled\n",
       "\n",
       "Level : Number of cells               Mesh Extent               Cell Widths    \n",
       "-----------------------           min     ,     max            min   ,   max   \n",
       "  3   :       448            ---------------------------   --------------------\n",
       "  4   :       392         x:    -5120.0   ,   5120.0          10.0   ,   1280.0  \n",
       "  5   :       540         y:    -5120.0   ,   5120.0          10.0   ,   1280.0  \n",
       "  6   :      1600         z:    -5120.0   ,   5120.0          10.0   ,   1280.0  \n",
       "  7   :      7024      \n",
       "  8   :      47784     \n",
       "  9   :      62352     \n",
       " 10   :      55680     \n",
       "-----------------------\n",
       "Total :     175820     "
      ]
     },
     "execution_count": 3,
     "metadata": {},
     "output_type": "execute_result"
    }
   ],
   "source": [
    "mesh"
   ]
  },
  {
   "cell_type": "code",
   "execution_count": 4,
   "id": "5521a131-5299-4e1c-8035-5575fed82743",
   "metadata": {},
   "outputs": [
    {
     "data": {
      "text/plain": [
       "-240"
      ]
     },
     "execution_count": 4,
     "metadata": {},
     "output_type": "execute_result"
    }
   ],
   "source": [
    "-200 - base_cell_width * 4"
   ]
  },
  {
   "cell_type": "code",
   "execution_count": 5,
   "id": "0b344b3e-2655-4dca-bd17-708d9049c828",
   "metadata": {},
   "outputs": [
    {
     "data": {
      "text/plain": [
       "(-1200.0, 800.0)"
      ]
     },
     "execution_count": 5,
     "metadata": {},
     "output_type": "execute_result"
    },
    {
     "data": {
      "image/png": "[encoded data removed]",
      "text/plain": [
       "<Figure size 640x480 with 1 Axes>"
      ]
     },
     "metadata": {},
     "output_type": "display_data"
    }
   ],
   "source": [
    "fig, ax = plt.subplots(1, 1)\n",
    "\n",
    "mesh.plot_slice(\n",
    "    np.log10(mesh.cell_volumes), ax=ax, grid=True,\n",
    "    normal=\"Y\"\n",
    ")\n",
    "\n",
    "ax.set_xlim(600*np.r_[-1, 1])\n",
    "ax.set_ylim(-1200, 800)"
   ]
  },
  {
   "cell_type": "code",
   "execution_count": 6,
   "id": "99a55ee0-8681-4dc9-a5ad-7de26911b718",
   "metadata": {},
   "outputs": [],
   "source": [
    "dobs_dict = {}\n",
    "\n",
    "for f in files:\n",
    "    key = f.split(\".\")[0]\n",
    "    dobs_dict[key] = np.loadtxt(f\"{directory}/{f}\")\n",
    "    \n",
    "data_dict = {}\n",
    "for key, value in dobs_dict.items():\n",
    "    source_list = []\n",
    "    for i in range(rx_locs.shape[0]):\n",
    "        rx = tdem.receivers.PointMagneticFluxTimeDerivative(rx_locs[i, :], rx_times, orientation=\"z\")\n",
    "        src = tdem.sources.CircularLoop(\n",
    "            receiver_list=[rx], location=rx_locs[i, :], orientation=\"z\", radius=10,\n",
    "            waveform=tdem.sources.StepOffWaveform()\n",
    "        )\n",
    "        source_list.append(src)\n",
    "\n",
    "    full_survey = tdem.Survey(source_list)\n",
    "\n",
    "    data_dict[key] = Data(survey=full_survey, dobs=value)\n",
    "\n"
   ]
  },
  {
   "cell_type": "code",
   "execution_count": 7,
   "id": "683dc431-40fe-4478-8ed8-eb51359165bb",
   "metadata": {},
   "outputs": [],
   "source": [
    "n_times_invert = 20\n",
    "data_dict_invert = {}\n",
    "    \n",
    "for key, value in dobs_dict.items():\n",
    "\n",
    "    source_list = []\n",
    "\n",
    "    for i in range(rx_locs.shape[0]):\n",
    "        rx = tdem.receivers.PointMagneticFluxTimeDerivative(rx_locs[i, :], rx_times[:n_times_invert], orientation=\"z\")\n",
    "        src = tdem.sources.CircularLoop(\n",
    "            receiver_list=[rx], location=rx_locs[i, :], orientation=\"z\", radius=10,\n",
    "            waveform=tdem.sources.StepOffWaveform()\n",
    "        )\n",
    "        source_list.append(src)\n",
    "\n",
    "    survey = tdem.Survey(source_list)\n",
    "\n",
    "    data_dict_invert[key] = Data(\n",
    "        survey=survey,\n",
    "        dobs=(value.reshape(rx_locs.shape[0], len(rx_times))[:, :n_times_invert]).flatten(),\n",
    "        relative_error=0.1,\n",
    "        noise_floor=1e-11\n",
    "    )"
   ]
  },
  {
   "cell_type": "code",
   "execution_count": 8,
   "id": "cf04601c-2fc7-4830-8723-2afd84f9ebf1",
   "metadata": {},
   "outputs": [],
   "source": [
    "downsample_inds = [0, 1, 2]"
   ]
  },
  {
   "cell_type": "code",
   "execution_count": 9,
   "id": "097467c4-84ec-4036-ba34-034aa46262c3",
   "metadata": {},
   "outputs": [],
   "source": [
    "# downsample = 52\n",
    "downsampled_data_dict = {}\n",
    "\n",
    "for key, val in data_dict_invert.items():\n",
    "    source_list_downsampled = [val.survey.source_list[ii] for ii in downsample_inds]\n",
    "    survey_downsampled = tdem.Survey(source_list_downsampled)\n",
    "    downsampled_data_dict[key] = Data(\n",
    "        survey=survey_downsampled,\n",
    "        dobs=np.hstack(\n",
    "            [val[src, src.receiver_list[0]] for src in source_list_downsampled]\n",
    "        ),\n",
    "        noise_floor=1e-11,\n",
    "        relative_error=0.1\n",
    "   )"
   ]
  },
  {
   "cell_type": "code",
   "execution_count": 10,
   "id": "08c0cfb1-b380-434d-a361-66f3a7e8baf6",
   "metadata": {},
   "outputs": [
    {
     "data": {
      "image/png": "[encoded data removed]",
      "text/plain": [
       "<Figure size 640x480 with 1 Axes>"
      ]
     },
     "metadata": {},
     "output_type": "display_data"
    }
   ],
   "source": [
    "fig, ax = plt.subplots(1, 1)\n",
    "\n",
    "ax.semilogy(rx_locs[:,0], -data_dict[\"target_0\"].dobs.reshape(len(source_list), 27), color=\"k\");\n",
    "ax.semilogy(rx_locs[:,0], -data_dict_invert[\"target_0\"].dobs.reshape(len(source_list), 20), \"C0o\", ms=4);\n",
    "ax.semilogy(rx_locs[downsample_inds, 0], -downsampled_data_dict[\"target_0\"].dobs.reshape(len(source_list_downsampled), 20), \"C1s\");\n"
   ]
  },
  {
   "cell_type": "code",
   "execution_count": 11,
   "id": "1f76b356-314d-4b71-8631-70e587b533da",
   "metadata": {},
   "outputs": [],
   "source": [
    "data_invert = downsampled_data_dict[\"target_0\"]"
   ]
  },
  {
   "cell_type": "code",
   "execution_count": 12,
   "id": "7d9135d9-b9f3-4b8f-8bb9-836f71b263b6",
   "metadata": {},
   "outputs": [],
   "source": [
    "rho_back = 500\n",
    "refine_depth = 120\n",
    "active_cells_map = maps.InjectActiveCells(mesh, mesh.cell_centers[:, 2]<0, value_inactive=np.log(1e-8))\n",
    "survey = data_invert.survey\n",
    "\n",
    "mesh_list = []\n",
    "\n",
    "for src in survey.source_list:\n",
    "    mesh_local = discretize.TreeMesh(mesh.h, origin=mesh.origin, diagonal_balance=True)\n",
    "    # refine_points = discretize.utils.ndgrid(\n",
    "    #     np.r_[src.location[0]],\n",
    "    #     np.r_[src.location[1]],\n",
    "    #     np.linspace(-refine_depth, src.location[2], 40)\n",
    "    # )\n",
    "    # mesh_local.refine_points(\n",
    "    #     refine_points,\n",
    "    #     level=-1,\n",
    "    #     padding_cells_by_level=[2, 4, 6, 2],\n",
    "    #     finalize=True,\n",
    "    #     diagonal_balance=True\n",
    "    # )\n",
    "\n",
    "    bounding_points = np.array([\n",
    "        [src.location[0]-5, src.location[1]-5, -refine_depth], \n",
    "        [src.location[0]+5, src.location[1]+5, src.location[2]],\n",
    "    ])\n",
    "    mesh_local.refine_bounding_box(\n",
    "        bounding_points, level=-1, \n",
    "        diagonal_balance=True, finalize=False, padding_cells_by_level=[2, 8, 8] #[1, 4, 6, 2]\n",
    "    )\n",
    "    \n",
    "    mesh_local.finalize()\n",
    "    \n",
    "    # mesh_local.x0=[x1, x2, x3]\n",
    "    # print(x1, x2, x3)\n",
    "    \n",
    "    mesh_list.append(mesh_local)"
   ]
  },
  {
   "cell_type": "code",
   "execution_count": 13,
   "id": "d320f8f1-d002-4d67-bf11-147555b5dc00",
   "metadata": {},
   "outputs": [
    {
     "data": {
      "text/plain": [
       "(<matplotlib.collections.PolyCollection at 0x7f5bfec69bd0>,)"
      ]
     },
     "execution_count": 13,
     "metadata": {},
     "output_type": "execute_result"
    },
    {
     "data": {
      "image/png": "[encoded data removed]",
      "text/plain": [
       "<Figure size 640x480 with 1 Axes>"
      ]
     },
     "metadata": {},
     "output_type": "display_data"
    }
   ],
   "source": [
    "local_mesh = mesh_list[0]\n",
    "local_mesh.plot_slice(np.ones(local_mesh.n_cells), grid=True)"
   ]
  },
  {
   "cell_type": "code",
   "execution_count": 14,
   "id": "cb49395e-8a04-4b3b-b303-fc3b32a46470",
   "metadata": {},
   "outputs": [
    {
     "data": {
      "text/plain": [
       "3"
      ]
     },
     "execution_count": 14,
     "metadata": {},
     "output_type": "execute_result"
    }
   ],
   "source": [
    "len(mesh_list)"
   ]
  },
  {
   "cell_type": "code",
   "execution_count": 15,
   "id": "6ad63116-53e2-45b8-87d7-6ff5c95941ac",
   "metadata": {},
   "outputs": [
    {
     "name": "stderr",
     "output_type": "stream",
     "text": [
      "/home/lheagy/miniforge3/envs/py311/lib/python3.11/site-packages/simpeg/meta/multiprocessing.py:229: UserWarning: The MetaSimulation class is a work in progress and might change in the future\n",
      "  super().__init__(simulations, mappings)\n",
      "/home/lheagy/miniforge3/envs/py311/lib/python3.11/site-packages/simpeg/meta/multiprocessing.py:248: UserWarning: The MetaSimulation class is a work in progress and might change in the future\n",
      "  sim_chunk = MetaSimulation(\n",
      "/home/lheagy/miniforge3/envs/py311/lib/python3.11/site-packages/geoana/spatial.py:104: RuntimeWarning: invalid value encountered in multiply\n",
      "  vec[..., 0] * np.cos(grid[..., 1]) - vec[..., 1] * np.sin(grid[..., 1]),\n",
      "/home/lheagy/miniforge3/envs/py311/lib/python3.11/site-packages/pymatsolver/solvers.py:415: FutureWarning: In Future pymatsolver v0.4.0, passing a vector of shape (n, 1) to the solve method will return an array with shape (n, 1), instead of always returning a flattened array. This is to be consistent with numpy.linalg.solve broadcasting.\n",
      "  return self.solve(val)\n",
      "/home/lheagy/miniforge3/envs/py311/lib/python3.11/site-packages/geoana/spatial.py:104: RuntimeWarning: invalid value encountered in multiply\n",
      "  vec[..., 0] * np.cos(grid[..., 1]) - vec[..., 1] * np.sin(grid[..., 1]),\n",
      "/home/lheagy/miniforge3/envs/py311/lib/python3.11/site-packages/geoana/spatial.py:104: RuntimeWarning: invalid value encountered in multiply\n",
      "  vec[..., 0] * np.cos(grid[..., 1]) - vec[..., 1] * np.sin(grid[..., 1]),\n",
      "/home/lheagy/miniforge3/envs/py311/lib/python3.11/site-packages/pymatsolver/solvers.py:415: FutureWarning: In Future pymatsolver v0.4.0, passing a vector of shape (n, 1) to the solve method will return an array with shape (n, 1), instead of always returning a flattened array. This is to be consistent with numpy.linalg.solve broadcasting.\n",
      "  return self.solve(val)\n",
      "/home/lheagy/miniforge3/envs/py311/lib/python3.11/site-packages/pymatsolver/solvers.py:415: FutureWarning: In Future pymatsolver v0.4.0, passing a vector of shape (n, 1) to the solve method will return an array with shape (n, 1), instead of always returning a flattened array. This is to be consistent with numpy.linalg.solve broadcasting.\n",
      "  return self.solve(val)\n"
     ]
    }
   ],
   "source": [
    "time_steps = [\n",
    "    (1e-6, 30),\n",
    "    (3e-6, 30),\n",
    "    (1e-5, 30), (3e-5, 20), (1e-4, 20), #(3e-4, 20)\n",
    "]\n",
    "\n",
    "\n",
    "mappings = []\n",
    "sims = []\n",
    "\n",
    "for ii, local_mesh in enumerate(mesh_list):\n",
    "\n",
    "    tile_map = maps.TileMap(mesh, active_cells_map.active_cells, local_mesh)\n",
    "    mappings.append(tile_map)\n",
    "\n",
    "    local_actmap = maps.InjectActiveCells(\n",
    "        local_mesh,\n",
    "        active_cells=tile_map.local_active,\n",
    "        value_inactive=np.log(1e-8)\n",
    "    )\n",
    "\n",
    "    local_survey = tdem.Survey([survey.source_list[ii]])\n",
    "    sims.append(tdem.simulation.Simulation3DElectricField(\n",
    "            mesh=local_mesh,\n",
    "            survey=local_survey,\n",
    "            time_steps=time_steps,\n",
    "            solver=Solver,\n",
    "            sigmaMap=maps.ExpMap() * local_actmap\n",
    "        )\n",
    "    )\n",
    "\n",
    "\n",
    "# sim = MetaSimulation(sims, mappings)\n",
    "sim = MultiprocessingMetaSimulation(sims, mappings)\n"
   ]
  },
  {
   "cell_type": "code",
   "execution_count": 16,
   "id": "7254a2ec-23c9-4bea-82af-de02d5a8aeeb",
   "metadata": {},
   "outputs": [],
   "source": [
    "\n",
    "dmis = data_misfit.L2DataMisfit(simulation=sim, data=data_invert)\n",
    "reg = regularization.WeightedLeastSquares(\n",
    "    mesh,\n",
    "    active_cells=active_cells_map.active_cells,\n",
    "    # alpha_s=1e-6,\n",
    "    # alpha_x=alpha_x,\n",
    "    # reference_model=np.log(1./rho_back),\n",
    "    # norms=norms\n",
    ")\n",
    "\n",
    "opt = optimization.InexactGaussNewton(maxIter=15, maxIterCG=30, tolCG=1e-3)\n",
    "inv_prob = inverse_problem.BaseInvProblem(dmis, reg, opt)\n",
    "\n",
    "# Defining a starting value for the trade-off parameter (beta) between the data\n",
    "# misfit and the regularization.\n",
    "starting_beta = directives.BetaEstimate_ByEig(beta0_ratio=10)\n",
    "\n",
    "cool_beta = directives.BetaSchedule(coolingFactor=1.5, coolingRate=1)\n",
    "\n",
    "# Update the preconditionner\n",
    "# update_Jacobi = directives.UpdatePreconditioner()\n",
    "\n",
    "# Options for outputting recovered models and predicted data for each beta.\n",
    "save_iteration = directives.SaveOutputDictEveryIteration(\n",
    "    saveOnDisk=True, name=f\"inv-dict-{key}\"\n",
    ")\n",
    "\n",
    "\n",
    "target_misfit = directives.TargetMisfit(chifact=0.5)\n",
    "\n",
    "# The directives are defined as a list.\n",
    "directives_list = [\n",
    "    # sensitivity_weights,\n",
    "    # update_jacobi,\n",
    "    starting_beta,\n",
    "    cool_beta,\n",
    "    save_iteration,\n",
    "    target_misfit,\n",
    "]\n",
    "\n",
    "# Here we combine the inverse problem and the set of directives\n",
    "inv = inversion.BaseInversion(inv_prob, directives_list)\n",
    "m0 = np.log(1/rho_back) * np.ones(np.sum(active_cells_map.active_cells))"
   ]
  },
  {
   "cell_type": "code",
   "execution_count": 17,
   "id": "79aa7938-f4fe-4df7-9ca0-75d0efd5a1f7",
   "metadata": {},
   "outputs": [
    {
     "name": "stdout",
     "output_type": "stream",
     "text": [
      "\n",
      "Running inversion with SimPEG v0.24.0\n",
      "simpeg.InvProblem will set Regularization.reference_model to m0.\n",
      "simpeg.InvProblem will set Regularization.reference_model to m0.\n",
      "simpeg.InvProblem will set Regularization.reference_model to m0.\n",
      "simpeg.InvProblem will set Regularization.reference_model to m0.\n",
      "simpeg.InvProblem will set Regularization.reference_model to m0.\n",
      "simpeg.InvProblem will set Regularization.reference_model to m0.\n",
      "simpeg.InvProblem will set Regularization.reference_model to m0.\n",
      "\n",
      "                    simpeg.InvProblem is setting bfgsH0 to the inverse of the eval2Deriv.\n",
      "                    ***Done using the default solver Pardiso and no solver_opts.***\n",
      "                    \n",
      "simpeg.SaveOutputDictEveryIteration will save your inversion progress as dictionary: '###-inv-dict-target_45-2025-06-14-11-28.npz'\n",
      "model has any nan: 0\n",
      "============================ Inexact Gauss Newton ============================\n",
      "  #     beta     phi_d     phi_m       f      |proj(x-g)-x|  LS    Comment   \n",
      "-----------------------------------------------------------------------------\n",
      "x0 has any nan: 0\n",
      "   0  6.34e-10  1.15e+03  0.00e+00  1.15e+03    2.34e+01      0              \n",
      "   1  4.23e-10  5.07e+02  9.24e+07  5.07e+02    2.34e+01      2              \n",
      "   2  2.82e-10  1.88e+02  1.52e+08  1.88e+02    1.92e+01      2   Skip BFGS  \n",
      "   3  1.88e-10  1.13e+02  3.34e+08  1.13e+02    1.95e+01      0   Skip BFGS  \n",
      "------------------------- STOP! -------------------------\n",
      "1 : |fc-fOld| = 0.0000e+00 <= tolF*(1+|f0|) = 1.1528e+02\n",
      "1 : |xc-x_last| = 3.9078e+01 <= tolX*(1+|x0|) = 2.0777e+02\n",
      "0 : |proj(x-g)-x|    = 1.9454e+01 <= tolG          = 1.0000e-01\n",
      "0 : |proj(x-g)-x|    = 1.9454e+01 <= 1e3*eps       = 1.0000e-02\n",
      "0 : maxIter   =      15    <= iter          =      4\n",
      "------------------------- DONE! -------------------------\n"
     ]
    }
   ],
   "source": [
    "if __name__ == \"__main__\": \n",
    "    mrec = inv.run(m0)"
   ]
  },
  {
   "cell_type": "code",
   "execution_count": 18,
   "id": "2413816d-e23e-4f9c-9350-56dbae12ac3d",
   "metadata": {
    "scrolled": true
   },
   "outputs": [
    {
     "data": {
      "text/plain": [
       "np.float64(7.193581317913229e-06)"
      ]
     },
     "execution_count": 18,
     "metadata": {},
     "output_type": "execute_result"
    }
   ],
   "source": [
    "np.min(np.exp(inv.invProb.model))"
   ]
  },
  {
   "cell_type": "code",
   "execution_count": 19,
   "id": "2de5ed29-97d3-47e6-aa5a-d216a8ae5351",
   "metadata": {},
   "outputs": [
    {
     "data": {
      "text/plain": [
       "np.float64(0.06763807243580522)"
      ]
     },
     "execution_count": 19,
     "metadata": {},
     "output_type": "execute_result"
    }
   ],
   "source": [
    "np.max(np.exp(inv.invProb.model))"
   ]
  },
  {
   "cell_type": "code",
   "execution_count": null,
   "id": "02097b7b-8d7e-4568-bbaf-805549fcb453",
   "metadata": {},
   "outputs": [],
   "source": []
  }
 ],
 "metadata": {
  "kernelspec": {
   "display_name": "Python 3 (ipykernel)",
   "language": "python",
   "name": "python3"
  },
  "language_info": {
   "codemirror_mode": {
    "name": "ipython",
    "version": 3
   },
   "file_extension": ".py",
   "mimetype": "text/x-python",
   "name": "python",
   "nbconvert_exporter": "python",
   "pygments_lexer": "ipython3",
   "version": "3.11.11"
  }
 },
 "nbformat": 4,
 "nbformat_minor": 5
}
