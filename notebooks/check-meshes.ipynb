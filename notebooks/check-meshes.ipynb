{
 "cells": [
  {
   "cell_type": "code",
   "execution_count": 1,
   "id": "b83201d0-68c4-4459-9275-73aefb523e90",
   "metadata": {},
   "outputs": [],
   "source": [
    "\n",
    "import numpy as np\n",
    "import os\n",
    "import matplotlib.pyplot as plt\n",
    "from matplotlib.colors import LogNorm, Normalize\n",
    "import time\n",
    "import pickle\n",
    "\n",
    "from concurrent.futures import ProcessPoolExecutor, as_completed\n",
    "\n",
    "import discretize\n",
    "# from simpeg import dask\n",
    "from simpeg.utils import mkvc, plot_1d_layer_model\n",
    "from simpeg import (\n",
    "    maps,\n",
    "    Data,\n",
    "    data_misfit,\n",
    "    inverse_problem,\n",
    "    regularization,\n",
    "    optimization,\n",
    "    directives,\n",
    "    inversion,\n",
    "    utils,\n",
    ")\n",
    "from simpeg.electromagnetics import time_domain as tdem\n",
    "from simpeg.utils.solver_utils import get_default_solver\n",
    "\n",
    "from simpeg.meta import MultiprocessingMetaSimulation #DaskMetaSimulation\n"
   ]
  },
  {
   "cell_type": "code",
   "execution_count": 28,
   "id": "ab0020c5-d9ac-4ff8-8fbc-11ac005283ea",
   "metadata": {},
   "outputs": [],
   "source": [
    "Solver = get_default_solver()"
   ]
  },
  {
   "cell_type": "code",
   "execution_count": 2,
   "id": "dd065f87-ca27-480f-be5a-c432dac8f8df",
   "metadata": {},
   "outputs": [],
   "source": [
    "directory = \"./synthetic-data-10m\"\n",
    "files = [f for f in os.listdir(directory) if os.path.isfile(os.path.join(directory, f)) and f.split(\".\")[-1]==\"txt\"]\n",
    "\n",
    "files.remove(\"rx_locs.txt\")\n",
    "rx_locs = np.loadtxt(f\"{directory}/rx_locs.txt\")\n",
    "rx_locs[:, 1] = 0.1\n",
    "\n",
    "files.remove(\"rx_times.txt\")\n",
    "rx_times = np.loadtxt(f\"{directory}/rx_times.txt\")\n"
   ]
  },
  {
   "cell_type": "code",
   "execution_count": 3,
   "id": "52ae533a-fbd4-4143-b06e-46b4e7154bf2",
   "metadata": {},
   "outputs": [],
   "source": [
    "dobs_dict = {}\n",
    "\n",
    "for f in files:\n",
    "    key = f.split(\".\")[0]\n",
    "    dobs_dict[key] = np.loadtxt(f\"{directory}/{f}\")\n",
    "    \n",
    "data_dict = {}\n",
    "for key, value in dobs_dict.items():\n",
    "    source_list = []\n",
    "    for i in range(rx_locs.shape[0]):\n",
    "        rx = tdem.receivers.PointMagneticFluxTimeDerivative(rx_locs[i, :], rx_times, orientation=\"z\")\n",
    "        src = tdem.sources.CircularLoop(\n",
    "            receiver_list=[rx], location=rx_locs[i, :], orientation=\"z\", radius=10,\n",
    "            waveform=tdem.sources.StepOffWaveform()\n",
    "        )\n",
    "        source_list.append(src)\n",
    "\n",
    "    full_survey = tdem.Survey(source_list)\n",
    "\n",
    "    data_dict[key] = Data(survey=full_survey, dobs=value)\n",
    "\n",
    "n_times_invert = 20\n",
    "\n",
    "\n",
    "data_dict_invert = {}\n",
    "\n",
    "for key, value in dobs_dict.items():\n",
    "\n",
    "    source_list = []\n",
    "\n",
    "    for i in range(rx_locs.shape[0]):\n",
    "        rx = tdem.receivers.PointMagneticFluxTimeDerivative(rx_locs[i, :], rx_times[:n_times_invert], orientation=\"z\")\n",
    "        src = tdem.sources.CircularLoop(\n",
    "            receiver_list=[rx], location=rx_locs[i, :], orientation=\"z\", radius=10,\n",
    "            waveform=tdem.sources.StepOffWaveform()\n",
    "        )\n",
    "        source_list.append(src)\n",
    "\n",
    "    survey = tdem.Survey(source_list)\n",
    "\n",
    "    data_dict_invert[key] = Data(\n",
    "        survey=survey,\n",
    "        dobs=(value.reshape(rx_locs.shape[0], len(rx_times))[:, :n_times_invert]).flatten(),\n",
    "        relative_error=0.1,\n",
    "        noise_floor=1e-11\n",
    "    )\n"
   ]
  },
  {
   "cell_type": "code",
   "execution_count": 4,
   "id": "153acef1-f0aa-4be2-b5aa-f73ebdb6becd",
   "metadata": {},
   "outputs": [],
   "source": [
    "data_invert = data_dict_invert[\"target_0\"]"
   ]
  },
  {
   "cell_type": "code",
   "execution_count": 36,
   "id": "4810de7c-81af-42be-a228-c6c29bf44de1",
   "metadata": {},
   "outputs": [
    {
     "name": "stderr",
     "output_type": "stream",
     "text": [
      "/home/lheagy/miniforge3/envs/py311/lib/python3.11/site-packages/discretize/utils/io_utils.py:39: FutureWarning: In discretize v1.0 the TreeMesh will change the default value of diagonal_balance to True, which will likely slightly change meshes you have previously created. If you need to keep the current behavior, explicitly set diagonal_balance=False.\n",
      "  data = cls(**jsondict)\n"
     ]
    }
   ],
   "source": [
    "mesh = discretize.load_mesh(f\"{directory}/treemesh.json\")\n",
    "\n",
    "active_cells_map = maps.InjectActiveCells(mesh, mesh.cell_centers[:, 2]<0, value_inactive=np.log(1e-8))\n",
    "survey = data_invert.survey\n",
    "\n",
    "refine_depth = -120\n",
    "# def get_local_mesh(src):\n",
    "mesh_list = []\n",
    "x1 = np.mean(rx_locs[:, 0]) - (np.sum(mesh.h[0]) / 2)\n",
    "x2 = np.mean(rx_locs[:, 1]) - (np.sum(mesh.h[1]) / 2)\n",
    "x3 = np.mean(rx_locs[:, 2]) - (np.sum(mesh.h[2]) / 2)\n",
    "\n",
    "for src in survey.source_list:\n",
    "# src = survey.source_list[0]\n",
    "    mesh_local = discretize.TreeMesh(mesh.h, origin=mesh.origin, diagonal_balance=True)\n",
    "    refine_points = discretize.utils.ndgrid(\n",
    "        np.r_[src.location[0]],\n",
    "        np.r_[src.location[1]],\n",
    "        np.linspace(-refine_depth, src.location[2], 40)\n",
    "    )\n",
    "    mesh_local.refine_points(\n",
    "        refine_points,\n",
    "        level=-1,\n",
    "        padding_cells_by_level=[1, 4, 6, 2],\n",
    "        finalize=True,\n",
    "        diagonal_balance=True\n",
    "    )\n",
    "    mesh_list.append(mesh_local)\n",
    "    \n",
    "    mesh_local.x0\n",
    "\n"
   ]
  },
  {
   "cell_type": "code",
   "execution_count": 37,
   "id": "9ef886b2-a495-40c6-91b4-5a7f73fbc5f2",
   "metadata": {},
   "outputs": [
    {
     "data": {
      "text/html": [
       "<table>\n",
       "<tr>\n",
       "<td style='font-weight: bold; font-size: 1.2em; text-align: center;'>OcTreeMesh</td>\n",
       "<td style='font-size: 1.2em; text-align: center;' colspan='2'>0.00% filled</td>\n",
       "</tr>\n",
       "<tr>\n",
       "<td>\n",
       "<table>\n",
       "<tr>\n",
       "<th style='padding: 5px 20px 5px 20px;'>Level</th>\n",
       "<th style='padding: 5px 20px 5px 20px;'>Number of cells</th>\n",
       "</tr>\n",
       "<tr>\n",
       "<td style='padding: 5px 20px 5px 20px;'>2</td>\n",
       "<td style='padding: 5px 20px 5px 20px;'>16</td>\n",
       "</tr>\n",
       "<tr>\n",
       "<td style='padding: 5px 20px 5px 20px;'>3</td>\n",
       "<td style='padding: 5px 20px 5px 20px;'>336</td>\n",
       "</tr>\n",
       "<tr>\n",
       "<td style='padding: 5px 20px 5px 20px;'>4</td>\n",
       "<td style='padding: 5px 20px 5px 20px;'>320</td>\n",
       "</tr>\n",
       "<tr>\n",
       "<td style='padding: 5px 20px 5px 20px;'>5</td>\n",
       "<td style='padding: 5px 20px 5px 20px;'>400</td>\n",
       "</tr>\n",
       "<tr>\n",
       "<td style='padding: 5px 20px 5px 20px;'>6</td>\n",
       "<td style='padding: 5px 20px 5px 20px;'>650</td>\n",
       "</tr>\n",
       "<tr>\n",
       "<td style='padding: 5px 20px 5px 20px;'>7</td>\n",
       "<td style='padding: 5px 20px 5px 20px;'>1400</td>\n",
       "</tr>\n",
       "<tr>\n",
       "<td style='padding: 5px 20px 5px 20px;'>8</td>\n",
       "<td style='padding: 5px 20px 5px 20px;'>4370</td>\n",
       "</tr>\n",
       "<tr>\n",
       "<td style='padding: 5px 20px 5px 20px;'>9</td>\n",
       "<td style='padding: 5px 20px 5px 20px;'>1368</td>\n",
       "</tr>\n",
       "<tr>\n",
       "<td style='padding: 5px 20px 5px 20px;'>10</td>\n",
       "<td style='padding: 5px 20px 5px 20px;'>192</td>\n",
       "</tr>\n",
       "<tr>\n",
       "<td style='font-weight: bold; padding: 5px 20px 5px 20px;'> Total </td>\n",
       "<td style='padding: 5px 20px 5px 20px;'> 9052 </td>\n",
       "</tr>\n",
       "</table>\n",
       "</td>\n",
       "<td>\n",
       "<table>\n",
       "<tr>\n",
       "<th></th>\n",
       "<th style='padding: 5px 20px 5px 20px;' colspan='2'>Mesh extent</th>\n",
       "<th style='padding: 5px 20px 5px 20px;' colspan='2'>Cell widths</th>\n",
       "</tr>\n",
       "<tr>\n",
       "<th></th>\n",
       "<th style='padding: 5px 20px 5px 20px;'>min</th>\n",
       "<th style='padding: 5px 20px 5px 20px;'>max</th>\n",
       "<th style='padding: 5px 20px 5px 20px;'>min</th>\n",
       "<th style='padding: 5px 20px 5px 20px;'>max</th>\n",
       "</tr>\n",
       "<tr>\n",
       "<td style='padding: 5px 20px 5px 20px;'>x</td>\n",
       "<td style='padding: 5px 20px 5px 20px;'>-5120.0</td>\n",
       "<td style='padding: 5px 20px 5px 20px;'>5120.0</td>\n",
       "<td style='padding: 5px 20px 5px 20px;'>10.0</td>\n",
       "<td style='padding: 5px 20px 5px 20px;'>2560.0</td>\n",
       "</tr>\n",
       "<tr>\n",
       "<td style='padding: 5px 20px 5px 20px;'>y</td>\n",
       "<td style='padding: 5px 20px 5px 20px;'>-5120.0</td>\n",
       "<td style='padding: 5px 20px 5px 20px;'>5120.0</td>\n",
       "<td style='padding: 5px 20px 5px 20px;'>10.0</td>\n",
       "<td style='padding: 5px 20px 5px 20px;'>2560.0</td>\n",
       "</tr>\n",
       "<tr>\n",
       "<td style='padding: 5px 20px 5px 20px;'>z</td>\n",
       "<td style='padding: 5px 20px 5px 20px;'>-5120.0</td>\n",
       "<td style='padding: 5px 20px 5px 20px;'>5120.0</td>\n",
       "<td style='padding: 5px 20px 5px 20px;'>10.0</td>\n",
       "<td style='padding: 5px 20px 5px 20px;'>2560.0</td>\n",
       "</tr>\n",
       "</table>\n",
       "</td>\n",
       "</tr>\n",
       "</table>\n"
      ],
      "text/plain": [
       "\n",
       "OcTreeMesh: 0.00% filled\n",
       "\n",
       "Level : Number of cells               Mesh Extent               Cell Widths    \n",
       "-----------------------           min     ,     max            min   ,   max   \n",
       "  2   :       16             ---------------------------   --------------------\n",
       "  3   :       336         x:    -5120.0   ,   5120.0          10.0   ,   2560.0  \n",
       "  4   :       320         y:    -5120.0   ,   5120.0          10.0   ,   2560.0  \n",
       "  5   :       400         z:    -5120.0   ,   5120.0          10.0   ,   2560.0  \n",
       "  6   :       650      \n",
       "  7   :      1400      \n",
       "  8   :      4370      \n",
       "  9   :      1368      \n",
       " 10   :       192      \n",
       "-----------------------\n",
       "Total :      9052      "
      ]
     },
     "execution_count": 37,
     "metadata": {},
     "output_type": "execute_result"
    }
   ],
   "source": [
    "mesh_local"
   ]
  },
  {
   "cell_type": "code",
   "execution_count": 38,
   "id": "37a71da4-dc75-4513-acf3-8809e1086648",
   "metadata": {},
   "outputs": [],
   "source": [
    "src = survey.source_list[0]"
   ]
  },
  {
   "cell_type": "code",
   "execution_count": 39,
   "id": "1fabc0c4-6296-4606-b336-e9f6d8285e79",
   "metadata": {},
   "outputs": [
    {
     "data": {
      "text/plain": [
       "array([-5.05e+02,  1.00e-01,  3.00e+01])"
      ]
     },
     "execution_count": 39,
     "metadata": {},
     "output_type": "execute_result"
    }
   ],
   "source": [
    "src.location"
   ]
  },
  {
   "cell_type": "code",
   "execution_count": 40,
   "id": "9f6eafb8-7149-49fe-96e4-25ad591debce",
   "metadata": {},
   "outputs": [
    {
     "data": {
      "image/png": "[encoded data removed]",
      "text/plain": [
       "<Figure size 640x480 with 1 Axes>"
      ]
     },
     "metadata": {},
     "output_type": "display_data"
    }
   ],
   "source": [
    "fig, ax = plt.subplots(1, 1)\n",
    "\n",
    "mesh_local.plot_slice(\n",
    "    np.log10(mesh_local.cell_volumes), ax=ax, normal=\"Y\", \n",
    "    grid_opts={\"color\":\"k\", \"lw\":1}\n",
    ")\n",
    "ax.set_xlim(np.r_[-1, 1]*1000)\n",
    "ax.set_ylim(np.r_[-800, 100])\n",
    "ax.set_aspect(1)"
   ]
  },
  {
   "cell_type": "code",
   "execution_count": 41,
   "id": "35e57963-e739-465b-a84c-c92152a3a5f5",
   "metadata": {},
   "outputs": [
    {
     "name": "stderr",
     "output_type": "stream",
     "text": [
      "/home/lheagy/miniforge3/envs/py311/lib/python3.11/site-packages/simpeg/meta/multiprocessing.py:229: UserWarning: The MetaSimulation class is a work in progress and might change in the future\n",
      "  super().__init__(simulations, mappings)\n",
      "/home/lheagy/miniforge3/envs/py311/lib/python3.11/site-packages/simpeg/meta/multiprocessing.py:248: UserWarning: The MetaSimulation class is a work in progress and might change in the future\n",
      "  sim_chunk = MetaSimulation(\n"
     ]
    }
   ],
   "source": [
    "time_steps = [\n",
    "    (1e-6, 30),\n",
    "    (3e-6, 30),\n",
    "    (1e-5, 30), (3e-5, 20), (1e-4, 20), #(3e-4, 20)\n",
    "]\n",
    "\n",
    "\n",
    "mappings = []\n",
    "sims = []\n",
    "\n",
    "for ii, local_mesh in enumerate(mesh_list):\n",
    "\n",
    "    tile_map = maps.TileMap(mesh, active_cells_map.active_cells, local_mesh)\n",
    "    mappings.append(tile_map)\n",
    "\n",
    "    local_actmap = maps.InjectActiveCells(\n",
    "        local_mesh,\n",
    "        active_cells=tile_map.local_active,\n",
    "        value_inactive=np.log(1e-8)\n",
    "    )\n",
    "\n",
    "    local_survey = tdem.Survey([survey.source_list[ii]])\n",
    "    sims.append(tdem.simulation.Simulation3DElectricField(\n",
    "            mesh=local_mesh,\n",
    "            survey=local_survey,\n",
    "            time_steps=time_steps,\n",
    "            solver=Solver,\n",
    "            sigmaMap=maps.ExpMap() * local_actmap\n",
    "        )\n",
    "    )\n",
    "\n",
    "\n",
    "sim = MultiprocessingMetaSimulation(sims, mappings)"
   ]
  },
  {
   "cell_type": "code",
   "execution_count": 42,
   "id": "4d8a0ca5-3756-4dc1-bdbc-9f64f8fa92ab",
   "metadata": {},
   "outputs": [],
   "source": [
    "src_x = np.hstack([src.location[0] for src in survey.source_list])"
   ]
  },
  {
   "cell_type": "code",
   "execution_count": 43,
   "id": "314d267e-fdb5-45ff-b4b0-f229e592bdd1",
   "metadata": {},
   "outputs": [],
   "source": [
    "src_x2 = np.hstack([s.survey.source_list[0].location[0] for s in sim.simulations])"
   ]
  },
  {
   "cell_type": "code",
   "execution_count": 44,
   "id": "8bb0eae0-8ab5-4de8-86c2-bafb0d7d7295",
   "metadata": {},
   "outputs": [
    {
     "data": {
      "text/plain": [
       "array([-505., -495., -485., -475., -465., -455., -445., -435., -425.,\n",
       "       -415., -405., -395., -385., -375., -365., -355., -345., -335.,\n",
       "       -325., -315., -305., -295., -285., -275., -265., -255., -245.,\n",
       "       -235., -225., -215., -205., -195., -185., -175., -165., -155.,\n",
       "       -145., -135., -125., -115., -105.,  -95.,  -85.,  -75.,  -65.,\n",
       "        -55.,  -45.,  -35.,  -25.,  -15.,   -5.,    5.,   15.,   25.,\n",
       "         35.,   45.,   55.,   65.,   75.,   85.,   95.,  105.,  115.,\n",
       "        125.,  135.,  145.,  155.,  165.,  175.,  185.,  195.,  205.,\n",
       "        215.,  225.,  235.,  245.,  255.,  265.,  275.,  285.,  295.,\n",
       "        305.,  315.,  325.,  335.,  345.,  355.,  365.,  375.,  385.,\n",
       "        395.,  405.,  415.,  425.,  435.,  445.,  455.,  465.,  475.,\n",
       "        485.,  495.,  505.])"
      ]
     },
     "execution_count": 44,
     "metadata": {},
     "output_type": "execute_result"
    }
   ],
   "source": [
    "src_x"
   ]
  },
  {
   "cell_type": "code",
   "execution_count": 45,
   "id": "26334426-60f6-4c61-b98d-dd0cd48a3170",
   "metadata": {},
   "outputs": [
    {
     "data": {
      "text/plain": [
       "array([-505., -495., -485., -475., -465., -455., -445., -435., -425.,\n",
       "       -415., -405., -395., -385., -375., -365., -355., -345., -335.,\n",
       "       -325., -315., -305., -295., -285., -275., -265., -255., -245.,\n",
       "       -235., -225., -215., -205., -195., -185., -175., -165., -155.,\n",
       "       -145., -135., -125., -115., -105.,  -95.,  -85.,  -75.,  -65.,\n",
       "        -55.,  -45.,  -35.,  -25.,  -15.,   -5.,    5.,   15.,   25.,\n",
       "         35.,   45.,   55.,   65.,   75.,   85.,   95.,  105.,  115.,\n",
       "        125.,  135.,  145.,  155.,  165.,  175.,  185.,  195.,  205.,\n",
       "        215.,  225.,  235.,  245.,  255.,  265.,  275.,  285.,  295.,\n",
       "        305.,  315.,  325.,  335.,  345.,  355.,  365.,  375.,  385.,\n",
       "        395.,  405.,  415.,  425.,  435.,  445.,  455.,  465.,  475.,\n",
       "        485.,  495.,  505.])"
      ]
     },
     "execution_count": 45,
     "metadata": {},
     "output_type": "execute_result"
    }
   ],
   "source": [
    "src_x2"
   ]
  },
  {
   "cell_type": "code",
   "execution_count": 18,
   "id": "7d33928b-24a7-407b-8309-9cdbe29f1c28",
   "metadata": {},
   "outputs": [
    {
     "data": {
      "text/plain": [
       "np.float64(-5119.9)"
      ]
     },
     "execution_count": 18,
     "metadata": {},
     "output_type": "execute_result"
    }
   ],
   "source": [
    "x2"
   ]
  },
  {
   "cell_type": "code",
   "execution_count": 19,
   "id": "baf82705-bcf9-4008-b977-55e1265c94f4",
   "metadata": {},
   "outputs": [
    {
     "data": {
      "text/plain": [
       "np.float64(-5090.0)"
      ]
     },
     "execution_count": 19,
     "metadata": {},
     "output_type": "execute_result"
    }
   ],
   "source": [
    "x3"
   ]
  },
  {
   "cell_type": "code",
   "execution_count": 20,
   "id": "d33f79dd-510e-4eb2-bcce-c1ee3e7e973e",
   "metadata": {},
   "outputs": [],
   "source": [
    "\n",
    "mesh_local.x0=[x1, x2, x3]\n",
    "# print(x1, x2, x3)\n",
    "\n",
    "mesh_list.append(mesh_local)\n",
    "\n",
    "# with ProcessPoolExecutor() as executor:\n",
    "#     mesh_list = list(executor.map(get_local_mesh, survey.source_list))\n",
    "\n"
   ]
  },
  {
   "cell_type": "code",
   "execution_count": null,
   "id": "fbd1b60e-745b-4bd6-94cd-c11774aea00d",
   "metadata": {},
   "outputs": [],
   "source": [
    "time_steps = [\n",
    "    (1e-6, 30),\n",
    "    (3e-6, 30),\n",
    "    (1e-5, 30), (3e-5, 20), (1e-4, 20), #(3e-4, 20)\n",
    "]\n",
    "\n",
    "\n",
    "mappings = []\n",
    "sims = []\n",
    "\n",
    "for ii, local_mesh in enumerate(mesh_list):\n",
    "\n",
    "    tile_map = maps.TileMap(mesh, active_cells_map.active_cells, local_mesh)\n",
    "    mappings.append(tile_map)\n",
    "\n",
    "    local_actmap = maps.InjectActiveCells(\n",
    "        local_mesh,\n",
    "        active_cells=tile_map.local_active,\n",
    "        value_inactive=np.log(1e-8)\n",
    "    )\n",
    "\n",
    "    local_survey = tdem.Survey([survey.source_list[ii]])\n",
    "    sims.append(tdem.simulation.Simulation3DElectricField(\n",
    "            mesh=local_mesh,\n",
    "            survey=local_survey,\n",
    "            time_steps=time_steps,\n",
    "            solver=Solver,\n",
    "            sigmaMap=maps.ExpMap() * local_actmap\n",
    "        )\n",
    "    )\n"
   ]
  }
 ],
 "metadata": {
  "kernelspec": {
   "display_name": "Python 3 (ipykernel)",
   "language": "python",
   "name": "python3"
  },
  "language_info": {
   "codemirror_mode": {
    "name": "ipython",
    "version": 3
   },
   "file_extension": ".py",
   "mimetype": "text/x-python",
   "name": "python",
   "nbconvert_exporter": "python",
   "pygments_lexer": "ipython3",
   "version": "3.11.11"
  }
 },
 "nbformat": 4,
 "nbformat_minor": 5
}
